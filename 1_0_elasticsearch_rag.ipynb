{
 "cells": [
  {
   "cell_type": "code",
   "execution_count": 23,
   "metadata": {
    "id": "5_QO0tjiPTff"
   },
   "outputs": [],
   "source": [
    "# Import Libraries\n",
    "import os\n",
    "from getpass import getpass\n",
    "from urllib.request import urlopen\n",
    "\n",
    "# All langchain-based\n",
    "from langchain_elasticsearch import ElasticsearchStore\n",
    "from langchain.vectorstores import ElasticVectorSearch\n",
    "from langchain.text_splitter import CharacterTextSplitter\n",
    "from langchain.prompts import ChatPromptTemplate\n",
    "from langchain.schema.output_parser import StrOutputParser\n",
    "from langchain.schema.runnable import RunnablePassthrough\n",
    "from langchain.embeddings.openai import OpenAIEmbeddings\n",
    "\n",
    "# Data Manipulation \n",
    "import pandas as pd\n",
    "\n",
    "# All Elasticsearch based\n",
    "from elasticsearch import Elasticsearch"
   ]
  },
  {
   "cell_type": "code",
   "execution_count": null,
   "metadata": {
    "id": "vpO3kV8LRtV9"
   },
   "outputs": [],
   "source": [
    "## IDs and Passwords\n",
    "ELASTIC_CLOUD_ID = \"ab9fc665e06642b4b2c99c5f9898e875:dXMtY2VudHJhbDEuZ2NwLmNsb3VkLmVzLmlvJDg3MzIwMzg0YWMzNzRjNTJiYmQ3YWFkYjI4NWUxNjExJDIxMDFiZTgzNjg5ODQ0MmFhMzg4ZTMzYzU5MTdmOTlh\"\n",
    "ELASTIC_API_KEY = \"WUoyVkpKTUJ0ZTlkVlhESWtSVDQ6eGUwY1dzcmlSbGE4bW5iY2gxQl9CZw==\"\n",
    "ELASTIC_PASSWORD = \"GjcdSvHrx8Mh1Qy7ZB93m3DX\"\n",
    "OPENAI_API_KEY = \"sk-JDd8XASldxnf4JlfzqcFX6IZkRp88UQSOuS6MqsBgLT3BlbkFJoaFWr04LuZoWZQlTBdTzxzbQ7tgFTD2iXbICVfLxcA\"\n"
   ]
  },
  {
   "cell_type": "code",
   "execution_count": 4,
   "metadata": {
    "colab": {
     "base_uri": "https://localhost:8080/"
    },
    "id": "0NYq0SHhe5FQ",
    "outputId": "2dd12a99-1198-43e9-9dbd-dfa7fcc32342"
   },
   "outputs": [],
   "source": [
    "os.environ[\"OPENAI_API_KEY\"] = getpass(\"OpenAI API Key :\")"
   ]
  },
  {
   "cell_type": "code",
   "execution_count": 5,
   "metadata": {
    "colab": {
     "base_uri": "https://localhost:8080/"
    },
    "id": "aLdeW6BUkGZZ",
    "outputId": "3d0432a3-0200-4e80-8044-1eb69eff4355"
   },
   "outputs": [
    {
     "name": "stderr",
     "output_type": "stream",
     "text": [
      "/var/folders/m0/nhpw880n2pbdfh3k943xczbr0000gn/T/ipykernel_84327/1020807959.py:1: LangChainDeprecationWarning: The class `OpenAIEmbeddings` was deprecated in LangChain 0.0.9 and will be removed in 1.0. An updated version of the class exists in the :class:`~langchain-openai package and should be used instead. To use it run `pip install -U :class:`~langchain-openai` and import as `from :class:`~langchain_openai import OpenAIEmbeddings``.\n",
      "  embeddings = OpenAIEmbeddings(openai_api_key=OPENAI_API_KEY)\n"
     ]
    }
   ],
   "source": [
    "embeddings = OpenAIEmbeddings(openai_api_key=OPENAI_API_KEY)"
   ]
  },
  {
   "cell_type": "code",
   "execution_count": 6,
   "metadata": {
    "colab": {
     "base_uri": "https://localhost:8080/"
    },
    "id": "oFhIe0XFSA8K",
    "outputId": "309edfab-75a4-4e7a-9ee4-eb172c484ebe"
   },
   "outputs": [
    {
     "name": "stdout",
     "output_type": "stream",
     "text": [
      "Connected to ElasticCloud!\n"
     ]
    }
   ],
   "source": [
    "# Initialize Elasticsearch client\n",
    "es = Elasticsearch(\n",
    "    cloud_id=ELASTIC_CLOUD_ID,\n",
    "    basic_auth=(\"elastic\", ELASTIC_PASSWORD)\n",
    ")\n",
    "\n",
    "# Test the connection\n",
    "if es.ping():\n",
    "    print(\"Connected to ElasticCloud!\")\n",
    "else:\n",
    "    print(\"Connection failed. Check your credentials.\")"
   ]
  },
  {
   "cell_type": "code",
   "execution_count": 8,
   "metadata": {
    "colab": {
     "base_uri": "https://localhost:8080/"
    },
    "id": "IR5__oiWSNMX",
    "outputId": "1bf30041-9d70-4e8d-bd87-587d16d32d62"
   },
   "outputs": [
    {
     "name": "stdout",
     "output_type": "stream",
     "text": [
      "Connected to ElasticCloud!\n"
     ]
    }
   ],
   "source": [
    "# Test the Elasticsearch connection\n",
    "if es.ping():\n",
    "    print(\"Connected to ElasticCloud!\")\n",
    "else:\n",
    "    print(\"Connection failed. Check your credentials.\")"
   ]
  },
  {
   "cell_type": "code",
   "execution_count": 9,
   "metadata": {
    "id": "9rVTq-spvld9"
   },
   "outputs": [],
   "source": [
    "# A new index name\n",
    "elastic_index_name = \"openai_mit_llama_index\""
   ]
  },
  {
   "cell_type": "code",
   "execution_count": 15,
   "metadata": {
    "colab": {
     "base_uri": "https://localhost:8080/"
    },
    "id": "Z4DjzsM7vX-0",
    "outputId": "c2618634-13e0-4cda-ff0f-729c47beb819"
   },
   "outputs": [
    {
     "name": "stdout",
     "output_type": "stream",
     "text": [
      "Index 'openai_mit_llama_index' does not exist.\n"
     ]
    }
   ],
   "source": [
    "if es.indices.exists(index=elastic_index_name):\n",
    "    res = es.indices.delete(index=elastic_index_name)\n",
    "    print(f\"Deleted index '{elastic_index_name}': {res}\")\n",
    "else:\n",
    "    print(f\"Index '{elastic_index_name}' does not exist.\")"
   ]
  },
  {
   "cell_type": "code",
   "execution_count": 16,
   "metadata": {
    "colab": {
     "base_uri": "https://localhost:8080/"
    },
    "id": "YB_eTZqOSP7i",
    "outputId": "98b69dc7-327e-4b0b-cd56-4cc8f58df5ef"
   },
   "outputs": [
    {
     "name": "stdout",
     "output_type": "stream",
     "text": [
      "Index 'openai_mit_llama_index' created successfully.\n"
     ]
    }
   ],
   "source": [
    "# Check if the index already exists\n",
    "if not es.indices.exists(index=elastic_index_name):\n",
    "    es.indices.create(index=elastic_index_name)\n",
    "    print(f\"Index '{elastic_index_name}' created successfully.\")\n",
    "else:\n",
    "    print(f\"Index '{elastic_index_name}' already exists.\")"
   ]
  },
  {
   "cell_type": "code",
   "execution_count": null,
   "metadata": {
    "id": "uykTABynUX2H"
   },
   "outputs": [],
   "source": [
    "news_articles = pd.read_csv('/content/drive/MyDrive/kaggle/data/bbc_news_articles.csv', index_col=None)"
   ]
  },
  {
   "cell_type": "code",
   "execution_count": null,
   "metadata": {
    "colab": {
     "base_uri": "https://localhost:8080/",
     "height": 591
    },
    "id": "Sd4Wa239V_7F",
    "outputId": "48c286ed-8be3-493b-9d93-b4c5b713a4d3"
   },
   "outputs": [
    {
     "data": {
      "application/vnd.google.colaboratory.intrinsic+json": {
       "summary": "{\n  \"name\": \"news_articles\",\n  \"rows\": 1018,\n  \"fields\": [\n    {\n      \"column\": \"Unnamed: 0\",\n      \"properties\": {\n        \"dtype\": \"number\",\n        \"std\": 294,\n        \"min\": 0,\n        \"max\": 1017,\n        \"num_unique_values\": 1018,\n        \"samples\": [\n          528,\n          914,\n          587\n        ],\n        \"semantic_type\": \"\",\n        \"description\": \"\"\n      }\n    },\n    {\n      \"column\": \"Published Date\",\n      \"properties\": {\n        \"dtype\": \"object\",\n        \"num_unique_values\": 845,\n        \"samples\": [\n          \"September 7, 2018\",\n          \"July 21, 2021\",\n          \"June 13, 2016\"\n        ],\n        \"semantic_type\": \"\",\n        \"description\": \"\"\n      }\n    },\n    {\n      \"column\": \"Author\",\n      \"properties\": {\n        \"dtype\": \"category\",\n        \"num_unique_values\": 147,\n        \"samples\": [\n          \"David Chandler, MIT News Office\",\n          \"Michaela Jarvis\",\n          \"Andrew Spann, Class of 2007\"\n        ],\n        \"semantic_type\": \"\",\n        \"description\": \"\"\n      }\n    },\n    {\n      \"column\": \"Source\",\n      \"properties\": {\n        \"dtype\": \"category\",\n        \"num_unique_values\": 80,\n        \"samples\": [\n          \"School of Humanities, Arts, and Social Sciences\",\n          \"MIT News Office\",\n          \"Department of Chemical Engineering\"\n        ],\n        \"semantic_type\": \"\",\n        \"description\": \"\"\n      }\n    },\n    {\n      \"column\": \"Article Header\",\n      \"properties\": {\n        \"dtype\": \"string\",\n        \"num_unique_values\": 1018,\n        \"samples\": [\n          \"Teaching artificial intelligence to connect senses like vision and touch\",\n          \"A robot high for Archimedes Pi\",\n          \"MIMIC Chest X-Ray database to provide researchers access to over 350,000 patient radiographs\"\n        ],\n        \"semantic_type\": \"\",\n        \"description\": \"\"\n      }\n    },\n    {\n      \"column\": \"Sub_Headings\",\n      \"properties\": {\n        \"dtype\": \"string\",\n        \"num_unique_values\": 869,\n        \"samples\": [\n          \"MIT professor announced as award\\u2019s first recipient for work in cancer diagnosis and drug synthesis.\",\n          \"The chatbot\\u2019s success on the medical licensing exam shows that the test \\u2014 and medical education \\u2014 are flawed, Celi says.\",\n          \"Move over, Alexa and Siri. Talking Mabu robot provides one-to-one support while relaying information to doctors.\"\n        ],\n        \"semantic_type\": \"\",\n        \"description\": \"\"\n      }\n    },\n    {\n      \"column\": \"Article Body\",\n      \"properties\": {\n        \"dtype\": \"string\",\n        \"num_unique_values\": 987,\n        \"samples\": [\n          \"['\\u201cThe challenge for humanity now is how to decarbonize the global economy by 2050. To do that, we need a supercharged decade of energy innovation,\\u201d said Ernest J. Moniz, the Cecil and Ida Green Professor of Physics and Engineering Systems Emeritus, founding director of the MIT Energy Initiative, and a former U.S. secretary of energy, as he opened the MIT Forefront virtual event on April 21. \\u201cBut we also need practical visionaries, in every economic sector, to develop new business models that allow them to remain profitable while achieving the zero-carbon emissions.\\u201d', 'The event, \\u201cAddressing Climate and Sustainability through Technology, Policy, and Business Models,\\u201d was the third in the MIT Forefront series, which invites top minds from the worlds of science, industry, and policy to propose bold new answers to urgent global problems. Moniz moderated the event, and more than 12,000 people tuned in online.', 'MIT and other universities play an important role in preparing the world\\u2019s best minds to take on big climate challenges and develop the technology needed to advance sustainability efforts, a point illustrated in the main session with a video about Via Separations, a company supported by MIT\\u2019s The Engine. Co-founded by Shreya Dave \\u201909, SM \\u201912, PhD \\u201916, Via Separations customizes filtration technology to reduce waste and save money across multiple industries. \\u201cBy next year, we are going to be eliminating carbon dioxide emissions from our customers\\u2019 facilities,\\u201d Dave said.', 'Via Separations is one of many innovative companies born of MIT\\u2019s energy and climate initiatives \\u2014 the work of which, as the panel went on to discuss, is critical to achieving net-zero emissions and deploying successful environmental sustainability efforts. As Moniz put it, the company embodies \\u201cthe spirit of science and technology in action for the good of humankind\\u201d and exemplifies how universities and businesses, as well as technology and policy, must work together to make the best environmental choices.', 'How businesses confront climate change', 'Innovation in sustainable practices can be met with substantial challenges when proposed or applied to business models, particularly on the policy side, the panelists noted. But they shared some key ways that their respective organizations have employed current technologies and the challenges they face in reaching their sustainability goals. Despite each business\\u2019s different products and services, a common thread of needing new technologies to achieve their sustainability goals emerged.', 'Although 2050 is the long-term goal for net-zero emissions put forth by the Paris Agreement, the businesses represented by the panelists are thinking about the shorter term. \\u201cIBM has committed to net-zero emissions by 2030 \\u2015 without carbon offsets,\\u201d said Arvind Krishna, chairman and chief executive officer of IBM. \\u201cWe believe that some carbon taxes would be a good policy tool. But policy alone is insufficient. We need advanced technological tools to reach our goal.\\u201d', 'Jeff Wilke SM \\u201993, who retired as Amazon\\u2019s chief executive officer of Worldwide Consumer in February 2021, outlined a number of initiatives that the online retail giant is undertaking to curb emissions. Transportation is one of their biggest hurdles to reaching zero emissions, leading to a significant investment in Class 8 electric trucks. \\u201cAnother objective is to remove the need for plane shipments by getting inventory closer to urban areas, and that has been happening steadily over the years,\\u201d he said.', 'Jim Fitterling, chair and chief executive officer of Dow, explained that Dow has reduced its carbon emissions by 15 percent in the past decade and is poised to reduce it further in the next. Future goals include working toward electrifying ethylene production. \\u201cIf we can electrify that, it will allow us to make major strides toward carbon-dioxide reduction,\\u201d he said. \\u201cBut we need more reliable and stable power to get to that point.\\u201d', 'Collaboration is key to advancing climate solutions', \\\"Maria T. Zuber, MIT\\u2019s vice president for research, who was recently appointed by U.S. President Joe Biden as co-chair of the President's Council of Advisors on Science and Technology, stressed that MIT innovators and industry leaders must work together to implement climate solutions.\\\", '\\u201cInnovation is a team sport,\\u201d said Zuber, who is also the E. A. Griswold Professor of Geophysics. \\u201cEven if MIT researchers make a huge discovery, deploying it requires cooperation on a policy level and often industry support. Policymakers need to solve problems and seize opportunities in ways that are popular. It\\u2019s not just solving technical problems \\u2015 there is a human behavior component.\\u201d', 'But businesses, Zuber said, can play a huge role in advancing innovation. \\u201cIf a company becomes convinced of the potential of a new technology, they can be the best advocates with policymakers,\\u201d she said.', 'The question of \\u201csustainability vs. shareholders\\u201d', 'During the Q&A session, an audience member pointed out that environmentalists are often distrustful of companies\\u2019 sustainability policies when their focus is on shareholders and profit.', '\\u201cCompanies have to show that they\\u2019re part of the solution,\\u201d Fitterling said. \\u201cInvestors will be afraid of high costs up front, so, say, completely electrifying a plant overnight is off the table. You have to make a plan to get there, and then incentivize that plan through policy. Carbon taxes are one way, but miss the market leverage.\\u201d', 'Krishna also pushed back on the idea that companies have to choose between sustainability and profit. \\u201cIt\\u2019s a false dichotomy,\\u201d he said. \\u201cIf companies were only interested in short-term profits, they wouldn\\u2019t last for long.\\u201d', '\\u201cA belief I\\u2019ve heard from some environmental groups is that \\u2018anything a company does is greenwashing,\\u2019 and that they\\u2019ll abandon those efforts if the economy tanks,\\u201d Zuber said, referring to a practice wherein organizations spend more time marketing themselves as environmentally sustainable than on maximizing their sustainability efforts. \\u201cThe economy tanked in 2020, though, and we saw companies double down on their sustainability plans. They see that it\\u2019s good for business.\\u201d', 'The role of universities and businesses in sustainability innovation', '\\u201cAmazon and all corporations are adapting to the effects of climate change, like extreme weather patterns, and will need to adapt more \\u2014 but I\\u2019m not ready to throw in the towel for decarbonization,\\u201d Wilke said. \\u201cEither way, companies will have to invest in decarbonization. There is no way we are going to make the progress we have to make without it.\\u201d', 'Another component is the implications of artificial intelligence (AI) and quantum computing. Krishna noted multiple ways that AI and quantum computing will play a role at IBM, including finding the most environmentally sustainable and cost-efficient ways to advance carbon separation in exhaust gases and lithium battery life in electric cars.', 'AI, quantum computing, and alternate energy sources such as fusion energy that have the potential to achieve net-zero energy, are key areas that students, researchers, and faculty members are pursuing at MIT.', '\\u201cUniversities like MIT need to go as fast as we can as far as we can with the science and technology we have now,\\u201d Zuber said. \\u201cIn parallel, we need to invest in and deploy a suite of new tools in science and technology breakthroughs that we need to reach the 2050 goal of decarbonizing. Finally, we need to continue to train the next generation of students and researchers who are solving these issues and deploy them to these companies to figure it out.\\u201d']\",\n          \"['The inner child in many of us feels an overwhelming sense of joy when stumbling across a pile of the fluorescent, rubbery mixture of water, salt, and flour that put goo on the map: play dough. (Even if this happens rarely in adulthood.)', 'While manipulating play dough is fun and easy for 2-year-olds, the shapeless sludge is hard for robots to handle. Machines have become increasingly reliable with rigid objects, but manipulating soft, deformable objects comes with a laundry list of technical challenges, and most importantly, as with most flexible structures, if you move one part, you\\u2019re likely affecting everything else.', 'Scientists from MIT\\u2019s Computer Science and Artificial Intelligence Laboratory (CSAIL) and Stanford University recently let robots take their hand at playing with the modeling compound, but not for nostalgia\\u2019s sake. Their new system learns directly from visual inputs to let a robot with a two-fingered gripper see, simulate, and shape doughy objects. \\u201cRoboCraft\\u201d could reliably plan a robot\\u2019s behavior to pinch and release play dough to make various letters, including ones it had never seen. With just 10 minutes of data, the two-finger gripper rivaled human counterparts that teleoperated the machine \\u2014 performing on-par, and at times even better, on the tested tasks.', '\\u201cModeling and manipulating objects with high degrees of freedom are essential capabilities for robots to learn how to enable complex industrial and household interaction tasks, like stuffing dumplings, rolling sushi, and making pottery,\\u201d says Yunzhu Li, CSAIL PhD student and author on a new paper about RoboCraft. \\u201cWhile there\\u2019s been recent advances in manipulating clothes and ropes, we found that objects with high plasticity, like dough or plasticine \\u2014 despite ubiquity in those household and industrial settings \\u2014 was a largely underexplored territory. With RoboCraft, we learn the dynamics models directly from high-dimensional sensory data, which offers a promising data-driven avenue for us to perform effective planning.\\u201d']\",\n          \"['MIT.nano has announced the first recipients of NCSOFT seed grants to foster hardware and software innovations in gaming technology. The grants are part of the new MIT.nano Immersion Lab Gaming program, with inaugural funding provided by video game developer NCSOFT, a founding member of the MIT.nano Consortium.', 'The newly awarded projects address topics such as 3-D/4-D data interaction and analysis, behavioral learning, fabrication of sensors, light field manipulation, and micro-display optics.', '\\u201cNew technologies and new paradigms of gaming will change the way researchers conduct their work by enabling immersive visualization and multi-dimensional interaction,\\u201d says MIT.nano Associate Director Brian W. Anthony. \\u201cThis year\\u2019s funded projects highlight the wide range of topics that will be enhanced and influenced by augmented and virtual reality.\\u201d', 'In addition to the sponsored research funds, each awardee will be given funds specifically to foster a community of collaborative users of MIT.nano\\u2019s Immersion Lab.', 'The MIT.nano Immersion Lab is a new, two-story immersive space dedicated to visualization, augmented and virtual reality (AR/VR), and the depiction and analysis of spatially related data. Currently being outfitted with equipment and software tools, the facility will be available starting this semester for use by researchers and educators interested in using and creating new experiences, including the seed grant projects.', 'The five projects to receive NCSOFT seed grants are:', 'Stefanie Mueller: connecting the virtual and physical world', 'Virtual game play is often accompanied by a prop \\u2014 a steering wheel, a tennis racket, or some other object the gamer uses in the physical world to create a reaction in the virtual game. Build-it-yourself cardboard kits have expanded access to these props by lowering costs; however, these kits are pre-cut, and thus limited in form and function. What if users could build their own dynamic props that evolve as they progress through the game?', 'Department of Electrical Engineering and Computer Science (EECS) Professor Stefanie Mueller aims to enhance the user\\u2019s experience by developing a new type of gameplay with tighter virtual-physical connection. In Mueller\\u2019s game, the player unlocks a physical template after completing a virtual challenge, builds a prop from this template, and then, as the game progresses, can unlock new functionalities to that same item. The prop can be expanded upon and take on new meaning, and the user learns new technical skills by building physical prototypes.', 'Luca Daniel and Micha Feigin-Almon: replicating human movements in virtual characters', 'Athletes, martial artists, and ballerinas share the ability to move their body in an elegant manner that efficiently converts energy and minimizes injury risk. Professor Luca Daniel, EECS and Research Laboratory of Electronics, and Micha Feigin-Almon, research scientist in mechanical engineering, seek to compare the movements of trained and untrained individuals to learn the limits of the human body with the goal of generating elegant, realistic movement trajectories for virtual reality characters.', 'In addition to use in gaming software, their research on different movement patterns will predict stresses on joints, which could lead to nervous system models for use by artists and athletes.', 'Wojciech Matusik: using phase-only holograms', 'Holographic displays are optimal for use in augmented and virtual reality. However, critical issues show a need for improvement. Out-of-focus objects look unnatural, and complex holograms have to be converted to phase-only or amplitude-only in order to be physically realized. To combat these issues, EECS Professor Wojciech Matusik proposes to adopt machine learning techniques for synthesis of phase-only holograms in an end-to-end fashion. Using a learning-based approach, the holograms could display visually appealing three-dimensional objects.', '\\u201cWhile this system is specifically designed for varifocal, multifocal, and light field displays, we firmly believe that extending it to work with holographic displays has the greatest potential to revolutionize the future of near-eye displays and provide the best experiences for gaming,\\u201d says Matusik.', 'Fox Harrell: teaching socially impactful behavior', 'Project VISIBLE \\u2014 Virtuality for Immersive Socially Impactful Behavioral Learning Enhancement \\u2014 utilizes virtual reality in an educational setting to teach users how to recognize, cope with, and avoid committing microaggressions. In a virtual environment designed by Comparative Media Studies Professor Fox Harrell, users will encounter micro-insults, followed by major micro-aggression themes. The user\\u2019s physical response drives the narrative of the scenario, so one person can play the game multiple times and reach different conclusions, thus learning the various implications of social behavior.', 'Juejun Hu: displaying a wider field of view in high resolution', 'Professor Juejun Hu from the Department of Materials Science and Engineering seeks to develop high-performance, ultra-thin immersive micro-displays for AR/VR applications. These displays, based on metasurface optics, will allow for a large, continuous field of view, on-demand control of optical wavefronts, high-resolution projection, and a compact, flat, lightweight engine. While current commercial waveguide AR/VR systems offer less than 45 degrees of visibility, Hu and his team aim to design a high-quality display with a field of view close to 180 degrees.']\"\n        ],\n        \"semantic_type\": \"\",\n        \"description\": \"\"\n      }\n    },\n    {\n      \"column\": \"Url\",\n      \"properties\": {\n        \"dtype\": \"string\",\n        \"num_unique_values\": 1018,\n        \"samples\": [\n          \"https://news.mit.edu/2019/teaching-ai-to-connect-senses-vision-touch-0617\",\n          \"https://news.mit.edu/2005/iap-maslab\",\n          \"https://news.mit.edu/2019/mimic-chest-x-ray-database-0201\"\n        ],\n        \"semantic_type\": \"\",\n        \"description\": \"\"\n      }\n    }\n  ]\n}",
       "type": "dataframe",
       "variable_name": "news_articles"
      },
      "text/html": [
       "\n",
       "  <div id=\"df-7820203c-5f3e-4580-8ec6-c77e72408377\" class=\"colab-df-container\">\n",
       "    <div>\n",
       "<style scoped>\n",
       "    .dataframe tbody tr th:only-of-type {\n",
       "        vertical-align: middle;\n",
       "    }\n",
       "\n",
       "    .dataframe tbody tr th {\n",
       "        vertical-align: top;\n",
       "    }\n",
       "\n",
       "    .dataframe thead th {\n",
       "        text-align: right;\n",
       "    }\n",
       "</style>\n",
       "<table border=\"1\" class=\"dataframe\">\n",
       "  <thead>\n",
       "    <tr style=\"text-align: right;\">\n",
       "      <th></th>\n",
       "      <th>Unnamed: 0</th>\n",
       "      <th>Published Date</th>\n",
       "      <th>Author</th>\n",
       "      <th>Source</th>\n",
       "      <th>Article Header</th>\n",
       "      <th>Sub_Headings</th>\n",
       "      <th>Article Body</th>\n",
       "      <th>Url</th>\n",
       "    </tr>\n",
       "  </thead>\n",
       "  <tbody>\n",
       "    <tr>\n",
       "      <th>0</th>\n",
       "      <td>0</td>\n",
       "      <td>July 7, 2023</td>\n",
       "      <td>Adam Zewe</td>\n",
       "      <td>MIT News Office</td>\n",
       "      <td>Learning the language of molecules to predict ...</td>\n",
       "      <td>This AI system only needs a small amount of da...</td>\n",
       "      <td>['Discovering new materials and drugs typicall...</td>\n",
       "      <td>https://news.mit.edu/2023/learning-language-mo...</td>\n",
       "    </tr>\n",
       "    <tr>\n",
       "      <th>1</th>\n",
       "      <td>1</td>\n",
       "      <td>July 6, 2023</td>\n",
       "      <td>Alex Ouyang</td>\n",
       "      <td>Abdul Latif Jameel Clinic for Machine Learning...</td>\n",
       "      <td>MIT scientists build a system that can generat...</td>\n",
       "      <td>BioAutoMATED, an open-source, automated machin...</td>\n",
       "      <td>['Is it possible to build machine-learning mod...</td>\n",
       "      <td>https://news.mit.edu/2023/bioautomated-open-so...</td>\n",
       "    </tr>\n",
       "    <tr>\n",
       "      <th>2</th>\n",
       "      <td>2</td>\n",
       "      <td>June 30, 2023</td>\n",
       "      <td>Jennifer Michalowski</td>\n",
       "      <td>McGovern Institute for Brain Research</td>\n",
       "      <td>When computer vision works more like a brain, ...</td>\n",
       "      <td>Training artificial neural networks with data ...</td>\n",
       "      <td>['From cameras to self-driving cars, many of t...</td>\n",
       "      <td>https://news.mit.edu/2023/when-computer-vision...</td>\n",
       "    </tr>\n",
       "    <tr>\n",
       "      <th>3</th>\n",
       "      <td>3</td>\n",
       "      <td>June 30, 2023</td>\n",
       "      <td>Mary Beth Gallagher</td>\n",
       "      <td>School of Engineering</td>\n",
       "      <td>Educating national security leaders on artific...</td>\n",
       "      <td>Experts from MIT’s School of Engineering, Schw...</td>\n",
       "      <td>['Understanding artificial intelligence and ho...</td>\n",
       "      <td>https://news.mit.edu/2023/educating-national-s...</td>\n",
       "    </tr>\n",
       "    <tr>\n",
       "      <th>4</th>\n",
       "      <td>4</td>\n",
       "      <td>June 30, 2023</td>\n",
       "      <td>Adam Zewe</td>\n",
       "      <td>MIT News Office</td>\n",
       "      <td>Researchers teach an AI to write better chart ...</td>\n",
       "      <td>A new dataset can help scientists develop auto...</td>\n",
       "      <td>['Chart captions that explain complex trends a...</td>\n",
       "      <td>https://news.mit.edu/2023/researchers-chart-ca...</td>\n",
       "    </tr>\n",
       "  </tbody>\n",
       "</table>\n",
       "</div>\n",
       "    <div class=\"colab-df-buttons\">\n",
       "\n",
       "  <div class=\"colab-df-container\">\n",
       "    <button class=\"colab-df-convert\" onclick=\"convertToInteractive('df-7820203c-5f3e-4580-8ec6-c77e72408377')\"\n",
       "            title=\"Convert this dataframe to an interactive table.\"\n",
       "            style=\"display:none;\">\n",
       "\n",
       "  <svg xmlns=\"http://www.w3.org/2000/svg\" height=\"24px\" viewBox=\"0 -960 960 960\">\n",
       "    <path d=\"M120-120v-720h720v720H120Zm60-500h600v-160H180v160Zm220 220h160v-160H400v160Zm0 220h160v-160H400v160ZM180-400h160v-160H180v160Zm440 0h160v-160H620v160ZM180-180h160v-160H180v160Zm440 0h160v-160H620v160Z\"/>\n",
       "  </svg>\n",
       "    </button>\n",
       "\n",
       "  <style>\n",
       "    .colab-df-container {\n",
       "      display:flex;\n",
       "      gap: 12px;\n",
       "    }\n",
       "\n",
       "    .colab-df-convert {\n",
       "      background-color: #E8F0FE;\n",
       "      border: none;\n",
       "      border-radius: 50%;\n",
       "      cursor: pointer;\n",
       "      display: none;\n",
       "      fill: #1967D2;\n",
       "      height: 32px;\n",
       "      padding: 0 0 0 0;\n",
       "      width: 32px;\n",
       "    }\n",
       "\n",
       "    .colab-df-convert:hover {\n",
       "      background-color: #E2EBFA;\n",
       "      box-shadow: 0px 1px 2px rgba(60, 64, 67, 0.3), 0px 1px 3px 1px rgba(60, 64, 67, 0.15);\n",
       "      fill: #174EA6;\n",
       "    }\n",
       "\n",
       "    .colab-df-buttons div {\n",
       "      margin-bottom: 4px;\n",
       "    }\n",
       "\n",
       "    [theme=dark] .colab-df-convert {\n",
       "      background-color: #3B4455;\n",
       "      fill: #D2E3FC;\n",
       "    }\n",
       "\n",
       "    [theme=dark] .colab-df-convert:hover {\n",
       "      background-color: #434B5C;\n",
       "      box-shadow: 0px 1px 3px 1px rgba(0, 0, 0, 0.15);\n",
       "      filter: drop-shadow(0px 1px 2px rgba(0, 0, 0, 0.3));\n",
       "      fill: #FFFFFF;\n",
       "    }\n",
       "  </style>\n",
       "\n",
       "    <script>\n",
       "      const buttonEl =\n",
       "        document.querySelector('#df-7820203c-5f3e-4580-8ec6-c77e72408377 button.colab-df-convert');\n",
       "      buttonEl.style.display =\n",
       "        google.colab.kernel.accessAllowed ? 'block' : 'none';\n",
       "\n",
       "      async function convertToInteractive(key) {\n",
       "        const element = document.querySelector('#df-7820203c-5f3e-4580-8ec6-c77e72408377');\n",
       "        const dataTable =\n",
       "          await google.colab.kernel.invokeFunction('convertToInteractive',\n",
       "                                                    [key], {});\n",
       "        if (!dataTable) return;\n",
       "\n",
       "        const docLinkHtml = 'Like what you see? Visit the ' +\n",
       "          '<a target=\"_blank\" href=https://colab.research.google.com/notebooks/data_table.ipynb>data table notebook</a>'\n",
       "          + ' to learn more about interactive tables.';\n",
       "        element.innerHTML = '';\n",
       "        dataTable['output_type'] = 'display_data';\n",
       "        await google.colab.output.renderOutput(dataTable, element);\n",
       "        const docLink = document.createElement('div');\n",
       "        docLink.innerHTML = docLinkHtml;\n",
       "        element.appendChild(docLink);\n",
       "      }\n",
       "    </script>\n",
       "  </div>\n",
       "\n",
       "\n",
       "<div id=\"df-31c9faee-2e9d-4176-9d29-f78aaa7cd6f7\">\n",
       "  <button class=\"colab-df-quickchart\" onclick=\"quickchart('df-31c9faee-2e9d-4176-9d29-f78aaa7cd6f7')\"\n",
       "            title=\"Suggest charts\"\n",
       "            style=\"display:none;\">\n",
       "\n",
       "<svg xmlns=\"http://www.w3.org/2000/svg\" height=\"24px\"viewBox=\"0 0 24 24\"\n",
       "     width=\"24px\">\n",
       "    <g>\n",
       "        <path d=\"M19 3H5c-1.1 0-2 .9-2 2v14c0 1.1.9 2 2 2h14c1.1 0 2-.9 2-2V5c0-1.1-.9-2-2-2zM9 17H7v-7h2v7zm4 0h-2V7h2v10zm4 0h-2v-4h2v4z\"/>\n",
       "    </g>\n",
       "</svg>\n",
       "  </button>\n",
       "\n",
       "<style>\n",
       "  .colab-df-quickchart {\n",
       "      --bg-color: #E8F0FE;\n",
       "      --fill-color: #1967D2;\n",
       "      --hover-bg-color: #E2EBFA;\n",
       "      --hover-fill-color: #174EA6;\n",
       "      --disabled-fill-color: #AAA;\n",
       "      --disabled-bg-color: #DDD;\n",
       "  }\n",
       "\n",
       "  [theme=dark] .colab-df-quickchart {\n",
       "      --bg-color: #3B4455;\n",
       "      --fill-color: #D2E3FC;\n",
       "      --hover-bg-color: #434B5C;\n",
       "      --hover-fill-color: #FFFFFF;\n",
       "      --disabled-bg-color: #3B4455;\n",
       "      --disabled-fill-color: #666;\n",
       "  }\n",
       "\n",
       "  .colab-df-quickchart {\n",
       "    background-color: var(--bg-color);\n",
       "    border: none;\n",
       "    border-radius: 50%;\n",
       "    cursor: pointer;\n",
       "    display: none;\n",
       "    fill: var(--fill-color);\n",
       "    height: 32px;\n",
       "    padding: 0;\n",
       "    width: 32px;\n",
       "  }\n",
       "\n",
       "  .colab-df-quickchart:hover {\n",
       "    background-color: var(--hover-bg-color);\n",
       "    box-shadow: 0 1px 2px rgba(60, 64, 67, 0.3), 0 1px 3px 1px rgba(60, 64, 67, 0.15);\n",
       "    fill: var(--button-hover-fill-color);\n",
       "  }\n",
       "\n",
       "  .colab-df-quickchart-complete:disabled,\n",
       "  .colab-df-quickchart-complete:disabled:hover {\n",
       "    background-color: var(--disabled-bg-color);\n",
       "    fill: var(--disabled-fill-color);\n",
       "    box-shadow: none;\n",
       "  }\n",
       "\n",
       "  .colab-df-spinner {\n",
       "    border: 2px solid var(--fill-color);\n",
       "    border-color: transparent;\n",
       "    border-bottom-color: var(--fill-color);\n",
       "    animation:\n",
       "      spin 1s steps(1) infinite;\n",
       "  }\n",
       "\n",
       "  @keyframes spin {\n",
       "    0% {\n",
       "      border-color: transparent;\n",
       "      border-bottom-color: var(--fill-color);\n",
       "      border-left-color: var(--fill-color);\n",
       "    }\n",
       "    20% {\n",
       "      border-color: transparent;\n",
       "      border-left-color: var(--fill-color);\n",
       "      border-top-color: var(--fill-color);\n",
       "    }\n",
       "    30% {\n",
       "      border-color: transparent;\n",
       "      border-left-color: var(--fill-color);\n",
       "      border-top-color: var(--fill-color);\n",
       "      border-right-color: var(--fill-color);\n",
       "    }\n",
       "    40% {\n",
       "      border-color: transparent;\n",
       "      border-right-color: var(--fill-color);\n",
       "      border-top-color: var(--fill-color);\n",
       "    }\n",
       "    60% {\n",
       "      border-color: transparent;\n",
       "      border-right-color: var(--fill-color);\n",
       "    }\n",
       "    80% {\n",
       "      border-color: transparent;\n",
       "      border-right-color: var(--fill-color);\n",
       "      border-bottom-color: var(--fill-color);\n",
       "    }\n",
       "    90% {\n",
       "      border-color: transparent;\n",
       "      border-bottom-color: var(--fill-color);\n",
       "    }\n",
       "  }\n",
       "</style>\n",
       "\n",
       "  <script>\n",
       "    async function quickchart(key) {\n",
       "      const quickchartButtonEl =\n",
       "        document.querySelector('#' + key + ' button');\n",
       "      quickchartButtonEl.disabled = true;  // To prevent multiple clicks.\n",
       "      quickchartButtonEl.classList.add('colab-df-spinner');\n",
       "      try {\n",
       "        const charts = await google.colab.kernel.invokeFunction(\n",
       "            'suggestCharts', [key], {});\n",
       "      } catch (error) {\n",
       "        console.error('Error during call to suggestCharts:', error);\n",
       "      }\n",
       "      quickchartButtonEl.classList.remove('colab-df-spinner');\n",
       "      quickchartButtonEl.classList.add('colab-df-quickchart-complete');\n",
       "    }\n",
       "    (() => {\n",
       "      let quickchartButtonEl =\n",
       "        document.querySelector('#df-31c9faee-2e9d-4176-9d29-f78aaa7cd6f7 button');\n",
       "      quickchartButtonEl.style.display =\n",
       "        google.colab.kernel.accessAllowed ? 'block' : 'none';\n",
       "    })();\n",
       "  </script>\n",
       "</div>\n",
       "\n",
       "    </div>\n",
       "  </div>\n"
      ],
      "text/plain": [
       "   Unnamed: 0 Published Date                Author  \\\n",
       "0           0   July 7, 2023             Adam Zewe   \n",
       "1           1   July 6, 2023           Alex Ouyang   \n",
       "2           2  June 30, 2023  Jennifer Michalowski   \n",
       "3           3  June 30, 2023   Mary Beth Gallagher   \n",
       "4           4  June 30, 2023             Adam Zewe   \n",
       "\n",
       "                                              Source  \\\n",
       "0                                    MIT News Office   \n",
       "1  Abdul Latif Jameel Clinic for Machine Learning...   \n",
       "2              McGovern Institute for Brain Research   \n",
       "3                              School of Engineering   \n",
       "4                                    MIT News Office   \n",
       "\n",
       "                                      Article Header  \\\n",
       "0  Learning the language of molecules to predict ...   \n",
       "1  MIT scientists build a system that can generat...   \n",
       "2  When computer vision works more like a brain, ...   \n",
       "3  Educating national security leaders on artific...   \n",
       "4  Researchers teach an AI to write better chart ...   \n",
       "\n",
       "                                        Sub_Headings  \\\n",
       "0  This AI system only needs a small amount of da...   \n",
       "1  BioAutoMATED, an open-source, automated machin...   \n",
       "2  Training artificial neural networks with data ...   \n",
       "3  Experts from MIT’s School of Engineering, Schw...   \n",
       "4  A new dataset can help scientists develop auto...   \n",
       "\n",
       "                                        Article Body  \\\n",
       "0  ['Discovering new materials and drugs typicall...   \n",
       "1  ['Is it possible to build machine-learning mod...   \n",
       "2  ['From cameras to self-driving cars, many of t...   \n",
       "3  ['Understanding artificial intelligence and ho...   \n",
       "4  ['Chart captions that explain complex trends a...   \n",
       "\n",
       "                                                 Url  \n",
       "0  https://news.mit.edu/2023/learning-language-mo...  \n",
       "1  https://news.mit.edu/2023/bioautomated-open-so...  \n",
       "2  https://news.mit.edu/2023/when-computer-vision...  \n",
       "3  https://news.mit.edu/2023/educating-national-s...  \n",
       "4  https://news.mit.edu/2023/researchers-chart-ca...  "
      ]
     },
     "execution_count": 25,
     "metadata": {},
     "output_type": "execute_result"
    }
   ],
   "source": [
    "news_articles.head()"
   ]
  },
  {
   "cell_type": "code",
   "execution_count": null,
   "metadata": {
    "colab": {
     "base_uri": "https://localhost:8080/",
     "height": 458
    },
    "id": "Qb0YJWhhVnOp",
    "outputId": "eb3df2a9-3553-4c4e-f5eb-2afb7ffdb406"
   },
   "outputs": [
    {
     "data": {
      "text/html": [
       "<div>\n",
       "<style scoped>\n",
       "    .dataframe tbody tr th:only-of-type {\n",
       "        vertical-align: middle;\n",
       "    }\n",
       "\n",
       "    .dataframe tbody tr th {\n",
       "        vertical-align: top;\n",
       "    }\n",
       "\n",
       "    .dataframe thead th {\n",
       "        text-align: right;\n",
       "    }\n",
       "</style>\n",
       "<table border=\"1\" class=\"dataframe\">\n",
       "  <thead>\n",
       "    <tr style=\"text-align: right;\">\n",
       "      <th></th>\n",
       "      <th>Article Body</th>\n",
       "    </tr>\n",
       "  </thead>\n",
       "  <tbody>\n",
       "    <tr>\n",
       "      <th>0</th>\n",
       "      <td>['Discovering new materials and drugs typicall...</td>\n",
       "    </tr>\n",
       "    <tr>\n",
       "      <th>1</th>\n",
       "      <td>['Is it possible to build machine-learning mod...</td>\n",
       "    </tr>\n",
       "    <tr>\n",
       "      <th>2</th>\n",
       "      <td>['From cameras to self-driving cars, many of t...</td>\n",
       "    </tr>\n",
       "    <tr>\n",
       "      <th>3</th>\n",
       "      <td>['Understanding artificial intelligence and ho...</td>\n",
       "    </tr>\n",
       "    <tr>\n",
       "      <th>4</th>\n",
       "      <td>['Chart captions that explain complex trends a...</td>\n",
       "    </tr>\n",
       "    <tr>\n",
       "      <th>...</th>\n",
       "      <td>...</td>\n",
       "    </tr>\n",
       "    <tr>\n",
       "      <th>1013</th>\n",
       "      <td>[\"CAMBRIDGE, Mass.--Consider the fish: highly ...</td>\n",
       "    </tr>\n",
       "    <tr>\n",
       "      <th>1014</th>\n",
       "      <td>['Cog, the newest and most ambitious robot dev...</td>\n",
       "    </tr>\n",
       "    <tr>\n",
       "      <th>1015</th>\n",
       "      <td>['A few years from now, patients with polyps o...</td>\n",
       "    </tr>\n",
       "    <tr>\n",
       "      <th>1016</th>\n",
       "      <td>[\"Despite a wind chill index of -80oF and an e...</td>\n",
       "    </tr>\n",
       "    <tr>\n",
       "      <th>1017</th>\n",
       "      <td>['MIT engineers have developed a robot that ca...</td>\n",
       "    </tr>\n",
       "  </tbody>\n",
       "</table>\n",
       "<p>1018 rows × 1 columns</p>\n",
       "</div><br><label><b>dtype:</b> object</label>"
      ],
      "text/plain": [
       "0       ['Discovering new materials and drugs typicall...\n",
       "1       ['Is it possible to build machine-learning mod...\n",
       "2       ['From cameras to self-driving cars, many of t...\n",
       "3       ['Understanding artificial intelligence and ho...\n",
       "4       ['Chart captions that explain complex trends a...\n",
       "                              ...                        \n",
       "1013    [\"CAMBRIDGE, Mass.--Consider the fish: highly ...\n",
       "1014    ['Cog, the newest and most ambitious robot dev...\n",
       "1015    ['A few years from now, patients with polyps o...\n",
       "1016    [\"Despite a wind chill index of -80oF and an e...\n",
       "1017    ['MIT engineers have developed a robot that ca...\n",
       "Name: Article Body, Length: 1018, dtype: object"
      ]
     },
     "execution_count": 45,
     "metadata": {},
     "output_type": "execute_result"
    }
   ],
   "source": [
    "news_articles[\"Article Body\"]"
   ]
  },
  {
   "cell_type": "code",
   "execution_count": null,
   "metadata": {
    "id": "AXznH0ZyV3eC"
   },
   "outputs": [],
   "source": [
    "DOCUMENT = news_articles[\"Article Body\"]\n",
    "HEADING = news_articles[\"Article Header\"]"
   ]
  },
  {
   "cell_type": "code",
   "execution_count": null,
   "metadata": {
    "colab": {
     "base_uri": "https://localhost:8080/"
    },
    "id": "YyxWs04-X_TE",
    "outputId": "f20ae362-8e2b-4a20-b36f-6f1556cda6b7"
   },
   "outputs": [
    {
     "data": {
      "text/plain": [
       "str"
      ]
     },
     "execution_count": 47,
     "metadata": {},
     "output_type": "execute_result"
    }
   ],
   "source": [
    "type(news_articles[\"Article Body\"][0])"
   ]
  },
  {
   "cell_type": "code",
   "execution_count": null,
   "metadata": {
    "id": "H5L95_Fgxwjh"
   },
   "outputs": [],
   "source": [
    "# Prepare metadata and content\n",
    "metadata = []\n",
    "content = []\n",
    "\n",
    "for _, row in news_articles.iterrows():\n",
    "    content.append(row[\"Article Body\"])  # Store article body as content\n",
    "    metadata.append({\"heading\": row[\"Article Header\"]})  # Store heading as metadata\n",
    "\n",
    "text_splitter = CharacterTextSplitter(chunk_size=500, chunk_overlap=100)\n",
    "docs = text_splitter.create_documents(content, metadatas=metadata)"
   ]
  },
  {
   "cell_type": "code",
   "execution_count": null,
   "metadata": {
    "id": "IFfexgB0WLpV"
   },
   "outputs": [],
   "source": [
    "# metadata = []\n",
    "# content = []\n",
    "\n",
    "# for _, row in news_articles.iterrows():\n",
    "#   content.append(row[\"Article Header\"])\n",
    "#   metadata.append(\n",
    "#       {\n",
    "#           \"heading\": row[\"Article Body\"],\n",
    "#       }\n",
    "#   )\n",
    "\n",
    "# text_splitter = CharacterTextSplitter(chunk_size=50, chunk_overlap=0)\n",
    "# docs = text_splitter.create_documents(content, metadatas=metadata)"
   ]
  },
  {
   "cell_type": "code",
   "execution_count": null,
   "metadata": {
    "colab": {
     "base_uri": "https://localhost:8080/"
    },
    "id": "hxr3QuHilhR2",
    "outputId": "55406478-474b-476d-d290-e69c73db284e"
   },
   "outputs": [
    {
     "data": {
      "text/plain": [
       "1018"
      ]
     },
     "execution_count": 29,
     "metadata": {},
     "output_type": "execute_result"
    }
   ],
   "source": [
    "# len(docs)"
   ]
  },
  {
   "cell_type": "code",
   "execution_count": 14,
   "metadata": {
    "colab": {
     "base_uri": "https://localhost:8080/",
     "height": 369,
     "referenced_widgets": [
      "b5825644f6fc43e59d0693bf7954a869",
      "bcf53d95e77c41dc8e127623e9deedcb",
      "176d7ada52b94425a15147146fe4ba36",
      "0deb02b3e8f047d5a130130812e071a3",
      "c2c364600d5045e5a0e6e3953426448b",
      "f68fb1fd052845afbdc403d1e6fe77f3",
      "36794e8cb9864e9480a08f22a5e1dd84",
      "a4f1353e3c0f4d1196ae6dfa11bb2ff0",
      "2f06c383e10d4b70aa510ee6936ecb05",
      "1ad27c08f6fc4aa399b44878284c6c32",
      "94af2a1675b749bdbfea7c6733f1aee9",
      "6700978adf634c3dbe42108bf2c14982",
      "a2e6a6c3ee08430aa58c07be8dc13409",
      "cde016fed7ae41a98ce8066feb51ca1a",
      "06a4aa70885a495b8a6fd0e58df5b098",
      "7cb82662fe1e4964858c241572b483dd",
      "7d1968090a2c453391fb6ed0623a2b94",
      "d4e67052ca724e3d9d470685d54ee730",
      "f1c096d3e29647b5a4c2ea2e0f4b9ba7",
      "6d0e24fa6f6a437e8199160bd6fd0983",
      "e078ebdba01f4fc7aebc3dce562a51bc",
      "b509540945d343088b113f97ac9bdaf2",
      "72309308521745d3a6287f3bf8c413b1",
      "4e5f2dd4a9324beaa91843808b567e18",
      "2343ad8b718e4ae4be7717c64b26292e",
      "a4e2581c8d8c44c2a6b30c6300d6f555",
      "5f33238da30c45d8a55094e1d4257cd9",
      "5c48a0969ed84e7986ea96a769c14c29",
      "3203cd238eb2469799a718d00acee441",
      "57bcfd29694540c2810547083ff4efd0",
      "d0f8dee6be55415cad52d7fa5924b6a7",
      "e2c36e9feac54a6484c7d91d58a626d9",
      "875b70cc6c2a4dbe825bab0cb7567e03",
      "eaf5b31eface4f34ad69b78aa88eb8fb",
      "21c75ac95459411083e5065aed9f8036",
      "6ab43f1e8fe147c7a472df928eda8773",
      "a0a2ff10e15445a199d802a2a5fabdd0",
      "c5f4f8e682374efe877713c3596689dc",
      "c163c5edf1dc4026a898060f0ae1a749",
      "02dc5bf219584683a8cf405fe4051337",
      "c6e98c7b338340438fc3e7fff658eead",
      "516585bfb9ab4a18b6920dcdf4f92415",
      "d4ef69c8422b415784a529082b23b678",
      "bcbcafcf8b134e128a0516af964cd0dc",
      "7d405472bc1848bf97916b1f02db66a0",
      "c28b732a2610404eaa3b0bb646bbab0a",
      "0d2e3c9f28154dbeb5c4f2786b4ce7ad",
      "bd1fae8da01a4cd9bd8a96a4f4b4ad65",
      "31792f490c644636b4f17d1eb5490257",
      "e3282ad937554f0ba457c93d9e0304a5",
      "ae034eac08ef40ebb67bd848ded95a13",
      "0316d103c166469e9a0fec74c3805346",
      "84ca5efdb10f44fda08768f65a9b1818",
      "e4feb089b9114224956d3d0f261dee83",
      "0f98fc45afbc4c9599925dddf1b2b4aa",
      "757f955fbadd442ca93fc40f25b8d74e",
      "db9dd436d4f94e7ca69a7747a8a86ad7",
      "24dfd8a878784128804c880f26bd0934",
      "e9436731566d4c8497ea37137d3f3571",
      "7213d6bf0c8c412e8b052c43ef83cd43",
      "04ba7ad1976e4f67b93a085da657dacd",
      "1b61745223e24e068157d1c756edf27a",
      "3ece5cef8fd845a09bb5f5f18e6cf57d",
      "e6335775e92949d19f7242e0a136bdc0",
      "59ea63b066fe491ba7ae4fe49c473da4",
      "c4737417d91648a8805a90d2f723c929",
      "68e595391e3b47d0a9d06f776806ea2e",
      "2bf64bc07a644222bb8cb5ac0aa994c5",
      "e473437f63b74f168253e28ae2e34336",
      "0ab444d3981b40778abbc4c12199a125",
      "04428275037e40b5bf70f15dc6c02a85",
      "937bdd047611413e88f4edf47453ed58",
      "bc1af5c3c9de43dcb5f652cb8bd9aaf5",
      "7aada3784d7240f799493004c9c3bc6b",
      "2cc1cb8d6db34bbbb06ca438bbe01a87",
      "7fc76219901e471aa29a3c0c0e6feb38",
      "adea09dd9f7a4405880f31bafbb87508",
      "742efbea29a847a2b1449f42b2f2c60a",
      "624d22e94fc84ecab2dec3e719ed3362",
      "3b2ec49a5c8c4c03a8de02442e81bcac",
      "5127b6e540d1480cadef16015a82daa5",
      "d2372fc6bb5b4bd9a76f1d369e335ed2",
      "18663a93f4624748a3de74b7a5a90eba",
      "6d47d2c0e2614a5bb11dc3b45c5e2271",
      "18323c9654244e37adf42f3aeb7d9ead",
      "e960f76d56a8425fba3f76473a5d79ee",
      "31a08f8353794f34b3745a6a1e5aa3e6",
      "a8d1c38ee1d24983b43acf8f62b7959c",
      "64a8cf3140d2414fb54702d49e1edde2",
      "d5bf733cedf04a0b89b64f7818433d9d",
      "1e7011dccaf74df7a7ea0ce57f0acc1b",
      "f1e188e40c6048a6b084ec383364a9f7",
      "a25d5c516c6e4124865f7735f1907a4a",
      "5270f93ed0394252b3faf6b61196bdee",
      "9cbff711aa3e46a08091eb84fb058b52",
      "09dbde46208c491880d09ba2053b943f",
      "08323995460d4b68bf1661f800c9a526",
      "0e0d658c8cf04a68aefe6d8658d003c0",
      "e7a595a2f3904b2694759528d7fe3ef2",
      "a647b425d70d4e0390694debe0f68312",
      "5d18e1b4b8284618b53eb977c928671f",
      "b6a195e1afc348eba3592d1f820207d7",
      "9574124410c64ef18ffbc2873a620cf6",
      "db952d0ff90048778baef2093df0c301",
      "ec55f7c5c0cd441597a2aa966e02415d",
      "3602c2513a92491eba8469ecc8d1dbf7",
      "b5fb5102a3ca40d3b6f56a962774e559",
      "b74e2021ae6c45acbb74cd24e4803731",
      "ea4500d44dcc4340ac156fb61f8859d6",
      "222728c54870429e9a4180fc6a38db52",
      "8d0aa158a07c4795ab0c9a3ffb4a7e74",
      "3590dd0cd8524a8fa8f3ed00d2f3809e",
      "9ebc33b0535e46d3a1cc13baa3647be5",
      "2a40a64ad41a4518bdae08a14bbbfae3",
      "103f6f9e6e39493b8f75aa86c29ff7ca",
      "d78a3ed1e3aa42eda56ac64542916a9b",
      "7f4029a1ac884ed58b84692088c3407b",
      "8ec0a5bf31ea4eb4aad30726ce25b802",
      "f4558193a58d4b4a95156f96e567cc77",
      "3fde00147af444778e71cd89aea6ea7a",
      "e0e92a0c71b6467db422cd1f4df2fcbd"
     ]
    },
    "id": "oto2Ec0Ekb8T",
    "outputId": "a7e6ecdf-554b-42ba-b377-4045a037b328"
   },
   "outputs": [],
   "source": [
    "# from sentence_transformers import SentenceTransformer\n",
    "\n",
    "# # Load a sentence-transformer model\n",
    "# embedding_model = SentenceTransformer('all-MiniLM-L6-v2')"
   ]
  },
  {
   "cell_type": "code",
   "execution_count": null,
   "metadata": {
    "id": "evzJQJquY9Bc"
   },
   "outputs": [],
   "source": [
    "# query_embedding = GoogleGenerativeAIEmbeddings(\n",
    "#     model=\"models/embedding-001\", task_type=\"retrieval_document\"\n",
    "# )\n",
    "\n",
    "# es = ElasticsearchStore.from_documents(\n",
    "#     docs,\n",
    "#     es_cloud_id=ELASTIC_CLOUD_ID,\n",
    "#     es_api_key=ELASTIC_API_KEY,\n",
    "#     index_name=elastic_index_name,\n",
    "#     embedding=query_embedding,\n",
    "# )"
   ]
  },
  {
   "cell_type": "code",
   "execution_count": null,
   "metadata": {
    "id": "kuksjrxdlr1Z"
   },
   "outputs": [],
   "source": [
    "# Load the latest docs into the database\n",
    "# documents = vector_store.from_documents(\n",
    "#     docs,\n",
    "#     embeddings,\n",
    "#     index_name=elastic_index_name,\n",
    "#     es_cloud_id=ELASTIC_CLOUD_ID,\n",
    "#     es_api_key=ELASTIC_API_KEY,\n",
    "# )"
   ]
  },
  {
   "cell_type": "code",
   "execution_count": null,
   "metadata": {
    "id": "2jXLoxhS7A3t"
   },
   "outputs": [],
   "source": [
    "## Batch Processing"
   ]
  },
  {
   "cell_type": "code",
   "execution_count": null,
   "metadata": {
    "id": "dmsCbYmX8Lm0"
   },
   "outputs": [],
   "source": [
    "# Okay I might need to introduce some changes over here later AND so ON and so forth"
   ]
  },
  {
   "cell_type": "code",
   "execution_count": 16,
   "metadata": {
    "colab": {
     "base_uri": "https://localhost:8080/",
     "height": 49,
     "referenced_widgets": [
      "5260eb1a035e4866a65084a98e94c22c",
      "553fb17ce56f42659719bd8d991678b8",
      "3a12fae2c348451980906589920f8de0",
      "f9620c33614646179f8d2ee21a65a56a",
      "22491098aaf14bfaaf1c4e54b8f63207",
      "2a95e74bd5294a15b32db2c750f03ba2",
      "459e224a36714abd811c699845fbaa1d",
      "b6878d813f9e41b1a1268d2a79a74139",
      "e2719575a13e467e8f6e87ec8bb87d69",
      "50b76c8fe9914a399d46a0ab04745d18",
      "8f393ecd6c5c485899cb12d385138518"
     ]
    },
    "id": "hlXtLFK06-XN",
    "outputId": "e08e420a-e5eb-42a1-e9de-579e3120e877"
   },
   "outputs": [],
   "source": [
    "# batch_size = 50\n",
    "# for i in tqdm(range(0, len(docs), batch_size)):\n",
    "#   batch = docs_subset[i:i+batch_size]\n",
    "#   vector_store.from_documents(batch,\n",
    "#                         embeddings,\n",
    "#                         index_name=elastic_index_name,\n",
    "#                         es_cloud_id=ELASTIC_CLOUD_ID,\n",
    "#                         es_api_key=ELASTIC_API_KEY\n",
    "#   )"
   ]
  },
  {
   "cell_type": "code",
   "execution_count": null,
   "metadata": {
    "id": "FAA_9UHx5oyU"
   },
   "outputs": [],
   "source": [
    "# import time\n",
    "# from openai.error import RateLimitError"
   ]
  },
  {
   "cell_type": "code",
   "execution_count": null,
   "metadata": {
    "colab": {
     "base_uri": "https://localhost:8080/"
    },
    "id": "tLLakdkz6PYL",
    "outputId": "2910bcdf-4327-40d3-ca75-ae2b95992d4a"
   },
   "outputs": [
    {
     "name": "stdout",
     "output_type": "stream",
     "text": [
      "Total tokens: 1057214\n"
     ]
    }
   ],
   "source": [
    "# import tiktoken\n",
    "\n",
    "# tokenizer = tiktoken.encoding_for_model(\"text-embedding-ada-002\")\n",
    "# tokens = sum(len(tokenizer.encode(doc.page_content)) for doc in docs)\n",
    "# print(f\"Total tokens: {tokens}\")"
   ]
  },
  {
   "cell_type": "code",
   "execution_count": null,
   "metadata": {
    "id": "PQ-YL9c35hQZ"
   },
   "outputs": [],
   "source": [
    "# Retry up to 5 times\n",
    "# for attempt in range(5):\n",
    "#   try:\n",
    "#     documents = vector_store.from_documents(\n",
    "#                         docs,\n",
    "#                         embeddings,\n",
    "#                         index_name=elastic_index_name,\n",
    "#                         es_cloud_id=ELASTIC_CLOUD_ID,\n",
    "#                         es_api_key=ELASTIC_API_KEY,\n",
    "#                 )\n",
    "#     break\n",
    "#   except RateLimitError:\n",
    "#     wait_time = (2 ** attempt) * 4  # Exponential backoff\n",
    "#     print(f\"Rate limit hit. Retrying in {wait_time} seconds...\")\n",
    "#     time.sleep(wait_time)"
   ]
  },
  {
   "cell_type": "code",
   "execution_count": 11,
   "metadata": {
    "id": "tMdGFzXs8d4x"
   },
   "outputs": [],
   "source": [
    "# from langchain.schema import BaseRetriever, Document\n",
    "# from typing import List\n",
    "\n",
    "# class HeadingBasedRetriever(BaseRetriever):\n",
    "#   def __init__(self, vector_store, top_k: int = 1):\n",
    "#     self.vector_store = vector_store\n",
    "#     self.top_k = top_k\n",
    "\n",
    "#   def _get_relevant_documents(self, query: str) -> List[Document]:\n",
    "#     # Retrieve top-k documents based on heading similarity\n",
    "#     results = self.vector_store.similarity_search(\n",
    "#         query=query,\n",
    "#         k=self.top_k,\n",
    "#         filter=None  # Optional: Add filters if needed\n",
    "#     )\n",
    "\n",
    "#     # Extract and return the article body of the top result\n",
    "#     if results:\n",
    "#       top_result = results[0]\n",
    "#       return [Document(page_content=top_result.page_content, metadata=top_result.metadata)]\n",
    "\n",
    "#     return []  # Return an empty list if no results are found"
   ]
  },
  {
   "cell_type": "markdown",
   "metadata": {
    "id": "UmFW681PAeku"
   },
   "source": [
    "**Change this later. But first pf all, even if something otherwise is being returned, do it**"
   ]
  },
  {
   "cell_type": "code",
   "execution_count": 17,
   "metadata": {
    "id": "mR-3muB5-RZC"
   },
   "outputs": [],
   "source": [
    "from typing import List, Any\n",
    "from langchain.schema import BaseRetriever, Document\n",
    "from pydantic import Field\n",
    "\n",
    "class HeadingBasedRetriever(BaseRetriever):\n",
    "  vector_store: Any  # Define vector_store as a field (type can be adjusted based on your implementation)\n",
    "  top_k: int = Field(default=1)  # Define top_k with a default value\n",
    "\n",
    "  def _get_relevant_documents(self, query: str) -> List[Document]:\n",
    "    # Retrieve top-k documents based on heading similarity\n",
    "    results = self.vector_store.similarity_search(\n",
    "        query=query,\n",
    "        k=self.top_k,\n",
    "        filter=None  # Optional: Add filters if needed\n",
    "    )\n",
    "\n",
    "    # Extract and return the article body of the top result\n",
    "    if results:\n",
    "        top_result = results[0]\n",
    "        return [Document(page_content=top_result.page_content, metadata=top_result.metadata)]\n",
    "\n",
    "    return []  # Return an empty list if no results are found"
   ]
  },
  {
   "cell_type": "code",
   "execution_count": 18,
   "metadata": {
    "id": "UPv8khXO8gyU"
   },
   "outputs": [],
   "source": [
    "from langchain.prompts import ChatPromptTemplate\n",
    "from langchain.schema.runnable import RunnablePassthrough\n",
    "from langchain.chains import LLMChain\n",
    "\n",
    "# Initialize retriever\n",
    "retriever = HeadingBasedRetriever(vector_store=vector_store)"
   ]
  },
  {
   "cell_type": "code",
   "execution_count": 25,
   "metadata": {},
   "outputs": [
    {
     "name": "stdout",
     "output_type": "stream",
     "text": [
      "Index 'openai_mit_llama_index' exists.\n",
      "Documents in the index:\n",
      "ID: 45e59948-1994-456d-b310-4c0306bcb722, Source: {'date': '2023-06-30T00:00:00', 'author': 'Jennifer Michalowski', 'source': 'McGovern Institute for Brain Research', 'heading': 'When computer vision works more like a brain, it sees more like people do', 'description': 'Training artificial neural networks with data from real brains can make computer vision more robust.'}\n",
      "ID: 8f112e9c-206c-4398-ab4f-0dae1d4a56ea, Source: {'date': '2023-06-22T00:00:00', 'author': 'Mary Beth Gallagher', 'source': 'School of Engineering', 'heading': 'MIT-Pillar AI Collective announces first seed grant recipients', 'description': 'Six teams conducting research in AI, data science, and machine learning receive funding for projects that have potential commercial applications.  '}\n",
      "ID: a36a7bc1-8eb8-4ebb-8d70-c9a83caea9f9, Source: {'date': '2023-06-16T00:00:00', 'author': 'Terri Park', 'source': 'MIT Schwarzman College of Computing', 'heading': 'Envisioning the future of computing', 'description': 'MIT students share ideas, aspirations, and vision for how advances in computing stand to transform society in a competition hosted by the Social and Ethical Responsibilities of Computing.'}\n",
      "ID: 4912138f-50ec-4abb-bf96-193e0c35ceb7, Source: {'date': '2023-07-06T00:00:00', 'author': 'Alex Ouyang', 'source': 'Abdul Latif Jameel Clinic for Machine Learning in Health', 'heading': 'MIT scientists build a system that can generate AI models for biology research', 'description': 'BioAutoMATED, an open-source, automated machine-learning platform, aims to help democratize artificial intelligence for research labs. '}\n",
      "ID: 9d7e8b0b-fd32-4561-82a7-21ff0a30c29b, Source: {'date': '2023-07-07T00:00:00', 'author': 'Adam Zewe', 'source': 'MIT News Office', 'heading': 'Learning the language of molecules to predict their properties', 'description': 'This AI system only needs a small amount of data to predict molecular properties, which could speed up drug discovery and material development.'}\n",
      "ID: ea72ab82-e807-4b3f-840c-488b1307868d, Source: {'date': '2023-06-28T00:00:00', 'author': 'Rachel Gordon', 'source': 'MIT CSAIL', 'heading': 'Computer vision system marries image recognition and generation ', 'description': 'MAGE merges the two key tasks of image generation and recognition, typically trained separately, into a single system.'}\n",
      "ID: 2a54945e-d097-4594-8eaa-5550145fe8a7, Source: {'date': '2023-06-15T00:00:00', 'author': 'Mary Beth Gallagher', 'source': 'School of Engineering', 'heading': 'Novo Nordisk to support MIT postdocs working at the intersection of AI and life sciences', 'description': 'MIT-Novo Nordisk Artificial Intelligence Postdoctoral Fellows Program will support up to 10 postdocs annually over five years.'}\n",
      "ID: 4a98844b-9f1d-4a89-9dc0-1fce2e63682f, Source: {'date': '2023-06-26T00:00:00', 'author': 'Katherine Ouellette', 'source': 'MIT Open Learning', 'heading': 'Day of AI curriculum meets the moment', 'description': 'Global participation in MIT RAISE’s free K-12 program more than doubles in its second year.'}\n",
      "ID: 3c7226b9-e36b-4f0e-8a85-77596663e96d, Source: {'date': '2023-06-30T00:00:00', 'author': 'Mary Beth Gallagher', 'source': 'School of Engineering', 'heading': 'Educating national security leaders on artificial intelligence', 'description': 'Experts from MIT’s School of Engineering, Schwarzman College of Computing, and Sloan Executive Education educate national security leaders in AI fundamentals.'}\n",
      "ID: d0f01d5e-81d2-470c-b7cb-67c9808b79a0, Source: {'date': '2023-06-30T00:00:00', 'author': 'Adam Zewe', 'source': 'MIT News Office', 'heading': 'Researchers teach an AI to write better chart captions', 'description': 'A new dataset can help scientists develop automatic systems that generate richer, more descriptive captions for online charts.'}\n"
     ]
    }
   ],
   "source": [
    "# Step 2: Check if the index exists\n",
    "if es.indices.exists(index=elastic_index_name):\n",
    "    print(f\"Index '{elastic_index_name}' exists.\")\n",
    "\n",
    "    # Step 3: Fetch and print the first few documents\n",
    "    response = es.search(index=elastic_index_name, query={\"match_all\": {}}, size=10)\n",
    "    print(\"Documents in the index:\")\n",
    "    for hit in response['hits']['hits']:\n",
    "        print(f\"ID: {hit['_id']}, Source: {hit['_source'][\"metadata\"]}\")\n",
    "else:\n",
    "    print(f\"Index '{elastic_index_name}' does not exist.\")"
   ]
  },
  {
   "cell_type": "code",
   "execution_count": 20,
   "metadata": {
    "id": "UbEQrAOs_1Q-"
   },
   "outputs": [],
   "source": [
    "context = retriever._get_relevant_documents(\"What does the article talk about J-WAFS Grand Challenge?\")"
   ]
  },
  {
   "cell_type": "code",
   "execution_count": 21,
   "metadata": {
    "colab": {
     "base_uri": "https://localhost:8080/"
    },
    "id": "WYGmRpPbHQwx",
    "outputId": "70a93399-dbd0-4c72-fb5a-992fe381741d"
   },
   "outputs": [
    {
     "data": {
      "text/plain": [
       "[]"
      ]
     },
     "execution_count": 21,
     "metadata": {},
     "output_type": "execute_result"
    }
   ],
   "source": [
    "context"
   ]
  },
  {
   "cell_type": "code",
   "execution_count": null,
   "metadata": {
    "id": "WdcwSq7PBpA8"
   },
   "outputs": [],
   "source": [
    "from langchain.llms import OpenAI\n",
    "from langchain.chat_models import ChatOpenAI"
   ]
  },
  {
   "cell_type": "code",
   "execution_count": null,
   "metadata": {
    "id": "0KRbyf-UBXQ9"
   },
   "outputs": [],
   "source": [
    "llm = OpenAI()"
   ]
  },
  {
   "cell_type": "code",
   "execution_count": null,
   "metadata": {
    "id": "Rlz-VycemsqL"
   },
   "outputs": [],
   "source": [
    "llm_chat = ChatOpenAI(model=\"gpt-4o-mini\")"
   ]
  },
  {
   "cell_type": "code",
   "execution_count": null,
   "metadata": {
    "id": "zjPPYoP-CuFS"
   },
   "outputs": [],
   "source": [
    "# Change mode of instruction, better prompting, better settings, so ON and so forth. All those changes towards the end. For now, just focus on development of the business prototype"
   ]
  },
  {
   "cell_type": "code",
   "execution_count": null,
   "metadata": {
    "id": "tMcxKhQaC9TC"
   },
   "outputs": [],
   "source": [
    "query = \"What does the article talk about J-WAFS Grand Challenge?\""
   ]
  },
  {
   "cell_type": "code",
   "execution_count": null,
   "metadata": {
    "id": "d8iHzca9DySP"
   },
   "outputs": [],
   "source": [
    "# Retrieve context and invoke chain\n",
    "# retrieved_docs = retriever._get_relevant_documents(query)\n",
    "# if retrieved_docs:\n",
    "#   context = retrieved_docs[0].page_content  # Use top-1 document's content\n",
    "# else:\n",
    "#   context = \"No relevant documents found.\""
   ]
  },
  {
   "cell_type": "code",
   "execution_count": null,
   "metadata": {
    "id": "lTOTsTgQF5PF"
   },
   "outputs": [],
   "source": [
    "# Add String Output Parser\n",
    "parser = StrOutputParser()"
   ]
  },
  {
   "cell_type": "code",
   "execution_count": null,
   "metadata": {
    "colab": {
     "base_uri": "https://localhost:8080/"
    },
    "id": "ass7DXtcCWxd",
    "outputId": "efbe6bab-45b8-4818-950c-0b43f287e1ab"
   },
   "outputs": [
    {
     "name": "stdout",
     "output_type": "stream",
     "text": [
      "---- Answer ----\n",
      "The article discusses the inaugural J-WAFS Grand Challenge, which aims to develop enhanced crop variants and transition them from the laboratory to agricultural fields\n",
      "Established by the Abdul Latif Jameel Water and Food Systems Lab (J-WAFS) at MIT, the Grand Challenge seeks to inspire researchers to work towards a water-secure and food-secure future in response to global challenges such as climate change and food insecurity.\n",
      "\n",
      "The challenge awarded a $1.5 million grant to a team led by Professor Matt Shoulders and research scientist Robert Wilson to address inefficiencies in photosynthesis, particularly focusing on improving the RuBisCO enzyme crucial for carbon fixation in plants\n",
      "The project will employ advanced synthetic and computational biology techniques to engineer better RuBisCO variants, which could significantly enhance crop yields.\n",
      "\n",
      "The article highlights the importance of food systems in the context of climate change and greenhouse gas emissions, and it emphasizes J-WAFS' role in addressing the interconnected challenges of climate, water, and food security\n",
      "The collaborative team, including experts from various fields, aims to create a platform called Enhanced Photosynthesis in Crops (EPiC) to develop and validate improved RuBisCO enzymes through laboratory tests and field trials, ultimately contributing to agricultural advancements and sustainability.\n"
     ]
    }
   ],
   "source": [
    "# Define prompt template\n",
    "ANSWER_PROMPT = ChatPromptTemplate.from_template(\n",
    "    \"\"\"You are an assistant for answering questions. Use the following \"Article Content\" to answer the question.\n",
    "\n",
    "    Article Content: {context}\n",
    "    Question: \"{question}\"\n",
    "    Answer:\n",
    "    \"\"\"\n",
    ")\n",
    "\n",
    "# Define chain\n",
    "chain = (\n",
    "    {\"context\": retriever, \"question\": RunnablePassthrough()}\n",
    "    | ANSWER_PROMPT\n",
    "    | llm_chat # Replace with your LLM instance (e.g., OpenAI or similar)\n",
    "    | parser\n",
    ")\n",
    "\n",
    "# Query example\n",
    "response = chain.invoke(query)\n",
    "\n",
    "# Split response into lines (e.g., after every sentence)\n",
    "formatted_response = \"\\n\".join(response.split(\". \"))  # Add line breaks after sentences\n",
    "\n",
    "print(\"---- Answer ----\")\n",
    "print(formatted_response)"
   ]
  },
  {
   "cell_type": "markdown",
   "metadata": {
    "id": "OMMLYdBKgRzN"
   },
   "source": [
    "## Google AI Studio Approach\n"
   ]
  },
  {
   "cell_type": "code",
   "execution_count": null,
   "metadata": {
    "id": "0MuxwKRngakU"
   },
   "outputs": [],
   "source": [
    "# import google.generativeai as genai\n",
    "\n",
    "# genai.configure(api_key=GOOGLE_API_KEY)\n",
    "# llm_model = genai.GenerativeModel(\"gemini-1.5-flash\")\n",
    "# response = llm.generate_content(\"Explain how AI works\")\n",
    "# print(response.text)"
   ]
  },
  {
   "cell_type": "code",
   "execution_count": null,
   "metadata": {
    "id": "QjK2eomLRhLF"
   },
   "outputs": [],
   "source": [
    "# !curl -X POST \"http://127.0.0.1/v1beta/models/gemini-1.5-flash:generateContent\" \\\n",
    "# -H \"Content-Type: application/json\" \\\n",
    "# -d '{\"prompt\": \"Hello, world!\", \"max_tokens\": 100}' -v"
   ]
  },
  {
   "cell_type": "code",
   "execution_count": null,
   "metadata": {
    "id": "DCmWmfh7h3MA"
   },
   "outputs": [],
   "source": [
    "# Define the mapping\n",
    "# mappings = {\n",
    "#     \"properties\": {\n",
    "#         \"content_vector\": {\n",
    "#             \"type\": \"dense_vector\",\n",
    "#             \"dims\": 384,\n",
    "#             \"index\": \"true\",\n",
    "#             \"similarity\": \"cosine\",\n",
    "#         }\n",
    "#     }\n",
    "# }\n",
    "\n",
    "# # Check if the index exists\n",
    "# if es.indices.exists(index=elastic_index_name):\n",
    "#     # Delete the existing index\n",
    "#     es.indices.delete(index=elastic_index_name)\n",
    "#     print(f\"Deleted existing index: {elastic_index_name}\")\n",
    "\n",
    "# # Create a new index with the mapping\n",
    "# es.indices.create(index=elastic_index_name, mappings=mappings)\n",
    "# print(f\"Created new index: {elastic_index_name}\")"
   ]
  },
  {
   "cell_type": "code",
   "execution_count": null,
   "metadata": {
    "id": "11KUuzdMkw2K"
   },
   "outputs": [],
   "source": [
    "# import google.generativeai as genai\n",
    "# import numpy as np"
   ]
  },
  {
   "cell_type": "code",
   "execution_count": null,
   "metadata": {
    "id": "383LT8Prl2aj"
   },
   "outputs": [],
   "source": [
    "from tqdm.auto import tqdm\n",
    "tqdm.pandas()\n",
    "\n",
    "# from google.api_core import retry"
   ]
  },
  {
   "cell_type": "code",
   "execution_count": null,
   "metadata": {
    "id": "_Hlls6hAkzV4"
   },
   "outputs": [],
   "source": [
    "# def make_embed_text_fn(model):\n",
    "#   @retry.Retry(timeout=300.0)\n",
    "#   def embed_fn(text: str) -> list[float]:\n",
    "#     # Set the task_type to CLUSTERING.\n",
    "#     embedding = genai.embed_content(model=model,\n",
    "#                                     content=text,\n",
    "#                                     task_type=\"retrieval_document\")\n",
    "#     return np.array(embedding)\n",
    "\n",
    "#   return embed_fn\n",
    "\n",
    "# def create_embeddings(df):\n",
    "#   model = 'models/embedding-001'\n",
    "#   df[\"Article Body Embeddings\"] = df[\"Article Header\"].progress_apply(make_embed_text_fn(model))\n",
    "#   return df"
   ]
  },
  {
   "cell_type": "code",
   "execution_count": null,
   "metadata": {
    "colab": {
     "base_uri": "https://localhost:8080/",
     "height": 156,
     "referenced_widgets": [
      "f9ce3b29a659482da6dd3b3b8629ac39",
      "32981e0994a04e8f83533160ef2b12d1",
      "39656cb560ca4bc08dc7980e30ff689a",
      "e730d7db9a6e4d18aa5f0a712cb0225f",
      "c04c90fd135b4c6797925d2400ae64fd",
      "60dd3ecd86a04cb681c0d6b5b7c00f5f",
      "01ff2581faf642a2991a5a98076eed1b",
      "f2d122fe7d5e456089a78ddd25d15f1a",
      "f4ebe261635e4ad2ac29463c713a0cb3",
      "00618a11497e47719f3fd110fc596091",
      "94471a7cc7054fb88f9d2db48d642411"
     ]
    },
    "id": "OYiAlKlBlnMI",
    "outputId": "ecef4501-356a-439b-ff44-3bbc05da461b"
   },
   "outputs": [
    {
     "data": {
      "application/vnd.jupyter.widget-view+json": {
       "model_id": "f9ce3b29a659482da6dd3b3b8629ac39",
       "version_major": 2,
       "version_minor": 0
      },
      "text/plain": [
       "  0%|          | 0/1018 [00:00<?, ?it/s]"
      ]
     },
     "metadata": {},
     "output_type": "display_data"
    },
    {
     "name": "stdout",
     "output_type": "stream",
     "text": [
      "0    [-0.030335475, -0.11050753, 0.0033278002, 0.00...\n",
      "1    [-0.09683153, -0.03105063, 0.0058410014, -0.00...\n",
      "2    [0.0521426, -0.07336696, 0.015279335, -0.05729...\n",
      "3    [0.0010559065, 0.004276596, 0.018455416, 0.028...\n",
      "4    [0.017620977, -0.017530331, 0.034623932, 0.018...\n",
      "Name: embeddings, dtype: object\n"
     ]
    }
   ],
   "source": [
    "# Generate embeddings for each chunk\n",
    "# news_articles['embeddings'] = news_articles[\"Article Header\"].progress_apply(lambda doc: embedding_model.encode(doc))\n",
    "\n",
    "# Check sample embeddings\n",
    "# print(news_articles['embeddings'].head())"
   ]
  },
  {
   "cell_type": "code",
   "execution_count": null,
   "metadata": {
    "id": "m5skPBopl-2T"
   },
   "outputs": [],
   "source": [
    "## news_articles_sub = news_articles[[\"Article Header\", \"Article Body\", \"embeddings\"]]"
   ]
  },
  {
   "cell_type": "code",
   "execution_count": null,
   "metadata": {
    "id": "kfcdLEjVmmmJ"
   },
   "outputs": [],
   "source": [
    "# news_articles_sub = create_embeddings(news_articles_sub)"
   ]
  },
  {
   "cell_type": "code",
   "execution_count": null,
   "metadata": {
    "id": "n4F_sOr8pxnz"
   },
   "outputs": [],
   "source": [
    "# news_articles_sub[\"Embedding\"] = news_articles_sub[\"Article Body Embeddings\"].apply(lambda row: row[\"embedding\"])"
   ]
  },
  {
   "cell_type": "code",
   "execution_count": null,
   "metadata": {
    "id": "ELRsLMxOqnjM"
   },
   "outputs": [],
   "source": [
    "# type(news_articles_sub[\"Embedding\"][0])"
   ]
  },
  {
   "cell_type": "code",
   "execution_count": null,
   "metadata": {
    "id": "A-Q1jTfjqPpL"
   },
   "outputs": [],
   "source": [
    "## news_collection = []"
   ]
  },
  {
   "cell_type": "code",
   "execution_count": null,
   "metadata": {
    "colab": {
     "base_uri": "https://localhost:8080/",
     "height": 49,
     "referenced_widgets": [
      "f8de6d7391bf40bb94b3d35d3ce8d1bd",
      "bbe2228f6cb54d1db707b83d05a780fe",
      "36bbe61e5ea7429e8a0c215f0f75bc8f",
      "7afc06b0395b4f80984becbaf578d76b",
      "c1c4d2dab92a4ebe9be9bebc0d292088",
      "1aa2e9427b3f4ea484a5c651bac0ab7e",
      "0c506b42d6614883883473cd644c232b",
      "95eac50ae00f4ca7b3ae4a35ae595975",
      "d55b113fe5e247a4be15cbe83aa77a8f",
      "99a5ea6645e0496ca5cb47dc51c694ef",
      "c1f8397adcbd49449e4e18d064a84cb8"
     ]
    },
    "id": "DSbFNpTxqMfZ",
    "outputId": "7f71a121-1a57-4c3c-b29c-d551fc4bec5f"
   },
   "outputs": [
    {
     "data": {
      "application/vnd.jupyter.widget-view+json": {
       "model_id": "f8de6d7391bf40bb94b3d35d3ce8d1bd",
       "version_major": 2,
       "version_minor": 0
      },
      "text/plain": [
       "0it [00:00, ?it/s]"
      ]
     },
     "metadata": {},
     "output_type": "display_data"
    }
   ],
   "source": [
    "# for i, row in tqdm(news_articles_sub.iterrows()):\n",
    "#   news_collection.append({\"index\": {\"_index\": elastic_index_name}})\n",
    "#   news_data = {}\n",
    "#   news_data[\"heading\"] = row[\"Article Header\"]\n",
    "#   news_data[\"content\"] = row[\"Article Body\"]\n",
    "\n",
    "#   # Transforming the title into an embedding using the model\n",
    "#   news_data[\"content_vector\"] = row[\"embeddings\"]\n",
    "#   news_collection.append(news_data)"
   ]
  },
  {
   "cell_type": "code",
   "execution_count": null,
   "metadata": {
    "id": "wFM7YQeRyg12"
   },
   "outputs": [],
   "source": [
    "# Save to CSV\n",
    "# news_articles_sub.to_csv(\"/content/drive/MyDrive/kaggle/data/news_articles_sub.csv\", index=False)"
   ]
  },
  {
   "cell_type": "code",
   "execution_count": null,
   "metadata": {
    "id": "0wjZJt8Qq31h"
   },
   "outputs": [],
   "source": [
    "# Do bulk import into the database\n",
    "# es.bulk(index=elastic_index_name, operations=news_collection, refresh=True)"
   ]
  },
  {
   "cell_type": "code",
   "execution_count": null,
   "metadata": {
    "id": "bA3r0GRXyrKH"
   },
   "outputs": [],
   "source": [
    "# from langchain.schema import BaseRetriever, Document\n",
    "# from typing import List\n",
    "\n",
    "# class HeadingBasedRetriever(BaseRetriever):\n",
    "#     def __init__(self, vector_store, top_k: int = 1):\n",
    "#         self.vector_store = vector_store\n",
    "#         self.top_k = top_k\n",
    "\n",
    "#     def _get_relevant_documents(self, query: str) -> List[Document]:\n",
    "#         # Retrieve top-k documents based on heading similarity\n",
    "#         results = self.vector_store.similarity_search(\n",
    "#             query=query,\n",
    "#             k=self.top_k,\n",
    "#             filter=None  # Optional: Add filters if needed\n",
    "#         )\n",
    "\n",
    "#         # Extract and return the article body of the top result\n",
    "#         if results:\n",
    "#             top_result = results[0]\n",
    "#             return [Document(page_content=top_result.page_content, metadata=top_result.metadata)]\n",
    "\n",
    "#         return []  # Return an empty list if no results are found"
   ]
  },
  {
   "cell_type": "code",
   "execution_count": null,
   "metadata": {
    "id": "tN5bRxWuregL"
   },
   "outputs": [],
   "source": [
    "def pretty_response(response):\n",
    "    if len(response[\"hits\"][\"hits\"]) == 0:\n",
    "      print(\"Your search returned no results.\")\n",
    "    else:\n",
    "      for hit in response[\"hits\"][\"hits\"]:\n",
    "        id = hit[\"_id\"]\n",
    "        heading = hit[\"_source\"][\"heading\"]\n",
    "        content = hit[\"_source\"][\"content\"]\n",
    "        pretty_output = f\"\\nID: {id}\\nHeading: {heading}\\nContent: {content}\"\n",
    "        print(pretty_output)"
   ]
  },
  {
   "cell_type": "code",
   "execution_count": null,
   "metadata": {
    "id": "mj_g28ZDsb8a"
   },
   "outputs": [],
   "source": [
    "# query = \"What does the article talk about J-WAFS Grand Challenge\""
   ]
  },
  {
   "cell_type": "code",
   "execution_count": null,
   "metadata": {
    "id": "MrHg3QnotLdI"
   },
   "outputs": [],
   "source": [
    "# def make_embed_text(model, text):\n",
    "#   @retry.Retry(timeout=300.0)\n",
    "#   def embed_fn(text: str):\n",
    "#     # Set the task_type to CLUSTERING.\n",
    "#     embedding = genai.embed_content(model=model,\n",
    "#                                     content=text,\n",
    "#                                     task_type=\"retrieval_document\")[\"embedding\"]\n",
    "#     return embedding\n",
    "\n",
    "#   return embed_fn"
   ]
  },
  {
   "cell_type": "code",
   "execution_count": null,
   "metadata": {
    "id": "0i3YajLLux_r"
   },
   "outputs": [],
   "source": [
    "# def ma                                    ke_embedding(text):\n",
    "#   return genai.embed_content(model=model,\n",
    "#                                     content=query,\n",
    "# task_type=\"retrieval_document\")[\"embedding\"]"
   ]
  },
  {
   "cell_type": "code",
   "execution_count": null,
   "metadata": {
    "id": "JAY_LjOFrBPj"
   },
   "outputs": [],
   "source": [
    "# response = es.search(\n",
    "#     index=elastic_index_name,\n",
    "#     knn={\n",
    "#         \"field\": \"content_vector\",\n",
    "#         \"query_vector\": embedding_model.encode(query),\n",
    "#         \"k\": 10,\n",
    "#         \"num_candidates\": 100,\n",
    "#     },\n",
    "#     size=100\n",
    "# )\n",
    "\n",
    "# pretty_response(response)"
   ]
  },
  {
   "cell_type": "code",
   "execution_count": null,
   "metadata": {
    "id": "0hkuhedJv2_B"
   },
   "outputs": [],
   "source": [
    "# documents = [hit[\"_source\"][\"content\"] for hit in response[\"hits\"][\"hits\"]]\n",
    "# documents"
   ]
  },
  {
   "cell_type": "code",
   "execution_count": null,
   "metadata": {
    "id": "UqMgdA3pwQ64"
   },
   "outputs": [],
   "source": [
    "# Join the documents into a single context string\n",
    "# context = \" \".join(documents)\n",
    "\n",
    "# Truncate the context if it exceeds the token limit\n",
    "# max_tokens = 10000  # Adjust based on your LLM's capabilities\n",
    "# context = context[:max_tokens]"
   ]
  },
  {
   "cell_type": "code",
   "execution_count": null,
   "metadata": {
    "id": "v-WSOsSbwezk"
   },
   "outputs": [],
   "source": [
    "# prompt_template = f\"\"\"\n",
    "# Relevant context: {context}\n",
    "\n",
    "# Considering the relevant context, answer the question.\n",
    "\n",
    "# Question: {query}\n",
    "\n",
    "# Answer:\n",
    "# \"\"\""
   ]
  },
  {
   "cell_type": "code",
   "execution_count": null,
   "metadata": {
    "id": "oWtQXF6mzQYP"
   },
   "outputs": [],
   "source": [
    "# prompt_template"
   ]
  },
  {
   "cell_type": "code",
   "execution_count": null,
   "metadata": {
    "id": "Yv-9sZjJr31g"
   },
   "outputs": [],
   "source": [
    "# def ask_llama(prompt_template, max_length=300):\n",
    "#   response = llama_pipeline(prompt_template, num_return_sequences=1)\n",
    "#   return response[0][\"generated_text\"]"
   ]
  },
  {
   "cell_type": "code",
   "execution_count": null,
   "metadata": {
    "colab": {
     "base_uri": "https://localhost:8080/"
    },
    "id": "H9KDxuwizC8e",
    "outputId": "241aebd5-9f70-4d3c-f18f-9a30c4e0d6ac"
   },
   "outputs": [
    {
     "name": "stdout",
     "output_type": "stream",
     "text": [
      "According to the relevant context, the article talks about the J-WAFS Grand Challenge Grant, a research program established by the Abdul Latif Jameel Water and Food Systems Lab (J-WAFS) at MIT. The program aims to inspire MIT researchers to work towards a water-secure and food-secure future by tackling complex challenges related to agriculture, water, and food systems. Specifically, the article highlights the inaugural J-WAFS Grand Challenge Grant, which has been awarded to a team of researchers led by Professor Matt Shoulders and research scientist Robert Wilson to improve the efficiency of photosynthesis in crops."
     ]
    }
   ],
   "source": [
    "# messages = [\n",
    "# \t{\n",
    "# \t\t\"role\": \"user\",\n",
    "# \t\t\"content\": prompt_template\n",
    "# \t}\n",
    "# ]\n",
    "\n",
    "# stream = client.chat.completions.create(\n",
    "#   model=\"meta-llama/Meta-Llama-3-8B-Instruct\",\n",
    "# \tmessages=messages,\n",
    "# \tmax_tokens=1000,\n",
    "# \tstream=True\n",
    "# )\n",
    "\n",
    "# for chunk in stream:\n",
    "#     print(chunk.choices[0].delta.content, end=\"\")"
   ]
  },
  {
   "cell_type": "code",
   "execution_count": null,
   "metadata": {
    "id": "w1sRdUll4umQ"
   },
   "outputs": [],
   "source": [
    "# model_name=\"meta-llama/Meta-Llama-3-8B-Instruct\""
   ]
  },
  {
   "cell_type": "code",
   "execution_count": null,
   "metadata": {
    "id": "vHQnLzVm5bT6"
   },
   "outputs": [],
   "source": [
    "# Initialize conversation history\n",
    "# messages = []"
   ]
  },
  {
   "cell_type": "code",
   "execution_count": null,
   "metadata": {
    "id": "kflx3Guj3khR"
   },
   "outputs": [],
   "source": [
    "# def multi_turn_conversation(prompt, max_tokens=10000):\n",
    "#     \"\"\"\n",
    "#     Handles a single turn in a multi-turn conversation.\n",
    "\n",
    "#     Args:\n",
    "#         query (str): User's query.\n",
    "#         client: Client object for interacting with the model API.\n",
    "#         model_name (str): The name of the model to use.\n",
    "#         max_tokens (int): Maximum tokens for the model's response.\n",
    "\n",
    "#     Returns:\n",
    "#         str: The assistant's response.\n",
    "#     \"\"\"\n",
    "#     global messages  # Access the global conversation history\n",
    "\n",
    "#     # Append the user's query to the conversation history\n",
    "#     messages.append({\"role\": \"user\", \"content\": prompt})\n",
    "\n",
    "#     # Send the conversation history to the model\n",
    "#     stream = client.chat.completions.create(\n",
    "#         model=model_name,\n",
    "#         messages=messages,\n",
    "#         max_tokens=max_tokens,\n",
    "#         stream=True\n",
    "#     )\n",
    "\n",
    "#     # Collect the streamed response\n",
    "#     response = \"\"\n",
    "#     for chunk in stream:\n",
    "#         content = chunk.choices[0].delta.content\n",
    "#         print(content, end=\"\")  # Stream the response in real-time\n",
    "#         response += content\n",
    "\n",
    "#     print(\"\\n\")  # Add a newline after streaming the response\n",
    "\n",
    "#     # Append the assistant's response to the conversation history\n",
    "#     messages.append({\"role\": \"assistant\", \"content\": response})\n",
    "\n",
    "#     return response"
   ]
  },
  {
   "cell_type": "code",
   "execution_count": null,
   "metadata": {
    "id": "lsDpvvIY4GKO"
   },
   "outputs": [],
   "source": [
    "# Start the conversation\n",
    "# print(\"Assistant: Hello! How can I assist you today?\\n\")\n",
    "\n",
    "# # Example conversation loop\n",
    "# while True:\n",
    "#     user_query = input(\"You: \")  # Take input from the user\n",
    "#     if user_query.lower() in [\"exit\", \"quit\"]:\n",
    "#         print(\"Assistant: Goodbye!\")\n",
    "#         break\n",
    "\n",
    "#     # Pass the query to the multi-turn function\n",
    "#     prompt_template = f\"\"\"\n",
    "#     Relevant context: {context}\n",
    "\n",
    "#     Considering the relevant context, answer the question.\n",
    "\n",
    "#     Question: {user_query}\n",
    "\n",
    "#     Answer:\n",
    "#     \"\"\"\n",
    "#     assistant_response = multi_turn_conversation(prompt_template)"
   ]
  },
  {
   "cell_type": "code",
   "execution_count": null,
   "metadata": {
    "id": "zFAxB12KwfOX"
   },
   "outputs": [],
   "source": [
    "# response = ask_llama(prompt_template)\n",
    "# print(response.text)"
   ]
  },
  {
   "cell_type": "code",
   "execution_count": null,
   "metadata": {
    "id": "GN1aksDSzMhw"
   },
   "outputs": [],
   "source": [
    "from langchain.prompts import ChatPromptTemplate\n",
    "from langchain.schema.runnable import RunnablePassthrough\n",
    "from langchain.chains import LLMChain\n",
    "\n",
    "# Initialize retriever\n",
    "# retriever = HeadingBasedRetriever(vector_store)"
   ]
  },
  {
   "cell_type": "code",
   "execution_count": null,
   "metadata": {
    "id": "MWuWMv_5zQ8y"
   },
   "outputs": [],
   "source": [
    "# # Define prompt template\n",
    "# ANSWER_PROMPT = ChatPromptTemplate.from_template(\n",
    "#     \"\"\"You are an assistant for answering questions. Use the following article content to answer the question.\n",
    "\n",
    "#     Article Content: {context}\n",
    "#     Question: \"{question}\"\n",
    "#     Answer:\n",
    "#     \"\"\"\n",
    "# )\n",
    "\n",
    "# # Define chain\n",
    "# chain = (\n",
    "#     {\"context\": retriever, \"question\": RunnablePassthrough()}\n",
    "#     | ANSWER_PROMPT\n",
    "#     | llm  # Replace with your LLM instance (e.g., OpenAI or similar)\n",
    "# )\n",
    "\n",
    "# # Query example\n",
    "# query = \"What is NASA's sales team?\"\n",
    "# answer = chain.invoke(query)\n",
    "\n",
    "# print(\"---- Answer ----\")\n",
    "# print(answer)"
   ]
  },
  {
   "cell_type": "code",
   "execution_count": null,
   "metadata": {
    "id": "v00R70tIIRn6"
   },
   "outputs": [],
   "source": [
    "from langchain.memory import ConversationBufferMemory\n",
    "from langchain.chains import LLMChain, ConversationChain"
   ]
  },
  {
   "cell_type": "code",
   "execution_count": null,
   "metadata": {
    "id": "r_QNGTm1Irrc"
   },
   "outputs": [],
   "source": [
    "from langchain.prompts import PromptTemplate, ChatPromptTemplate"
   ]
  },
  {
   "cell_type": "code",
   "execution_count": 59,
   "metadata": {
    "id": "8Dc05fdCIimf"
   },
   "outputs": [],
   "source": [
    "## Example\n",
    "prompt_template_name = PromptTemplate(\n",
    "    input_variables=[\"context\", \"question\"],\n",
    "    template = \"\"\"You are an assistant for answering questions. Use the following article content to answer the question.\n",
    "\n",
    "    Article Content: {context}\n",
    "    Question: {question}\n",
    "    Answer:\n",
    "    \"\"\")"
   ]
  },
  {
   "cell_type": "code",
   "execution_count": 60,
   "metadata": {
    "id": "gxL82khyJER2"
   },
   "outputs": [],
   "source": [
    "chain = LLMChain(llm=llm_chat, prompt=prompt_template_name)"
   ]
  },
  {
   "cell_type": "code",
   "execution_count": 61,
   "metadata": {
    "colab": {
     "base_uri": "https://localhost:8080/"
    },
    "id": "7hkyhRMuJLAe",
    "outputId": "d87c1d83-afab-45a3-ff55-e8a3acaaabbd"
   },
   "outputs": [
    {
     "name": "stdout",
     "output_type": "stream",
     "text": [
      "The article discusses the J-WAFS Grand Challenge, which is an initiative established by the Abdul Latif Jameel Water and Food Systems Lab (J-WAFS) at MIT to inspire researchers to work towards achieving a water-secure and food-secure future. Launched in 2022, this grant program encourages innovative projects that address the interrelated challenges of climate, water, and food. The inaugural grant has been awarded to a research team led by Professor Matt Shoulders, focusing on improving the efficiency of the photosynthetic enzyme RuBisCO. The project, named the Enhanced Photosynthesis in Crops (EPiC) platform, aims to develop better RuBisCO variants through advanced protein engineering techniques, potentially leading to significant improvements in crop yields and agricultural sustainability. The article highlights the collaborative nature of the research, involving various experts and institutions, and emphasizes the project's potential impact on addressing global food supply challenges exacerbated by climate change and population growth.\n"
     ]
    }
   ],
   "source": [
    "print(chain.run({\"context\": context, \"question\": query}))"
   ]
  },
  {
   "cell_type": "code",
   "execution_count": 62,
   "metadata": {
    "id": "e3ewlDB8KGM5"
   },
   "outputs": [],
   "source": [
    "memory = ConversationBufferMemory(memory_key=\"chat_history\", return_messages=True)"
   ]
  },
  {
   "cell_type": "code",
   "execution_count": 63,
   "metadata": {
    "id": "gS9rVkR8KN_f"
   },
   "outputs": [],
   "source": [
    "memory_chain = LLMChain(llm=llm_chat, prompt=prompt_template_name, memory=memory)"
   ]
  },
  {
   "cell_type": "code",
   "execution_count": 66,
   "metadata": {
    "id": "3b7wCUVqLGDL"
   },
   "outputs": [],
   "source": [
    "query_1 = \"What is the latest research in fighting drug-resistant infections?\""
   ]
  },
  {
   "cell_type": "code",
   "execution_count": 67,
   "metadata": {
    "id": "9FoKR4iFKva-"
   },
   "outputs": [],
   "source": [
    "context_1 = retriever._get_relevant_documents(query_1)[0].page_content"
   ]
  },
  {
   "cell_type": "code",
   "execution_count": 68,
   "metadata": {
    "colab": {
     "base_uri": "https://localhost:8080/",
     "height": 268
    },
    "id": "cd54Wg2YLWJd",
    "outputId": "58328183-6845-477e-f5f8-fb6fcacb4769"
   },
   "outputs": [
    {
     "data": {
      "application/vnd.google.colaboratory.intrinsic+json": {
       "type": "string"
      },
      "text/plain": [
       "\"['Using an artificial intelligence algorithm, researchers at MIT and McMaster University have identified a new antibiotic that can kill a type of bacteria that is responsible for many drug-resistant infections.', '', 'If developed for use in patients, the drug could help to combat Acinetobacter baumannii, a species of bacteria that is often found in hospitals and can lead to pneumonia, meningitis, and other serious infections. The microbe is also a leading cause of infections in wounded soldiers in Iraq and Afghanistan.', '“Acinetobacter can survive on hospital doorknobs and equipment for long periods of time, and it can take up antibiotic resistance genes from its environment. It’s really common now to find A. baumannii isolates that are resistant to nearly every antibiotic,” says Jonathan Stokes, a former MIT postdoc who is now an assistant professor of biochemistry and biomedical sciences at McMaster University.', 'The researchers identified the new drug from a library of nearly 7,000 potential drug compounds using a machine-learning model that they trained to evaluate whether a chemical compound will inhibit the growth of A. baumannii.', '“This finding further supports the premise that AI can significantly accelerate and expand our search for novel antibiotics,” says James Collins, the Termeer Professor of Medical Engineering and Science in MIT’s Institute for Medical Engineering and Science (IMES) and Department of Biological Engineering. “I’m excited that this work shows that we can use AI to help combat problematic pathogens such as A. baumannii.”', 'Collins and Stokes are the senior authors of the new study, which appears today in Nature Chemical Biology. The paper’s lead authors are McMaster University graduate students Gary Liu and Denise Catacutan and recent McMaster graduate Khushi Rathod.', '', 'Drug discovery', '', 'Over the past several decades, many pathogenic bacteria have become increasingly resistant to existing antibiotics, while very few new antibiotics have been developed.', '', 'Several years ago, Collins, Stokes, and MIT Professor Regina Barzilay (who is also an author on the new study), set out to combat this growing problem by using machine learning, a type of artificial intelligence that can learn to recognize patterns in vast amounts of data. Collins and Barzilay, who co-direct MIT’s Abdul Latif Jameel Clinic for Machine Learning in Health, hoped this approach could be used to identify new antibiotics whose chemical structures are different from any existing drugs.', '', 'In their initial demonstration, the researchers trained a machine-learning algorithm to identify chemical structures that could inhibit growth of E. coli. In a screen of more than 100 million compounds, that algorithm yielded a molecule that the researchers called halicin, after the fictional artificial intelligence system from “2001: A Space Odyssey.” This molecule, they showed, could kill not only E. coli but several other bacterial species that are resistant to treatment.', '', '“After that paper, when we showed that these machine-learning approaches can work well for complex antibiotic discovery tasks, we turned our attention to what I perceive to be public enemy No. 1 for multidrug-resistant bacterial infections, which is Acinetobacter,” Stokes says.', '', 'To obtain training data for their computational model, the researchers first exposed A. baumannii grown in a lab dish to about 7,500 different chemical compounds to see which ones could inhibit growth of the microbe. Then they fed the structure of each molecule into the model. They also told the model whether each structure could inhibit bacterial growth or not. This allowed the algorithm to learn chemical features associated with growth inhibition.', '', 'Once the model was trained, the researchers used it to analyze a set of 6,680 compounds it had not seen before, which came from the Drug Repurposing Hub at the Broad Institute. This analysis, which took less than two hours, yielded a few hundred top hits. Of these, the researchers chose 240 to test experimentally in the lab, focusing on compounds with structures that were different from those of existing antibiotics or molecules from the training data.', '', 'Those tests yielded nine antibiotics, including one that was very potent. This compound, which was originally explored as a potential diabetes drug, turned out to be extremely effective at killing A. baumannii but had no effect on other species of bacteria including Pseudomonas aeruginosa, Staphylococcus aureus, and carbapenem-resistant Enterobacteriaceae.', '', 'This “narrow spectrum” killing ability is a desirable feature for antibiotics because it minimizes the risk of bacteria rapidly spreading resistance against the drug. Another advantage is that the drug would likely spare the beneficial bacteria that live in the human gut and help to suppress opportunistic infections such as Clostridium difficile.', '', '“Antibiotics often have to be administered systemically, and the last thing you want to do is cause significant dysbiosis and open up these already sick patients to secondary infections,” Stokes says.', '', 'A novel mechanism', '', 'In studies in mice, the researchers showed that the drug, which they named abaucin, could treat wound infections caused by A. baumannii. They also showed, in lab tests, that it works against a variety of drug-resistant A. baumannii strains isolated from human patients.', '', 'Further experiments revealed that the drug kills cells by interfering with a process known as lipoprotein trafficking, which cells use to transport proteins from the interior of the cell to the cell envelope. Specifically, the drug appears to inhibit LolE, a protein involved in this process.', '', 'All Gram-negative bacteria express this enzyme, so the researchers were surprised to find that abaucin is so selective in targeting A. baumannii. They hypothesize that slight differences in how A. baumannii performs this task might account for the drug’s selectivity.', '', '“We haven’t finalized the experimental data acquisition yet, but we think it’s because A. baumannii does lipoprotein trafficking a little bit differently than other Gram-negative species. We believe that’s why we’re getting this narrow spectrum activity,” Stokes says.', '', 'Stokes’ lab is now working with other researchers at McMaster to optimize the medicinal properties of the compound, in hopes of developing it for eventual use in patients.', '', 'The researchers also plan to use their modeling approach to identify potential antibiotics for other types of drug-resistant infections, including those caused by Staphylococcus aureus and Pseudomonas aeruginosa.', '', 'The research was funded by the David Braley Center for Antibiotic Discovery, the Weston Family Foundation, the Audacious Project, the C3.ai Digital Transformation Institute, the Abdul Latif Jameel Clinic for Machine Learning in Health, the DTRA Discovery of Medical Countermeasures Against New and Emerging Threats program, the DARPA Accelerated Molecular Discovery program, the Canadian Institutes of Health Research, Genome Canada, the Faculty of Health Sciences of McMaster University, the Boris Family, a Marshall Scholarship, and the Department of Energy Biological and Environmental Research program.']\""
      ]
     },
     "execution_count": 68,
     "metadata": {},
     "output_type": "execute_result"
    }
   ],
   "source": [
    "context_1"
   ]
  },
  {
   "cell_type": "code",
   "execution_count": 70,
   "metadata": {
    "id": "s5NfXSxAx_3n"
   },
   "outputs": [],
   "source": [
    "formatted_prompt_template = prompt_template_name.format(\n",
    "    context=context_1,\n",
    "    question=query_1\n",
    ")"
   ]
  },
  {
   "cell_type": "code",
   "execution_count": 74,
   "metadata": {
    "id": "RYa8rBJ2Lrqx"
   },
   "outputs": [],
   "source": [
    "# print(memory_chain.invoke({\"context\": context_1, \"question\": query_1}))"
   ]
  },
  {
   "cell_type": "code",
   "execution_count": null,
   "metadata": {
    "colab": {
     "base_uri": "https://localhost:8080/"
    },
    "id": "qFJZuOqaL_RT",
    "outputId": "20c5035e-3657-41f3-f1ac-0e37ef389d33"
   },
   "outputs": [
    {
     "name": "stdout",
     "output_type": "stream",
     "text": [
      "None\n"
     ]
    }
   ],
   "source": [
    "print(chain.memory)"
   ]
  },
  {
   "cell_type": "code",
   "execution_count": 79,
   "metadata": {
    "id": "eOM_nLBV2Mvu"
   },
   "outputs": [],
   "source": [
    "prompt_template_latest = \"\"\"You are an assistant for answering questions. Use the following article content to answer the question.\n",
    "\n",
    "    Article Content: {context}\n",
    "    Question: {question}\n",
    "    Answer:\n",
    "\"\"\""
   ]
  },
  {
   "cell_type": "code",
   "execution_count": 80,
   "metadata": {
    "id": "p-3l0fUmRXw9"
   },
   "outputs": [],
   "source": [
    "from langchain_core.messages import AIMessage, HumanMessage, SystemMessage\n",
    "from langchain_core.prompts import ChatPromptTemplate, MessagesPlaceholder\n",
    "\n",
    "ANSWER_PROMPT = ChatPromptTemplate.from_messages(\n",
    "    [\n",
    "        SystemMessage(\n",
    "            content=prompt_template_latest\n",
    "        ),\n",
    "        MessagesPlaceholder(variable_name=\"messages\"),\n",
    "    ]\n",
    ")"
   ]
  },
  {
   "cell_type": "code",
   "execution_count": 83,
   "metadata": {
    "id": "TxhhkGoO2wLv"
   },
   "outputs": [],
   "source": [
    "# chain = prompt | llm_chat\n",
    "\n",
    "# ai_msg = chain.invoke(\n",
    "#     {\n",
    "#         \"messages\": [\n",
    "#             HumanMessage(\n",
    "#                 content=\"Translate from English to French: I love programming.\"\n",
    "#             ),\n",
    "#             AIMessage(content=\"J'adore la programmation.\"),\n",
    "#             HumanMessage(content=\"What did you just say?\"),\n",
    "#         ],\n",
    "#     }\n",
    "# )\n",
    "# print(ai_msg.content)"
   ]
  },
  {
   "cell_type": "code",
   "execution_count": 89,
   "metadata": {
    "id": "KliFeFyP2ivw"
   },
   "outputs": [],
   "source": [
    "# # Define chain\n",
    "# chain = (\n",
    "#     {\"context\": retriever, \"question\": RunnablePassthrough()}\n",
    "#     | ANSWER_PROMPT\n",
    "#     | llm_chat  # Replace with your LLM instance (e.g., OpenAI or similar)\n",
    "# )"
   ]
  },
  {
   "cell_type": "code",
   "execution_count": 91,
   "metadata": {
    "colab": {
     "base_uri": "https://localhost:8080/",
     "height": 35
    },
    "id": "y24zAss09pzx",
    "outputId": "2497362d-3e0e-4c7d-c376-5331a6a9c048"
   },
   "outputs": [
    {
     "data": {
      "application/vnd.google.colaboratory.intrinsic+json": {
       "type": "string"
      },
      "text/plain": [
       "'What does the article talk about J-WAFS Grand Challenge?'"
      ]
     },
     "execution_count": 91,
     "metadata": {},
     "output_type": "execute_result"
    }
   ],
   "source": [
    "query"
   ]
  },
  {
   "cell_type": "code",
   "execution_count": 92,
   "metadata": {
    "id": "QDcCQad5GZ2E"
   },
   "outputs": [],
   "source": [
    "from langchain.schema.runnable import RunnableMap\n",
    "from langchain.prompts import ChatPromptTemplate, PromptTemplate\n",
    "from langchain.schema import format_document\n",
    "from operator import itemgetter"
   ]
  },
  {
   "cell_type": "code",
   "execution_count": 93,
   "metadata": {
    "colab": {
     "base_uri": "https://localhost:8080/",
     "height": 35
    },
    "id": "vImfm3EbGwbd",
    "outputId": "dad40cb6-0aff-44be-863a-98a7e7aa53fb"
   },
   "outputs": [
    {
     "data": {
      "application/vnd.google.colaboratory.intrinsic+json": {
       "type": "string"
      },
      "text/plain": [
       "'What does the article talk about J-WAFS Grand Challenge?'"
      ]
     },
     "execution_count": 93,
     "metadata": {},
     "output_type": "execute_result"
    }
   ],
   "source": [
    "query"
   ]
  },
  {
   "cell_type": "code",
   "execution_count": 96,
   "metadata": {
    "colab": {
     "base_uri": "https://localhost:8080/",
     "height": 144
    },
    "id": "UoON4FiKHB8p",
    "outputId": "71df850c-0581-4318-a92a-2635157e5804"
   },
   "outputs": [
    {
     "ename": "NameError",
     "evalue": "name 'documents' is not defined",
     "output_type": "error",
     "traceback": [
      "\u001b[0;31m---------------------------------------------------------------------------\u001b[0m",
      "\u001b[0;31mNameError\u001b[0m                                 Traceback (most recent call last)",
      "\u001b[0;32m<ipython-input-96-c372ec9f5178>\u001b[0m in \u001b[0;36m<cell line: 1>\u001b[0;34m()\u001b[0m\n\u001b[0;32m----> 1\u001b[0;31m \u001b[0mdocuments\u001b[0m\u001b[0;34m[\u001b[0m\u001b[0;36m0\u001b[0m\u001b[0;34m]\u001b[0m\u001b[0;34m\u001b[0m\u001b[0;34m\u001b[0m\u001b[0m\n\u001b[0m",
      "\u001b[0;31mNameError\u001b[0m: name 'documents' is not defined"
     ]
    }
   ],
   "source": []
  },
  {
   "cell_type": "code",
   "execution_count": 100,
   "metadata": {
    "colab": {
     "base_uri": "https://localhost:8080/"
    },
    "id": "O0yx8yg36vju",
    "outputId": "0b78f988-6898-4c1b-f651-7554beb13f30"
   },
   "outputs": [
    {
     "name": "stdout",
     "output_type": "stream",
     "text": [
      "---- Answer ----\n",
      "content='The initial grant for the J-WAFS Grand Challenge was awarded to a team of researchers led by Professor Matt Shoulders and research scientist Robert Wilson from the Department of Chemistry at MIT. Their proposal focuses on improving the efficiency of photosynthesis by enhancing the RuBisCO enzyme, which is crucial for converting carbon dioxide into energy-rich molecules in plants. The team will receive $1.5 million over three years for their multistage research project, which aims to tackle significant challenges in crop biology and agricultural productivity.\\n\\nSOURCE: Inaugural J-WAFS Grand Challenge aims to develop enhanced crop variants and move them from lab to land' additional_kwargs={} response_metadata={'token_usage': <OpenAIObject at 0x7eff041f53a0> JSON: {\n",
      "  \"prompt_tokens\": 2521,\n",
      "  \"completion_tokens\": 126,\n",
      "  \"total_tokens\": 2647,\n",
      "  \"prompt_tokens_details\": {\n",
      "    \"cached_tokens\": 0,\n",
      "    \"audio_tokens\": 0\n",
      "  },\n",
      "  \"completion_tokens_details\": {\n",
      "    \"reasoning_tokens\": 0,\n",
      "    \"audio_tokens\": 0,\n",
      "    \"accepted_prediction_tokens\": 0,\n",
      "    \"rejected_prediction_tokens\": 0\n",
      "  }\n",
      "}, 'model_name': 'gpt-4o-mini', 'system_fingerprint': 'fp_0705bf87c0', 'finish_reason': 'stop', 'logprobs': None} id='run-30ee9ee8-e32a-4943-9548-e8d8beee1449-0'\n"
     ]
    }
   ],
   "source": [
    "ANSWER_PROMPT = ChatPromptTemplate.from_template(\n",
    "    \"\"\"\n",
    "You are an assistant for question-answering tasks. Use the following pieces of retrieved context to answer the question. If you don't know the answer, just say that you don't know. Be as verbose and educational in your response as possible.\n",
    "Each passage has a SOURCE which is the title of the document. When answering, cite source name of the passages you are answering from below the answer, on a new line, with a prefix of \"SOURCE:\".\n",
    "\n",
    "context:\n",
    "{context}\n",
    "\n",
    "Question: {question}\n",
    "Answer:\n",
    "\"\"\"\n",
    ")\n",
    "\n",
    "DOCUMENT_PROMPT = PromptTemplate.from_template(\n",
    "    \"\"\"\n",
    "---\n",
    "SOURCE: {heading}\n",
    "{page_content}\n",
    "---\n",
    "\"\"\"\n",
    ")\n",
    "\n",
    "CONDENSE_QUESTION_PROMPT = PromptTemplate.from_template(\n",
    "    \"\"\"Given the following conversation and a follow up question, rephrase the follow up question to be a standalone question, in its original language.\n",
    "\n",
    "Chat History:\n",
    "{chat_history}\n",
    "Follow Up Input: {question}\n",
    "\"\"\"\n",
    ")\n",
    "\n",
    "standalone_question = RunnableMap(\n",
    "    standalone_question=RunnablePassthrough.assign(\n",
    "        chat_history=lambda x: _format_chat_history(x[\"chat_history\"])\n",
    "    )\n",
    "    | CONDENSE_QUESTION_PROMPT\n",
    "    | llm_chat\n",
    "    | StrOutputParser(),\n",
    ")\n",
    "\n",
    "\n",
    "def _format_chat_history(chat_history) -> str:\n",
    "    buffer = \"\"\n",
    "    for dialogue_turn in chat_history:\n",
    "        human = \"Human: \" + dialogue_turn[0]\n",
    "        ai = \"Assistant: \" + dialogue_turn[1]\n",
    "        buffer += \"\\n\" + \"\\n\".join([human, ai])\n",
    "    return buffer\n",
    "\n",
    "\n",
    "def _combine_documents(\n",
    "    docs, document_prompt=DOCUMENT_PROMPT, document_separator=\"\\n\\n\"\n",
    "):\n",
    "    doc_strings = [format_document(doc, document_prompt) for doc in docs]\n",
    "    return document_separator.join(doc_strings)\n",
    "\n",
    "\n",
    "retrieved_documents = RunnableMap(\n",
    "    docs=itemgetter(\"standalone_question\") | retriever,\n",
    "    question=itemgetter(\"standalone_question\"),\n",
    ")\n",
    "\n",
    "_context = {\n",
    "    \"context\": lambda x: _combine_documents(x[\"docs\"]),\n",
    "    \"question\": lambda x: x[\"question\"],\n",
    "}\n",
    "\n",
    "answer = {\n",
    "    \"answer\": _context | ANSWER_PROMPT | llm_chat,\n",
    "    \"docs\": itemgetter(\"docs\"),\n",
    "}\n",
    "\n",
    "chain = standalone_question | retrieved_documents | answer\n",
    "\n",
    "ans = chain.invoke(\n",
    "    {\n",
    "        \"question\": \"Who were awarded the intial grant for the J-WAFS Grand Challenge?\",\n",
    "        \"chat_history\": [\n",
    "            query,\n",
    "        ],\n",
    "    }\n",
    ")\n",
    "\n",
    "print(\"---- Answer ----\")\n",
    "print(ans[\"answer\"])"
   ]
  },
  {
   "cell_type": "markdown",
   "metadata": {
    "id": "fejwJOqxR5X8"
   },
   "source": [
    "## Conversational QA"
   ]
  },
  {
   "cell_type": "code",
   "execution_count": null,
   "metadata": {
    "id": "9d6z5ANGR7Qj"
   },
   "outputs": [],
   "source": [
    "from langchain.schema.runnable import RunnableMap\n",
    "from langchain.prompts import ChatPromptTemplate, PromptTemplate\n",
    "from langchain.schema import format_document\n",
    "from operator import itemgetter"
   ]
  },
  {
   "cell_type": "code",
   "execution_count": null,
   "metadata": {
    "id": "GG1SzRufR9L7"
   },
   "outputs": [],
   "source": [
    "ANSWER_PROMPT = ChatPromptTemplate.from_template(\n",
    "\"\"\"\n",
    "You are an assistant for answering questions. Use the following article content to answer the question.\n",
    "\n",
    "Article Content: {context}\n",
    "Question: \"{question}\"\n",
    "Answer:\n",
    "\"\"\"\n",
    ")"
   ]
  },
  {
   "cell_type": "code",
   "execution_count": null,
   "metadata": {
    "id": "S9Qrx1N9UCrb"
   },
   "outputs": [],
   "source": [
    "DOCUMENT_PROMPT = PromptTemplate.from_template(\n",
    "    \"\"\"\n",
    "---\n",
    "SOURCE: {name}\n",
    "{page_content}\n",
    "---\n",
    "\"\"\"\n",
    ")"
   ]
  },
  {
   "cell_type": "code",
   "execution_count": null,
   "metadata": {
    "id": "vSOrCNr6Sn3_"
   },
   "outputs": [],
   "source": [
    "CONDENSE_QUESTION_PROMPT = PromptTemplate.from_template(\n",
    "    \"\"\"Given the following conversation and a follow up question, rephrase the follow up question to be a standalone question, in its original language.\n",
    "\n",
    "Chat History:\n",
    "{chat_history}\n",
    "Follow Up Input: {question}\n",
    "\"\"\"\n",
    ")"
   ]
  },
  {
   "cell_type": "code",
   "execution_count": null,
   "metadata": {
    "id": "ldk8WgXTSzop"
   },
   "outputs": [],
   "source": [
    "def _format_chat_history(chat_history) -> str:\n",
    "  buffer = \"\"\n",
    "  for dialogue_turn in chat_history:\n",
    "      human = \"Human: \" + dialogue_turn[0]\n",
    "      ai = \"Assistant: \" + dialogue_turn[1]\n",
    "      buffer += \"\\n\" + \"\\n\".join([human, ai])\n",
    "  return buffer"
   ]
  },
  {
   "cell_type": "code",
   "execution_count": null,
   "metadata": {
    "id": "rfHclRAdS4sa"
   },
   "outputs": [],
   "source": [
    "def _combine_documents(\n",
    "    docs, document_prompt, document_separator=\"\\n\\n\"\n",
    ") -> str:\n",
    "    doc_strings = [format_document(doc, document_prompt) for doc in docs]\n",
    "    return document_separator.join(doc_strings)"
   ]
  },
  {
   "cell_type": "code",
   "execution_count": null,
   "metadata": {
    "id": "mWH7xaUBS_g4"
   },
   "outputs": [],
   "source": [
    "retrieved_documents = RunnableMap(\n",
    "    docs = itemgetter(\"chat_history\"),\n",
    "    context = lambda docs: _combine_documents(docs, ANSWER_PROMPT)\n",
    ")\n",
    "\n",
    "_context = {\n",
    "    \"context\": lambda x: _combine_documents(x[\"docs\"]),\n",
    "    \"question\": lambda x: x[\"question\"],\n",
    "}\n"
   ]
  },
  {
   "cell_type": "markdown",
   "metadata": {
    "id": "dLzkggUsgUnK"
   },
   "source": [
    "## Vertex AI Approach"
   ]
  },
  {
   "cell_type": "code",
   "execution_count": 26,
   "metadata": {
    "id": "meQFMFjkg2oS"
   },
   "outputs": [],
   "source": [
    "vector_store_1 = ElasticsearchStore(\n",
    "    es_cloud_id=ELASTIC_CLOUD_ID,\n",
    "    es_api_key=ELASTIC_API_KEY,\n",
    "    index_name=elastic_index_name,\n",
    "    embedding=embeddings,\n",
    ")"
   ]
  },
  {
   "cell_type": "code",
   "execution_count": 27,
   "metadata": {},
   "outputs": [],
   "source": [
    "query = \"Common, some way of development must be there!!!\"\n",
    "results = vector_store_1.similarity_search(query=query, k=5)"
   ]
  },
  {
   "cell_type": "code",
   "execution_count": 28,
   "metadata": {},
   "outputs": [
    {
     "data": {
      "text/plain": [
       "[Document(metadata={'date': '2021-11-02T00:00:00', 'author': 'Terri Park', 'source': 'MIT Schwarzman College of Computing', 'heading': '3 Questions: Blending computing with other disciplines at MIT', 'description': 'The Common Ground for Computing Education is facilitating collaborations to develop new classes for students to pursue computational knowledge within the context of their fields of interest.'}, page_content=\"The demand for computing-related training is at an all-time high. At MIT, there has been a remarkable tide of interest in computer science programs, with heavy enrollment from students studying everything from economics to life sciences eager to learn how computational techniques and methodologies can be used and applied within their primary field.', 'Launched in 2020, the Common Ground for Computing Education was created through the MIT Stephen A. Schwarzman College of Computing to meet the growing need for enhanced curricula that connect computer science and artificial intelligence with different domains. In order to advance this mission, the Common Ground is bringing experts across MIT together and facilitating collaborations among multiple departments to develop new classes and approaches that blend computing topics with other disciplines.', 'Dan Huttenlocher, dean of the MIT Schwarzman College of Computing, and the chairs of the Common Ground Standing Committee — Jeff Grossman, head of the Department of Materials Science and Engineering and the Morton and Claire Goulder and Family Professor of Environmental Systems; and Asu Ozdaglar, deputy dean of academics for the MIT Schwarzman College of Computing, head of the Department of Electrical Engineering and Computer Science, and the MathWorks Professor of Electrical Engineering and Computer Science — discuss here the objectives of the Common Ground, pilot subjects that are underway, and ways they’re engaging faculty to create new curricula for MIT’s class of “computing bilinguals.”', 'Q: What are the objectives of the Common Ground and how does it fit into the mission of the MIT Schwarzman College of Computing?', 'Huttenlocher: One of the core components of the college mission is to educate students who are fluent in both the “language” of computing and that of other disciplines. Machine learning classes, for example, attract a lot of students outside of electrical engineering and computer science (EECS) majors. These students are interested in machine learning for modeling within the context of their fields of interest, rather than inner workings of machine learning itself as taught in Course 6. So, we need new approaches to how we develop computing curricula in order to provide students with a thorough grounding in computing that is relevant to their interests, to not just enable them to use computational tools, but understand conceptually how they can be developed and applied in their primary field, whether it be science, engineering, humanities, business, or design.', 'The core goals of the Common Ground are to infuse computing education throughout MIT in a coordinated manner, as well as to serve as a platform for multi-departmental collaborations. All classes and curricula developed through the Common Ground are intended to be created and offered jointly by multiple academic departments to meet ‘common’ needs. We’re bringing the forefront of rapidly-changing computer science and artificial intelligence fields together with the problems and methods of other disciplines, so the process has to be collaborative. As much as computing is changing thinking in the disciplines, the disciplines are changing the way people develop new computing approaches. It can’t be a stand-alone effort — otherwise it won’t work.', 'Q: How is the Common Ground facilitating collaborations and engaging faculty across MIT to develop new curricula?', 'Grossman: The Common Ground Standing Committee was formed to oversee the activities of the Common Ground and is charged with evaluating how best to support and advance program objectives. There are 29 members on the committee — all are faculty experts in various computing areas, and they represent 18 academic departments across all five MIT schools and the college. The structure of the committee very much aligns with the mission of the Common Ground in that it draws from all parts of the Institute. Members are organized into subcommittees currently centered on three primary focus areas: fundamentals of computational science and engineering; fundamentals of programming/computational thinking; and machine learning, data science, and algorithms. The subcommittees, with extensive input from departments, framed prototypes for what Common Ground subjects would look like in each area, and a number of classes have already been piloted to date.', 'It has been wonderful working with colleagues from different departments. The level of commitment that everyone on the committee has put into this effort has truly been amazing to see, and I share their enthusiasm for pursuing opportunities in computing education.', 'Q: Can you tell us more about the subjects that are already underway?', 'Ozdaglar: So far, we have four offerings for students to choose from: in the fall, there’s Linear Algebra and Optimization with the Department of Mathematics and EECS, and Programming Skills and Computational Thinking in-Context with the Experimental Study Group and EECS; Modeling with Machine Learning: From Algorithms to Applications in the spring, with disciplinary modules developed by multiple engineering departments and MIT Supply Chain Management; and Introduction to Computational Science and Engineering during both semesters, which is a collaboration between the Department of Aeronautics and Astronautics and the Department of Mathematics.', 'We have had students from a range of majors take these classes, including mechanical engineering, physics, chemical engineering, economics, and management, among others. The response has been very positive. It is very exciting to see MIT students having access to these unique offerings. Our goal is to enable them to frame disciplinary problems using a rich computational framework, which is one of the objectives of the Common Ground.', 'We are planning to expand Common Ground offerings in the years to come and welcome ideas for new subjects. Some ideas that we currently have in the works include classes on causal inference, creative programming, and data visualization with communication. In addition, this fall, we put out a call for proposals to develop new subjects. We invited instructors from all across the campus to submit ideas for pilot computing classes that are useful across a range of areas and support the educational mission of individual departments. The selected proposals will receive seed funding from the Common Ground to assist in the design, development, and staffing of new, broadly-applicable computing subjects and revision of existing subjects in alignment with the Common Ground’s objectives. We are looking explicitly to facilitate opportunities in which multiple departments would benefit from coordinated teaching\"),\n",
       " Document(metadata={'date': '2019-03-07T00:00:00', 'author': 'Kim Martineau', 'source': 'MIT Quest for Intelligence', 'heading': 'Combining artificial intelligence with their passions', 'description': 'Research projects show creative ways MIT students are connecting computing to other fields.'}, page_content='Computational thinking will be the mark of an MIT education when the MIT Stephen A. Schwarzman College of Computing opens this fall, and\\\\xa0glimpses of what\\'s to\\\\xa0come were on display during the final reception of a three-day celebration of the college Feb. 26-28.\", \\'In a tent filled with electronic screens, students and postdocs took turns explaining how they had created\\\\xa0something new by combining computing with\\\\xa0topics they felt passionate about, including predicting panic selling on Wall Street,\\\\xa0analyzing\\\\xa0the filler ingredients in common drugs, and developing more energy-efficient software and hardware.\\\\xa0The poster session featured undergraduates, graduate students, and postdocs from each of MIT’s five schools.\\\\xa0Eight projects are highlighted here.\\', \\'Low-cost screening tool for genetic mutations linked to autism\\', \\'Autism is thought to have a strong genetic basis, but few of the genetic mutations responsible have been found. In collaboration with Boston Children’s Hospital and Harvard Medical School, MIT researchers are using AI to explore autism’s hidden origins.\\', \\'Working with his advisors,\\\\xa0Bonnie Berger\\\\xa0and\\\\xa0Po-Ru Loh, professors of math and medicine at MIT and Harvard respectively, graduate student\\\\xa0Maxwell Sherman\\\\xa0has helped develop an algorithm to detect previously unidentified mutations in people with autism which cause some cells to carry too much or too little DNA.\\', \\'The team has found that up to 1 percent of people with autism carry the mutations, and that inexpensive consumer genetic tests can detect them with a mere saliva sample. Hundreds of U.S. children who carry the mutations and are at risk for autism could be identified this way each year, researchers say.\\', \\'“Early detection of autism gives kids earlier access to supportive services,” says Sherman, “and that can have lasting benefits.”\\', \\'Can deep learning models be trusted?\\', \\'As AI systems automate more tasks, the need to evaluate their decisions and alert the public to possible failures has taken on new urgency. In a project with the\\\\xa0MIT-IBM Watson AI Lab, graduate student\\\\xa0Lily Weng\\\\xa0is helping to build an efficient, general framework for\\\\xa0quantifying\\\\xa0how easily deep neural networks can be\\\\xa0tricked or misled into making mistakes.\\', \\'Working with a team led by\\\\xa0Pin-Yu Chen, a researcher at IBM, and\\\\xa0Luca Daniel, a professor in MIT’s\\\\xa0Department of Electrical Engineering and Computer Science\\\\xa0(EECS), Weng developed a method that reports how much each individual input can be altered before the neural network makes a mistake. The team is now expanding the framework to larger, and more general neural networks, and developing tools to quantify their level of vulnerability based on different ways of measuring input-alteration. The work has spawned a series of papers, summarized in a recent MIT-IBM blog post.\\', \\'Mapping the spread of Ebola virus\\', \\'By the time the Ebola virus spread from Guinea and Liberia to Sierra Leone in 2014, the government was prepared. It quickly closed its schools and shut its borders with the two countries. Still, relative to its population, Sierra Leone fared worse than its neighbors, with 14,000 suspected infections and 4,000\\\\xa0deaths.\\', \\'Marie Charpignon, a graduate student in the MIT\\\\xa0Institute for Data, Systems, and Society (IDSS), wanted to know why. Her search became a final project for\\\\xa0Network Science and Models, a class taught by\\\\xa0Patrick Jaillet, the Dugald C. Jackson Professor in EECS.\\', \\'In a network analysis of trade, migration, and World Health Organization data, Charpignon discovered that a severe shortage of medical resources seemed to explain why Ebola had caused relatively more devastation in Sierra Leone, despite the country’s precautions.\\', \\'“Sierra Leone had one doctor for every 30,000 residents, and the doctors were the first to be infected,” she says. “That further reduced the availability of medical help.”\\', \\'If Sierra Leone had not acted as decisively, she says, the outbreak could have been far worse. Her results suggest that epidemiology models should factor in where hospitals and medical staff are clustered to better predict how an epidemic will unfold.\\', \\'An AI for sustainable, economical buildings\\', \\'When labor is cheap, buildings are designed to use fewer materials, but as labor costs rise, design choices shift to inefficient but easily constructed buildings. That’s why much of the world today favors buildings made of standardized steel-reinforced concrete, says graduate student\\\\xa0Mohamed Ismail.\\', \\'AI is now changing the design equation. In collaboration with TARA, a New Delhi-based nonprofit, Ismail and his advisor,\\\\xa0Caitlin Mueller, an associate professor in the\\\\xa0Department of Architecture\\\\xa0and the\\\\xa0Department of Civil and Environmental Engineering, are using computational tools to reduce the amount of reinforced concrete in India’s buildings.\\', \\'“We can, once again, make structural performance part of the architectural design process, and build exciting, elegant buildings that are also efficient and economical,” says Ismail.\\', \\'The work involves calculating how much load a building can bear as the shape of its design shifts. Ismael and Mueller developed an optimization algorithm to compute a shape that would maximize efficiency and provide a sculptural element. The hybrid nature of reinforced concrete, which is both liquid and solid, brittle and ductile, was one challenge they had to overcome. Making sure the models would translate on the ground, by staying in close contact with the client, was another.\\', \\'“If something didn’t work, I could remotely connect to my computer at MIT, adjust the code, and have a new design ready for TARA within an hour,” says Ismail.\\', \\'Robots that understand language\\', \\'The more that robots can engage with humans, the more useful they become. That means asking for feedback when they get confused and seamlessly absorbing new information as they interact with us and their environment. Ideally, this means moving to a world in which we talk to robots instead of programming them.\\', \\'In a project led by\\\\xa0Boris Katz, a researcher at the\\\\xa0Computer\\\\xa0Science and Artificial Intelligence Laboratory and\\\\xa0Nicholas Roy, a professor in MIT’s\\\\xa0Department of Aeronautics and Astronautics, graduate student\\\\xa0Yen-Ling Kuo\\\\xa0has designed\\\\xa0a set of experiments to understand how humans and robots can cooperate and what robots must learn to follow commands.\\', \\'In one video game experiment, volunteers are asked to drive a car full of bunnies through an obstacle course of walls and pits of flames. It sounds like “absurdist comedy,” Kuo admits, but the goal is straightforward: to understand how humans plot a course through hazardous conditions while interpreting the actions of others around them. Data from the experiments will be used to design algorithms that help robots to plan and explain\\\\xa0their understanding of what others are doing.\\', \\'A deep learning tool to unlock your inner artist\\', \\'Creativity is thought to play an important role in healthy aging, with research showing that creative people are better at adapting to the challenges of old age. The trouble is, not everyone is in touch with their inner artist.\\', \\'“Maybe they were accountants, or worked in business and don’t see themselves as creative types,” says\\\\xa0Guillermo Bernal, a graduate student at the\\\\xa0MIT Media Lab. “I started to think, what if we could leverage deep learning models to help people explore their creative side?”\\', \\'With Media Lab professor\\\\xa0Pattie Maes, Bernal developed\\\\xa0Paper Dreams, an interactive storytelling tool that uses generative models to give the user a shot of inspiration. As a sketch unfolds, Paper Dreams imagines how the scene could develop further and suggests colors, textures, and new objects for the artist to add. A “serendipity dial” lets the artist decide how off-beat they want the suggestions to be.\\', \\'“Seeing the drawing and colors evolve in real-time as you manipulate them is a magical experience,” says Bernal, who is exploring ways to make the platform more accessible.\\', \\'Preventing maternal deaths in Rwanda\\', \\'The top cause of death for new mothers in Rwanda are infections following a caesarean section. To identify at-risk mothers sooner, researchers at MIT, Harvard Medical School, Brigham Women’s Hospital, and Partners in Health, Rwanda, are developing a computational tool to predict whether a mother’s post-surgical wound is likely to be infected.\\', \\'Researchers gathered C-section wound photos from 527 women, using health workers who captured the pictures with their smartphones 10 to 12 days after surgery. Working with his advisor,\\\\xa0Richard Fletcher, a researcher in MIT’s\\\\xa0D-Lab, graduate student Subby Olubeko helped train a pair of models to pick out the wounds that developed into infections.\\\\xa0\\\\xa0When they tested the logistic regression model on the full dataset, it gave almost perfect predictions.\\', \\'The color of the wound’s drainage, and how bright the wound appears at its center, are two of the features the model picks up on, says Olubeko. The team plans to run a field experiment this spring to collect wound photos from a more diverse group of women and to shoot infrared images to see if they reveal additional information.\\', \\'Do native ads shape our perception of the news?\\', \\'The migration of news to the web has given advertisers the ability to place ever more personalized, engaging ads amid high-quality news stories. Often masquerading as legitimate news, so-called “native” ads, pushed by content recommendation networks, have brought badly needed revenue to the struggling U.S. news industry. But at what cost?\\', \\'“Native ads were supposed to help the news industry cope with the financial crisis, but what if they’re reinforcing the public’s mistrust of the media and driving readers away from quality news?” says graduate student\\\\xa0Manon Revel.\\', \\'Claims of fake news dominated the 2016 U.S. presidential elections, but politicized native ads were also common. Curious to measure their reach, Revel joined a project led by\\\\xa0Adam Berinsky, a professor in MIT’s\\\\xa0Department of Political Science,\\\\xa0Munther Dahleh, a professor in EECS and director of IDSS,\\\\xa0Dean Eckles, a professor at MIT’s\\\\xa0Sloan School of Management, and\\\\xa0Ali Jadbabaie, a CEE professor who is associate director of IDSS.\\', \\'Analyzing a sample of native ads that popped up on readers’ screens before the election, they\\\\xa0found that 25 percent could be considered highly political, and that 75 percent fit the description of clickbait. A similar trend emerged when they looked at coverage of the 2018 midterm elections. The team is now running experiments to see how exposure to native ads influences how readers rate the credibility of real news'),\n",
       " Document(metadata={'date': '2023-05-17T00:00:00', 'author': 'Peter Dizikes', 'source': 'MIT News Office', 'heading': 'An AI challenge only humans can solve', 'description': 'In their new book, “Power and Progress,” Daron Acemoglu and Simon Johnson ask whether the benefits of AI will be shared widely or feed inequality.'}, page_content=\"The Dark Ages were not entirely dark. Advances in agriculture and building technology increased Medieval wealth and led to a wave of cathedral construction in Europe. However, it was a time of profound inequality. Elites captured virtually all economic gains. In Britain, as Canterbury Cathedral soared upward, peasants had no net increase in wealth between 1100 and 1300. Life expectancy hovered around 25 years. Chronic malnutrition was rampant.', '', '“We’ve been struggling to share prosperity for a long time,” says MIT Professor Simon Johnson. “Every cathedral that your parents dragged you to see in Europe is a symbol of despair and expropriation, made possible by higher productivity.”', '', 'At a glance, this might not seem relevant to life in 2023. But Johnson and his MIT colleague Daron Acemoglu, both economists, think it is. Technology drives economic progress. As innovations take hold, one perpetual question is: Who benefits?', '', 'This applies, the scholars believe, to automation and artificial intelligence, which is the focus of a new book by Acemoglu and Johnson, “Power and Progress: Our 1000-Year Struggle Over Technology and Prosperity,” published this week by PublicAffairs. In it, they examine who reaped the rewards from past innovations and who may gain from AI today, economically and politically.', '', '“The book is about the choices we make with technology,” Johnson says. “That’s a very MIT type of theme. But a lot of people feel technology just descends on you, and you have to live with it.”', '', 'AI could develop as a beneficial force, Johnson says. However, he adds, “Many algorithms are being designed to try to replace humans as much as possible. We think that’s entirely wrong. The way we make progress with technology is by making machines useful to people, not displacing them. In the past we have had automation, but with new tasks for people to do and sufficient countervailing power in society.”', '', 'Today, AI is a tool of social control for some governments that also creates riches for a small number of people, according to Acemoglu and Johnson. “The current path of AI is neither good for the economy nor for democracy, and these two problems, unfortunately, reinforce each other,” they write.', '', 'A return to shared prosperity?', '', 'Acemoglu and Johnson have collaborated before; in the early 2000s, with political scientist James Robinson, they produced influential papers about politics and economic progress. Acemoglu, an Institute Professor at MIT, also co-authored with Robinson the books “Why Nations Fail” (2012), about political institutions and growth, and “The Narrow Corridor” (2019), which casts liberty as the never-assured outcome of social struggle.', '', 'Johnson, the Ronald A. Kurtz Professor of Entrepreneurship at the MIT Sloan School of Management, wrote “13 Bankers” (2010), about finance reform, and, with MIT economist Jonathan Gruber, “Jump-Starting America” (2019), a call for more investment in scientific research.', '', 'In “Power and Progress,” the authors emphasize that technology has created remarkable long-term benefits. As they write, “we are greatly better off than our ancestors,” and “scientific and technological progress is a vital part of that story.”', '', 'Still, a lot of suffering and oppression has occurred while the long term is unfolding, and not just during Medieval times.', '', '“It was a 100-year struggle during the Industrial Revolution for workers to get any cut of these massive productivity gains in textiles and railways,” Johnson observes. Broader progress has come through increased labor power and electoral government; when the U.S. economy grew spectacularly for three decades after World War II, gains were widely distributed, though that has not been the case recently.', '', '“We’re suggesting we can get back onto that path of shared prosperity, reharness technology for everybody, and get productivity gains,” Johnson says. “We had all that in the postwar period. We can get it back, but not with the current form of our machine intelligence obsession. That, we think, is undermining prosperity in the U.S. and around the world.”', '', 'A call for “machine usefulness,” not “so-so automation”', '', 'What do Acemoglu and Johnson think is deficient about AI? For one thing, they believe the development of AI is too focused on mimicking human intelligence. The scholars are skeptical of the notion that AI mirrors human thinking all told — even things like the chess program AlphaZero, which they regard more as a specialized set of instructions.', '', 'Or, for instance, image recognition programs — Is that a husky or a wolf? — use large data sets of past human decisions to build predictive models. But these are often correlation-dependent (a husky is more likely to be in front of your house), and can’t replicate the same cues humans rely on. Researchers know this, of course, and keep refining their tools. But Acemoglu and Robinson contend that many AI programs are less agile than the human mind, and suboptimal replacements for it, even as AI is designed to replace human work.', '', 'Acemoglu, who has published many papers on automation and robots, calls these replacement tools “so-so technologies.” A supermarket self-checkout machine does not add meaningful economic productivity; it just transfers work to customers and wealth to shareholders. Or, among more sophisticated AI tools, for instance, a customer service line using AI that doesn’t address a given problem can frustrate people, leading them to vent once they do reach a human and making the whole process less efficient.', '', 'All told, Acemoglu and Johnson write, “neither traditional digital technologies nor AI can perform essential tasks that involve social interaction, adaptation, flexibility, and communication.”', '', 'Instead, growth-minded economists prefer technologies creating “marginal productivity” gains, which compel firms to hire more workers. Instead of aiming to eliminate medical specialists like radiologists, a much-forecast AI development that has not occurred, Acemoglu and Johnson suggest AI tools might expand what home health care workers can do, and make their services more valuable, without reducing workers in the sector.', '', '“We think there is a fork in the road, and it’s not too late — AI is a very good opportunity to reassert machine usefulness as a philosophy of design,” Johnson says. “And to look for ways to put tools in the hands of workers, including lower-wage workers.”', '', 'Defining the discussion', '', 'Another set of AI issues Acemoglu and Johnson are concerned about extend directly into politics: Surveillance technologies, facial-recognition tools, intensive data collection, and AI-spread misinformation.', '', 'China deploys AI to create “social credit” scores for citizens, along with heavy surveillance, while tightly restricting freedom of expression. Elsewhere, social media platforms use algorithms to influence what users see; by emphasizing “engagement” above other priorities, they can spread harmful misinformation.', '', 'Indeed, throughout “Power and Progress,” Acemoglu and Johnson emphasize that the use of AI can set up self-reinforcing dynamics in which those who benefit economically can gain political influence and power at the expense of wider democratic participation.', '', 'To alter this trajectory, Acemoglu and Johnson advocate for an extensive menu of policy responses, including data ownership for internet users (an idea of technologist Jaron Lanier); tax reform that rewards employment more than automation; government support for a diversity of high-tech research directions; repealing Section 230 of the 1996 Communications Decency Act, which protects online platforms from regulation or legal action based on the content they host; and a digital advertising tax (aimed to limit the profitability of algorithm-driven misinformation).', '', 'Johnson believes people of all ideologies have incentives to support such measures: “The point we’re making is not a partisan point,” he says.', '', 'Other scholars have praised “Power and Progress.” Michael Sandel, the Anne T. and Robert M. Bass Professor of Government at Harvard University, has called it a “humane and hopeful book” that “shows how we can steer technology to promote the public good,” and is “required reading for everyone who cares about the fate of democracy in a digital age.”', '', 'For their part, Acemoglu and Johnson want to broaden the public discussion of AI beyond industry leaders, discard notions about the AI inevitability, and think again about human agency, social priorities, and economic possibilities.', '', '“Debates on new technology ought to center not just on the brilliance of new products and algorithms but on whether they are working for the people or against the people,” they write.', '', '“We need these discussions,” Johnson says. “There’s nothing inherent in technology. It’s within our control. Even if you think we can’t say no to new technology, you can channel it, and get better outcomes from it, if you talk about it\"),\n",
       " Document(metadata={'date': '2022-09-01T00:00:00', 'author': 'Bendta Schroeder', 'source': 'Koch Institute', 'heading': 'Using machine learning to identify undiagnosable cancers', 'description': 'A new model that maps developmental pathways to tumor cells may unlock the identity of cancers of unknown primary.'}, page_content='The first step in choosing the appropriate treatment for a cancer patient is to identify their specific type of cancer, including determining the primary site — the organ or part of the body where the cancer begins.\\', \\'In rare cases, the origin of a cancer cannot be determined, even with extensive testing. Although these cancers of unknown primary tend to be aggressive, oncologists must treat them with non-targeted therapies, which frequently have harsh toxicities and result in low rates of survival.\\', \\'A new deep-learning approach developed by researchers at the Koch Institute for Integrative Cancer Research at MIT and Massachusetts General Hospital (MGH) may help classify cancers of unknown primary by taking a closer look the gene expression programs related to early cell development and differentiation.\\', \\'“Sometimes you can apply all the tools that pathologists have to offer, and you are still left without an answer,” says Salil Garg, a Charles W. (1955) and Jennifer C. Johnson Clinical Investigator at the Koch Institute and a pathologist at MGH. “Machine learning tools like this one could empower oncologists to choose more effective treatments and give more guidance to their patients.”\\', \\'Garg is the senior author of a new study, published Aug. 30 in Cancer Discovery, and MIT postdoc Enrico Moiso is the lead author. The artificial intelligence tool is capable of identifying cancer types with a high degree of sensitivity and accuracy.\\', \\'Machine learning in development\\', \\'Parsing the differences in the gene expression among different kinds of tumors of unknown primary is an ideal problem for machine learning to solve. Cancer cells look and behave quite differently from normal cells, in part because of extensive alterations to how their genes are expressed. Thanks to advances in single cell profiling and efforts to catalog different cell expression patterns in cell atlases, there are copious — if, to human eyes, overwhelming — data that contain clues to how and from where different cancers originated.\\', \\'However, building a machine learning model that leverages differences between healthy and normal cells, and among different kinds of cancer, into a diagnostic tool is a balancing act. If a model is too complex and accounts for too many features of cancer gene expression, the model may appear to learn the training data perfectly, but falter when it encounters new data. However, by simplifying the model by narrowing the number of features, the model may miss the kinds of information that would lead to accurate classifications of cancer types.\\', \\'In order to strike a balance between reducing the number of features while still extracting the most relevant information, the team focused the model on signs of altered developmental pathways in cancer cells. As an embryo develops and undifferentiated cells specialize into various organs, a multitude of pathways directs how cells divide, grow, change shape, and migrate. As the tumor develops, cancer cells lose many of the specialized traits of a mature cell. At the same time, they begin to resemble embryonic cells in some ways, as they gain the ability to proliferate, transform, and metastasize to new tissues. Many of the gene expression programs that drive embryogenesis are known to be reactivated or dysregulated in cancer cells.\\', \\'The researchers compared two large cell atlases, identifying correlations between tumor and embryonic cells: the Cancer Genome Atlas (TCGA), which contains gene expression data for 33 tumor types, and the Mouse Organogenesis Cell Atlas (MOCA), which profiles 56 separate trajectories of embryonic cells as they develop and differentiate.\\', \\'“Single-cell resolution tools have dramatically changed how we study the biology of cancer, but how we make this revolution impactful for patients is another question,” explains Moiso. “With the emergence of developmental cell atlases, especially ones that focus on early phases of organogenesis such as MOCA, we can expand our tools beyond histological and genomic information and open doors to new ways of profiling and identifying tumors and developing new treatments.”\\', \\'The resulting map of correlations between developmental gene expression patterns in tumor and embryonic cells was then transformed into a machine learning model. The researchers broke down the gene expression of tumor samples from the TCGA into individual components that correspond to a specific point of time in a developmental trajectory, and assigned each of these components a mathematical value. The researchers then built a machine-learning model, called the Developmental Multilayer Perceptron (D-MLP), that scores a tumor for its developmental components and then predicts its origin.\\', \\'Classifying tumors\\', \\'After training, the D-MLP was applied to 52 new samples of particularly challenging cancers of unknown primary that could not be diagnosed using available tools. These cases represented the most challenging seen at MGH over a four-year period beginning in 2017. Excitingly, the model classed the tumors to four categories, and yielded predictions and other information that could guide diagnosis and treatment of these patients.\\', \\'For example, one sample came from a patient with a history of breast cancer who showed signs of an aggressive cancer in the fluid spaces around the abdomen. Oncologists initially could not find a tumor mass, and could not classify cancer cells using the tools they had at the time. However, the D-MLP strongly predicted ovarian cancer. Six months after the patient first presented, a mass was finally found in the ovary that proved to be the origin of tumor.\\', \\'Moreover, the study’s systematic comparisons between tumor and embryonic cells revealed promising, and sometimes surprising, insights into the gene expression profiles of specific tumor types. For instance, in early stages of embryonic development, a rudimentary gut tube forms, with the lungs and other nearby organs arising from the foregut, and much of the digestive tract forming from the mid- and hindgut. The study showed that lung-derived tumor cells showed strong similarities not just to the foregut as might be expected, but to the to mid- and hindgut-derived developmental trajectories. Findings like these suggest that differences in developmental programs could one day be exploited in the same way that genetic mutations are commonly used to design personalized or targeted cancer treatments.\\', \\'While the study presents a powerful approach to classifying tumors, it has some limitations. In future work, researchers plan to increase the predictive power of their model by incorporating other types of data, notably information gleaned from radiology, microscopy, and other types of tumor imaging.\\', \\'“Developmental gene expression represents only one small slice of all the factors that could be used to diagnose and treat cancers,” says Garg. \"Integrating radiology, pathology, and gene expression information together is the true next step in personalized medicine for cancer patients.”\\', \\'This study was funded, in part, by the Koch Institute Support (core) Grant from the National Cancer Institute and by the National Cancer Institute'),\n",
       " Document(metadata={'date': '2020-09-23T00:00:00', 'author': 'Kim Martineau', 'source': 'MIT Quest for Intelligence', 'heading': 'MIT undergraduates pursue research opportunities through the pandemic', 'description': 'Working remotely this summer, students worked to better understand human intelligence and to advance machine learning applications.'}, page_content='Even in ordinary times, scientific process is stressful, with its demand for open-ended exploration and persistence in the face of failure. But the pandemic has added to the strain. In this new world of physical isolation, there are fewer opportunities for spontaneity and connection, and fewer distractions and events to mark the passage of time. Days pass in a numbing blur of sameness.\\', \\'Working from home this summer, students participating in MIT’s Undergraduate Research Opportunities Program (UROP) did their best to overcome these challenges. Checking in with their advisors over Zoom and Slack, from as far west as Los Angeles, California and as far east as Skopje, North Macedonia, they completed two dozen projects sponsored by the MIT Quest for Intelligence. Four student projects are highlighted here.\\', \\'Defending code-processing AI models against adversarial attacks\\', \\'Computer vision models have famously been fooled into classifying turtles as rifles, and planes as pigs, simply by making subtle changes to the objects and images the models are asked to interpret. But models that analyze computer code, which are a part of recent efforts to build automated tools to design programs efficiently,\\\\xa0are also susceptible to so-called adversarial examples.\\', \\'The lab of Una-May O’Reilly, a principal research scientist at MIT, is focused on finding and fixing the weaknesses in code-processing models that can cause them to misbehave. As automated programming methods become more common, researchers are looking for ways to make this class of deep learning model more secure.\\', \\'“Even small changes like giving a different name to a variable in a computer program can completely change how the model interprets the program,” says Tamara Mitrovska, a third-year student who worked on a UROP project this summer with Shashank Srikant, a graduate student in O’Reilly’s lab.\\', \\'The lab is investigating two types of models used to summarize bits of a program as part of a broader effort to use machine learning to write new programs. One such model is Google’s seq2seq, originally developed for machine translation. A second is code2seq, which creates abstract representations of programs. Both are vulnerable to attacks due to a simple programming quirk: captions that let humans know what the code is doing, like assigning names to variables, give attackers an opening to exploit the model. By simply changing a variable name in a program or adding a print statement, the program may function normally, yet force the model processing it to give an incorrect answer.\\', \"This summer, from her home near Skopje, in North Macedonia, Mitrovska learned how to sift through a database of more than 100,000 programs in Java and Python and modify them algorithmically to try to fool seq2seq and code2seq. “These systems are challenging to implement,” she says. “Finding even the smallest bug can take a significant amount of time. But overall, I\\'ve been having fun and the project has been a very good learning experience for me.”\", \\'One exploit that she uncovered: Both models could be tricked by inserting “print” commands in the programs they process. That exploit, and others discovered by the lab, will be used to update the models to make them more robust.\\', \\'What everyday adjectives can tell us about human reasoning\\', \\'Embedded in the simplest of words are assumptions about the world that vary even among closely related languages. Take the word “biggest.” Like other superlatives in English, this adjective has no equivalent in French or Spanish. Speakers simply\\\\xa0use the comparative form, “bigger”\\\\xa0—\\\\xa0plus grand\\\\xa0in French or\\\\xa0más\\\\xa0grande\\\\xa0in Spanish — to differentiate among objects of various sizes.\\', \\'To understand what these words mean and how they are actually used, Helena Aparicio, formerly a postdoc at MIT and now a professor at Cornell University, devised a set of psychology experiments with MIT Associate Professor Roger Levy and Boston University Professor Elizabeth Coppock.\\\\xa0Curtis Chen, a second-year student at MIT interested in the four topics that converge in Levy’s lab — computer science, psychology, linguistics, and cognitive science — joined on as a UROP student.\\', \\'From his home in Hillsborough, New Jersey, Chen\\\\xa0orchestrated experiments to identify why English speakers prefer superlatives in some cases\\\\xa0and comparatives in others. He found that in scenes with more similarly sized objects, the more likely his human subjects were to prefer the word “biggest” to describe the largest object in the set. When objects appeared to fall within two clearly defined\\\\xa0groups, subjects preferred the less-precise “bigger.” Chen also built an AI model to simulate the inferences made by his human subjects\\\\xa0and found that it showed a similar preference for the superlative in ambiguous situations.\\', \\'Designing a successful experiment can take several tries. To ensure consistency among the shapes that subjects were asked to describe, Chen generated them on the computer using HTML Canvas and JavaScript. “This way, the size\\\\xa0differentials\\\\xa0were exact, and we could simply\\\\xa0report the formula used to make them,” he says.\\', \\'After discovering that some subjects seemed confused by rectangle and line shapes, he replaced them with circles. He also removed the default option on his reporting scale after realizing that some subjects were using it to breeze through the tasks. Finally, he switched to the crowdsourcing platform Prolific after a number of participants on Amazon’s Mechanical Turk failed at tasks designed to ensure they were taking the experiments seriously.\\', \\'“It was discouraging, but Curtis went through the process of exploring the data and figuring out what was going wrong,” says his mentor, Aparicio.\\', \\'In the end,\\\\xa0he wound up with strong results and promising ideas for follow-up experiments this fall. “There’s still a lot to be done,” he says.\\\\xa0“I had a lot of fun cooking up and tweaking the model, designing the experiment, and learning about this deceptively simple puzzle.”\\', \\'Levy says he looks forward to the results. “Ultimately, this line of inquiry helps us understand how\\\\xa0different vocabularies and grammatical resources of English and thousands of other languages support flexible communication by their native speakers,” he says.\\', \\'Reconstructing real-world scenes from sensor data\\', \\'AI systems that have become expert at sizing up scenes in photos and video may soon be able to do the same for real-world scenes. It’s a process that involves stitching together snapshots of a scene from varying viewpoints into a coherent picture. The brain performs these calculations effortlessly as we move through the world, but computers require sophisticated algorithms and extensive training.\\', \\'MIT Associate Professor Justin Solomon focuses on developing methods to help computers understand 3D environments. He and his lab look for new ways to take point cloud data gathered by sensors — essentially, reflections of infrared light bounced off the surfaces of objects — to create a holistic representation of a real-world scene. Three-dimensional scene analysis has many applications in computer graphics, but the one that drove second-year student Kevin Shao to join Solomon’s lab was its potential as a navigation tool for self-driving cars.\\', \\'“Working on autonomous cars has been a childhood dream for me,” says Shao.\\', \\'In the first phase of his UROP project, Shao downloaded the most important papers on 3D scene reconstruction and tried to reproduce their results. This improved his knowledge of PyTorch, the Python library that provides tools for training, testing, and evaluating models. It also gave him a deep understanding of the literature. In the second phase of the project, Shao worked with his mentor, PhD student Yue Wang, to improve on existing methods.\\', \\'“Kevin implemented most of the ideas, and explained in detail why they would or wouldn’t work,” says Wang. “He didn’t give up on an idea until we had a comprehensive analysis of the problem.”\\', \\'One idea they explored was the use of computer-drawn scenes to train a multi-view registration model. So far, the method works in simulation, but not on real-world scenes. Shao is now trying to incorporate real-world data to bridge the gap, and will continue the work this fall.\\', \\'Wang is excited to see the results. “It sometimes takes PhD students a year to have a reasonable result,” he says. “Although we are still in the exploration phase, I think Kevin has made a successful transition from a smart student to a well-qualified researcher.”\\', \\'When do infants become attuned to speech and music?\\', \\'The ability to perceive speech and music has been traced to specialized parts of the brain, with infants as young as four months old showing sensitivity to speech-like sounds. MIT Professor Nancy Kanwisher and her lab are investigating how this special ear for speech and music arises in the infant brain.\\', \\'Somaia Saba, a second-year student at MIT, was introduced to Kanwisher’s research last year in an intro to neuroscience class and immediately wanted to learn more. “The more I read up about cortical development, the more I realized how little we know about the development of the visual and auditory pathways,” she says. “I became very excited and met with [PhD student]\\\\xa0Heather\\\\xa0Kosakowski, who explained the details of her projects.”\\', \\'Signing on for a project, Saba plunged into the “deep end” of cortical development research. Initially overwhelmed, she says she gained confidence through regular Zoom meetings with Kosakowski, who helped her to navigate MATLAB and other software for analyzing brain-imaging data. “Heather\\\\xa0really helped motivate me to learn these programs quickly, which has also primed me to learn more easily in the future,” she says.\\', \\'Before the pandemic shut down campus, Kanwisher’s lab collected functional magnetic resonance imaging (fMRI) data from two- to eight-week-old sleeping infants exposed to different sounds. This summer, from her home on Long Island, New York, Saba helped to analyze the data. She is now learning how to process fMRI data for awake infants, looking toward the study’s next phase. “This is a crucial and very challenging task that’s harder than processing child and adult fMRI data,” says Kosakowski. “Discovering how these specialized regions emerge in infants may be the key to unlocking mysteries about the origin of the mind.”\\', \\'MIT Quest for Intelligence summer UROP projects were funded, in part, by the MIT-IBM Watson AI Lab and by Eric Schmidt,\\\\xa0technical advisor to Alphabet Inc., and his wife, Wendy')]"
      ]
     },
     "execution_count": 28,
     "metadata": {},
     "output_type": "execute_result"
    }
   ],
   "source": [
    "results"
   ]
  }
 ],
 "metadata": {
  "colab": {
   "provenance": []
  },
  "kernelspec": {
   "display_name": ".venv",
   "language": "python",
   "name": "python3"
  },
  "language_info": {
   "codemirror_mode": {
    "name": "ipython",
    "version": 3
   },
   "file_extension": ".py",
   "mimetype": "text/x-python",
   "name": "python",
   "nbconvert_exporter": "python",
   "pygments_lexer": "ipython3",
   "version": "3.13.0"
  },
  "widgets": {
   "application/vnd.jupyter.widget-state+json": {
    "00618a11497e47719f3fd110fc596091": {
     "model_module": "@jupyter-widgets/base",
     "model_module_version": "1.2.0",
     "model_name": "LayoutModel",
     "state": {
      "_model_module": "@jupyter-widgets/base",
      "_model_module_version": "1.2.0",
      "_model_name": "LayoutModel",
      "_view_count": null,
      "_view_module": "@jupyter-widgets/base",
      "_view_module_version": "1.2.0",
      "_view_name": "LayoutView",
      "align_content": null,
      "align_items": null,
      "align_self": null,
      "border": null,
      "bottom": null,
      "display": null,
      "flex": null,
      "flex_flow": null,
      "grid_area": null,
      "grid_auto_columns": null,
      "grid_auto_flow": null,
      "grid_auto_rows": null,
      "grid_column": null,
      "grid_gap": null,
      "grid_row": null,
      "grid_template_areas": null,
      "grid_template_columns": null,
      "grid_template_rows": null,
      "height": null,
      "justify_content": null,
      "justify_items": null,
      "left": null,
      "margin": null,
      "max_height": null,
      "max_width": null,
      "min_height": null,
      "min_width": null,
      "object_fit": null,
      "object_position": null,
      "order": null,
      "overflow": null,
      "overflow_x": null,
      "overflow_y": null,
      "padding": null,
      "right": null,
      "top": null,
      "visibility": null,
      "width": null
     }
    },
    "01ff2581faf642a2991a5a98076eed1b": {
     "model_module": "@jupyter-widgets/controls",
     "model_module_version": "1.5.0",
     "model_name": "DescriptionStyleModel",
     "state": {
      "_model_module": "@jupyter-widgets/controls",
      "_model_module_version": "1.5.0",
      "_model_name": "DescriptionStyleModel",
      "_view_count": null,
      "_view_module": "@jupyter-widgets/base",
      "_view_module_version": "1.2.0",
      "_view_name": "StyleView",
      "description_width": ""
     }
    },
    "02dc5bf219584683a8cf405fe4051337": {
     "model_module": "@jupyter-widgets/controls",
     "model_module_version": "1.5.0",
     "model_name": "DescriptionStyleModel",
     "state": {
      "_model_module": "@jupyter-widgets/controls",
      "_model_module_version": "1.5.0",
      "_model_name": "DescriptionStyleModel",
      "_view_count": null,
      "_view_module": "@jupyter-widgets/base",
      "_view_module_version": "1.2.0",
      "_view_name": "StyleView",
      "description_width": ""
     }
    },
    "0316d103c166469e9a0fec74c3805346": {
     "model_module": "@jupyter-widgets/base",
     "model_module_version": "1.2.0",
     "model_name": "LayoutModel",
     "state": {
      "_model_module": "@jupyter-widgets/base",
      "_model_module_version": "1.2.0",
      "_model_name": "LayoutModel",
      "_view_count": null,
      "_view_module": "@jupyter-widgets/base",
      "_view_module_version": "1.2.0",
      "_view_name": "LayoutView",
      "align_content": null,
      "align_items": null,
      "align_self": null,
      "border": null,
      "bottom": null,
      "display": null,
      "flex": null,
      "flex_flow": null,
      "grid_area": null,
      "grid_auto_columns": null,
      "grid_auto_flow": null,
      "grid_auto_rows": null,
      "grid_column": null,
      "grid_gap": null,
      "grid_row": null,
      "grid_template_areas": null,
      "grid_template_columns": null,
      "grid_template_rows": null,
      "height": null,
      "justify_content": null,
      "justify_items": null,
      "left": null,
      "margin": null,
      "max_height": null,
      "max_width": null,
      "min_height": null,
      "min_width": null,
      "object_fit": null,
      "object_position": null,
      "order": null,
      "overflow": null,
      "overflow_x": null,
      "overflow_y": null,
      "padding": null,
      "right": null,
      "top": null,
      "visibility": null,
      "width": null
     }
    },
    "04428275037e40b5bf70f15dc6c02a85": {
     "model_module": "@jupyter-widgets/base",
     "model_module_version": "1.2.0",
     "model_name": "LayoutModel",
     "state": {
      "_model_module": "@jupyter-widgets/base",
      "_model_module_version": "1.2.0",
      "_model_name": "LayoutModel",
      "_view_count": null,
      "_view_module": "@jupyter-widgets/base",
      "_view_module_version": "1.2.0",
      "_view_name": "LayoutView",
      "align_content": null,
      "align_items": null,
      "align_self": null,
      "border": null,
      "bottom": null,
      "display": null,
      "flex": null,
      "flex_flow": null,
      "grid_area": null,
      "grid_auto_columns": null,
      "grid_auto_flow": null,
      "grid_auto_rows": null,
      "grid_column": null,
      "grid_gap": null,
      "grid_row": null,
      "grid_template_areas": null,
      "grid_template_columns": null,
      "grid_template_rows": null,
      "height": null,
      "justify_content": null,
      "justify_items": null,
      "left": null,
      "margin": null,
      "max_height": null,
      "max_width": null,
      "min_height": null,
      "min_width": null,
      "object_fit": null,
      "object_position": null,
      "order": null,
      "overflow": null,
      "overflow_x": null,
      "overflow_y": null,
      "padding": null,
      "right": null,
      "top": null,
      "visibility": null,
      "width": null
     }
    },
    "04ba7ad1976e4f67b93a085da657dacd": {
     "model_module": "@jupyter-widgets/base",
     "model_module_version": "1.2.0",
     "model_name": "LayoutModel",
     "state": {
      "_model_module": "@jupyter-widgets/base",
      "_model_module_version": "1.2.0",
      "_model_name": "LayoutModel",
      "_view_count": null,
      "_view_module": "@jupyter-widgets/base",
      "_view_module_version": "1.2.0",
      "_view_name": "LayoutView",
      "align_content": null,
      "align_items": null,
      "align_self": null,
      "border": null,
      "bottom": null,
      "display": null,
      "flex": null,
      "flex_flow": null,
      "grid_area": null,
      "grid_auto_columns": null,
      "grid_auto_flow": null,
      "grid_auto_rows": null,
      "grid_column": null,
      "grid_gap": null,
      "grid_row": null,
      "grid_template_areas": null,
      "grid_template_columns": null,
      "grid_template_rows": null,
      "height": null,
      "justify_content": null,
      "justify_items": null,
      "left": null,
      "margin": null,
      "max_height": null,
      "max_width": null,
      "min_height": null,
      "min_width": null,
      "object_fit": null,
      "object_position": null,
      "order": null,
      "overflow": null,
      "overflow_x": null,
      "overflow_y": null,
      "padding": null,
      "right": null,
      "top": null,
      "visibility": null,
      "width": null
     }
    },
    "06a4aa70885a495b8a6fd0e58df5b098": {
     "model_module": "@jupyter-widgets/controls",
     "model_module_version": "1.5.0",
     "model_name": "HTMLModel",
     "state": {
      "_dom_classes": [],
      "_model_module": "@jupyter-widgets/controls",
      "_model_module_version": "1.5.0",
      "_model_name": "HTMLModel",
      "_view_count": null,
      "_view_module": "@jupyter-widgets/controls",
      "_view_module_version": "1.5.0",
      "_view_name": "HTMLView",
      "description": "",
      "description_tooltip": null,
      "layout": "IPY_MODEL_e078ebdba01f4fc7aebc3dce562a51bc",
      "placeholder": "​",
      "style": "IPY_MODEL_b509540945d343088b113f97ac9bdaf2",
      "value": " 116/116 [00:00&lt;00:00, 9.93kB/s]"
     }
    },
    "08323995460d4b68bf1661f800c9a526": {
     "model_module": "@jupyter-widgets/controls",
     "model_module_version": "1.5.0",
     "model_name": "ProgressStyleModel",
     "state": {
      "_model_module": "@jupyter-widgets/controls",
      "_model_module_version": "1.5.0",
      "_model_name": "ProgressStyleModel",
      "_view_count": null,
      "_view_module": "@jupyter-widgets/base",
      "_view_module_version": "1.2.0",
      "_view_name": "StyleView",
      "bar_color": null,
      "description_width": ""
     }
    },
    "09dbde46208c491880d09ba2053b943f": {
     "model_module": "@jupyter-widgets/base",
     "model_module_version": "1.2.0",
     "model_name": "LayoutModel",
     "state": {
      "_model_module": "@jupyter-widgets/base",
      "_model_module_version": "1.2.0",
      "_model_name": "LayoutModel",
      "_view_count": null,
      "_view_module": "@jupyter-widgets/base",
      "_view_module_version": "1.2.0",
      "_view_name": "LayoutView",
      "align_content": null,
      "align_items": null,
      "align_self": null,
      "border": null,
      "bottom": null,
      "display": null,
      "flex": null,
      "flex_flow": null,
      "grid_area": null,
      "grid_auto_columns": null,
      "grid_auto_flow": null,
      "grid_auto_rows": null,
      "grid_column": null,
      "grid_gap": null,
      "grid_row": null,
      "grid_template_areas": null,
      "grid_template_columns": null,
      "grid_template_rows": null,
      "height": null,
      "justify_content": null,
      "justify_items": null,
      "left": null,
      "margin": null,
      "max_height": null,
      "max_width": null,
      "min_height": null,
      "min_width": null,
      "object_fit": null,
      "object_position": null,
      "order": null,
      "overflow": null,
      "overflow_x": null,
      "overflow_y": null,
      "padding": null,
      "right": null,
      "top": null,
      "visibility": null,
      "width": null
     }
    },
    "0ab444d3981b40778abbc4c12199a125": {
     "model_module": "@jupyter-widgets/controls",
     "model_module_version": "1.5.0",
     "model_name": "HTMLModel",
     "state": {
      "_dom_classes": [],
      "_model_module": "@jupyter-widgets/controls",
      "_model_module_version": "1.5.0",
      "_model_name": "HTMLModel",
      "_view_count": null,
      "_view_module": "@jupyter-widgets/controls",
      "_view_module_version": "1.5.0",
      "_view_name": "HTMLView",
      "description": "",
      "description_tooltip": null,
      "layout": "IPY_MODEL_7fc76219901e471aa29a3c0c0e6feb38",
      "placeholder": "​",
      "style": "IPY_MODEL_adea09dd9f7a4405880f31bafbb87508",
      "value": " 350/350 [00:00&lt;00:00, 29.2kB/s]"
     }
    },
    "0c506b42d6614883883473cd644c232b": {
     "model_module": "@jupyter-widgets/controls",
     "model_module_version": "1.5.0",
     "model_name": "DescriptionStyleModel",
     "state": {
      "_model_module": "@jupyter-widgets/controls",
      "_model_module_version": "1.5.0",
      "_model_name": "DescriptionStyleModel",
      "_view_count": null,
      "_view_module": "@jupyter-widgets/base",
      "_view_module_version": "1.2.0",
      "_view_name": "StyleView",
      "description_width": ""
     }
    },
    "0d2e3c9f28154dbeb5c4f2786b4ce7ad": {
     "model_module": "@jupyter-widgets/controls",
     "model_module_version": "1.5.0",
     "model_name": "FloatProgressModel",
     "state": {
      "_dom_classes": [],
      "_model_module": "@jupyter-widgets/controls",
      "_model_module_version": "1.5.0",
      "_model_name": "FloatProgressModel",
      "_view_count": null,
      "_view_module": "@jupyter-widgets/controls",
      "_view_module_version": "1.5.0",
      "_view_name": "ProgressView",
      "bar_style": "success",
      "description": "",
      "description_tooltip": null,
      "layout": "IPY_MODEL_0316d103c166469e9a0fec74c3805346",
      "max": 612,
      "min": 0,
      "orientation": "horizontal",
      "style": "IPY_MODEL_84ca5efdb10f44fda08768f65a9b1818",
      "value": 612
     }
    },
    "0deb02b3e8f047d5a130130812e071a3": {
     "model_module": "@jupyter-widgets/controls",
     "model_module_version": "1.5.0",
     "model_name": "HTMLModel",
     "state": {
      "_dom_classes": [],
      "_model_module": "@jupyter-widgets/controls",
      "_model_module_version": "1.5.0",
      "_model_name": "HTMLModel",
      "_view_count": null,
      "_view_module": "@jupyter-widgets/controls",
      "_view_module_version": "1.5.0",
      "_view_name": "HTMLView",
      "description": "",
      "description_tooltip": null,
      "layout": "IPY_MODEL_1ad27c08f6fc4aa399b44878284c6c32",
      "placeholder": "​",
      "style": "IPY_MODEL_94af2a1675b749bdbfea7c6733f1aee9",
      "value": " 349/349 [00:00&lt;00:00, 34.2kB/s]"
     }
    },
    "0e0d658c8cf04a68aefe6d8658d003c0": {
     "model_module": "@jupyter-widgets/base",
     "model_module_version": "1.2.0",
     "model_name": "LayoutModel",
     "state": {
      "_model_module": "@jupyter-widgets/base",
      "_model_module_version": "1.2.0",
      "_model_name": "LayoutModel",
      "_view_count": null,
      "_view_module": "@jupyter-widgets/base",
      "_view_module_version": "1.2.0",
      "_view_name": "LayoutView",
      "align_content": null,
      "align_items": null,
      "align_self": null,
      "border": null,
      "bottom": null,
      "display": null,
      "flex": null,
      "flex_flow": null,
      "grid_area": null,
      "grid_auto_columns": null,
      "grid_auto_flow": null,
      "grid_auto_rows": null,
      "grid_column": null,
      "grid_gap": null,
      "grid_row": null,
      "grid_template_areas": null,
      "grid_template_columns": null,
      "grid_template_rows": null,
      "height": null,
      "justify_content": null,
      "justify_items": null,
      "left": null,
      "margin": null,
      "max_height": null,
      "max_width": null,
      "min_height": null,
      "min_width": null,
      "object_fit": null,
      "object_position": null,
      "order": null,
      "overflow": null,
      "overflow_x": null,
      "overflow_y": null,
      "padding": null,
      "right": null,
      "top": null,
      "visibility": null,
      "width": null
     }
    },
    "0f98fc45afbc4c9599925dddf1b2b4aa": {
     "model_module": "@jupyter-widgets/controls",
     "model_module_version": "1.5.0",
     "model_name": "DescriptionStyleModel",
     "state": {
      "_model_module": "@jupyter-widgets/controls",
      "_model_module_version": "1.5.0",
      "_model_name": "DescriptionStyleModel",
      "_view_count": null,
      "_view_module": "@jupyter-widgets/base",
      "_view_module_version": "1.2.0",
      "_view_name": "StyleView",
      "description_width": ""
     }
    },
    "103f6f9e6e39493b8f75aa86c29ff7ca": {
     "model_module": "@jupyter-widgets/base",
     "model_module_version": "1.2.0",
     "model_name": "LayoutModel",
     "state": {
      "_model_module": "@jupyter-widgets/base",
      "_model_module_version": "1.2.0",
      "_model_name": "LayoutModel",
      "_view_count": null,
      "_view_module": "@jupyter-widgets/base",
      "_view_module_version": "1.2.0",
      "_view_name": "LayoutView",
      "align_content": null,
      "align_items": null,
      "align_self": null,
      "border": null,
      "bottom": null,
      "display": null,
      "flex": null,
      "flex_flow": null,
      "grid_area": null,
      "grid_auto_columns": null,
      "grid_auto_flow": null,
      "grid_auto_rows": null,
      "grid_column": null,
      "grid_gap": null,
      "grid_row": null,
      "grid_template_areas": null,
      "grid_template_columns": null,
      "grid_template_rows": null,
      "height": null,
      "justify_content": null,
      "justify_items": null,
      "left": null,
      "margin": null,
      "max_height": null,
      "max_width": null,
      "min_height": null,
      "min_width": null,
      "object_fit": null,
      "object_position": null,
      "order": null,
      "overflow": null,
      "overflow_x": null,
      "overflow_y": null,
      "padding": null,
      "right": null,
      "top": null,
      "visibility": null,
      "width": null
     }
    },
    "176d7ada52b94425a15147146fe4ba36": {
     "model_module": "@jupyter-widgets/controls",
     "model_module_version": "1.5.0",
     "model_name": "FloatProgressModel",
     "state": {
      "_dom_classes": [],
      "_model_module": "@jupyter-widgets/controls",
      "_model_module_version": "1.5.0",
      "_model_name": "FloatProgressModel",
      "_view_count": null,
      "_view_module": "@jupyter-widgets/controls",
      "_view_module_version": "1.5.0",
      "_view_name": "ProgressView",
      "bar_style": "success",
      "description": "",
      "description_tooltip": null,
      "layout": "IPY_MODEL_a4f1353e3c0f4d1196ae6dfa11bb2ff0",
      "max": 349,
      "min": 0,
      "orientation": "horizontal",
      "style": "IPY_MODEL_2f06c383e10d4b70aa510ee6936ecb05",
      "value": 349
     }
    },
    "18323c9654244e37adf42f3aeb7d9ead": {
     "model_module": "@jupyter-widgets/base",
     "model_module_version": "1.2.0",
     "model_name": "LayoutModel",
     "state": {
      "_model_module": "@jupyter-widgets/base",
      "_model_module_version": "1.2.0",
      "_model_name": "LayoutModel",
      "_view_count": null,
      "_view_module": "@jupyter-widgets/base",
      "_view_module_version": "1.2.0",
      "_view_name": "LayoutView",
      "align_content": null,
      "align_items": null,
      "align_self": null,
      "border": null,
      "bottom": null,
      "display": null,
      "flex": null,
      "flex_flow": null,
      "grid_area": null,
      "grid_auto_columns": null,
      "grid_auto_flow": null,
      "grid_auto_rows": null,
      "grid_column": null,
      "grid_gap": null,
      "grid_row": null,
      "grid_template_areas": null,
      "grid_template_columns": null,
      "grid_template_rows": null,
      "height": null,
      "justify_content": null,
      "justify_items": null,
      "left": null,
      "margin": null,
      "max_height": null,
      "max_width": null,
      "min_height": null,
      "min_width": null,
      "object_fit": null,
      "object_position": null,
      "order": null,
      "overflow": null,
      "overflow_x": null,
      "overflow_y": null,
      "padding": null,
      "right": null,
      "top": null,
      "visibility": null,
      "width": null
     }
    },
    "18663a93f4624748a3de74b7a5a90eba": {
     "model_module": "@jupyter-widgets/base",
     "model_module_version": "1.2.0",
     "model_name": "LayoutModel",
     "state": {
      "_model_module": "@jupyter-widgets/base",
      "_model_module_version": "1.2.0",
      "_model_name": "LayoutModel",
      "_view_count": null,
      "_view_module": "@jupyter-widgets/base",
      "_view_module_version": "1.2.0",
      "_view_name": "LayoutView",
      "align_content": null,
      "align_items": null,
      "align_self": null,
      "border": null,
      "bottom": null,
      "display": null,
      "flex": null,
      "flex_flow": null,
      "grid_area": null,
      "grid_auto_columns": null,
      "grid_auto_flow": null,
      "grid_auto_rows": null,
      "grid_column": null,
      "grid_gap": null,
      "grid_row": null,
      "grid_template_areas": null,
      "grid_template_columns": null,
      "grid_template_rows": null,
      "height": null,
      "justify_content": null,
      "justify_items": null,
      "left": null,
      "margin": null,
      "max_height": null,
      "max_width": null,
      "min_height": null,
      "min_width": null,
      "object_fit": null,
      "object_position": null,
      "order": null,
      "overflow": null,
      "overflow_x": null,
      "overflow_y": null,
      "padding": null,
      "right": null,
      "top": null,
      "visibility": null,
      "width": null
     }
    },
    "1aa2e9427b3f4ea484a5c651bac0ab7e": {
     "model_module": "@jupyter-widgets/base",
     "model_module_version": "1.2.0",
     "model_name": "LayoutModel",
     "state": {
      "_model_module": "@jupyter-widgets/base",
      "_model_module_version": "1.2.0",
      "_model_name": "LayoutModel",
      "_view_count": null,
      "_view_module": "@jupyter-widgets/base",
      "_view_module_version": "1.2.0",
      "_view_name": "LayoutView",
      "align_content": null,
      "align_items": null,
      "align_self": null,
      "border": null,
      "bottom": null,
      "display": null,
      "flex": null,
      "flex_flow": null,
      "grid_area": null,
      "grid_auto_columns": null,
      "grid_auto_flow": null,
      "grid_auto_rows": null,
      "grid_column": null,
      "grid_gap": null,
      "grid_row": null,
      "grid_template_areas": null,
      "grid_template_columns": null,
      "grid_template_rows": null,
      "height": null,
      "justify_content": null,
      "justify_items": null,
      "left": null,
      "margin": null,
      "max_height": null,
      "max_width": null,
      "min_height": null,
      "min_width": null,
      "object_fit": null,
      "object_position": null,
      "order": null,
      "overflow": null,
      "overflow_x": null,
      "overflow_y": null,
      "padding": null,
      "right": null,
      "top": null,
      "visibility": null,
      "width": null
     }
    },
    "1ad27c08f6fc4aa399b44878284c6c32": {
     "model_module": "@jupyter-widgets/base",
     "model_module_version": "1.2.0",
     "model_name": "LayoutModel",
     "state": {
      "_model_module": "@jupyter-widgets/base",
      "_model_module_version": "1.2.0",
      "_model_name": "LayoutModel",
      "_view_count": null,
      "_view_module": "@jupyter-widgets/base",
      "_view_module_version": "1.2.0",
      "_view_name": "LayoutView",
      "align_content": null,
      "align_items": null,
      "align_self": null,
      "border": null,
      "bottom": null,
      "display": null,
      "flex": null,
      "flex_flow": null,
      "grid_area": null,
      "grid_auto_columns": null,
      "grid_auto_flow": null,
      "grid_auto_rows": null,
      "grid_column": null,
      "grid_gap": null,
      "grid_row": null,
      "grid_template_areas": null,
      "grid_template_columns": null,
      "grid_template_rows": null,
      "height": null,
      "justify_content": null,
      "justify_items": null,
      "left": null,
      "margin": null,
      "max_height": null,
      "max_width": null,
      "min_height": null,
      "min_width": null,
      "object_fit": null,
      "object_position": null,
      "order": null,
      "overflow": null,
      "overflow_x": null,
      "overflow_y": null,
      "padding": null,
      "right": null,
      "top": null,
      "visibility": null,
      "width": null
     }
    },
    "1b61745223e24e068157d1c756edf27a": {
     "model_module": "@jupyter-widgets/controls",
     "model_module_version": "1.5.0",
     "model_name": "DescriptionStyleModel",
     "state": {
      "_model_module": "@jupyter-widgets/controls",
      "_model_module_version": "1.5.0",
      "_model_name": "DescriptionStyleModel",
      "_view_count": null,
      "_view_module": "@jupyter-widgets/base",
      "_view_module_version": "1.2.0",
      "_view_name": "StyleView",
      "description_width": ""
     }
    },
    "1e7011dccaf74df7a7ea0ce57f0acc1b": {
     "model_module": "@jupyter-widgets/controls",
     "model_module_version": "1.5.0",
     "model_name": "FloatProgressModel",
     "state": {
      "_dom_classes": [],
      "_model_module": "@jupyter-widgets/controls",
      "_model_module_version": "1.5.0",
      "_model_name": "FloatProgressModel",
      "_view_count": null,
      "_view_module": "@jupyter-widgets/controls",
      "_view_module_version": "1.5.0",
      "_view_name": "ProgressView",
      "bar_style": "success",
      "description": "",
      "description_tooltip": null,
      "layout": "IPY_MODEL_09dbde46208c491880d09ba2053b943f",
      "max": 466247,
      "min": 0,
      "orientation": "horizontal",
      "style": "IPY_MODEL_08323995460d4b68bf1661f800c9a526",
      "value": 466247
     }
    },
    "21c75ac95459411083e5065aed9f8036": {
     "model_module": "@jupyter-widgets/controls",
     "model_module_version": "1.5.0",
     "model_name": "HTMLModel",
     "state": {
      "_dom_classes": [],
      "_model_module": "@jupyter-widgets/controls",
      "_model_module_version": "1.5.0",
      "_model_name": "HTMLModel",
      "_view_count": null,
      "_view_module": "@jupyter-widgets/controls",
      "_view_module_version": "1.5.0",
      "_view_name": "HTMLView",
      "description": "",
      "description_tooltip": null,
      "layout": "IPY_MODEL_c163c5edf1dc4026a898060f0ae1a749",
      "placeholder": "​",
      "style": "IPY_MODEL_02dc5bf219584683a8cf405fe4051337",
      "value": "sentence_bert_config.json: 100%"
     }
    },
    "222728c54870429e9a4180fc6a38db52": {
     "model_module": "@jupyter-widgets/controls",
     "model_module_version": "1.5.0",
     "model_name": "DescriptionStyleModel",
     "state": {
      "_model_module": "@jupyter-widgets/controls",
      "_model_module_version": "1.5.0",
      "_model_name": "DescriptionStyleModel",
      "_view_count": null,
      "_view_module": "@jupyter-widgets/base",
      "_view_module_version": "1.2.0",
      "_view_name": "StyleView",
      "description_width": ""
     }
    },
    "22491098aaf14bfaaf1c4e54b8f63207": {
     "model_module": "@jupyter-widgets/base",
     "model_module_version": "1.2.0",
     "model_name": "LayoutModel",
     "state": {
      "_model_module": "@jupyter-widgets/base",
      "_model_module_version": "1.2.0",
      "_model_name": "LayoutModel",
      "_view_count": null,
      "_view_module": "@jupyter-widgets/base",
      "_view_module_version": "1.2.0",
      "_view_name": "LayoutView",
      "align_content": null,
      "align_items": null,
      "align_self": null,
      "border": null,
      "bottom": null,
      "display": null,
      "flex": null,
      "flex_flow": null,
      "grid_area": null,
      "grid_auto_columns": null,
      "grid_auto_flow": null,
      "grid_auto_rows": null,
      "grid_column": null,
      "grid_gap": null,
      "grid_row": null,
      "grid_template_areas": null,
      "grid_template_columns": null,
      "grid_template_rows": null,
      "height": null,
      "justify_content": null,
      "justify_items": null,
      "left": null,
      "margin": null,
      "max_height": null,
      "max_width": null,
      "min_height": null,
      "min_width": null,
      "object_fit": null,
      "object_position": null,
      "order": null,
      "overflow": null,
      "overflow_x": null,
      "overflow_y": null,
      "padding": null,
      "right": null,
      "top": null,
      "visibility": null,
      "width": null
     }
    },
    "2343ad8b718e4ae4be7717c64b26292e": {
     "model_module": "@jupyter-widgets/controls",
     "model_module_version": "1.5.0",
     "model_name": "FloatProgressModel",
     "state": {
      "_dom_classes": [],
      "_model_module": "@jupyter-widgets/controls",
      "_model_module_version": "1.5.0",
      "_model_name": "FloatProgressModel",
      "_view_count": null,
      "_view_module": "@jupyter-widgets/controls",
      "_view_module_version": "1.5.0",
      "_view_name": "ProgressView",
      "bar_style": "success",
      "description": "",
      "description_tooltip": null,
      "layout": "IPY_MODEL_57bcfd29694540c2810547083ff4efd0",
      "max": 10659,
      "min": 0,
      "orientation": "horizontal",
      "style": "IPY_MODEL_d0f8dee6be55415cad52d7fa5924b6a7",
      "value": 10659
     }
    },
    "24dfd8a878784128804c880f26bd0934": {
     "model_module": "@jupyter-widgets/controls",
     "model_module_version": "1.5.0",
     "model_name": "FloatProgressModel",
     "state": {
      "_dom_classes": [],
      "_model_module": "@jupyter-widgets/controls",
      "_model_module_version": "1.5.0",
      "_model_name": "FloatProgressModel",
      "_view_count": null,
      "_view_module": "@jupyter-widgets/controls",
      "_view_module_version": "1.5.0",
      "_view_name": "ProgressView",
      "bar_style": "success",
      "description": "",
      "description_tooltip": null,
      "layout": "IPY_MODEL_3ece5cef8fd845a09bb5f5f18e6cf57d",
      "max": 90868376,
      "min": 0,
      "orientation": "horizontal",
      "style": "IPY_MODEL_e6335775e92949d19f7242e0a136bdc0",
      "value": 90868376
     }
    },
    "2a40a64ad41a4518bdae08a14bbbfae3": {
     "model_module": "@jupyter-widgets/controls",
     "model_module_version": "1.5.0",
     "model_name": "HTMLModel",
     "state": {
      "_dom_classes": [],
      "_model_module": "@jupyter-widgets/controls",
      "_model_module_version": "1.5.0",
      "_model_name": "HTMLModel",
      "_view_count": null,
      "_view_module": "@jupyter-widgets/controls",
      "_view_module_version": "1.5.0",
      "_view_name": "HTMLView",
      "description": "",
      "description_tooltip": null,
      "layout": "IPY_MODEL_3fde00147af444778e71cd89aea6ea7a",
      "placeholder": "​",
      "style": "IPY_MODEL_e0e92a0c71b6467db422cd1f4df2fcbd",
      "value": " 190/190 [00:00&lt;00:00, 19.1kB/s]"
     }
    },
    "2a95e74bd5294a15b32db2c750f03ba2": {
     "model_module": "@jupyter-widgets/base",
     "model_module_version": "1.2.0",
     "model_name": "LayoutModel",
     "state": {
      "_model_module": "@jupyter-widgets/base",
      "_model_module_version": "1.2.0",
      "_model_name": "LayoutModel",
      "_view_count": null,
      "_view_module": "@jupyter-widgets/base",
      "_view_module_version": "1.2.0",
      "_view_name": "LayoutView",
      "align_content": null,
      "align_items": null,
      "align_self": null,
      "border": null,
      "bottom": null,
      "display": null,
      "flex": null,
      "flex_flow": null,
      "grid_area": null,
      "grid_auto_columns": null,
      "grid_auto_flow": null,
      "grid_auto_rows": null,
      "grid_column": null,
      "grid_gap": null,
      "grid_row": null,
      "grid_template_areas": null,
      "grid_template_columns": null,
      "grid_template_rows": null,
      "height": null,
      "justify_content": null,
      "justify_items": null,
      "left": null,
      "margin": null,
      "max_height": null,
      "max_width": null,
      "min_height": null,
      "min_width": null,
      "object_fit": null,
      "object_position": null,
      "order": null,
      "overflow": null,
      "overflow_x": null,
      "overflow_y": null,
      "padding": null,
      "right": null,
      "top": null,
      "visibility": null,
      "width": null
     }
    },
    "2bf64bc07a644222bb8cb5ac0aa994c5": {
     "model_module": "@jupyter-widgets/controls",
     "model_module_version": "1.5.0",
     "model_name": "HTMLModel",
     "state": {
      "_dom_classes": [],
      "_model_module": "@jupyter-widgets/controls",
      "_model_module_version": "1.5.0",
      "_model_name": "HTMLModel",
      "_view_count": null,
      "_view_module": "@jupyter-widgets/controls",
      "_view_module_version": "1.5.0",
      "_view_name": "HTMLView",
      "description": "",
      "description_tooltip": null,
      "layout": "IPY_MODEL_937bdd047611413e88f4edf47453ed58",
      "placeholder": "​",
      "style": "IPY_MODEL_bc1af5c3c9de43dcb5f652cb8bd9aaf5",
      "value": "tokenizer_config.json: 100%"
     }
    },
    "2cc1cb8d6db34bbbb06ca438bbe01a87": {
     "model_module": "@jupyter-widgets/controls",
     "model_module_version": "1.5.0",
     "model_name": "ProgressStyleModel",
     "state": {
      "_model_module": "@jupyter-widgets/controls",
      "_model_module_version": "1.5.0",
      "_model_name": "ProgressStyleModel",
      "_view_count": null,
      "_view_module": "@jupyter-widgets/base",
      "_view_module_version": "1.2.0",
      "_view_name": "StyleView",
      "bar_color": null,
      "description_width": ""
     }
    },
    "2f06c383e10d4b70aa510ee6936ecb05": {
     "model_module": "@jupyter-widgets/controls",
     "model_module_version": "1.5.0",
     "model_name": "ProgressStyleModel",
     "state": {
      "_model_module": "@jupyter-widgets/controls",
      "_model_module_version": "1.5.0",
      "_model_name": "ProgressStyleModel",
      "_view_count": null,
      "_view_module": "@jupyter-widgets/base",
      "_view_module_version": "1.2.0",
      "_view_name": "StyleView",
      "bar_color": null,
      "description_width": ""
     }
    },
    "31792f490c644636b4f17d1eb5490257": {
     "model_module": "@jupyter-widgets/base",
     "model_module_version": "1.2.0",
     "model_name": "LayoutModel",
     "state": {
      "_model_module": "@jupyter-widgets/base",
      "_model_module_version": "1.2.0",
      "_model_name": "LayoutModel",
      "_view_count": null,
      "_view_module": "@jupyter-widgets/base",
      "_view_module_version": "1.2.0",
      "_view_name": "LayoutView",
      "align_content": null,
      "align_items": null,
      "align_self": null,
      "border": null,
      "bottom": null,
      "display": null,
      "flex": null,
      "flex_flow": null,
      "grid_area": null,
      "grid_auto_columns": null,
      "grid_auto_flow": null,
      "grid_auto_rows": null,
      "grid_column": null,
      "grid_gap": null,
      "grid_row": null,
      "grid_template_areas": null,
      "grid_template_columns": null,
      "grid_template_rows": null,
      "height": null,
      "justify_content": null,
      "justify_items": null,
      "left": null,
      "margin": null,
      "max_height": null,
      "max_width": null,
      "min_height": null,
      "min_width": null,
      "object_fit": null,
      "object_position": null,
      "order": null,
      "overflow": null,
      "overflow_x": null,
      "overflow_y": null,
      "padding": null,
      "right": null,
      "top": null,
      "visibility": null,
      "width": null
     }
    },
    "31a08f8353794f34b3745a6a1e5aa3e6": {
     "model_module": "@jupyter-widgets/base",
     "model_module_version": "1.2.0",
     "model_name": "LayoutModel",
     "state": {
      "_model_module": "@jupyter-widgets/base",
      "_model_module_version": "1.2.0",
      "_model_name": "LayoutModel",
      "_view_count": null,
      "_view_module": "@jupyter-widgets/base",
      "_view_module_version": "1.2.0",
      "_view_name": "LayoutView",
      "align_content": null,
      "align_items": null,
      "align_self": null,
      "border": null,
      "bottom": null,
      "display": null,
      "flex": null,
      "flex_flow": null,
      "grid_area": null,
      "grid_auto_columns": null,
      "grid_auto_flow": null,
      "grid_auto_rows": null,
      "grid_column": null,
      "grid_gap": null,
      "grid_row": null,
      "grid_template_areas": null,
      "grid_template_columns": null,
      "grid_template_rows": null,
      "height": null,
      "justify_content": null,
      "justify_items": null,
      "left": null,
      "margin": null,
      "max_height": null,
      "max_width": null,
      "min_height": null,
      "min_width": null,
      "object_fit": null,
      "object_position": null,
      "order": null,
      "overflow": null,
      "overflow_x": null,
      "overflow_y": null,
      "padding": null,
      "right": null,
      "top": null,
      "visibility": null,
      "width": null
     }
    },
    "3203cd238eb2469799a718d00acee441": {
     "model_module": "@jupyter-widgets/controls",
     "model_module_version": "1.5.0",
     "model_name": "DescriptionStyleModel",
     "state": {
      "_model_module": "@jupyter-widgets/controls",
      "_model_module_version": "1.5.0",
      "_model_name": "DescriptionStyleModel",
      "_view_count": null,
      "_view_module": "@jupyter-widgets/base",
      "_view_module_version": "1.2.0",
      "_view_name": "StyleView",
      "description_width": ""
     }
    },
    "32981e0994a04e8f83533160ef2b12d1": {
     "model_module": "@jupyter-widgets/controls",
     "model_module_version": "1.5.0",
     "model_name": "HTMLModel",
     "state": {
      "_dom_classes": [],
      "_model_module": "@jupyter-widgets/controls",
      "_model_module_version": "1.5.0",
      "_model_name": "HTMLModel",
      "_view_count": null,
      "_view_module": "@jupyter-widgets/controls",
      "_view_module_version": "1.5.0",
      "_view_name": "HTMLView",
      "description": "",
      "description_tooltip": null,
      "layout": "IPY_MODEL_60dd3ecd86a04cb681c0d6b5b7c00f5f",
      "placeholder": "​",
      "style": "IPY_MODEL_01ff2581faf642a2991a5a98076eed1b",
      "value": "100%"
     }
    },
    "3590dd0cd8524a8fa8f3ed00d2f3809e": {
     "model_module": "@jupyter-widgets/controls",
     "model_module_version": "1.5.0",
     "model_name": "HTMLModel",
     "state": {
      "_dom_classes": [],
      "_model_module": "@jupyter-widgets/controls",
      "_model_module_version": "1.5.0",
      "_model_name": "HTMLModel",
      "_view_count": null,
      "_view_module": "@jupyter-widgets/controls",
      "_view_module_version": "1.5.0",
      "_view_name": "HTMLView",
      "description": "",
      "description_tooltip": null,
      "layout": "IPY_MODEL_d78a3ed1e3aa42eda56ac64542916a9b",
      "placeholder": "​",
      "style": "IPY_MODEL_7f4029a1ac884ed58b84692088c3407b",
      "value": "1_Pooling/config.json: 100%"
     }
    },
    "3602c2513a92491eba8469ecc8d1dbf7": {
     "model_module": "@jupyter-widgets/controls",
     "model_module_version": "1.5.0",
     "model_name": "DescriptionStyleModel",
     "state": {
      "_model_module": "@jupyter-widgets/controls",
      "_model_module_version": "1.5.0",
      "_model_name": "DescriptionStyleModel",
      "_view_count": null,
      "_view_module": "@jupyter-widgets/base",
      "_view_module_version": "1.2.0",
      "_view_name": "StyleView",
      "description_width": ""
     }
    },
    "36794e8cb9864e9480a08f22a5e1dd84": {
     "model_module": "@jupyter-widgets/controls",
     "model_module_version": "1.5.0",
     "model_name": "DescriptionStyleModel",
     "state": {
      "_model_module": "@jupyter-widgets/controls",
      "_model_module_version": "1.5.0",
      "_model_name": "DescriptionStyleModel",
      "_view_count": null,
      "_view_module": "@jupyter-widgets/base",
      "_view_module_version": "1.2.0",
      "_view_name": "StyleView",
      "description_width": ""
     }
    },
    "36bbe61e5ea7429e8a0c215f0f75bc8f": {
     "model_module": "@jupyter-widgets/controls",
     "model_module_version": "1.5.0",
     "model_name": "FloatProgressModel",
     "state": {
      "_dom_classes": [],
      "_model_module": "@jupyter-widgets/controls",
      "_model_module_version": "1.5.0",
      "_model_name": "FloatProgressModel",
      "_view_count": null,
      "_view_module": "@jupyter-widgets/controls",
      "_view_module_version": "1.5.0",
      "_view_name": "ProgressView",
      "bar_style": "success",
      "description": "",
      "description_tooltip": null,
      "layout": "IPY_MODEL_95eac50ae00f4ca7b3ae4a35ae595975",
      "max": 1,
      "min": 0,
      "orientation": "horizontal",
      "style": "IPY_MODEL_d55b113fe5e247a4be15cbe83aa77a8f",
      "value": 1
     }
    },
    "39656cb560ca4bc08dc7980e30ff689a": {
     "model_module": "@jupyter-widgets/controls",
     "model_module_version": "1.5.0",
     "model_name": "FloatProgressModel",
     "state": {
      "_dom_classes": [],
      "_model_module": "@jupyter-widgets/controls",
      "_model_module_version": "1.5.0",
      "_model_name": "FloatProgressModel",
      "_view_count": null,
      "_view_module": "@jupyter-widgets/controls",
      "_view_module_version": "1.5.0",
      "_view_name": "ProgressView",
      "bar_style": "success",
      "description": "",
      "description_tooltip": null,
      "layout": "IPY_MODEL_f2d122fe7d5e456089a78ddd25d15f1a",
      "max": 1018,
      "min": 0,
      "orientation": "horizontal",
      "style": "IPY_MODEL_f4ebe261635e4ad2ac29463c713a0cb3",
      "value": 1018
     }
    },
    "3a12fae2c348451980906589920f8de0": {
     "model_module": "@jupyter-widgets/controls",
     "model_module_version": "1.5.0",
     "model_name": "FloatProgressModel",
     "state": {
      "_dom_classes": [],
      "_model_module": "@jupyter-widgets/controls",
      "_model_module_version": "1.5.0",
      "_model_name": "FloatProgressModel",
      "_view_count": null,
      "_view_module": "@jupyter-widgets/controls",
      "_view_module_version": "1.5.0",
      "_view_name": "ProgressView",
      "bar_style": "success",
      "description": "",
      "description_tooltip": null,
      "layout": "IPY_MODEL_b6878d813f9e41b1a1268d2a79a74139",
      "max": 21,
      "min": 0,
      "orientation": "horizontal",
      "style": "IPY_MODEL_e2719575a13e467e8f6e87ec8bb87d69",
      "value": 21
     }
    },
    "3b2ec49a5c8c4c03a8de02442e81bcac": {
     "model_module": "@jupyter-widgets/controls",
     "model_module_version": "1.5.0",
     "model_name": "FloatProgressModel",
     "state": {
      "_dom_classes": [],
      "_model_module": "@jupyter-widgets/controls",
      "_model_module_version": "1.5.0",
      "_model_name": "FloatProgressModel",
      "_view_count": null,
      "_view_module": "@jupyter-widgets/controls",
      "_view_module_version": "1.5.0",
      "_view_name": "ProgressView",
      "bar_style": "success",
      "description": "",
      "description_tooltip": null,
      "layout": "IPY_MODEL_18323c9654244e37adf42f3aeb7d9ead",
      "max": 231508,
      "min": 0,
      "orientation": "horizontal",
      "style": "IPY_MODEL_e960f76d56a8425fba3f76473a5d79ee",
      "value": 231508
     }
    },
    "3ece5cef8fd845a09bb5f5f18e6cf57d": {
     "model_module": "@jupyter-widgets/base",
     "model_module_version": "1.2.0",
     "model_name": "LayoutModel",
     "state": {
      "_model_module": "@jupyter-widgets/base",
      "_model_module_version": "1.2.0",
      "_model_name": "LayoutModel",
      "_view_count": null,
      "_view_module": "@jupyter-widgets/base",
      "_view_module_version": "1.2.0",
      "_view_name": "LayoutView",
      "align_content": null,
      "align_items": null,
      "align_self": null,
      "border": null,
      "bottom": null,
      "display": null,
      "flex": null,
      "flex_flow": null,
      "grid_area": null,
      "grid_auto_columns": null,
      "grid_auto_flow": null,
      "grid_auto_rows": null,
      "grid_column": null,
      "grid_gap": null,
      "grid_row": null,
      "grid_template_areas": null,
      "grid_template_columns": null,
      "grid_template_rows": null,
      "height": null,
      "justify_content": null,
      "justify_items": null,
      "left": null,
      "margin": null,
      "max_height": null,
      "max_width": null,
      "min_height": null,
      "min_width": null,
      "object_fit": null,
      "object_position": null,
      "order": null,
      "overflow": null,
      "overflow_x": null,
      "overflow_y": null,
      "padding": null,
      "right": null,
      "top": null,
      "visibility": null,
      "width": null
     }
    },
    "3fde00147af444778e71cd89aea6ea7a": {
     "model_module": "@jupyter-widgets/base",
     "model_module_version": "1.2.0",
     "model_name": "LayoutModel",
     "state": {
      "_model_module": "@jupyter-widgets/base",
      "_model_module_version": "1.2.0",
      "_model_name": "LayoutModel",
      "_view_count": null,
      "_view_module": "@jupyter-widgets/base",
      "_view_module_version": "1.2.0",
      "_view_name": "LayoutView",
      "align_content": null,
      "align_items": null,
      "align_self": null,
      "border": null,
      "bottom": null,
      "display": null,
      "flex": null,
      "flex_flow": null,
      "grid_area": null,
      "grid_auto_columns": null,
      "grid_auto_flow": null,
      "grid_auto_rows": null,
      "grid_column": null,
      "grid_gap": null,
      "grid_row": null,
      "grid_template_areas": null,
      "grid_template_columns": null,
      "grid_template_rows": null,
      "height": null,
      "justify_content": null,
      "justify_items": null,
      "left": null,
      "margin": null,
      "max_height": null,
      "max_width": null,
      "min_height": null,
      "min_width": null,
      "object_fit": null,
      "object_position": null,
      "order": null,
      "overflow": null,
      "overflow_x": null,
      "overflow_y": null,
      "padding": null,
      "right": null,
      "top": null,
      "visibility": null,
      "width": null
     }
    },
    "459e224a36714abd811c699845fbaa1d": {
     "model_module": "@jupyter-widgets/controls",
     "model_module_version": "1.5.0",
     "model_name": "DescriptionStyleModel",
     "state": {
      "_model_module": "@jupyter-widgets/controls",
      "_model_module_version": "1.5.0",
      "_model_name": "DescriptionStyleModel",
      "_view_count": null,
      "_view_module": "@jupyter-widgets/base",
      "_view_module_version": "1.2.0",
      "_view_name": "StyleView",
      "description_width": ""
     }
    },
    "4e5f2dd4a9324beaa91843808b567e18": {
     "model_module": "@jupyter-widgets/controls",
     "model_module_version": "1.5.0",
     "model_name": "HTMLModel",
     "state": {
      "_dom_classes": [],
      "_model_module": "@jupyter-widgets/controls",
      "_model_module_version": "1.5.0",
      "_model_name": "HTMLModel",
      "_view_count": null,
      "_view_module": "@jupyter-widgets/controls",
      "_view_module_version": "1.5.0",
      "_view_name": "HTMLView",
      "description": "",
      "description_tooltip": null,
      "layout": "IPY_MODEL_5c48a0969ed84e7986ea96a769c14c29",
      "placeholder": "​",
      "style": "IPY_MODEL_3203cd238eb2469799a718d00acee441",
      "value": "README.md: 100%"
     }
    },
    "50b76c8fe9914a399d46a0ab04745d18": {
     "model_module": "@jupyter-widgets/base",
     "model_module_version": "1.2.0",
     "model_name": "LayoutModel",
     "state": {
      "_model_module": "@jupyter-widgets/base",
      "_model_module_version": "1.2.0",
      "_model_name": "LayoutModel",
      "_view_count": null,
      "_view_module": "@jupyter-widgets/base",
      "_view_module_version": "1.2.0",
      "_view_name": "LayoutView",
      "align_content": null,
      "align_items": null,
      "align_self": null,
      "border": null,
      "bottom": null,
      "display": null,
      "flex": null,
      "flex_flow": null,
      "grid_area": null,
      "grid_auto_columns": null,
      "grid_auto_flow": null,
      "grid_auto_rows": null,
      "grid_column": null,
      "grid_gap": null,
      "grid_row": null,
      "grid_template_areas": null,
      "grid_template_columns": null,
      "grid_template_rows": null,
      "height": null,
      "justify_content": null,
      "justify_items": null,
      "left": null,
      "margin": null,
      "max_height": null,
      "max_width": null,
      "min_height": null,
      "min_width": null,
      "object_fit": null,
      "object_position": null,
      "order": null,
      "overflow": null,
      "overflow_x": null,
      "overflow_y": null,
      "padding": null,
      "right": null,
      "top": null,
      "visibility": null,
      "width": null
     }
    },
    "5127b6e540d1480cadef16015a82daa5": {
     "model_module": "@jupyter-widgets/controls",
     "model_module_version": "1.5.0",
     "model_name": "HTMLModel",
     "state": {
      "_dom_classes": [],
      "_model_module": "@jupyter-widgets/controls",
      "_model_module_version": "1.5.0",
      "_model_name": "HTMLModel",
      "_view_count": null,
      "_view_module": "@jupyter-widgets/controls",
      "_view_module_version": "1.5.0",
      "_view_name": "HTMLView",
      "description": "",
      "description_tooltip": null,
      "layout": "IPY_MODEL_31a08f8353794f34b3745a6a1e5aa3e6",
      "placeholder": "​",
      "style": "IPY_MODEL_a8d1c38ee1d24983b43acf8f62b7959c",
      "value": " 232k/232k [00:00&lt;00:00, 1.39MB/s]"
     }
    },
    "516585bfb9ab4a18b6920dcdf4f92415": {
     "model_module": "@jupyter-widgets/controls",
     "model_module_version": "1.5.0",
     "model_name": "ProgressStyleModel",
     "state": {
      "_model_module": "@jupyter-widgets/controls",
      "_model_module_version": "1.5.0",
      "_model_name": "ProgressStyleModel",
      "_view_count": null,
      "_view_module": "@jupyter-widgets/base",
      "_view_module_version": "1.2.0",
      "_view_name": "StyleView",
      "bar_color": null,
      "description_width": ""
     }
    },
    "5260eb1a035e4866a65084a98e94c22c": {
     "model_module": "@jupyter-widgets/controls",
     "model_module_version": "1.5.0",
     "model_name": "HBoxModel",
     "state": {
      "_dom_classes": [],
      "_model_module": "@jupyter-widgets/controls",
      "_model_module_version": "1.5.0",
      "_model_name": "HBoxModel",
      "_view_count": null,
      "_view_module": "@jupyter-widgets/controls",
      "_view_module_version": "1.5.0",
      "_view_name": "HBoxView",
      "box_style": "",
      "children": [
       "IPY_MODEL_553fb17ce56f42659719bd8d991678b8",
       "IPY_MODEL_3a12fae2c348451980906589920f8de0",
       "IPY_MODEL_f9620c33614646179f8d2ee21a65a56a"
      ],
      "layout": "IPY_MODEL_22491098aaf14bfaaf1c4e54b8f63207"
     }
    },
    "5270f93ed0394252b3faf6b61196bdee": {
     "model_module": "@jupyter-widgets/base",
     "model_module_version": "1.2.0",
     "model_name": "LayoutModel",
     "state": {
      "_model_module": "@jupyter-widgets/base",
      "_model_module_version": "1.2.0",
      "_model_name": "LayoutModel",
      "_view_count": null,
      "_view_module": "@jupyter-widgets/base",
      "_view_module_version": "1.2.0",
      "_view_name": "LayoutView",
      "align_content": null,
      "align_items": null,
      "align_self": null,
      "border": null,
      "bottom": null,
      "display": null,
      "flex": null,
      "flex_flow": null,
      "grid_area": null,
      "grid_auto_columns": null,
      "grid_auto_flow": null,
      "grid_auto_rows": null,
      "grid_column": null,
      "grid_gap": null,
      "grid_row": null,
      "grid_template_areas": null,
      "grid_template_columns": null,
      "grid_template_rows": null,
      "height": null,
      "justify_content": null,
      "justify_items": null,
      "left": null,
      "margin": null,
      "max_height": null,
      "max_width": null,
      "min_height": null,
      "min_width": null,
      "object_fit": null,
      "object_position": null,
      "order": null,
      "overflow": null,
      "overflow_x": null,
      "overflow_y": null,
      "padding": null,
      "right": null,
      "top": null,
      "visibility": null,
      "width": null
     }
    },
    "53ec030ca2ba45d2a91a679e9951d525": {
     "model_module": "@jupyter-widgets/base",
     "model_module_version": "1.2.0",
     "model_name": "LayoutModel",
     "state": {
      "_model_module": "@jupyter-widgets/base",
      "_model_module_version": "1.2.0",
      "_model_name": "LayoutModel",
      "_view_count": null,
      "_view_module": "@jupyter-widgets/base",
      "_view_module_version": "1.2.0",
      "_view_name": "LayoutView",
      "align_content": null,
      "align_items": null,
      "align_self": null,
      "border": null,
      "bottom": null,
      "display": null,
      "flex": null,
      "flex_flow": null,
      "grid_area": null,
      "grid_auto_columns": null,
      "grid_auto_flow": null,
      "grid_auto_rows": null,
      "grid_column": null,
      "grid_gap": null,
      "grid_row": null,
      "grid_template_areas": null,
      "grid_template_columns": null,
      "grid_template_rows": null,
      "height": null,
      "justify_content": null,
      "justify_items": null,
      "left": null,
      "margin": null,
      "max_height": null,
      "max_width": null,
      "min_height": null,
      "min_width": null,
      "object_fit": null,
      "object_position": null,
      "order": null,
      "overflow": null,
      "overflow_x": null,
      "overflow_y": null,
      "padding": null,
      "right": null,
      "top": null,
      "visibility": null,
      "width": null
     }
    },
    "553fb17ce56f42659719bd8d991678b8": {
     "model_module": "@jupyter-widgets/controls",
     "model_module_version": "1.5.0",
     "model_name": "HTMLModel",
     "state": {
      "_dom_classes": [],
      "_model_module": "@jupyter-widgets/controls",
      "_model_module_version": "1.5.0",
      "_model_name": "HTMLModel",
      "_view_count": null,
      "_view_module": "@jupyter-widgets/controls",
      "_view_module_version": "1.5.0",
      "_view_name": "HTMLView",
      "description": "",
      "description_tooltip": null,
      "layout": "IPY_MODEL_2a95e74bd5294a15b32db2c750f03ba2",
      "placeholder": "​",
      "style": "IPY_MODEL_459e224a36714abd811c699845fbaa1d",
      "value": "100%"
     }
    },
    "57bcfd29694540c2810547083ff4efd0": {
     "model_module": "@jupyter-widgets/base",
     "model_module_version": "1.2.0",
     "model_name": "LayoutModel",
     "state": {
      "_model_module": "@jupyter-widgets/base",
      "_model_module_version": "1.2.0",
      "_model_name": "LayoutModel",
      "_view_count": null,
      "_view_module": "@jupyter-widgets/base",
      "_view_module_version": "1.2.0",
      "_view_name": "LayoutView",
      "align_content": null,
      "align_items": null,
      "align_self": null,
      "border": null,
      "bottom": null,
      "display": null,
      "flex": null,
      "flex_flow": null,
      "grid_area": null,
      "grid_auto_columns": null,
      "grid_auto_flow": null,
      "grid_auto_rows": null,
      "grid_column": null,
      "grid_gap": null,
      "grid_row": null,
      "grid_template_areas": null,
      "grid_template_columns": null,
      "grid_template_rows": null,
      "height": null,
      "justify_content": null,
      "justify_items": null,
      "left": null,
      "margin": null,
      "max_height": null,
      "max_width": null,
      "min_height": null,
      "min_width": null,
      "object_fit": null,
      "object_position": null,
      "order": null,
      "overflow": null,
      "overflow_x": null,
      "overflow_y": null,
      "padding": null,
      "right": null,
      "top": null,
      "visibility": null,
      "width": null
     }
    },
    "59ea63b066fe491ba7ae4fe49c473da4": {
     "model_module": "@jupyter-widgets/base",
     "model_module_version": "1.2.0",
     "model_name": "LayoutModel",
     "state": {
      "_model_module": "@jupyter-widgets/base",
      "_model_module_version": "1.2.0",
      "_model_name": "LayoutModel",
      "_view_count": null,
      "_view_module": "@jupyter-widgets/base",
      "_view_module_version": "1.2.0",
      "_view_name": "LayoutView",
      "align_content": null,
      "align_items": null,
      "align_self": null,
      "border": null,
      "bottom": null,
      "display": null,
      "flex": null,
      "flex_flow": null,
      "grid_area": null,
      "grid_auto_columns": null,
      "grid_auto_flow": null,
      "grid_auto_rows": null,
      "grid_column": null,
      "grid_gap": null,
      "grid_row": null,
      "grid_template_areas": null,
      "grid_template_columns": null,
      "grid_template_rows": null,
      "height": null,
      "justify_content": null,
      "justify_items": null,
      "left": null,
      "margin": null,
      "max_height": null,
      "max_width": null,
      "min_height": null,
      "min_width": null,
      "object_fit": null,
      "object_position": null,
      "order": null,
      "overflow": null,
      "overflow_x": null,
      "overflow_y": null,
      "padding": null,
      "right": null,
      "top": null,
      "visibility": null,
      "width": null
     }
    },
    "5c48a0969ed84e7986ea96a769c14c29": {
     "model_module": "@jupyter-widgets/base",
     "model_module_version": "1.2.0",
     "model_name": "LayoutModel",
     "state": {
      "_model_module": "@jupyter-widgets/base",
      "_model_module_version": "1.2.0",
      "_model_name": "LayoutModel",
      "_view_count": null,
      "_view_module": "@jupyter-widgets/base",
      "_view_module_version": "1.2.0",
      "_view_name": "LayoutView",
      "align_content": null,
      "align_items": null,
      "align_self": null,
      "border": null,
      "bottom": null,
      "display": null,
      "flex": null,
      "flex_flow": null,
      "grid_area": null,
      "grid_auto_columns": null,
      "grid_auto_flow": null,
      "grid_auto_rows": null,
      "grid_column": null,
      "grid_gap": null,
      "grid_row": null,
      "grid_template_areas": null,
      "grid_template_columns": null,
      "grid_template_rows": null,
      "height": null,
      "justify_content": null,
      "justify_items": null,
      "left": null,
      "margin": null,
      "max_height": null,
      "max_width": null,
      "min_height": null,
      "min_width": null,
      "object_fit": null,
      "object_position": null,
      "order": null,
      "overflow": null,
      "overflow_x": null,
      "overflow_y": null,
      "padding": null,
      "right": null,
      "top": null,
      "visibility": null,
      "width": null
     }
    },
    "5d18e1b4b8284618b53eb977c928671f": {
     "model_module": "@jupyter-widgets/controls",
     "model_module_version": "1.5.0",
     "model_name": "HTMLModel",
     "state": {
      "_dom_classes": [],
      "_model_module": "@jupyter-widgets/controls",
      "_model_module_version": "1.5.0",
      "_model_name": "HTMLModel",
      "_view_count": null,
      "_view_module": "@jupyter-widgets/controls",
      "_view_module_version": "1.5.0",
      "_view_name": "HTMLView",
      "description": "",
      "description_tooltip": null,
      "layout": "IPY_MODEL_ec55f7c5c0cd441597a2aa966e02415d",
      "placeholder": "​",
      "style": "IPY_MODEL_3602c2513a92491eba8469ecc8d1dbf7",
      "value": "special_tokens_map.json: 100%"
     }
    },
    "5f33238da30c45d8a55094e1d4257cd9": {
     "model_module": "@jupyter-widgets/base",
     "model_module_version": "1.2.0",
     "model_name": "LayoutModel",
     "state": {
      "_model_module": "@jupyter-widgets/base",
      "_model_module_version": "1.2.0",
      "_model_name": "LayoutModel",
      "_view_count": null,
      "_view_module": "@jupyter-widgets/base",
      "_view_module_version": "1.2.0",
      "_view_name": "LayoutView",
      "align_content": null,
      "align_items": null,
      "align_self": null,
      "border": null,
      "bottom": null,
      "display": null,
      "flex": null,
      "flex_flow": null,
      "grid_area": null,
      "grid_auto_columns": null,
      "grid_auto_flow": null,
      "grid_auto_rows": null,
      "grid_column": null,
      "grid_gap": null,
      "grid_row": null,
      "grid_template_areas": null,
      "grid_template_columns": null,
      "grid_template_rows": null,
      "height": null,
      "justify_content": null,
      "justify_items": null,
      "left": null,
      "margin": null,
      "max_height": null,
      "max_width": null,
      "min_height": null,
      "min_width": null,
      "object_fit": null,
      "object_position": null,
      "order": null,
      "overflow": null,
      "overflow_x": null,
      "overflow_y": null,
      "padding": null,
      "right": null,
      "top": null,
      "visibility": null,
      "width": null
     }
    },
    "60dd3ecd86a04cb681c0d6b5b7c00f5f": {
     "model_module": "@jupyter-widgets/base",
     "model_module_version": "1.2.0",
     "model_name": "LayoutModel",
     "state": {
      "_model_module": "@jupyter-widgets/base",
      "_model_module_version": "1.2.0",
      "_model_name": "LayoutModel",
      "_view_count": null,
      "_view_module": "@jupyter-widgets/base",
      "_view_module_version": "1.2.0",
      "_view_name": "LayoutView",
      "align_content": null,
      "align_items": null,
      "align_self": null,
      "border": null,
      "bottom": null,
      "display": null,
      "flex": null,
      "flex_flow": null,
      "grid_area": null,
      "grid_auto_columns": null,
      "grid_auto_flow": null,
      "grid_auto_rows": null,
      "grid_column": null,
      "grid_gap": null,
      "grid_row": null,
      "grid_template_areas": null,
      "grid_template_columns": null,
      "grid_template_rows": null,
      "height": null,
      "justify_content": null,
      "justify_items": null,
      "left": null,
      "margin": null,
      "max_height": null,
      "max_width": null,
      "min_height": null,
      "min_width": null,
      "object_fit": null,
      "object_position": null,
      "order": null,
      "overflow": null,
      "overflow_x": null,
      "overflow_y": null,
      "padding": null,
      "right": null,
      "top": null,
      "visibility": null,
      "width": null
     }
    },
    "624d22e94fc84ecab2dec3e719ed3362": {
     "model_module": "@jupyter-widgets/controls",
     "model_module_version": "1.5.0",
     "model_name": "HTMLModel",
     "state": {
      "_dom_classes": [],
      "_model_module": "@jupyter-widgets/controls",
      "_model_module_version": "1.5.0",
      "_model_name": "HTMLModel",
      "_view_count": null,
      "_view_module": "@jupyter-widgets/controls",
      "_view_module_version": "1.5.0",
      "_view_name": "HTMLView",
      "description": "",
      "description_tooltip": null,
      "layout": "IPY_MODEL_18663a93f4624748a3de74b7a5a90eba",
      "placeholder": "​",
      "style": "IPY_MODEL_6d47d2c0e2614a5bb11dc3b45c5e2271",
      "value": "vocab.txt: 100%"
     }
    },
    "64a8cf3140d2414fb54702d49e1edde2": {
     "model_module": "@jupyter-widgets/controls",
     "model_module_version": "1.5.0",
     "model_name": "HBoxModel",
     "state": {
      "_dom_classes": [],
      "_model_module": "@jupyter-widgets/controls",
      "_model_module_version": "1.5.0",
      "_model_name": "HBoxModel",
      "_view_count": null,
      "_view_module": "@jupyter-widgets/controls",
      "_view_module_version": "1.5.0",
      "_view_name": "HBoxView",
      "box_style": "",
      "children": [
       "IPY_MODEL_d5bf733cedf04a0b89b64f7818433d9d",
       "IPY_MODEL_1e7011dccaf74df7a7ea0ce57f0acc1b",
       "IPY_MODEL_f1e188e40c6048a6b084ec383364a9f7"
      ],
      "layout": "IPY_MODEL_a25d5c516c6e4124865f7735f1907a4a"
     }
    },
    "6700978adf634c3dbe42108bf2c14982": {
     "model_module": "@jupyter-widgets/controls",
     "model_module_version": "1.5.0",
     "model_name": "HBoxModel",
     "state": {
      "_dom_classes": [],
      "_model_module": "@jupyter-widgets/controls",
      "_model_module_version": "1.5.0",
      "_model_name": "HBoxModel",
      "_view_count": null,
      "_view_module": "@jupyter-widgets/controls",
      "_view_module_version": "1.5.0",
      "_view_name": "HBoxView",
      "box_style": "",
      "children": [
       "IPY_MODEL_a2e6a6c3ee08430aa58c07be8dc13409",
       "IPY_MODEL_cde016fed7ae41a98ce8066feb51ca1a",
       "IPY_MODEL_06a4aa70885a495b8a6fd0e58df5b098"
      ],
      "layout": "IPY_MODEL_7cb82662fe1e4964858c241572b483dd"
     }
    },
    "68e595391e3b47d0a9d06f776806ea2e": {
     "model_module": "@jupyter-widgets/controls",
     "model_module_version": "1.5.0",
     "model_name": "HBoxModel",
     "state": {
      "_dom_classes": [],
      "_model_module": "@jupyter-widgets/controls",
      "_model_module_version": "1.5.0",
      "_model_name": "HBoxModel",
      "_view_count": null,
      "_view_module": "@jupyter-widgets/controls",
      "_view_module_version": "1.5.0",
      "_view_name": "HBoxView",
      "box_style": "",
      "children": [
       "IPY_MODEL_2bf64bc07a644222bb8cb5ac0aa994c5",
       "IPY_MODEL_e473437f63b74f168253e28ae2e34336",
       "IPY_MODEL_0ab444d3981b40778abbc4c12199a125"
      ],
      "layout": "IPY_MODEL_04428275037e40b5bf70f15dc6c02a85"
     }
    },
    "6ab43f1e8fe147c7a472df928eda8773": {
     "model_module": "@jupyter-widgets/controls",
     "model_module_version": "1.5.0",
     "model_name": "FloatProgressModel",
     "state": {
      "_dom_classes": [],
      "_model_module": "@jupyter-widgets/controls",
      "_model_module_version": "1.5.0",
      "_model_name": "FloatProgressModel",
      "_view_count": null,
      "_view_module": "@jupyter-widgets/controls",
      "_view_module_version": "1.5.0",
      "_view_name": "ProgressView",
      "bar_style": "success",
      "description": "",
      "description_tooltip": null,
      "layout": "IPY_MODEL_c6e98c7b338340438fc3e7fff658eead",
      "max": 53,
      "min": 0,
      "orientation": "horizontal",
      "style": "IPY_MODEL_516585bfb9ab4a18b6920dcdf4f92415",
      "value": 53
     }
    },
    "6d0e24fa6f6a437e8199160bd6fd0983": {
     "model_module": "@jupyter-widgets/controls",
     "model_module_version": "1.5.0",
     "model_name": "ProgressStyleModel",
     "state": {
      "_model_module": "@jupyter-widgets/controls",
      "_model_module_version": "1.5.0",
      "_model_name": "ProgressStyleModel",
      "_view_count": null,
      "_view_module": "@jupyter-widgets/base",
      "_view_module_version": "1.2.0",
      "_view_name": "StyleView",
      "bar_color": null,
      "description_width": ""
     }
    },
    "6d47d2c0e2614a5bb11dc3b45c5e2271": {
     "model_module": "@jupyter-widgets/controls",
     "model_module_version": "1.5.0",
     "model_name": "DescriptionStyleModel",
     "state": {
      "_model_module": "@jupyter-widgets/controls",
      "_model_module_version": "1.5.0",
      "_model_name": "DescriptionStyleModel",
      "_view_count": null,
      "_view_module": "@jupyter-widgets/base",
      "_view_module_version": "1.2.0",
      "_view_name": "StyleView",
      "description_width": ""
     }
    },
    "7213d6bf0c8c412e8b052c43ef83cd43": {
     "model_module": "@jupyter-widgets/base",
     "model_module_version": "1.2.0",
     "model_name": "LayoutModel",
     "state": {
      "_model_module": "@jupyter-widgets/base",
      "_model_module_version": "1.2.0",
      "_model_name": "LayoutModel",
      "_view_count": null,
      "_view_module": "@jupyter-widgets/base",
      "_view_module_version": "1.2.0",
      "_view_name": "LayoutView",
      "align_content": null,
      "align_items": null,
      "align_self": null,
      "border": null,
      "bottom": null,
      "display": null,
      "flex": null,
      "flex_flow": null,
      "grid_area": null,
      "grid_auto_columns": null,
      "grid_auto_flow": null,
      "grid_auto_rows": null,
      "grid_column": null,
      "grid_gap": null,
      "grid_row": null,
      "grid_template_areas": null,
      "grid_template_columns": null,
      "grid_template_rows": null,
      "height": null,
      "justify_content": null,
      "justify_items": null,
      "left": null,
      "margin": null,
      "max_height": null,
      "max_width": null,
      "min_height": null,
      "min_width": null,
      "object_fit": null,
      "object_position": null,
      "order": null,
      "overflow": null,
      "overflow_x": null,
      "overflow_y": null,
      "padding": null,
      "right": null,
      "top": null,
      "visibility": null,
      "width": null
     }
    },
    "72309308521745d3a6287f3bf8c413b1": {
     "model_module": "@jupyter-widgets/controls",
     "model_module_version": "1.5.0",
     "model_name": "HBoxModel",
     "state": {
      "_dom_classes": [],
      "_model_module": "@jupyter-widgets/controls",
      "_model_module_version": "1.5.0",
      "_model_name": "HBoxModel",
      "_view_count": null,
      "_view_module": "@jupyter-widgets/controls",
      "_view_module_version": "1.5.0",
      "_view_name": "HBoxView",
      "box_style": "",
      "children": [
       "IPY_MODEL_4e5f2dd4a9324beaa91843808b567e18",
       "IPY_MODEL_2343ad8b718e4ae4be7717c64b26292e",
       "IPY_MODEL_a4e2581c8d8c44c2a6b30c6300d6f555"
      ],
      "layout": "IPY_MODEL_5f33238da30c45d8a55094e1d4257cd9"
     }
    },
    "742efbea29a847a2b1449f42b2f2c60a": {
     "model_module": "@jupyter-widgets/controls",
     "model_module_version": "1.5.0",
     "model_name": "HBoxModel",
     "state": {
      "_dom_classes": [],
      "_model_module": "@jupyter-widgets/controls",
      "_model_module_version": "1.5.0",
      "_model_name": "HBoxModel",
      "_view_count": null,
      "_view_module": "@jupyter-widgets/controls",
      "_view_module_version": "1.5.0",
      "_view_name": "HBoxView",
      "box_style": "",
      "children": [
       "IPY_MODEL_624d22e94fc84ecab2dec3e719ed3362",
       "IPY_MODEL_3b2ec49a5c8c4c03a8de02442e81bcac",
       "IPY_MODEL_5127b6e540d1480cadef16015a82daa5"
      ],
      "layout": "IPY_MODEL_d2372fc6bb5b4bd9a76f1d369e335ed2"
     }
    },
    "757f955fbadd442ca93fc40f25b8d74e": {
     "model_module": "@jupyter-widgets/controls",
     "model_module_version": "1.5.0",
     "model_name": "HBoxModel",
     "state": {
      "_dom_classes": [],
      "_model_module": "@jupyter-widgets/controls",
      "_model_module_version": "1.5.0",
      "_model_name": "HBoxModel",
      "_view_count": null,
      "_view_module": "@jupyter-widgets/controls",
      "_view_module_version": "1.5.0",
      "_view_name": "HBoxView",
      "box_style": "",
      "children": [
       "IPY_MODEL_db9dd436d4f94e7ca69a7747a8a86ad7",
       "IPY_MODEL_24dfd8a878784128804c880f26bd0934",
       "IPY_MODEL_e9436731566d4c8497ea37137d3f3571"
      ],
      "layout": "IPY_MODEL_7213d6bf0c8c412e8b052c43ef83cd43"
     }
    },
    "7aada3784d7240f799493004c9c3bc6b": {
     "model_module": "@jupyter-widgets/base",
     "model_module_version": "1.2.0",
     "model_name": "LayoutModel",
     "state": {
      "_model_module": "@jupyter-widgets/base",
      "_model_module_version": "1.2.0",
      "_model_name": "LayoutModel",
      "_view_count": null,
      "_view_module": "@jupyter-widgets/base",
      "_view_module_version": "1.2.0",
      "_view_name": "LayoutView",
      "align_content": null,
      "align_items": null,
      "align_self": null,
      "border": null,
      "bottom": null,
      "display": null,
      "flex": null,
      "flex_flow": null,
      "grid_area": null,
      "grid_auto_columns": null,
      "grid_auto_flow": null,
      "grid_auto_rows": null,
      "grid_column": null,
      "grid_gap": null,
      "grid_row": null,
      "grid_template_areas": null,
      "grid_template_columns": null,
      "grid_template_rows": null,
      "height": null,
      "justify_content": null,
      "justify_items": null,
      "left": null,
      "margin": null,
      "max_height": null,
      "max_width": null,
      "min_height": null,
      "min_width": null,
      "object_fit": null,
      "object_position": null,
      "order": null,
      "overflow": null,
      "overflow_x": null,
      "overflow_y": null,
      "padding": null,
      "right": null,
      "top": null,
      "visibility": null,
      "width": null
     }
    },
    "7afc06b0395b4f80984becbaf578d76b": {
     "model_module": "@jupyter-widgets/controls",
     "model_module_version": "1.5.0",
     "model_name": "HTMLModel",
     "state": {
      "_dom_classes": [],
      "_model_module": "@jupyter-widgets/controls",
      "_model_module_version": "1.5.0",
      "_model_name": "HTMLModel",
      "_view_count": null,
      "_view_module": "@jupyter-widgets/controls",
      "_view_module_version": "1.5.0",
      "_view_name": "HTMLView",
      "description": "",
      "description_tooltip": null,
      "layout": "IPY_MODEL_99a5ea6645e0496ca5cb47dc51c694ef",
      "placeholder": "​",
      "style": "IPY_MODEL_c1f8397adcbd49449e4e18d064a84cb8",
      "value": " 1018/? [00:00&lt;00:00, 16465.38it/s]"
     }
    },
    "7cb82662fe1e4964858c241572b483dd": {
     "model_module": "@jupyter-widgets/base",
     "model_module_version": "1.2.0",
     "model_name": "LayoutModel",
     "state": {
      "_model_module": "@jupyter-widgets/base",
      "_model_module_version": "1.2.0",
      "_model_name": "LayoutModel",
      "_view_count": null,
      "_view_module": "@jupyter-widgets/base",
      "_view_module_version": "1.2.0",
      "_view_name": "LayoutView",
      "align_content": null,
      "align_items": null,
      "align_self": null,
      "border": null,
      "bottom": null,
      "display": null,
      "flex": null,
      "flex_flow": null,
      "grid_area": null,
      "grid_auto_columns": null,
      "grid_auto_flow": null,
      "grid_auto_rows": null,
      "grid_column": null,
      "grid_gap": null,
      "grid_row": null,
      "grid_template_areas": null,
      "grid_template_columns": null,
      "grid_template_rows": null,
      "height": null,
      "justify_content": null,
      "justify_items": null,
      "left": null,
      "margin": null,
      "max_height": null,
      "max_width": null,
      "min_height": null,
      "min_width": null,
      "object_fit": null,
      "object_position": null,
      "order": null,
      "overflow": null,
      "overflow_x": null,
      "overflow_y": null,
      "padding": null,
      "right": null,
      "top": null,
      "visibility": null,
      "width": null
     }
    },
    "7d1968090a2c453391fb6ed0623a2b94": {
     "model_module": "@jupyter-widgets/base",
     "model_module_version": "1.2.0",
     "model_name": "LayoutModel",
     "state": {
      "_model_module": "@jupyter-widgets/base",
      "_model_module_version": "1.2.0",
      "_model_name": "LayoutModel",
      "_view_count": null,
      "_view_module": "@jupyter-widgets/base",
      "_view_module_version": "1.2.0",
      "_view_name": "LayoutView",
      "align_content": null,
      "align_items": null,
      "align_self": null,
      "border": null,
      "bottom": null,
      "display": null,
      "flex": null,
      "flex_flow": null,
      "grid_area": null,
      "grid_auto_columns": null,
      "grid_auto_flow": null,
      "grid_auto_rows": null,
      "grid_column": null,
      "grid_gap": null,
      "grid_row": null,
      "grid_template_areas": null,
      "grid_template_columns": null,
      "grid_template_rows": null,
      "height": null,
      "justify_content": null,
      "justify_items": null,
      "left": null,
      "margin": null,
      "max_height": null,
      "max_width": null,
      "min_height": null,
      "min_width": null,
      "object_fit": null,
      "object_position": null,
      "order": null,
      "overflow": null,
      "overflow_x": null,
      "overflow_y": null,
      "padding": null,
      "right": null,
      "top": null,
      "visibility": null,
      "width": null
     }
    },
    "7d405472bc1848bf97916b1f02db66a0": {
     "model_module": "@jupyter-widgets/controls",
     "model_module_version": "1.5.0",
     "model_name": "HBoxModel",
     "state": {
      "_dom_classes": [],
      "_model_module": "@jupyter-widgets/controls",
      "_model_module_version": "1.5.0",
      "_model_name": "HBoxModel",
      "_view_count": null,
      "_view_module": "@jupyter-widgets/controls",
      "_view_module_version": "1.5.0",
      "_view_name": "HBoxView",
      "box_style": "",
      "children": [
       "IPY_MODEL_c28b732a2610404eaa3b0bb646bbab0a",
       "IPY_MODEL_0d2e3c9f28154dbeb5c4f2786b4ce7ad",
       "IPY_MODEL_bd1fae8da01a4cd9bd8a96a4f4b4ad65"
      ],
      "layout": "IPY_MODEL_31792f490c644636b4f17d1eb5490257"
     }
    },
    "7f4029a1ac884ed58b84692088c3407b": {
     "model_module": "@jupyter-widgets/controls",
     "model_module_version": "1.5.0",
     "model_name": "DescriptionStyleModel",
     "state": {
      "_model_module": "@jupyter-widgets/controls",
      "_model_module_version": "1.5.0",
      "_model_name": "DescriptionStyleModel",
      "_view_count": null,
      "_view_module": "@jupyter-widgets/base",
      "_view_module_version": "1.2.0",
      "_view_name": "StyleView",
      "description_width": ""
     }
    },
    "7fc76219901e471aa29a3c0c0e6feb38": {
     "model_module": "@jupyter-widgets/base",
     "model_module_version": "1.2.0",
     "model_name": "LayoutModel",
     "state": {
      "_model_module": "@jupyter-widgets/base",
      "_model_module_version": "1.2.0",
      "_model_name": "LayoutModel",
      "_view_count": null,
      "_view_module": "@jupyter-widgets/base",
      "_view_module_version": "1.2.0",
      "_view_name": "LayoutView",
      "align_content": null,
      "align_items": null,
      "align_self": null,
      "border": null,
      "bottom": null,
      "display": null,
      "flex": null,
      "flex_flow": null,
      "grid_area": null,
      "grid_auto_columns": null,
      "grid_auto_flow": null,
      "grid_auto_rows": null,
      "grid_column": null,
      "grid_gap": null,
      "grid_row": null,
      "grid_template_areas": null,
      "grid_template_columns": null,
      "grid_template_rows": null,
      "height": null,
      "justify_content": null,
      "justify_items": null,
      "left": null,
      "margin": null,
      "max_height": null,
      "max_width": null,
      "min_height": null,
      "min_width": null,
      "object_fit": null,
      "object_position": null,
      "order": null,
      "overflow": null,
      "overflow_x": null,
      "overflow_y": null,
      "padding": null,
      "right": null,
      "top": null,
      "visibility": null,
      "width": null
     }
    },
    "84ca5efdb10f44fda08768f65a9b1818": {
     "model_module": "@jupyter-widgets/controls",
     "model_module_version": "1.5.0",
     "model_name": "ProgressStyleModel",
     "state": {
      "_model_module": "@jupyter-widgets/controls",
      "_model_module_version": "1.5.0",
      "_model_name": "ProgressStyleModel",
      "_view_count": null,
      "_view_module": "@jupyter-widgets/base",
      "_view_module_version": "1.2.0",
      "_view_name": "StyleView",
      "bar_color": null,
      "description_width": ""
     }
    },
    "875b70cc6c2a4dbe825bab0cb7567e03": {
     "model_module": "@jupyter-widgets/controls",
     "model_module_version": "1.5.0",
     "model_name": "DescriptionStyleModel",
     "state": {
      "_model_module": "@jupyter-widgets/controls",
      "_model_module_version": "1.5.0",
      "_model_name": "DescriptionStyleModel",
      "_view_count": null,
      "_view_module": "@jupyter-widgets/base",
      "_view_module_version": "1.2.0",
      "_view_name": "StyleView",
      "description_width": ""
     }
    },
    "8cccdec36ffe492bb016434fb0776b00": {
     "model_module": "@jupyter-widgets/controls",
     "model_module_version": "1.5.0",
     "model_name": "HTMLModel",
     "state": {
      "_dom_classes": [],
      "_model_module": "@jupyter-widgets/controls",
      "_model_module_version": "1.5.0",
      "_model_name": "HTMLModel",
      "_view_count": null,
      "_view_module": "@jupyter-widgets/controls",
      "_view_module_version": "1.5.0",
      "_view_name": "HTMLView",
      "description": "",
      "description_tooltip": null,
      "layout": "IPY_MODEL_53ec030ca2ba45d2a91a679e9951d525",
      "placeholder": "​",
      "style": "IPY_MODEL_b6002ebbc8ce44678320409f8413de07",
      "value": "Loading checkpoint shards: 100%"
     }
    },
    "8d0aa158a07c4795ab0c9a3ffb4a7e74": {
     "model_module": "@jupyter-widgets/controls",
     "model_module_version": "1.5.0",
     "model_name": "HBoxModel",
     "state": {
      "_dom_classes": [],
      "_model_module": "@jupyter-widgets/controls",
      "_model_module_version": "1.5.0",
      "_model_name": "HBoxModel",
      "_view_count": null,
      "_view_module": "@jupyter-widgets/controls",
      "_view_module_version": "1.5.0",
      "_view_name": "HBoxView",
      "box_style": "",
      "children": [
       "IPY_MODEL_3590dd0cd8524a8fa8f3ed00d2f3809e",
       "IPY_MODEL_9ebc33b0535e46d3a1cc13baa3647be5",
       "IPY_MODEL_2a40a64ad41a4518bdae08a14bbbfae3"
      ],
      "layout": "IPY_MODEL_103f6f9e6e39493b8f75aa86c29ff7ca"
     }
    },
    "8d9e659f14854d1d95001d2bf39a148c": {
     "model_module": "@jupyter-widgets/controls",
     "model_module_version": "1.5.0",
     "model_name": "DescriptionStyleModel",
     "state": {
      "_model_module": "@jupyter-widgets/controls",
      "_model_module_version": "1.5.0",
      "_model_name": "DescriptionStyleModel",
      "_view_count": null,
      "_view_module": "@jupyter-widgets/base",
      "_view_module_version": "1.2.0",
      "_view_name": "StyleView",
      "description_width": ""
     }
    },
    "8ec0a5bf31ea4eb4aad30726ce25b802": {
     "model_module": "@jupyter-widgets/base",
     "model_module_version": "1.2.0",
     "model_name": "LayoutModel",
     "state": {
      "_model_module": "@jupyter-widgets/base",
      "_model_module_version": "1.2.0",
      "_model_name": "LayoutModel",
      "_view_count": null,
      "_view_module": "@jupyter-widgets/base",
      "_view_module_version": "1.2.0",
      "_view_name": "LayoutView",
      "align_content": null,
      "align_items": null,
      "align_self": null,
      "border": null,
      "bottom": null,
      "display": null,
      "flex": null,
      "flex_flow": null,
      "grid_area": null,
      "grid_auto_columns": null,
      "grid_auto_flow": null,
      "grid_auto_rows": null,
      "grid_column": null,
      "grid_gap": null,
      "grid_row": null,
      "grid_template_areas": null,
      "grid_template_columns": null,
      "grid_template_rows": null,
      "height": null,
      "justify_content": null,
      "justify_items": null,
      "left": null,
      "margin": null,
      "max_height": null,
      "max_width": null,
      "min_height": null,
      "min_width": null,
      "object_fit": null,
      "object_position": null,
      "order": null,
      "overflow": null,
      "overflow_x": null,
      "overflow_y": null,
      "padding": null,
      "right": null,
      "top": null,
      "visibility": null,
      "width": null
     }
    },
    "8f393ecd6c5c485899cb12d385138518": {
     "model_module": "@jupyter-widgets/controls",
     "model_module_version": "1.5.0",
     "model_name": "DescriptionStyleModel",
     "state": {
      "_model_module": "@jupyter-widgets/controls",
      "_model_module_version": "1.5.0",
      "_model_name": "DescriptionStyleModel",
      "_view_count": null,
      "_view_module": "@jupyter-widgets/base",
      "_view_module_version": "1.2.0",
      "_view_name": "StyleView",
      "description_width": ""
     }
    },
    "937bdd047611413e88f4edf47453ed58": {
     "model_module": "@jupyter-widgets/base",
     "model_module_version": "1.2.0",
     "model_name": "LayoutModel",
     "state": {
      "_model_module": "@jupyter-widgets/base",
      "_model_module_version": "1.2.0",
      "_model_name": "LayoutModel",
      "_view_count": null,
      "_view_module": "@jupyter-widgets/base",
      "_view_module_version": "1.2.0",
      "_view_name": "LayoutView",
      "align_content": null,
      "align_items": null,
      "align_self": null,
      "border": null,
      "bottom": null,
      "display": null,
      "flex": null,
      "flex_flow": null,
      "grid_area": null,
      "grid_auto_columns": null,
      "grid_auto_flow": null,
      "grid_auto_rows": null,
      "grid_column": null,
      "grid_gap": null,
      "grid_row": null,
      "grid_template_areas": null,
      "grid_template_columns": null,
      "grid_template_rows": null,
      "height": null,
      "justify_content": null,
      "justify_items": null,
      "left": null,
      "margin": null,
      "max_height": null,
      "max_width": null,
      "min_height": null,
      "min_width": null,
      "object_fit": null,
      "object_position": null,
      "order": null,
      "overflow": null,
      "overflow_x": null,
      "overflow_y": null,
      "padding": null,
      "right": null,
      "top": null,
      "visibility": null,
      "width": null
     }
    },
    "94471a7cc7054fb88f9d2db48d642411": {
     "model_module": "@jupyter-widgets/controls",
     "model_module_version": "1.5.0",
     "model_name": "DescriptionStyleModel",
     "state": {
      "_model_module": "@jupyter-widgets/controls",
      "_model_module_version": "1.5.0",
      "_model_name": "DescriptionStyleModel",
      "_view_count": null,
      "_view_module": "@jupyter-widgets/base",
      "_view_module_version": "1.2.0",
      "_view_name": "StyleView",
      "description_width": ""
     }
    },
    "94af2a1675b749bdbfea7c6733f1aee9": {
     "model_module": "@jupyter-widgets/controls",
     "model_module_version": "1.5.0",
     "model_name": "DescriptionStyleModel",
     "state": {
      "_model_module": "@jupyter-widgets/controls",
      "_model_module_version": "1.5.0",
      "_model_name": "DescriptionStyleModel",
      "_view_count": null,
      "_view_module": "@jupyter-widgets/base",
      "_view_module_version": "1.2.0",
      "_view_name": "StyleView",
      "description_width": ""
     }
    },
    "9574124410c64ef18ffbc2873a620cf6": {
     "model_module": "@jupyter-widgets/controls",
     "model_module_version": "1.5.0",
     "model_name": "HTMLModel",
     "state": {
      "_dom_classes": [],
      "_model_module": "@jupyter-widgets/controls",
      "_model_module_version": "1.5.0",
      "_model_name": "HTMLModel",
      "_view_count": null,
      "_view_module": "@jupyter-widgets/controls",
      "_view_module_version": "1.5.0",
      "_view_name": "HTMLView",
      "description": "",
      "description_tooltip": null,
      "layout": "IPY_MODEL_ea4500d44dcc4340ac156fb61f8859d6",
      "placeholder": "​",
      "style": "IPY_MODEL_222728c54870429e9a4180fc6a38db52",
      "value": " 112/112 [00:00&lt;00:00, 10.7kB/s]"
     }
    },
    "95eac50ae00f4ca7b3ae4a35ae595975": {
     "model_module": "@jupyter-widgets/base",
     "model_module_version": "1.2.0",
     "model_name": "LayoutModel",
     "state": {
      "_model_module": "@jupyter-widgets/base",
      "_model_module_version": "1.2.0",
      "_model_name": "LayoutModel",
      "_view_count": null,
      "_view_module": "@jupyter-widgets/base",
      "_view_module_version": "1.2.0",
      "_view_name": "LayoutView",
      "align_content": null,
      "align_items": null,
      "align_self": null,
      "border": null,
      "bottom": null,
      "display": null,
      "flex": null,
      "flex_flow": null,
      "grid_area": null,
      "grid_auto_columns": null,
      "grid_auto_flow": null,
      "grid_auto_rows": null,
      "grid_column": null,
      "grid_gap": null,
      "grid_row": null,
      "grid_template_areas": null,
      "grid_template_columns": null,
      "grid_template_rows": null,
      "height": null,
      "justify_content": null,
      "justify_items": null,
      "left": null,
      "margin": null,
      "max_height": null,
      "max_width": null,
      "min_height": null,
      "min_width": null,
      "object_fit": null,
      "object_position": null,
      "order": null,
      "overflow": null,
      "overflow_x": null,
      "overflow_y": null,
      "padding": null,
      "right": null,
      "top": null,
      "visibility": null,
      "width": "20px"
     }
    },
    "99a5ea6645e0496ca5cb47dc51c694ef": {
     "model_module": "@jupyter-widgets/base",
     "model_module_version": "1.2.0",
     "model_name": "LayoutModel",
     "state": {
      "_model_module": "@jupyter-widgets/base",
      "_model_module_version": "1.2.0",
      "_model_name": "LayoutModel",
      "_view_count": null,
      "_view_module": "@jupyter-widgets/base",
      "_view_module_version": "1.2.0",
      "_view_name": "LayoutView",
      "align_content": null,
      "align_items": null,
      "align_self": null,
      "border": null,
      "bottom": null,
      "display": null,
      "flex": null,
      "flex_flow": null,
      "grid_area": null,
      "grid_auto_columns": null,
      "grid_auto_flow": null,
      "grid_auto_rows": null,
      "grid_column": null,
      "grid_gap": null,
      "grid_row": null,
      "grid_template_areas": null,
      "grid_template_columns": null,
      "grid_template_rows": null,
      "height": null,
      "justify_content": null,
      "justify_items": null,
      "left": null,
      "margin": null,
      "max_height": null,
      "max_width": null,
      "min_height": null,
      "min_width": null,
      "object_fit": null,
      "object_position": null,
      "order": null,
      "overflow": null,
      "overflow_x": null,
      "overflow_y": null,
      "padding": null,
      "right": null,
      "top": null,
      "visibility": null,
      "width": null
     }
    },
    "9a2376312963452eb4dbeebb2191e4d9": {
     "model_module": "@jupyter-widgets/base",
     "model_module_version": "1.2.0",
     "model_name": "LayoutModel",
     "state": {
      "_model_module": "@jupyter-widgets/base",
      "_model_module_version": "1.2.0",
      "_model_name": "LayoutModel",
      "_view_count": null,
      "_view_module": "@jupyter-widgets/base",
      "_view_module_version": "1.2.0",
      "_view_name": "LayoutView",
      "align_content": null,
      "align_items": null,
      "align_self": null,
      "border": null,
      "bottom": null,
      "display": null,
      "flex": null,
      "flex_flow": null,
      "grid_area": null,
      "grid_auto_columns": null,
      "grid_auto_flow": null,
      "grid_auto_rows": null,
      "grid_column": null,
      "grid_gap": null,
      "grid_row": null,
      "grid_template_areas": null,
      "grid_template_columns": null,
      "grid_template_rows": null,
      "height": null,
      "justify_content": null,
      "justify_items": null,
      "left": null,
      "margin": null,
      "max_height": null,
      "max_width": null,
      "min_height": null,
      "min_width": null,
      "object_fit": null,
      "object_position": null,
      "order": null,
      "overflow": null,
      "overflow_x": null,
      "overflow_y": null,
      "padding": null,
      "right": null,
      "top": null,
      "visibility": null,
      "width": null
     }
    },
    "9cbff711aa3e46a08091eb84fb058b52": {
     "model_module": "@jupyter-widgets/controls",
     "model_module_version": "1.5.0",
     "model_name": "DescriptionStyleModel",
     "state": {
      "_model_module": "@jupyter-widgets/controls",
      "_model_module_version": "1.5.0",
      "_model_name": "DescriptionStyleModel",
      "_view_count": null,
      "_view_module": "@jupyter-widgets/base",
      "_view_module_version": "1.2.0",
      "_view_name": "StyleView",
      "description_width": ""
     }
    },
    "9ebc33b0535e46d3a1cc13baa3647be5": {
     "model_module": "@jupyter-widgets/controls",
     "model_module_version": "1.5.0",
     "model_name": "FloatProgressModel",
     "state": {
      "_dom_classes": [],
      "_model_module": "@jupyter-widgets/controls",
      "_model_module_version": "1.5.0",
      "_model_name": "FloatProgressModel",
      "_view_count": null,
      "_view_module": "@jupyter-widgets/controls",
      "_view_module_version": "1.5.0",
      "_view_name": "ProgressView",
      "bar_style": "success",
      "description": "",
      "description_tooltip": null,
      "layout": "IPY_MODEL_8ec0a5bf31ea4eb4aad30726ce25b802",
      "max": 190,
      "min": 0,
      "orientation": "horizontal",
      "style": "IPY_MODEL_f4558193a58d4b4a95156f96e567cc77",
      "value": 190
     }
    },
    "a0a2ff10e15445a199d802a2a5fabdd0": {
     "model_module": "@jupyter-widgets/controls",
     "model_module_version": "1.5.0",
     "model_name": "HTMLModel",
     "state": {
      "_dom_classes": [],
      "_model_module": "@jupyter-widgets/controls",
      "_model_module_version": "1.5.0",
      "_model_name": "HTMLModel",
      "_view_count": null,
      "_view_module": "@jupyter-widgets/controls",
      "_view_module_version": "1.5.0",
      "_view_name": "HTMLView",
      "description": "",
      "description_tooltip": null,
      "layout": "IPY_MODEL_d4ef69c8422b415784a529082b23b678",
      "placeholder": "​",
      "style": "IPY_MODEL_bcbcafcf8b134e128a0516af964cd0dc",
      "value": " 53.0/53.0 [00:00&lt;00:00, 4.06kB/s]"
     }
    },
    "a25d5c516c6e4124865f7735f1907a4a": {
     "model_module": "@jupyter-widgets/base",
     "model_module_version": "1.2.0",
     "model_name": "LayoutModel",
     "state": {
      "_model_module": "@jupyter-widgets/base",
      "_model_module_version": "1.2.0",
      "_model_name": "LayoutModel",
      "_view_count": null,
      "_view_module": "@jupyter-widgets/base",
      "_view_module_version": "1.2.0",
      "_view_name": "LayoutView",
      "align_content": null,
      "align_items": null,
      "align_self": null,
      "border": null,
      "bottom": null,
      "display": null,
      "flex": null,
      "flex_flow": null,
      "grid_area": null,
      "grid_auto_columns": null,
      "grid_auto_flow": null,
      "grid_auto_rows": null,
      "grid_column": null,
      "grid_gap": null,
      "grid_row": null,
      "grid_template_areas": null,
      "grid_template_columns": null,
      "grid_template_rows": null,
      "height": null,
      "justify_content": null,
      "justify_items": null,
      "left": null,
      "margin": null,
      "max_height": null,
      "max_width": null,
      "min_height": null,
      "min_width": null,
      "object_fit": null,
      "object_position": null,
      "order": null,
      "overflow": null,
      "overflow_x": null,
      "overflow_y": null,
      "padding": null,
      "right": null,
      "top": null,
      "visibility": null,
      "width": null
     }
    },
    "a2e6a6c3ee08430aa58c07be8dc13409": {
     "model_module": "@jupyter-widgets/controls",
     "model_module_version": "1.5.0",
     "model_name": "HTMLModel",
     "state": {
      "_dom_classes": [],
      "_model_module": "@jupyter-widgets/controls",
      "_model_module_version": "1.5.0",
      "_model_name": "HTMLModel",
      "_view_count": null,
      "_view_module": "@jupyter-widgets/controls",
      "_view_module_version": "1.5.0",
      "_view_name": "HTMLView",
      "description": "",
      "description_tooltip": null,
      "layout": "IPY_MODEL_7d1968090a2c453391fb6ed0623a2b94",
      "placeholder": "​",
      "style": "IPY_MODEL_d4e67052ca724e3d9d470685d54ee730",
      "value": "config_sentence_transformers.json: 100%"
     }
    },
    "a3c4a706852d461bb464e2f9f9f567cd": {
     "model_module": "@jupyter-widgets/controls",
     "model_module_version": "1.5.0",
     "model_name": "FloatProgressModel",
     "state": {
      "_dom_classes": [],
      "_model_module": "@jupyter-widgets/controls",
      "_model_module_version": "1.5.0",
      "_model_name": "FloatProgressModel",
      "_view_count": null,
      "_view_module": "@jupyter-widgets/controls",
      "_view_module_version": "1.5.0",
      "_view_name": "ProgressView",
      "bar_style": "success",
      "description": "",
      "description_tooltip": null,
      "layout": "IPY_MODEL_b2ece580e1d143d1a09dee6639e29c34",
      "max": 4,
      "min": 0,
      "orientation": "horizontal",
      "style": "IPY_MODEL_c965085427b446b284d843c0b10bd2c5",
      "value": 4
     }
    },
    "a4e2581c8d8c44c2a6b30c6300d6f555": {
     "model_module": "@jupyter-widgets/controls",
     "model_module_version": "1.5.0",
     "model_name": "HTMLModel",
     "state": {
      "_dom_classes": [],
      "_model_module": "@jupyter-widgets/controls",
      "_model_module_version": "1.5.0",
      "_model_name": "HTMLModel",
      "_view_count": null,
      "_view_module": "@jupyter-widgets/controls",
      "_view_module_version": "1.5.0",
      "_view_name": "HTMLView",
      "description": "",
      "description_tooltip": null,
      "layout": "IPY_MODEL_e2c36e9feac54a6484c7d91d58a626d9",
      "placeholder": "​",
      "style": "IPY_MODEL_875b70cc6c2a4dbe825bab0cb7567e03",
      "value": " 10.7k/10.7k [00:00&lt;00:00, 753kB/s]"
     }
    },
    "a4f1353e3c0f4d1196ae6dfa11bb2ff0": {
     "model_module": "@jupyter-widgets/base",
     "model_module_version": "1.2.0",
     "model_name": "LayoutModel",
     "state": {
      "_model_module": "@jupyter-widgets/base",
      "_model_module_version": "1.2.0",
      "_model_name": "LayoutModel",
      "_view_count": null,
      "_view_module": "@jupyter-widgets/base",
      "_view_module_version": "1.2.0",
      "_view_name": "LayoutView",
      "align_content": null,
      "align_items": null,
      "align_self": null,
      "border": null,
      "bottom": null,
      "display": null,
      "flex": null,
      "flex_flow": null,
      "grid_area": null,
      "grid_auto_columns": null,
      "grid_auto_flow": null,
      "grid_auto_rows": null,
      "grid_column": null,
      "grid_gap": null,
      "grid_row": null,
      "grid_template_areas": null,
      "grid_template_columns": null,
      "grid_template_rows": null,
      "height": null,
      "justify_content": null,
      "justify_items": null,
      "left": null,
      "margin": null,
      "max_height": null,
      "max_width": null,
      "min_height": null,
      "min_width": null,
      "object_fit": null,
      "object_position": null,
      "order": null,
      "overflow": null,
      "overflow_x": null,
      "overflow_y": null,
      "padding": null,
      "right": null,
      "top": null,
      "visibility": null,
      "width": null
     }
    },
    "a647b425d70d4e0390694debe0f68312": {
     "model_module": "@jupyter-widgets/controls",
     "model_module_version": "1.5.0",
     "model_name": "HBoxModel",
     "state": {
      "_dom_classes": [],
      "_model_module": "@jupyter-widgets/controls",
      "_model_module_version": "1.5.0",
      "_model_name": "HBoxModel",
      "_view_count": null,
      "_view_module": "@jupyter-widgets/controls",
      "_view_module_version": "1.5.0",
      "_view_name": "HBoxView",
      "box_style": "",
      "children": [
       "IPY_MODEL_5d18e1b4b8284618b53eb977c928671f",
       "IPY_MODEL_b6a195e1afc348eba3592d1f820207d7",
       "IPY_MODEL_9574124410c64ef18ffbc2873a620cf6"
      ],
      "layout": "IPY_MODEL_db952d0ff90048778baef2093df0c301"
     }
    },
    "a79a63cad22b46ffaceac24081ef8d94": {
     "model_module": "@jupyter-widgets/base",
     "model_module_version": "1.2.0",
     "model_name": "LayoutModel",
     "state": {
      "_model_module": "@jupyter-widgets/base",
      "_model_module_version": "1.2.0",
      "_model_name": "LayoutModel",
      "_view_count": null,
      "_view_module": "@jupyter-widgets/base",
      "_view_module_version": "1.2.0",
      "_view_name": "LayoutView",
      "align_content": null,
      "align_items": null,
      "align_self": null,
      "border": null,
      "bottom": null,
      "display": null,
      "flex": null,
      "flex_flow": null,
      "grid_area": null,
      "grid_auto_columns": null,
      "grid_auto_flow": null,
      "grid_auto_rows": null,
      "grid_column": null,
      "grid_gap": null,
      "grid_row": null,
      "grid_template_areas": null,
      "grid_template_columns": null,
      "grid_template_rows": null,
      "height": null,
      "justify_content": null,
      "justify_items": null,
      "left": null,
      "margin": null,
      "max_height": null,
      "max_width": null,
      "min_height": null,
      "min_width": null,
      "object_fit": null,
      "object_position": null,
      "order": null,
      "overflow": null,
      "overflow_x": null,
      "overflow_y": null,
      "padding": null,
      "right": null,
      "top": null,
      "visibility": null,
      "width": null
     }
    },
    "a816a8eca6064e6f9c43dc71bc83cacd": {
     "model_module": "@jupyter-widgets/controls",
     "model_module_version": "1.5.0",
     "model_name": "HBoxModel",
     "state": {
      "_dom_classes": [],
      "_model_module": "@jupyter-widgets/controls",
      "_model_module_version": "1.5.0",
      "_model_name": "HBoxModel",
      "_view_count": null,
      "_view_module": "@jupyter-widgets/controls",
      "_view_module_version": "1.5.0",
      "_view_name": "HBoxView",
      "box_style": "",
      "children": [
       "IPY_MODEL_8cccdec36ffe492bb016434fb0776b00",
       "IPY_MODEL_a3c4a706852d461bb464e2f9f9f567cd",
       "IPY_MODEL_c863a1ee156b4c33b60fb4055543fada"
      ],
      "layout": "IPY_MODEL_9a2376312963452eb4dbeebb2191e4d9"
     }
    },
    "a8d1c38ee1d24983b43acf8f62b7959c": {
     "model_module": "@jupyter-widgets/controls",
     "model_module_version": "1.5.0",
     "model_name": "DescriptionStyleModel",
     "state": {
      "_model_module": "@jupyter-widgets/controls",
      "_model_module_version": "1.5.0",
      "_model_name": "DescriptionStyleModel",
      "_view_count": null,
      "_view_module": "@jupyter-widgets/base",
      "_view_module_version": "1.2.0",
      "_view_name": "StyleView",
      "description_width": ""
     }
    },
    "adea09dd9f7a4405880f31bafbb87508": {
     "model_module": "@jupyter-widgets/controls",
     "model_module_version": "1.5.0",
     "model_name": "DescriptionStyleModel",
     "state": {
      "_model_module": "@jupyter-widgets/controls",
      "_model_module_version": "1.5.0",
      "_model_name": "DescriptionStyleModel",
      "_view_count": null,
      "_view_module": "@jupyter-widgets/base",
      "_view_module_version": "1.2.0",
      "_view_name": "StyleView",
      "description_width": ""
     }
    },
    "ae034eac08ef40ebb67bd848ded95a13": {
     "model_module": "@jupyter-widgets/controls",
     "model_module_version": "1.5.0",
     "model_name": "DescriptionStyleModel",
     "state": {
      "_model_module": "@jupyter-widgets/controls",
      "_model_module_version": "1.5.0",
      "_model_name": "DescriptionStyleModel",
      "_view_count": null,
      "_view_module": "@jupyter-widgets/base",
      "_view_module_version": "1.2.0",
      "_view_name": "StyleView",
      "description_width": ""
     }
    },
    "b2ece580e1d143d1a09dee6639e29c34": {
     "model_module": "@jupyter-widgets/base",
     "model_module_version": "1.2.0",
     "model_name": "LayoutModel",
     "state": {
      "_model_module": "@jupyter-widgets/base",
      "_model_module_version": "1.2.0",
      "_model_name": "LayoutModel",
      "_view_count": null,
      "_view_module": "@jupyter-widgets/base",
      "_view_module_version": "1.2.0",
      "_view_name": "LayoutView",
      "align_content": null,
      "align_items": null,
      "align_self": null,
      "border": null,
      "bottom": null,
      "display": null,
      "flex": null,
      "flex_flow": null,
      "grid_area": null,
      "grid_auto_columns": null,
      "grid_auto_flow": null,
      "grid_auto_rows": null,
      "grid_column": null,
      "grid_gap": null,
      "grid_row": null,
      "grid_template_areas": null,
      "grid_template_columns": null,
      "grid_template_rows": null,
      "height": null,
      "justify_content": null,
      "justify_items": null,
      "left": null,
      "margin": null,
      "max_height": null,
      "max_width": null,
      "min_height": null,
      "min_width": null,
      "object_fit": null,
      "object_position": null,
      "order": null,
      "overflow": null,
      "overflow_x": null,
      "overflow_y": null,
      "padding": null,
      "right": null,
      "top": null,
      "visibility": null,
      "width": null
     }
    },
    "b509540945d343088b113f97ac9bdaf2": {
     "model_module": "@jupyter-widgets/controls",
     "model_module_version": "1.5.0",
     "model_name": "DescriptionStyleModel",
     "state": {
      "_model_module": "@jupyter-widgets/controls",
      "_model_module_version": "1.5.0",
      "_model_name": "DescriptionStyleModel",
      "_view_count": null,
      "_view_module": "@jupyter-widgets/base",
      "_view_module_version": "1.2.0",
      "_view_name": "StyleView",
      "description_width": ""
     }
    },
    "b5825644f6fc43e59d0693bf7954a869": {
     "model_module": "@jupyter-widgets/controls",
     "model_module_version": "1.5.0",
     "model_name": "HBoxModel",
     "state": {
      "_dom_classes": [],
      "_model_module": "@jupyter-widgets/controls",
      "_model_module_version": "1.5.0",
      "_model_name": "HBoxModel",
      "_view_count": null,
      "_view_module": "@jupyter-widgets/controls",
      "_view_module_version": "1.5.0",
      "_view_name": "HBoxView",
      "box_style": "",
      "children": [
       "IPY_MODEL_bcf53d95e77c41dc8e127623e9deedcb",
       "IPY_MODEL_176d7ada52b94425a15147146fe4ba36",
       "IPY_MODEL_0deb02b3e8f047d5a130130812e071a3"
      ],
      "layout": "IPY_MODEL_c2c364600d5045e5a0e6e3953426448b"
     }
    },
    "b5fb5102a3ca40d3b6f56a962774e559": {
     "model_module": "@jupyter-widgets/base",
     "model_module_version": "1.2.0",
     "model_name": "LayoutModel",
     "state": {
      "_model_module": "@jupyter-widgets/base",
      "_model_module_version": "1.2.0",
      "_model_name": "LayoutModel",
      "_view_count": null,
      "_view_module": "@jupyter-widgets/base",
      "_view_module_version": "1.2.0",
      "_view_name": "LayoutView",
      "align_content": null,
      "align_items": null,
      "align_self": null,
      "border": null,
      "bottom": null,
      "display": null,
      "flex": null,
      "flex_flow": null,
      "grid_area": null,
      "grid_auto_columns": null,
      "grid_auto_flow": null,
      "grid_auto_rows": null,
      "grid_column": null,
      "grid_gap": null,
      "grid_row": null,
      "grid_template_areas": null,
      "grid_template_columns": null,
      "grid_template_rows": null,
      "height": null,
      "justify_content": null,
      "justify_items": null,
      "left": null,
      "margin": null,
      "max_height": null,
      "max_width": null,
      "min_height": null,
      "min_width": null,
      "object_fit": null,
      "object_position": null,
      "order": null,
      "overflow": null,
      "overflow_x": null,
      "overflow_y": null,
      "padding": null,
      "right": null,
      "top": null,
      "visibility": null,
      "width": null
     }
    },
    "b6002ebbc8ce44678320409f8413de07": {
     "model_module": "@jupyter-widgets/controls",
     "model_module_version": "1.5.0",
     "model_name": "DescriptionStyleModel",
     "state": {
      "_model_module": "@jupyter-widgets/controls",
      "_model_module_version": "1.5.0",
      "_model_name": "DescriptionStyleModel",
      "_view_count": null,
      "_view_module": "@jupyter-widgets/base",
      "_view_module_version": "1.2.0",
      "_view_name": "StyleView",
      "description_width": ""
     }
    },
    "b6878d813f9e41b1a1268d2a79a74139": {
     "model_module": "@jupyter-widgets/base",
     "model_module_version": "1.2.0",
     "model_name": "LayoutModel",
     "state": {
      "_model_module": "@jupyter-widgets/base",
      "_model_module_version": "1.2.0",
      "_model_name": "LayoutModel",
      "_view_count": null,
      "_view_module": "@jupyter-widgets/base",
      "_view_module_version": "1.2.0",
      "_view_name": "LayoutView",
      "align_content": null,
      "align_items": null,
      "align_self": null,
      "border": null,
      "bottom": null,
      "display": null,
      "flex": null,
      "flex_flow": null,
      "grid_area": null,
      "grid_auto_columns": null,
      "grid_auto_flow": null,
      "grid_auto_rows": null,
      "grid_column": null,
      "grid_gap": null,
      "grid_row": null,
      "grid_template_areas": null,
      "grid_template_columns": null,
      "grid_template_rows": null,
      "height": null,
      "justify_content": null,
      "justify_items": null,
      "left": null,
      "margin": null,
      "max_height": null,
      "max_width": null,
      "min_height": null,
      "min_width": null,
      "object_fit": null,
      "object_position": null,
      "order": null,
      "overflow": null,
      "overflow_x": null,
      "overflow_y": null,
      "padding": null,
      "right": null,
      "top": null,
      "visibility": null,
      "width": null
     }
    },
    "b6a195e1afc348eba3592d1f820207d7": {
     "model_module": "@jupyter-widgets/controls",
     "model_module_version": "1.5.0",
     "model_name": "FloatProgressModel",
     "state": {
      "_dom_classes": [],
      "_model_module": "@jupyter-widgets/controls",
      "_model_module_version": "1.5.0",
      "_model_name": "FloatProgressModel",
      "_view_count": null,
      "_view_module": "@jupyter-widgets/controls",
      "_view_module_version": "1.5.0",
      "_view_name": "ProgressView",
      "bar_style": "success",
      "description": "",
      "description_tooltip": null,
      "layout": "IPY_MODEL_b5fb5102a3ca40d3b6f56a962774e559",
      "max": 112,
      "min": 0,
      "orientation": "horizontal",
      "style": "IPY_MODEL_b74e2021ae6c45acbb74cd24e4803731",
      "value": 112
     }
    },
    "b74e2021ae6c45acbb74cd24e4803731": {
     "model_module": "@jupyter-widgets/controls",
     "model_module_version": "1.5.0",
     "model_name": "ProgressStyleModel",
     "state": {
      "_model_module": "@jupyter-widgets/controls",
      "_model_module_version": "1.5.0",
      "_model_name": "ProgressStyleModel",
      "_view_count": null,
      "_view_module": "@jupyter-widgets/base",
      "_view_module_version": "1.2.0",
      "_view_name": "StyleView",
      "bar_color": null,
      "description_width": ""
     }
    },
    "bbe2228f6cb54d1db707b83d05a780fe": {
     "model_module": "@jupyter-widgets/controls",
     "model_module_version": "1.5.0",
     "model_name": "HTMLModel",
     "state": {
      "_dom_classes": [],
      "_model_module": "@jupyter-widgets/controls",
      "_model_module_version": "1.5.0",
      "_model_name": "HTMLModel",
      "_view_count": null,
      "_view_module": "@jupyter-widgets/controls",
      "_view_module_version": "1.5.0",
      "_view_name": "HTMLView",
      "description": "",
      "description_tooltip": null,
      "layout": "IPY_MODEL_1aa2e9427b3f4ea484a5c651bac0ab7e",
      "placeholder": "​",
      "style": "IPY_MODEL_0c506b42d6614883883473cd644c232b",
      "value": ""
     }
    },
    "bc1af5c3c9de43dcb5f652cb8bd9aaf5": {
     "model_module": "@jupyter-widgets/controls",
     "model_module_version": "1.5.0",
     "model_name": "DescriptionStyleModel",
     "state": {
      "_model_module": "@jupyter-widgets/controls",
      "_model_module_version": "1.5.0",
      "_model_name": "DescriptionStyleModel",
      "_view_count": null,
      "_view_module": "@jupyter-widgets/base",
      "_view_module_version": "1.2.0",
      "_view_name": "StyleView",
      "description_width": ""
     }
    },
    "bcbcafcf8b134e128a0516af964cd0dc": {
     "model_module": "@jupyter-widgets/controls",
     "model_module_version": "1.5.0",
     "model_name": "DescriptionStyleModel",
     "state": {
      "_model_module": "@jupyter-widgets/controls",
      "_model_module_version": "1.5.0",
      "_model_name": "DescriptionStyleModel",
      "_view_count": null,
      "_view_module": "@jupyter-widgets/base",
      "_view_module_version": "1.2.0",
      "_view_name": "StyleView",
      "description_width": ""
     }
    },
    "bcf53d95e77c41dc8e127623e9deedcb": {
     "model_module": "@jupyter-widgets/controls",
     "model_module_version": "1.5.0",
     "model_name": "HTMLModel",
     "state": {
      "_dom_classes": [],
      "_model_module": "@jupyter-widgets/controls",
      "_model_module_version": "1.5.0",
      "_model_name": "HTMLModel",
      "_view_count": null,
      "_view_module": "@jupyter-widgets/controls",
      "_view_module_version": "1.5.0",
      "_view_name": "HTMLView",
      "description": "",
      "description_tooltip": null,
      "layout": "IPY_MODEL_f68fb1fd052845afbdc403d1e6fe77f3",
      "placeholder": "​",
      "style": "IPY_MODEL_36794e8cb9864e9480a08f22a5e1dd84",
      "value": "modules.json: 100%"
     }
    },
    "bd1fae8da01a4cd9bd8a96a4f4b4ad65": {
     "model_module": "@jupyter-widgets/controls",
     "model_module_version": "1.5.0",
     "model_name": "HTMLModel",
     "state": {
      "_dom_classes": [],
      "_model_module": "@jupyter-widgets/controls",
      "_model_module_version": "1.5.0",
      "_model_name": "HTMLModel",
      "_view_count": null,
      "_view_module": "@jupyter-widgets/controls",
      "_view_module_version": "1.5.0",
      "_view_name": "HTMLView",
      "description": "",
      "description_tooltip": null,
      "layout": "IPY_MODEL_e4feb089b9114224956d3d0f261dee83",
      "placeholder": "​",
      "style": "IPY_MODEL_0f98fc45afbc4c9599925dddf1b2b4aa",
      "value": " 612/612 [00:00&lt;00:00, 50.5kB/s]"
     }
    },
    "c04c90fd135b4c6797925d2400ae64fd": {
     "model_module": "@jupyter-widgets/base",
     "model_module_version": "1.2.0",
     "model_name": "LayoutModel",
     "state": {
      "_model_module": "@jupyter-widgets/base",
      "_model_module_version": "1.2.0",
      "_model_name": "LayoutModel",
      "_view_count": null,
      "_view_module": "@jupyter-widgets/base",
      "_view_module_version": "1.2.0",
      "_view_name": "LayoutView",
      "align_content": null,
      "align_items": null,
      "align_self": null,
      "border": null,
      "bottom": null,
      "display": null,
      "flex": null,
      "flex_flow": null,
      "grid_area": null,
      "grid_auto_columns": null,
      "grid_auto_flow": null,
      "grid_auto_rows": null,
      "grid_column": null,
      "grid_gap": null,
      "grid_row": null,
      "grid_template_areas": null,
      "grid_template_columns": null,
      "grid_template_rows": null,
      "height": null,
      "justify_content": null,
      "justify_items": null,
      "left": null,
      "margin": null,
      "max_height": null,
      "max_width": null,
      "min_height": null,
      "min_width": null,
      "object_fit": null,
      "object_position": null,
      "order": null,
      "overflow": null,
      "overflow_x": null,
      "overflow_y": null,
      "padding": null,
      "right": null,
      "top": null,
      "visibility": null,
      "width": null
     }
    },
    "c163c5edf1dc4026a898060f0ae1a749": {
     "model_module": "@jupyter-widgets/base",
     "model_module_version": "1.2.0",
     "model_name": "LayoutModel",
     "state": {
      "_model_module": "@jupyter-widgets/base",
      "_model_module_version": "1.2.0",
      "_model_name": "LayoutModel",
      "_view_count": null,
      "_view_module": "@jupyter-widgets/base",
      "_view_module_version": "1.2.0",
      "_view_name": "LayoutView",
      "align_content": null,
      "align_items": null,
      "align_self": null,
      "border": null,
      "bottom": null,
      "display": null,
      "flex": null,
      "flex_flow": null,
      "grid_area": null,
      "grid_auto_columns": null,
      "grid_auto_flow": null,
      "grid_auto_rows": null,
      "grid_column": null,
      "grid_gap": null,
      "grid_row": null,
      "grid_template_areas": null,
      "grid_template_columns": null,
      "grid_template_rows": null,
      "height": null,
      "justify_content": null,
      "justify_items": null,
      "left": null,
      "margin": null,
      "max_height": null,
      "max_width": null,
      "min_height": null,
      "min_width": null,
      "object_fit": null,
      "object_position": null,
      "order": null,
      "overflow": null,
      "overflow_x": null,
      "overflow_y": null,
      "padding": null,
      "right": null,
      "top": null,
      "visibility": null,
      "width": null
     }
    },
    "c1c4d2dab92a4ebe9be9bebc0d292088": {
     "model_module": "@jupyter-widgets/base",
     "model_module_version": "1.2.0",
     "model_name": "LayoutModel",
     "state": {
      "_model_module": "@jupyter-widgets/base",
      "_model_module_version": "1.2.0",
      "_model_name": "LayoutModel",
      "_view_count": null,
      "_view_module": "@jupyter-widgets/base",
      "_view_module_version": "1.2.0",
      "_view_name": "LayoutView",
      "align_content": null,
      "align_items": null,
      "align_self": null,
      "border": null,
      "bottom": null,
      "display": null,
      "flex": null,
      "flex_flow": null,
      "grid_area": null,
      "grid_auto_columns": null,
      "grid_auto_flow": null,
      "grid_auto_rows": null,
      "grid_column": null,
      "grid_gap": null,
      "grid_row": null,
      "grid_template_areas": null,
      "grid_template_columns": null,
      "grid_template_rows": null,
      "height": null,
      "justify_content": null,
      "justify_items": null,
      "left": null,
      "margin": null,
      "max_height": null,
      "max_width": null,
      "min_height": null,
      "min_width": null,
      "object_fit": null,
      "object_position": null,
      "order": null,
      "overflow": null,
      "overflow_x": null,
      "overflow_y": null,
      "padding": null,
      "right": null,
      "top": null,
      "visibility": null,
      "width": null
     }
    },
    "c1f8397adcbd49449e4e18d064a84cb8": {
     "model_module": "@jupyter-widgets/controls",
     "model_module_version": "1.5.0",
     "model_name": "DescriptionStyleModel",
     "state": {
      "_model_module": "@jupyter-widgets/controls",
      "_model_module_version": "1.5.0",
      "_model_name": "DescriptionStyleModel",
      "_view_count": null,
      "_view_module": "@jupyter-widgets/base",
      "_view_module_version": "1.2.0",
      "_view_name": "StyleView",
      "description_width": ""
     }
    },
    "c28b732a2610404eaa3b0bb646bbab0a": {
     "model_module": "@jupyter-widgets/controls",
     "model_module_version": "1.5.0",
     "model_name": "HTMLModel",
     "state": {
      "_dom_classes": [],
      "_model_module": "@jupyter-widgets/controls",
      "_model_module_version": "1.5.0",
      "_model_name": "HTMLModel",
      "_view_count": null,
      "_view_module": "@jupyter-widgets/controls",
      "_view_module_version": "1.5.0",
      "_view_name": "HTMLView",
      "description": "",
      "description_tooltip": null,
      "layout": "IPY_MODEL_e3282ad937554f0ba457c93d9e0304a5",
      "placeholder": "​",
      "style": "IPY_MODEL_ae034eac08ef40ebb67bd848ded95a13",
      "value": "config.json: 100%"
     }
    },
    "c2c364600d5045e5a0e6e3953426448b": {
     "model_module": "@jupyter-widgets/base",
     "model_module_version": "1.2.0",
     "model_name": "LayoutModel",
     "state": {
      "_model_module": "@jupyter-widgets/base",
      "_model_module_version": "1.2.0",
      "_model_name": "LayoutModel",
      "_view_count": null,
      "_view_module": "@jupyter-widgets/base",
      "_view_module_version": "1.2.0",
      "_view_name": "LayoutView",
      "align_content": null,
      "align_items": null,
      "align_self": null,
      "border": null,
      "bottom": null,
      "display": null,
      "flex": null,
      "flex_flow": null,
      "grid_area": null,
      "grid_auto_columns": null,
      "grid_auto_flow": null,
      "grid_auto_rows": null,
      "grid_column": null,
      "grid_gap": null,
      "grid_row": null,
      "grid_template_areas": null,
      "grid_template_columns": null,
      "grid_template_rows": null,
      "height": null,
      "justify_content": null,
      "justify_items": null,
      "left": null,
      "margin": null,
      "max_height": null,
      "max_width": null,
      "min_height": null,
      "min_width": null,
      "object_fit": null,
      "object_position": null,
      "order": null,
      "overflow": null,
      "overflow_x": null,
      "overflow_y": null,
      "padding": null,
      "right": null,
      "top": null,
      "visibility": null,
      "width": null
     }
    },
    "c4737417d91648a8805a90d2f723c929": {
     "model_module": "@jupyter-widgets/controls",
     "model_module_version": "1.5.0",
     "model_name": "DescriptionStyleModel",
     "state": {
      "_model_module": "@jupyter-widgets/controls",
      "_model_module_version": "1.5.0",
      "_model_name": "DescriptionStyleModel",
      "_view_count": null,
      "_view_module": "@jupyter-widgets/base",
      "_view_module_version": "1.2.0",
      "_view_name": "StyleView",
      "description_width": ""
     }
    },
    "c5f4f8e682374efe877713c3596689dc": {
     "model_module": "@jupyter-widgets/base",
     "model_module_version": "1.2.0",
     "model_name": "LayoutModel",
     "state": {
      "_model_module": "@jupyter-widgets/base",
      "_model_module_version": "1.2.0",
      "_model_name": "LayoutModel",
      "_view_count": null,
      "_view_module": "@jupyter-widgets/base",
      "_view_module_version": "1.2.0",
      "_view_name": "LayoutView",
      "align_content": null,
      "align_items": null,
      "align_self": null,
      "border": null,
      "bottom": null,
      "display": null,
      "flex": null,
      "flex_flow": null,
      "grid_area": null,
      "grid_auto_columns": null,
      "grid_auto_flow": null,
      "grid_auto_rows": null,
      "grid_column": null,
      "grid_gap": null,
      "grid_row": null,
      "grid_template_areas": null,
      "grid_template_columns": null,
      "grid_template_rows": null,
      "height": null,
      "justify_content": null,
      "justify_items": null,
      "left": null,
      "margin": null,
      "max_height": null,
      "max_width": null,
      "min_height": null,
      "min_width": null,
      "object_fit": null,
      "object_position": null,
      "order": null,
      "overflow": null,
      "overflow_x": null,
      "overflow_y": null,
      "padding": null,
      "right": null,
      "top": null,
      "visibility": null,
      "width": null
     }
    },
    "c6e98c7b338340438fc3e7fff658eead": {
     "model_module": "@jupyter-widgets/base",
     "model_module_version": "1.2.0",
     "model_name": "LayoutModel",
     "state": {
      "_model_module": "@jupyter-widgets/base",
      "_model_module_version": "1.2.0",
      "_model_name": "LayoutModel",
      "_view_count": null,
      "_view_module": "@jupyter-widgets/base",
      "_view_module_version": "1.2.0",
      "_view_name": "LayoutView",
      "align_content": null,
      "align_items": null,
      "align_self": null,
      "border": null,
      "bottom": null,
      "display": null,
      "flex": null,
      "flex_flow": null,
      "grid_area": null,
      "grid_auto_columns": null,
      "grid_auto_flow": null,
      "grid_auto_rows": null,
      "grid_column": null,
      "grid_gap": null,
      "grid_row": null,
      "grid_template_areas": null,
      "grid_template_columns": null,
      "grid_template_rows": null,
      "height": null,
      "justify_content": null,
      "justify_items": null,
      "left": null,
      "margin": null,
      "max_height": null,
      "max_width": null,
      "min_height": null,
      "min_width": null,
      "object_fit": null,
      "object_position": null,
      "order": null,
      "overflow": null,
      "overflow_x": null,
      "overflow_y": null,
      "padding": null,
      "right": null,
      "top": null,
      "visibility": null,
      "width": null
     }
    },
    "c863a1ee156b4c33b60fb4055543fada": {
     "model_module": "@jupyter-widgets/controls",
     "model_module_version": "1.5.0",
     "model_name": "HTMLModel",
     "state": {
      "_dom_classes": [],
      "_model_module": "@jupyter-widgets/controls",
      "_model_module_version": "1.5.0",
      "_model_name": "HTMLModel",
      "_view_count": null,
      "_view_module": "@jupyter-widgets/controls",
      "_view_module_version": "1.5.0",
      "_view_name": "HTMLView",
      "description": "",
      "description_tooltip": null,
      "layout": "IPY_MODEL_a79a63cad22b46ffaceac24081ef8d94",
      "placeholder": "​",
      "style": "IPY_MODEL_8d9e659f14854d1d95001d2bf39a148c",
      "value": " 4/4 [01:15&lt;00:00, 16.04s/it]"
     }
    },
    "c965085427b446b284d843c0b10bd2c5": {
     "model_module": "@jupyter-widgets/controls",
     "model_module_version": "1.5.0",
     "model_name": "ProgressStyleModel",
     "state": {
      "_model_module": "@jupyter-widgets/controls",
      "_model_module_version": "1.5.0",
      "_model_name": "ProgressStyleModel",
      "_view_count": null,
      "_view_module": "@jupyter-widgets/base",
      "_view_module_version": "1.2.0",
      "_view_name": "StyleView",
      "bar_color": null,
      "description_width": ""
     }
    },
    "cde016fed7ae41a98ce8066feb51ca1a": {
     "model_module": "@jupyter-widgets/controls",
     "model_module_version": "1.5.0",
     "model_name": "FloatProgressModel",
     "state": {
      "_dom_classes": [],
      "_model_module": "@jupyter-widgets/controls",
      "_model_module_version": "1.5.0",
      "_model_name": "FloatProgressModel",
      "_view_count": null,
      "_view_module": "@jupyter-widgets/controls",
      "_view_module_version": "1.5.0",
      "_view_name": "ProgressView",
      "bar_style": "success",
      "description": "",
      "description_tooltip": null,
      "layout": "IPY_MODEL_f1c096d3e29647b5a4c2ea2e0f4b9ba7",
      "max": 116,
      "min": 0,
      "orientation": "horizontal",
      "style": "IPY_MODEL_6d0e24fa6f6a437e8199160bd6fd0983",
      "value": 116
     }
    },
    "d0f8dee6be55415cad52d7fa5924b6a7": {
     "model_module": "@jupyter-widgets/controls",
     "model_module_version": "1.5.0",
     "model_name": "ProgressStyleModel",
     "state": {
      "_model_module": "@jupyter-widgets/controls",
      "_model_module_version": "1.5.0",
      "_model_name": "ProgressStyleModel",
      "_view_count": null,
      "_view_module": "@jupyter-widgets/base",
      "_view_module_version": "1.2.0",
      "_view_name": "StyleView",
      "bar_color": null,
      "description_width": ""
     }
    },
    "d2372fc6bb5b4bd9a76f1d369e335ed2": {
     "model_module": "@jupyter-widgets/base",
     "model_module_version": "1.2.0",
     "model_name": "LayoutModel",
     "state": {
      "_model_module": "@jupyter-widgets/base",
      "_model_module_version": "1.2.0",
      "_model_name": "LayoutModel",
      "_view_count": null,
      "_view_module": "@jupyter-widgets/base",
      "_view_module_version": "1.2.0",
      "_view_name": "LayoutView",
      "align_content": null,
      "align_items": null,
      "align_self": null,
      "border": null,
      "bottom": null,
      "display": null,
      "flex": null,
      "flex_flow": null,
      "grid_area": null,
      "grid_auto_columns": null,
      "grid_auto_flow": null,
      "grid_auto_rows": null,
      "grid_column": null,
      "grid_gap": null,
      "grid_row": null,
      "grid_template_areas": null,
      "grid_template_columns": null,
      "grid_template_rows": null,
      "height": null,
      "justify_content": null,
      "justify_items": null,
      "left": null,
      "margin": null,
      "max_height": null,
      "max_width": null,
      "min_height": null,
      "min_width": null,
      "object_fit": null,
      "object_position": null,
      "order": null,
      "overflow": null,
      "overflow_x": null,
      "overflow_y": null,
      "padding": null,
      "right": null,
      "top": null,
      "visibility": null,
      "width": null
     }
    },
    "d4e67052ca724e3d9d470685d54ee730": {
     "model_module": "@jupyter-widgets/controls",
     "model_module_version": "1.5.0",
     "model_name": "DescriptionStyleModel",
     "state": {
      "_model_module": "@jupyter-widgets/controls",
      "_model_module_version": "1.5.0",
      "_model_name": "DescriptionStyleModel",
      "_view_count": null,
      "_view_module": "@jupyter-widgets/base",
      "_view_module_version": "1.2.0",
      "_view_name": "StyleView",
      "description_width": ""
     }
    },
    "d4ef69c8422b415784a529082b23b678": {
     "model_module": "@jupyter-widgets/base",
     "model_module_version": "1.2.0",
     "model_name": "LayoutModel",
     "state": {
      "_model_module": "@jupyter-widgets/base",
      "_model_module_version": "1.2.0",
      "_model_name": "LayoutModel",
      "_view_count": null,
      "_view_module": "@jupyter-widgets/base",
      "_view_module_version": "1.2.0",
      "_view_name": "LayoutView",
      "align_content": null,
      "align_items": null,
      "align_self": null,
      "border": null,
      "bottom": null,
      "display": null,
      "flex": null,
      "flex_flow": null,
      "grid_area": null,
      "grid_auto_columns": null,
      "grid_auto_flow": null,
      "grid_auto_rows": null,
      "grid_column": null,
      "grid_gap": null,
      "grid_row": null,
      "grid_template_areas": null,
      "grid_template_columns": null,
      "grid_template_rows": null,
      "height": null,
      "justify_content": null,
      "justify_items": null,
      "left": null,
      "margin": null,
      "max_height": null,
      "max_width": null,
      "min_height": null,
      "min_width": null,
      "object_fit": null,
      "object_position": null,
      "order": null,
      "overflow": null,
      "overflow_x": null,
      "overflow_y": null,
      "padding": null,
      "right": null,
      "top": null,
      "visibility": null,
      "width": null
     }
    },
    "d55b113fe5e247a4be15cbe83aa77a8f": {
     "model_module": "@jupyter-widgets/controls",
     "model_module_version": "1.5.0",
     "model_name": "ProgressStyleModel",
     "state": {
      "_model_module": "@jupyter-widgets/controls",
      "_model_module_version": "1.5.0",
      "_model_name": "ProgressStyleModel",
      "_view_count": null,
      "_view_module": "@jupyter-widgets/base",
      "_view_module_version": "1.2.0",
      "_view_name": "StyleView",
      "bar_color": null,
      "description_width": ""
     }
    },
    "d5bf733cedf04a0b89b64f7818433d9d": {
     "model_module": "@jupyter-widgets/controls",
     "model_module_version": "1.5.0",
     "model_name": "HTMLModel",
     "state": {
      "_dom_classes": [],
      "_model_module": "@jupyter-widgets/controls",
      "_model_module_version": "1.5.0",
      "_model_name": "HTMLModel",
      "_view_count": null,
      "_view_module": "@jupyter-widgets/controls",
      "_view_module_version": "1.5.0",
      "_view_name": "HTMLView",
      "description": "",
      "description_tooltip": null,
      "layout": "IPY_MODEL_5270f93ed0394252b3faf6b61196bdee",
      "placeholder": "​",
      "style": "IPY_MODEL_9cbff711aa3e46a08091eb84fb058b52",
      "value": "tokenizer.json: 100%"
     }
    },
    "d78a3ed1e3aa42eda56ac64542916a9b": {
     "model_module": "@jupyter-widgets/base",
     "model_module_version": "1.2.0",
     "model_name": "LayoutModel",
     "state": {
      "_model_module": "@jupyter-widgets/base",
      "_model_module_version": "1.2.0",
      "_model_name": "LayoutModel",
      "_view_count": null,
      "_view_module": "@jupyter-widgets/base",
      "_view_module_version": "1.2.0",
      "_view_name": "LayoutView",
      "align_content": null,
      "align_items": null,
      "align_self": null,
      "border": null,
      "bottom": null,
      "display": null,
      "flex": null,
      "flex_flow": null,
      "grid_area": null,
      "grid_auto_columns": null,
      "grid_auto_flow": null,
      "grid_auto_rows": null,
      "grid_column": null,
      "grid_gap": null,
      "grid_row": null,
      "grid_template_areas": null,
      "grid_template_columns": null,
      "grid_template_rows": null,
      "height": null,
      "justify_content": null,
      "justify_items": null,
      "left": null,
      "margin": null,
      "max_height": null,
      "max_width": null,
      "min_height": null,
      "min_width": null,
      "object_fit": null,
      "object_position": null,
      "order": null,
      "overflow": null,
      "overflow_x": null,
      "overflow_y": null,
      "padding": null,
      "right": null,
      "top": null,
      "visibility": null,
      "width": null
     }
    },
    "db952d0ff90048778baef2093df0c301": {
     "model_module": "@jupyter-widgets/base",
     "model_module_version": "1.2.0",
     "model_name": "LayoutModel",
     "state": {
      "_model_module": "@jupyter-widgets/base",
      "_model_module_version": "1.2.0",
      "_model_name": "LayoutModel",
      "_view_count": null,
      "_view_module": "@jupyter-widgets/base",
      "_view_module_version": "1.2.0",
      "_view_name": "LayoutView",
      "align_content": null,
      "align_items": null,
      "align_self": null,
      "border": null,
      "bottom": null,
      "display": null,
      "flex": null,
      "flex_flow": null,
      "grid_area": null,
      "grid_auto_columns": null,
      "grid_auto_flow": null,
      "grid_auto_rows": null,
      "grid_column": null,
      "grid_gap": null,
      "grid_row": null,
      "grid_template_areas": null,
      "grid_template_columns": null,
      "grid_template_rows": null,
      "height": null,
      "justify_content": null,
      "justify_items": null,
      "left": null,
      "margin": null,
      "max_height": null,
      "max_width": null,
      "min_height": null,
      "min_width": null,
      "object_fit": null,
      "object_position": null,
      "order": null,
      "overflow": null,
      "overflow_x": null,
      "overflow_y": null,
      "padding": null,
      "right": null,
      "top": null,
      "visibility": null,
      "width": null
     }
    },
    "db9dd436d4f94e7ca69a7747a8a86ad7": {
     "model_module": "@jupyter-widgets/controls",
     "model_module_version": "1.5.0",
     "model_name": "HTMLModel",
     "state": {
      "_dom_classes": [],
      "_model_module": "@jupyter-widgets/controls",
      "_model_module_version": "1.5.0",
      "_model_name": "HTMLModel",
      "_view_count": null,
      "_view_module": "@jupyter-widgets/controls",
      "_view_module_version": "1.5.0",
      "_view_name": "HTMLView",
      "description": "",
      "description_tooltip": null,
      "layout": "IPY_MODEL_04ba7ad1976e4f67b93a085da657dacd",
      "placeholder": "​",
      "style": "IPY_MODEL_1b61745223e24e068157d1c756edf27a",
      "value": "model.safetensors: 100%"
     }
    },
    "e078ebdba01f4fc7aebc3dce562a51bc": {
     "model_module": "@jupyter-widgets/base",
     "model_module_version": "1.2.0",
     "model_name": "LayoutModel",
     "state": {
      "_model_module": "@jupyter-widgets/base",
      "_model_module_version": "1.2.0",
      "_model_name": "LayoutModel",
      "_view_count": null,
      "_view_module": "@jupyter-widgets/base",
      "_view_module_version": "1.2.0",
      "_view_name": "LayoutView",
      "align_content": null,
      "align_items": null,
      "align_self": null,
      "border": null,
      "bottom": null,
      "display": null,
      "flex": null,
      "flex_flow": null,
      "grid_area": null,
      "grid_auto_columns": null,
      "grid_auto_flow": null,
      "grid_auto_rows": null,
      "grid_column": null,
      "grid_gap": null,
      "grid_row": null,
      "grid_template_areas": null,
      "grid_template_columns": null,
      "grid_template_rows": null,
      "height": null,
      "justify_content": null,
      "justify_items": null,
      "left": null,
      "margin": null,
      "max_height": null,
      "max_width": null,
      "min_height": null,
      "min_width": null,
      "object_fit": null,
      "object_position": null,
      "order": null,
      "overflow": null,
      "overflow_x": null,
      "overflow_y": null,
      "padding": null,
      "right": null,
      "top": null,
      "visibility": null,
      "width": null
     }
    },
    "e0e92a0c71b6467db422cd1f4df2fcbd": {
     "model_module": "@jupyter-widgets/controls",
     "model_module_version": "1.5.0",
     "model_name": "DescriptionStyleModel",
     "state": {
      "_model_module": "@jupyter-widgets/controls",
      "_model_module_version": "1.5.0",
      "_model_name": "DescriptionStyleModel",
      "_view_count": null,
      "_view_module": "@jupyter-widgets/base",
      "_view_module_version": "1.2.0",
      "_view_name": "StyleView",
      "description_width": ""
     }
    },
    "e2719575a13e467e8f6e87ec8bb87d69": {
     "model_module": "@jupyter-widgets/controls",
     "model_module_version": "1.5.0",
     "model_name": "ProgressStyleModel",
     "state": {
      "_model_module": "@jupyter-widgets/controls",
      "_model_module_version": "1.5.0",
      "_model_name": "ProgressStyleModel",
      "_view_count": null,
      "_view_module": "@jupyter-widgets/base",
      "_view_module_version": "1.2.0",
      "_view_name": "StyleView",
      "bar_color": null,
      "description_width": ""
     }
    },
    "e2c36e9feac54a6484c7d91d58a626d9": {
     "model_module": "@jupyter-widgets/base",
     "model_module_version": "1.2.0",
     "model_name": "LayoutModel",
     "state": {
      "_model_module": "@jupyter-widgets/base",
      "_model_module_version": "1.2.0",
      "_model_name": "LayoutModel",
      "_view_count": null,
      "_view_module": "@jupyter-widgets/base",
      "_view_module_version": "1.2.0",
      "_view_name": "LayoutView",
      "align_content": null,
      "align_items": null,
      "align_self": null,
      "border": null,
      "bottom": null,
      "display": null,
      "flex": null,
      "flex_flow": null,
      "grid_area": null,
      "grid_auto_columns": null,
      "grid_auto_flow": null,
      "grid_auto_rows": null,
      "grid_column": null,
      "grid_gap": null,
      "grid_row": null,
      "grid_template_areas": null,
      "grid_template_columns": null,
      "grid_template_rows": null,
      "height": null,
      "justify_content": null,
      "justify_items": null,
      "left": null,
      "margin": null,
      "max_height": null,
      "max_width": null,
      "min_height": null,
      "min_width": null,
      "object_fit": null,
      "object_position": null,
      "order": null,
      "overflow": null,
      "overflow_x": null,
      "overflow_y": null,
      "padding": null,
      "right": null,
      "top": null,
      "visibility": null,
      "width": null
     }
    },
    "e3282ad937554f0ba457c93d9e0304a5": {
     "model_module": "@jupyter-widgets/base",
     "model_module_version": "1.2.0",
     "model_name": "LayoutModel",
     "state": {
      "_model_module": "@jupyter-widgets/base",
      "_model_module_version": "1.2.0",
      "_model_name": "LayoutModel",
      "_view_count": null,
      "_view_module": "@jupyter-widgets/base",
      "_view_module_version": "1.2.0",
      "_view_name": "LayoutView",
      "align_content": null,
      "align_items": null,
      "align_self": null,
      "border": null,
      "bottom": null,
      "display": null,
      "flex": null,
      "flex_flow": null,
      "grid_area": null,
      "grid_auto_columns": null,
      "grid_auto_flow": null,
      "grid_auto_rows": null,
      "grid_column": null,
      "grid_gap": null,
      "grid_row": null,
      "grid_template_areas": null,
      "grid_template_columns": null,
      "grid_template_rows": null,
      "height": null,
      "justify_content": null,
      "justify_items": null,
      "left": null,
      "margin": null,
      "max_height": null,
      "max_width": null,
      "min_height": null,
      "min_width": null,
      "object_fit": null,
      "object_position": null,
      "order": null,
      "overflow": null,
      "overflow_x": null,
      "overflow_y": null,
      "padding": null,
      "right": null,
      "top": null,
      "visibility": null,
      "width": null
     }
    },
    "e473437f63b74f168253e28ae2e34336": {
     "model_module": "@jupyter-widgets/controls",
     "model_module_version": "1.5.0",
     "model_name": "FloatProgressModel",
     "state": {
      "_dom_classes": [],
      "_model_module": "@jupyter-widgets/controls",
      "_model_module_version": "1.5.0",
      "_model_name": "FloatProgressModel",
      "_view_count": null,
      "_view_module": "@jupyter-widgets/controls",
      "_view_module_version": "1.5.0",
      "_view_name": "ProgressView",
      "bar_style": "success",
      "description": "",
      "description_tooltip": null,
      "layout": "IPY_MODEL_7aada3784d7240f799493004c9c3bc6b",
      "max": 350,
      "min": 0,
      "orientation": "horizontal",
      "style": "IPY_MODEL_2cc1cb8d6db34bbbb06ca438bbe01a87",
      "value": 350
     }
    },
    "e4feb089b9114224956d3d0f261dee83": {
     "model_module": "@jupyter-widgets/base",
     "model_module_version": "1.2.0",
     "model_name": "LayoutModel",
     "state": {
      "_model_module": "@jupyter-widgets/base",
      "_model_module_version": "1.2.0",
      "_model_name": "LayoutModel",
      "_view_count": null,
      "_view_module": "@jupyter-widgets/base",
      "_view_module_version": "1.2.0",
      "_view_name": "LayoutView",
      "align_content": null,
      "align_items": null,
      "align_self": null,
      "border": null,
      "bottom": null,
      "display": null,
      "flex": null,
      "flex_flow": null,
      "grid_area": null,
      "grid_auto_columns": null,
      "grid_auto_flow": null,
      "grid_auto_rows": null,
      "grid_column": null,
      "grid_gap": null,
      "grid_row": null,
      "grid_template_areas": null,
      "grid_template_columns": null,
      "grid_template_rows": null,
      "height": null,
      "justify_content": null,
      "justify_items": null,
      "left": null,
      "margin": null,
      "max_height": null,
      "max_width": null,
      "min_height": null,
      "min_width": null,
      "object_fit": null,
      "object_position": null,
      "order": null,
      "overflow": null,
      "overflow_x": null,
      "overflow_y": null,
      "padding": null,
      "right": null,
      "top": null,
      "visibility": null,
      "width": null
     }
    },
    "e6335775e92949d19f7242e0a136bdc0": {
     "model_module": "@jupyter-widgets/controls",
     "model_module_version": "1.5.0",
     "model_name": "ProgressStyleModel",
     "state": {
      "_model_module": "@jupyter-widgets/controls",
      "_model_module_version": "1.5.0",
      "_model_name": "ProgressStyleModel",
      "_view_count": null,
      "_view_module": "@jupyter-widgets/base",
      "_view_module_version": "1.2.0",
      "_view_name": "StyleView",
      "bar_color": null,
      "description_width": ""
     }
    },
    "e730d7db9a6e4d18aa5f0a712cb0225f": {
     "model_module": "@jupyter-widgets/controls",
     "model_module_version": "1.5.0",
     "model_name": "HTMLModel",
     "state": {
      "_dom_classes": [],
      "_model_module": "@jupyter-widgets/controls",
      "_model_module_version": "1.5.0",
      "_model_name": "HTMLModel",
      "_view_count": null,
      "_view_module": "@jupyter-widgets/controls",
      "_view_module_version": "1.5.0",
      "_view_name": "HTMLView",
      "description": "",
      "description_tooltip": null,
      "layout": "IPY_MODEL_00618a11497e47719f3fd110fc596091",
      "placeholder": "​",
      "style": "IPY_MODEL_94471a7cc7054fb88f9d2db48d642411",
      "value": " 1018/1018 [00:10&lt;00:00, 101.25it/s]"
     }
    },
    "e7a595a2f3904b2694759528d7fe3ef2": {
     "model_module": "@jupyter-widgets/controls",
     "model_module_version": "1.5.0",
     "model_name": "DescriptionStyleModel",
     "state": {
      "_model_module": "@jupyter-widgets/controls",
      "_model_module_version": "1.5.0",
      "_model_name": "DescriptionStyleModel",
      "_view_count": null,
      "_view_module": "@jupyter-widgets/base",
      "_view_module_version": "1.2.0",
      "_view_name": "StyleView",
      "description_width": ""
     }
    },
    "e9436731566d4c8497ea37137d3f3571": {
     "model_module": "@jupyter-widgets/controls",
     "model_module_version": "1.5.0",
     "model_name": "HTMLModel",
     "state": {
      "_dom_classes": [],
      "_model_module": "@jupyter-widgets/controls",
      "_model_module_version": "1.5.0",
      "_model_name": "HTMLModel",
      "_view_count": null,
      "_view_module": "@jupyter-widgets/controls",
      "_view_module_version": "1.5.0",
      "_view_name": "HTMLView",
      "description": "",
      "description_tooltip": null,
      "layout": "IPY_MODEL_59ea63b066fe491ba7ae4fe49c473da4",
      "placeholder": "​",
      "style": "IPY_MODEL_c4737417d91648a8805a90d2f723c929",
      "value": " 90.9M/90.9M [00:00&lt;00:00, 212MB/s]"
     }
    },
    "e960f76d56a8425fba3f76473a5d79ee": {
     "model_module": "@jupyter-widgets/controls",
     "model_module_version": "1.5.0",
     "model_name": "ProgressStyleModel",
     "state": {
      "_model_module": "@jupyter-widgets/controls",
      "_model_module_version": "1.5.0",
      "_model_name": "ProgressStyleModel",
      "_view_count": null,
      "_view_module": "@jupyter-widgets/base",
      "_view_module_version": "1.2.0",
      "_view_name": "StyleView",
      "bar_color": null,
      "description_width": ""
     }
    },
    "ea4500d44dcc4340ac156fb61f8859d6": {
     "model_module": "@jupyter-widgets/base",
     "model_module_version": "1.2.0",
     "model_name": "LayoutModel",
     "state": {
      "_model_module": "@jupyter-widgets/base",
      "_model_module_version": "1.2.0",
      "_model_name": "LayoutModel",
      "_view_count": null,
      "_view_module": "@jupyter-widgets/base",
      "_view_module_version": "1.2.0",
      "_view_name": "LayoutView",
      "align_content": null,
      "align_items": null,
      "align_self": null,
      "border": null,
      "bottom": null,
      "display": null,
      "flex": null,
      "flex_flow": null,
      "grid_area": null,
      "grid_auto_columns": null,
      "grid_auto_flow": null,
      "grid_auto_rows": null,
      "grid_column": null,
      "grid_gap": null,
      "grid_row": null,
      "grid_template_areas": null,
      "grid_template_columns": null,
      "grid_template_rows": null,
      "height": null,
      "justify_content": null,
      "justify_items": null,
      "left": null,
      "margin": null,
      "max_height": null,
      "max_width": null,
      "min_height": null,
      "min_width": null,
      "object_fit": null,
      "object_position": null,
      "order": null,
      "overflow": null,
      "overflow_x": null,
      "overflow_y": null,
      "padding": null,
      "right": null,
      "top": null,
      "visibility": null,
      "width": null
     }
    },
    "eaf5b31eface4f34ad69b78aa88eb8fb": {
     "model_module": "@jupyter-widgets/controls",
     "model_module_version": "1.5.0",
     "model_name": "HBoxModel",
     "state": {
      "_dom_classes": [],
      "_model_module": "@jupyter-widgets/controls",
      "_model_module_version": "1.5.0",
      "_model_name": "HBoxModel",
      "_view_count": null,
      "_view_module": "@jupyter-widgets/controls",
      "_view_module_version": "1.5.0",
      "_view_name": "HBoxView",
      "box_style": "",
      "children": [
       "IPY_MODEL_21c75ac95459411083e5065aed9f8036",
       "IPY_MODEL_6ab43f1e8fe147c7a472df928eda8773",
       "IPY_MODEL_a0a2ff10e15445a199d802a2a5fabdd0"
      ],
      "layout": "IPY_MODEL_c5f4f8e682374efe877713c3596689dc"
     }
    },
    "ec55f7c5c0cd441597a2aa966e02415d": {
     "model_module": "@jupyter-widgets/base",
     "model_module_version": "1.2.0",
     "model_name": "LayoutModel",
     "state": {
      "_model_module": "@jupyter-widgets/base",
      "_model_module_version": "1.2.0",
      "_model_name": "LayoutModel",
      "_view_count": null,
      "_view_module": "@jupyter-widgets/base",
      "_view_module_version": "1.2.0",
      "_view_name": "LayoutView",
      "align_content": null,
      "align_items": null,
      "align_self": null,
      "border": null,
      "bottom": null,
      "display": null,
      "flex": null,
      "flex_flow": null,
      "grid_area": null,
      "grid_auto_columns": null,
      "grid_auto_flow": null,
      "grid_auto_rows": null,
      "grid_column": null,
      "grid_gap": null,
      "grid_row": null,
      "grid_template_areas": null,
      "grid_template_columns": null,
      "grid_template_rows": null,
      "height": null,
      "justify_content": null,
      "justify_items": null,
      "left": null,
      "margin": null,
      "max_height": null,
      "max_width": null,
      "min_height": null,
      "min_width": null,
      "object_fit": null,
      "object_position": null,
      "order": null,
      "overflow": null,
      "overflow_x": null,
      "overflow_y": null,
      "padding": null,
      "right": null,
      "top": null,
      "visibility": null,
      "width": null
     }
    },
    "f1c096d3e29647b5a4c2ea2e0f4b9ba7": {
     "model_module": "@jupyter-widgets/base",
     "model_module_version": "1.2.0",
     "model_name": "LayoutModel",
     "state": {
      "_model_module": "@jupyter-widgets/base",
      "_model_module_version": "1.2.0",
      "_model_name": "LayoutModel",
      "_view_count": null,
      "_view_module": "@jupyter-widgets/base",
      "_view_module_version": "1.2.0",
      "_view_name": "LayoutView",
      "align_content": null,
      "align_items": null,
      "align_self": null,
      "border": null,
      "bottom": null,
      "display": null,
      "flex": null,
      "flex_flow": null,
      "grid_area": null,
      "grid_auto_columns": null,
      "grid_auto_flow": null,
      "grid_auto_rows": null,
      "grid_column": null,
      "grid_gap": null,
      "grid_row": null,
      "grid_template_areas": null,
      "grid_template_columns": null,
      "grid_template_rows": null,
      "height": null,
      "justify_content": null,
      "justify_items": null,
      "left": null,
      "margin": null,
      "max_height": null,
      "max_width": null,
      "min_height": null,
      "min_width": null,
      "object_fit": null,
      "object_position": null,
      "order": null,
      "overflow": null,
      "overflow_x": null,
      "overflow_y": null,
      "padding": null,
      "right": null,
      "top": null,
      "visibility": null,
      "width": null
     }
    },
    "f1e188e40c6048a6b084ec383364a9f7": {
     "model_module": "@jupyter-widgets/controls",
     "model_module_version": "1.5.0",
     "model_name": "HTMLModel",
     "state": {
      "_dom_classes": [],
      "_model_module": "@jupyter-widgets/controls",
      "_model_module_version": "1.5.0",
      "_model_name": "HTMLModel",
      "_view_count": null,
      "_view_module": "@jupyter-widgets/controls",
      "_view_module_version": "1.5.0",
      "_view_name": "HTMLView",
      "description": "",
      "description_tooltip": null,
      "layout": "IPY_MODEL_0e0d658c8cf04a68aefe6d8658d003c0",
      "placeholder": "​",
      "style": "IPY_MODEL_e7a595a2f3904b2694759528d7fe3ef2",
      "value": " 466k/466k [00:00&lt;00:00, 2.84MB/s]"
     }
    },
    "f2d122fe7d5e456089a78ddd25d15f1a": {
     "model_module": "@jupyter-widgets/base",
     "model_module_version": "1.2.0",
     "model_name": "LayoutModel",
     "state": {
      "_model_module": "@jupyter-widgets/base",
      "_model_module_version": "1.2.0",
      "_model_name": "LayoutModel",
      "_view_count": null,
      "_view_module": "@jupyter-widgets/base",
      "_view_module_version": "1.2.0",
      "_view_name": "LayoutView",
      "align_content": null,
      "align_items": null,
      "align_self": null,
      "border": null,
      "bottom": null,
      "display": null,
      "flex": null,
      "flex_flow": null,
      "grid_area": null,
      "grid_auto_columns": null,
      "grid_auto_flow": null,
      "grid_auto_rows": null,
      "grid_column": null,
      "grid_gap": null,
      "grid_row": null,
      "grid_template_areas": null,
      "grid_template_columns": null,
      "grid_template_rows": null,
      "height": null,
      "justify_content": null,
      "justify_items": null,
      "left": null,
      "margin": null,
      "max_height": null,
      "max_width": null,
      "min_height": null,
      "min_width": null,
      "object_fit": null,
      "object_position": null,
      "order": null,
      "overflow": null,
      "overflow_x": null,
      "overflow_y": null,
      "padding": null,
      "right": null,
      "top": null,
      "visibility": null,
      "width": null
     }
    },
    "f4558193a58d4b4a95156f96e567cc77": {
     "model_module": "@jupyter-widgets/controls",
     "model_module_version": "1.5.0",
     "model_name": "ProgressStyleModel",
     "state": {
      "_model_module": "@jupyter-widgets/controls",
      "_model_module_version": "1.5.0",
      "_model_name": "ProgressStyleModel",
      "_view_count": null,
      "_view_module": "@jupyter-widgets/base",
      "_view_module_version": "1.2.0",
      "_view_name": "StyleView",
      "bar_color": null,
      "description_width": ""
     }
    },
    "f4ebe261635e4ad2ac29463c713a0cb3": {
     "model_module": "@jupyter-widgets/controls",
     "model_module_version": "1.5.0",
     "model_name": "ProgressStyleModel",
     "state": {
      "_model_module": "@jupyter-widgets/controls",
      "_model_module_version": "1.5.0",
      "_model_name": "ProgressStyleModel",
      "_view_count": null,
      "_view_module": "@jupyter-widgets/base",
      "_view_module_version": "1.2.0",
      "_view_name": "StyleView",
      "bar_color": null,
      "description_width": ""
     }
    },
    "f68fb1fd052845afbdc403d1e6fe77f3": {
     "model_module": "@jupyter-widgets/base",
     "model_module_version": "1.2.0",
     "model_name": "LayoutModel",
     "state": {
      "_model_module": "@jupyter-widgets/base",
      "_model_module_version": "1.2.0",
      "_model_name": "LayoutModel",
      "_view_count": null,
      "_view_module": "@jupyter-widgets/base",
      "_view_module_version": "1.2.0",
      "_view_name": "LayoutView",
      "align_content": null,
      "align_items": null,
      "align_self": null,
      "border": null,
      "bottom": null,
      "display": null,
      "flex": null,
      "flex_flow": null,
      "grid_area": null,
      "grid_auto_columns": null,
      "grid_auto_flow": null,
      "grid_auto_rows": null,
      "grid_column": null,
      "grid_gap": null,
      "grid_row": null,
      "grid_template_areas": null,
      "grid_template_columns": null,
      "grid_template_rows": null,
      "height": null,
      "justify_content": null,
      "justify_items": null,
      "left": null,
      "margin": null,
      "max_height": null,
      "max_width": null,
      "min_height": null,
      "min_width": null,
      "object_fit": null,
      "object_position": null,
      "order": null,
      "overflow": null,
      "overflow_x": null,
      "overflow_y": null,
      "padding": null,
      "right": null,
      "top": null,
      "visibility": null,
      "width": null
     }
    },
    "f8de6d7391bf40bb94b3d35d3ce8d1bd": {
     "model_module": "@jupyter-widgets/controls",
     "model_module_version": "1.5.0",
     "model_name": "HBoxModel",
     "state": {
      "_dom_classes": [],
      "_model_module": "@jupyter-widgets/controls",
      "_model_module_version": "1.5.0",
      "_model_name": "HBoxModel",
      "_view_count": null,
      "_view_module": "@jupyter-widgets/controls",
      "_view_module_version": "1.5.0",
      "_view_name": "HBoxView",
      "box_style": "",
      "children": [
       "IPY_MODEL_bbe2228f6cb54d1db707b83d05a780fe",
       "IPY_MODEL_36bbe61e5ea7429e8a0c215f0f75bc8f",
       "IPY_MODEL_7afc06b0395b4f80984becbaf578d76b"
      ],
      "layout": "IPY_MODEL_c1c4d2dab92a4ebe9be9bebc0d292088"
     }
    },
    "f9620c33614646179f8d2ee21a65a56a": {
     "model_module": "@jupyter-widgets/controls",
     "model_module_version": "1.5.0",
     "model_name": "HTMLModel",
     "state": {
      "_dom_classes": [],
      "_model_module": "@jupyter-widgets/controls",
      "_model_module_version": "1.5.0",
      "_model_name": "HTMLModel",
      "_view_count": null,
      "_view_module": "@jupyter-widgets/controls",
      "_view_module_version": "1.5.0",
      "_view_name": "HTMLView",
      "description": "",
      "description_tooltip": null,
      "layout": "IPY_MODEL_50b76c8fe9914a399d46a0ab04745d18",
      "placeholder": "​",
      "style": "IPY_MODEL_8f393ecd6c5c485899cb12d385138518",
      "value": " 21/21 [00:52&lt;00:00,  1.79s/it]"
     }
    },
    "f9ce3b29a659482da6dd3b3b8629ac39": {
     "model_module": "@jupyter-widgets/controls",
     "model_module_version": "1.5.0",
     "model_name": "HBoxModel",
     "state": {
      "_dom_classes": [],
      "_model_module": "@jupyter-widgets/controls",
      "_model_module_version": "1.5.0",
      "_model_name": "HBoxModel",
      "_view_count": null,
      "_view_module": "@jupyter-widgets/controls",
      "_view_module_version": "1.5.0",
      "_view_name": "HBoxView",
      "box_style": "",
      "children": [
       "IPY_MODEL_32981e0994a04e8f83533160ef2b12d1",
       "IPY_MODEL_39656cb560ca4bc08dc7980e30ff689a",
       "IPY_MODEL_e730d7db9a6e4d18aa5f0a712cb0225f"
      ],
      "layout": "IPY_MODEL_c04c90fd135b4c6797925d2400ae64fd"
     }
    }
   }
  }
 },
 "nbformat": 4,
 "nbformat_minor": 0
}
