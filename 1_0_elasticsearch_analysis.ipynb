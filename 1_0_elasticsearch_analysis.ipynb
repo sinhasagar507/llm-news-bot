{
 "cells": [
  {
   "cell_type": "code",
   "execution_count": 2,
   "metadata": {},
   "outputs": [],
   "source": [
    "# Import the data analysis library\n",
    "import os\n",
    "from getpass import getpass\n",
    "from operator import itemgetter\n",
    "import pandas as pd\n",
    "from tqdm import tqdm\n",
    "\n",
    "# All Elasticsearch based\n",
    "from elasticsearch import Elasticsearch, exceptions\n",
    "\n",
    "# Langchain Imports \n",
    "from langchain.text_splitter import CharacterTextSplitter\n",
    "from langchain_elasticsearch import ElasticsearchStore\n",
    "from langchain.embeddings.openai import OpenAIEmbeddings\n",
    "from langchain.prompts import ChatPromptTemplate\n",
    "from langchain.schema.runnable import RunnablePassthrough\n",
    "from langchain.schema.runnable import RunnableMap\n",
    "from langchain.prompts import ChatPromptTemplate, PromptTemplate\n",
    "from langchain.schema import format_document\n",
    "from langchain.chat_models import ChatOpenAI\n",
    "from langchain.schema.output_parser import StrOutputParser"
   ]
  },
  {
   "cell_type": "code",
   "execution_count": null,
   "metadata": {},
   "outputs": [],
   "source": [
    "# IDs and Passwords\n",
    "ELASTIC_CLOUD_ID = \"ab9fc665e06642b4b2c99c5f9898e875:dXMtY2VudHJhbDEuZ2NwLmNsb3VkLmVzLmlvJDg3MzIwMzg0YWMzNzRjNTJiYmQ3YWFkYjI4NWUxNjExJDIxMDFiZTgzNjg5ODQ0MmFhMzg4ZTMzYzU5MTdmOTlh\"\n",
    "ELASTIC_API_KEY = \"WUoyVkpKTUJ0ZTlkVlhESWtSVDQ6eGUwY1dzcmlSbGE4bW5iY2gxQl9CZw==\"\n",
    "ELASTIC_PASSWORD = \"GjcdSvHrx8Mh1Qy7ZB93m3DX\"\n",
    "OPENAI_API_KEY = \"sk-JDd8XASldxnf4JlfzqcFX6IZkRp88UQSOuS6MqsBgLT3BlbkFJoaFWr04LuZoWZQlTBdTzxzbQ7tgFTD2iXbICVfLxcA\""
   ]
  },
  {
   "cell_type": "code",
   "execution_count": 5,
   "metadata": {},
   "outputs": [],
   "source": [
    "# Initialize the OpenAI API key \n",
    "os.environ[\"OPENAI_API_KEY\"] = getpass(\"OpenAI API Key :\")"
   ]
  },
  {
   "cell_type": "code",
   "execution_count": 6,
   "metadata": {},
   "outputs": [
    {
     "name": "stdout",
     "output_type": "stream",
     "text": [
      "Connected to ElasticCloud!\n"
     ]
    }
   ],
   "source": [
    "# Initialize Elasticsearch client\n",
    "es = Elasticsearch(\n",
    "    cloud_id=ELASTIC_CLOUD_ID,\n",
    "    basic_auth=(\"elastic\", ELASTIC_PASSWORD)\n",
    ")\n",
    "\n",
    "# Test the connection\n",
    "if es.ping():\n",
    "    print(\"Connected to ElasticCloud!\")\n",
    "else:\n",
    "    print(\"Connection failed. Check your credentials.\")"
   ]
  },
  {
   "cell_type": "code",
   "execution_count": null,
   "metadata": {},
   "outputs": [],
   "source": [
    "# Delete all indexes. Destructive operation\n",
    "# try:\n",
    "#     # Delete all indexes using a wildcard\n",
    "#     response = es.indices.delete(index=\"*\")\n",
    "#     print(\"All indexes deleted successfully:\", response)\n",
    "# except Exception as e:\n",
    "#     print(f\"An error occurred while deleting all indexes: {e}\")"
   ]
  },
  {
   "cell_type": "code",
   "execution_count": 8,
   "metadata": {},
   "outputs": [
    {
     "name": "stdout",
     "output_type": "stream",
     "text": [
      "Index 'openai_mit_llama_index' already exists.\n"
     ]
    }
   ],
   "source": [
    "# A new index name\n",
    "elastic_index_name = \"openai_mit_llama_index\"\n",
    "\n",
    "# Check if the index already exists\n",
    "if not es.indices.exists(index=elastic_index_name):\n",
    "    es.indices.create(index=elastic_index_name)\n",
    "    print(f\"Index '{elastic_index_name}' created successfully.\")\n",
    "else:\n",
    "    print(f\"Index '{elastic_index_name}' already exists.\")"
   ]
  },
  {
   "cell_type": "code",
   "execution_count": 180,
   "metadata": {},
   "outputs": [],
   "source": [
    "# Load the dataset \n",
    "FILEPATH = \"mit_news_94_23.csv\"\n",
    "mit_news = pd.read_csv(FILEPATH, index_col=0)"
   ]
  },
  {
   "cell_type": "code",
   "execution_count": 181,
   "metadata": {},
   "outputs": [
    {
     "data": {
      "text/plain": [
       "Published Date    object\n",
       "Author            object\n",
       "Source            object\n",
       "Article Header    object\n",
       "Sub_Headings      object\n",
       "Article Body      object\n",
       "Url               object\n",
       "dtype: object"
      ]
     },
     "execution_count": 181,
     "metadata": {},
     "output_type": "execute_result"
    }
   ],
   "source": [
    "# Check the data types of all columns before making appropriate changes\n",
    "mit_news.dtypes"
   ]
  },
  {
   "cell_type": "code",
   "execution_count": 182,
   "metadata": {},
   "outputs": [],
   "source": [
    "# Rename the columns first \n",
    "mit_news = mit_news.rename(columns={\n",
    "    \"Published Date\": \"date\",\n",
    "    \"Author\": \"author\",\n",
    "    \"Source\": \"source\",\n",
    "    \"Article Header\": \"heading\",\n",
    "    \"Sub_Headings\": \"description\",\n",
    "    \"Article Body\": \"content\",\n",
    "    \"Url\": \"url\"\n",
    "})\n"
   ]
  },
  {
   "cell_type": "code",
   "execution_count": 183,
   "metadata": {},
   "outputs": [
    {
     "data": {
      "text/html": [
       "<div>\n",
       "<style scoped>\n",
       "    .dataframe tbody tr th:only-of-type {\n",
       "        vertical-align: middle;\n",
       "    }\n",
       "\n",
       "    .dataframe tbody tr th {\n",
       "        vertical-align: top;\n",
       "    }\n",
       "\n",
       "    .dataframe thead th {\n",
       "        text-align: right;\n",
       "    }\n",
       "</style>\n",
       "<table border=\"1\" class=\"dataframe\">\n",
       "  <thead>\n",
       "    <tr style=\"text-align: right;\">\n",
       "      <th></th>\n",
       "      <th>date</th>\n",
       "      <th>author</th>\n",
       "      <th>source</th>\n",
       "      <th>heading</th>\n",
       "      <th>description</th>\n",
       "      <th>content</th>\n",
       "      <th>url</th>\n",
       "    </tr>\n",
       "  </thead>\n",
       "  <tbody>\n",
       "    <tr>\n",
       "      <th>0</th>\n",
       "      <td>July 7, 2023</td>\n",
       "      <td>Adam Zewe</td>\n",
       "      <td>MIT News Office</td>\n",
       "      <td>Learning the language of molecules to predict ...</td>\n",
       "      <td>This AI system only needs a small amount of da...</td>\n",
       "      <td>['Discovering new materials and drugs typicall...</td>\n",
       "      <td>https://news.mit.edu/2023/learning-language-mo...</td>\n",
       "    </tr>\n",
       "    <tr>\n",
       "      <th>1</th>\n",
       "      <td>July 6, 2023</td>\n",
       "      <td>Alex Ouyang</td>\n",
       "      <td>Abdul Latif Jameel Clinic for Machine Learning...</td>\n",
       "      <td>MIT scientists build a system that can generat...</td>\n",
       "      <td>BioAutoMATED, an open-source, automated machin...</td>\n",
       "      <td>['Is it possible to build machine-learning mod...</td>\n",
       "      <td>https://news.mit.edu/2023/bioautomated-open-so...</td>\n",
       "    </tr>\n",
       "    <tr>\n",
       "      <th>2</th>\n",
       "      <td>June 30, 2023</td>\n",
       "      <td>Jennifer Michalowski</td>\n",
       "      <td>McGovern Institute for Brain Research</td>\n",
       "      <td>When computer vision works more like a brain, ...</td>\n",
       "      <td>Training artificial neural networks with data ...</td>\n",
       "      <td>['From cameras to self-driving cars, many of t...</td>\n",
       "      <td>https://news.mit.edu/2023/when-computer-vision...</td>\n",
       "    </tr>\n",
       "    <tr>\n",
       "      <th>3</th>\n",
       "      <td>June 30, 2023</td>\n",
       "      <td>Mary Beth Gallagher</td>\n",
       "      <td>School of Engineering</td>\n",
       "      <td>Educating national security leaders on artific...</td>\n",
       "      <td>Experts from MIT’s School of Engineering, Schw...</td>\n",
       "      <td>['Understanding artificial intelligence and ho...</td>\n",
       "      <td>https://news.mit.edu/2023/educating-national-s...</td>\n",
       "    </tr>\n",
       "    <tr>\n",
       "      <th>4</th>\n",
       "      <td>June 30, 2023</td>\n",
       "      <td>Adam Zewe</td>\n",
       "      <td>MIT News Office</td>\n",
       "      <td>Researchers teach an AI to write better chart ...</td>\n",
       "      <td>A new dataset can help scientists develop auto...</td>\n",
       "      <td>['Chart captions that explain complex trends a...</td>\n",
       "      <td>https://news.mit.edu/2023/researchers-chart-ca...</td>\n",
       "    </tr>\n",
       "  </tbody>\n",
       "</table>\n",
       "</div>"
      ],
      "text/plain": [
       "            date                author  \\\n",
       "0   July 7, 2023             Adam Zewe   \n",
       "1   July 6, 2023           Alex Ouyang   \n",
       "2  June 30, 2023  Jennifer Michalowski   \n",
       "3  June 30, 2023   Mary Beth Gallagher   \n",
       "4  June 30, 2023             Adam Zewe   \n",
       "\n",
       "                                              source  \\\n",
       "0                                    MIT News Office   \n",
       "1  Abdul Latif Jameel Clinic for Machine Learning...   \n",
       "2              McGovern Institute for Brain Research   \n",
       "3                              School of Engineering   \n",
       "4                                    MIT News Office   \n",
       "\n",
       "                                             heading  \\\n",
       "0  Learning the language of molecules to predict ...   \n",
       "1  MIT scientists build a system that can generat...   \n",
       "2  When computer vision works more like a brain, ...   \n",
       "3  Educating national security leaders on artific...   \n",
       "4  Researchers teach an AI to write better chart ...   \n",
       "\n",
       "                                         description  \\\n",
       "0  This AI system only needs a small amount of da...   \n",
       "1  BioAutoMATED, an open-source, automated machin...   \n",
       "2  Training artificial neural networks with data ...   \n",
       "3  Experts from MIT’s School of Engineering, Schw...   \n",
       "4  A new dataset can help scientists develop auto...   \n",
       "\n",
       "                                             content  \\\n",
       "0  ['Discovering new materials and drugs typicall...   \n",
       "1  ['Is it possible to build machine-learning mod...   \n",
       "2  ['From cameras to self-driving cars, many of t...   \n",
       "3  ['Understanding artificial intelligence and ho...   \n",
       "4  ['Chart captions that explain complex trends a...   \n",
       "\n",
       "                                                 url  \n",
       "0  https://news.mit.edu/2023/learning-language-mo...  \n",
       "1  https://news.mit.edu/2023/bioautomated-open-so...  \n",
       "2  https://news.mit.edu/2023/when-computer-vision...  \n",
       "3  https://news.mit.edu/2023/educating-national-s...  \n",
       "4  https://news.mit.edu/2023/researchers-chart-ca...  "
      ]
     },
     "execution_count": 183,
     "metadata": {},
     "output_type": "execute_result"
    }
   ],
   "source": [
    "mit_news.head()"
   ]
  },
  {
   "cell_type": "code",
   "execution_count": 184,
   "metadata": {},
   "outputs": [],
   "source": [
    "# Convert \"Published Date\" column to datetime\n",
    "mit_news[\"date\"] = pd.to_datetime(\n",
    "    mit_news[\"date\"],  # Column to convert\n",
    "    errors=\"coerce\",            # Invalid parsing will be set as NaT\n",
    "    format=\"%B %d, %Y\"          # Explicit format: \"Month day, Year\"\n",
    ")"
   ]
  },
  {
   "cell_type": "code",
   "execution_count": 185,
   "metadata": {},
   "outputs": [
    {
     "data": {
      "text/plain": [
       "date             0\n",
       "author         170\n",
       "source         186\n",
       "heading          0\n",
       "description    148\n",
       "content          0\n",
       "url              0\n",
       "dtype: int64"
      ]
     },
     "execution_count": 185,
     "metadata": {},
     "output_type": "execute_result"
    }
   ],
   "source": [
    "# Check for null values in all columns \n",
    "mit_news.isnull().sum()"
   ]
  },
  {
   "cell_type": "code",
   "execution_count": 186,
   "metadata": {},
   "outputs": [
    {
     "name": "stdout",
     "output_type": "stream",
     "text": [
      "date           0\n",
      "author         0\n",
      "source         0\n",
      "heading        0\n",
      "description    0\n",
      "content        0\n",
      "url            0\n",
      "dtype: int64\n",
      "        date                author  \\\n",
      "0 2023-07-07             Adam Zewe   \n",
      "1 2023-07-06           Alex Ouyang   \n",
      "2 2023-06-30  Jennifer Michalowski   \n",
      "3 2023-06-30   Mary Beth Gallagher   \n",
      "4 2023-06-30             Adam Zewe   \n",
      "\n",
      "                                              source  \\\n",
      "0                                    MIT News Office   \n",
      "1  Abdul Latif Jameel Clinic for Machine Learning...   \n",
      "2              McGovern Institute for Brain Research   \n",
      "3                              School of Engineering   \n",
      "4                                    MIT News Office   \n",
      "\n",
      "                                             heading  \\\n",
      "0  Learning the language of molecules to predict ...   \n",
      "1  MIT scientists build a system that can generat...   \n",
      "2  When computer vision works more like a brain, ...   \n",
      "3  Educating national security leaders on artific...   \n",
      "4  Researchers teach an AI to write better chart ...   \n",
      "\n",
      "                                         description  \\\n",
      "0  This AI system only needs a small amount of da...   \n",
      "1  BioAutoMATED, an open-source, automated machin...   \n",
      "2  Training artificial neural networks with data ...   \n",
      "3  Experts from MIT’s School of Engineering, Schw...   \n",
      "4  A new dataset can help scientists develop auto...   \n",
      "\n",
      "                                             content  \\\n",
      "0  ['Discovering new materials and drugs typicall...   \n",
      "1  ['Is it possible to build machine-learning mod...   \n",
      "2  ['From cameras to self-driving cars, many of t...   \n",
      "3  ['Understanding artificial intelligence and ho...   \n",
      "4  ['Chart captions that explain complex trends a...   \n",
      "\n",
      "                                                 url  \n",
      "0  https://news.mit.edu/2023/learning-language-mo...  \n",
      "1  https://news.mit.edu/2023/bioautomated-open-so...  \n",
      "2  https://news.mit.edu/2023/when-computer-vision...  \n",
      "3  https://news.mit.edu/2023/educating-national-s...  \n",
      "4  https://news.mit.edu/2023/researchers-chart-ca...  \n"
     ]
    }
   ],
   "source": [
    "# Fill missing values in all columns with \"Missing\"\n",
    "mit_news = mit_news.fillna(\"Missing\")\n",
    "\n",
    "# Verify that missing values are replaced\n",
    "print(mit_news.isna().sum())  # Check for remaining missing values\n",
    "print(mit_news.head())  # Preview the updated DataFrame"
   ]
  },
  {
   "cell_type": "code",
   "execution_count": 139,
   "metadata": {},
   "outputs": [],
   "source": [
    "# Also clean the content variable \n",
    "mit_news[\"content\"] = mit_news[\"content\"].apply(lambda text: text[1: -1])"
   ]
  },
  {
   "cell_type": "code",
   "execution_count": 187,
   "metadata": {},
   "outputs": [],
   "source": [
    "mit_news[\"content\"] = mit_news[\"content\"].str.replace(r'^[^\\w]+|[^\\w]+$', '', regex=True)"
   ]
  },
  {
   "cell_type": "code",
   "execution_count": 188,
   "metadata": {},
   "outputs": [
    {
     "data": {
      "text/plain": [
       "'m'"
      ]
     },
     "execution_count": 188,
     "metadata": {},
     "output_type": "execute_result"
    }
   ],
   "source": [
    "mit_news[\"content\"][1013][-1]"
   ]
  },
  {
   "cell_type": "code",
   "execution_count": 189,
   "metadata": {},
   "outputs": [
    {
     "data": {
      "text/plain": [
       "date           datetime64[ns]\n",
       "author                 object\n",
       "source                 object\n",
       "heading                object\n",
       "description            object\n",
       "content                object\n",
       "url                    object\n",
       "dtype: object"
      ]
     },
     "execution_count": 189,
     "metadata": {},
     "output_type": "execute_result"
    }
   ],
   "source": [
    "mit_news.dtypes"
   ]
  },
  {
   "cell_type": "code",
   "execution_count": 190,
   "metadata": {},
   "outputs": [
    {
     "data": {
      "text/plain": [
       "'Missing'"
      ]
     },
     "execution_count": 190,
     "metadata": {},
     "output_type": "execute_result"
    }
   ],
   "source": [
    "mit_news[\"author\"][12]"
   ]
  },
  {
   "cell_type": "code",
   "execution_count": 204,
   "metadata": {},
   "outputs": [
    {
     "name": "stderr",
     "output_type": "stream",
     "text": [
      "1018it [00:00, 34585.61it/s]\n"
     ]
    }
   ],
   "source": [
    "# Prepare metadata and content\n",
    "metadata = []\n",
    "content = []\n",
    "\n",
    "for _, row in tqdm(mit_news.iterrows()):\n",
    "    content.append(row[\"content\"])  # Store article body as content\n",
    "    metadata.append({\"date\": row[\"date\"], \n",
    "                     \"author\": row[\"author\"], \n",
    "                     \"source\": row[\"source\"], \n",
    "                     \"heading\": row[\"heading\"], \n",
    "                     \"description\": row[\"description\"]})  # Store heading as metadata\n",
    "\n",
    "text_splitter = CharacterTextSplitter(chunk_size=1000, chunk_overlap=200)\n",
    "docs = text_splitter.create_documents(content, metadatas=metadata)"
   ]
  },
  {
   "cell_type": "code",
   "execution_count": 205,
   "metadata": {},
   "outputs": [
    {
     "name": "stdout",
     "output_type": "stream",
     "text": [
      "All documents deleted from index 'openai_mit_llama_index': {'took': 1, 'timed_out': False, 'total': 0, 'deleted': 0, 'batches': 0, 'version_conflicts': 0, 'noops': 0, 'retries': {'bulk': 0, 'search': 0}, 'throttled_millis': 0, 'requests_per_second': -1.0, 'throttled_until_millis': 0, 'failures': []}\n"
     ]
    }
   ],
   "source": [
    "# Delete everything from the database before reinsertion\n",
    "try:\n",
    "    # Delete all documents from the index using a match_all query\n",
    "    response = es.delete_by_query(\n",
    "        index=elastic_index_name,\n",
    "        body={\"query\": {\"match_all\": {}}},\n",
    "        conflicts=\"proceed\"  # Continue even if there are version conflicts\n",
    "    )\n",
    "    print(f\"All documents deleted from index '{elastic_index_name}': {response}\")\n",
    "except Exception as e:\n",
    "    print(f\"An error occurred: {e}\")"
   ]
  },
  {
   "cell_type": "code",
   "execution_count": 9,
   "metadata": {},
   "outputs": [
    {
     "name": "stderr",
     "output_type": "stream",
     "text": [
      "/var/folders/m0/nhpw880n2pbdfh3k943xczbr0000gn/T/ipykernel_95223/3325661764.py:2: LangChainDeprecationWarning: The class `OpenAIEmbeddings` was deprecated in LangChain 0.0.9 and will be removed in 1.0. An updated version of the class exists in the :class:`~langchain-openai package and should be used instead. To use it run `pip install -U :class:`~langchain-openai` and import as `from :class:`~langchain_openai import OpenAIEmbeddings``.\n",
      "  embeddings = OpenAIEmbeddings(openai_api_key=OPENAI_API_KEY)\n"
     ]
    }
   ],
   "source": [
    "# Check for OpenAI embeddings \n",
    "embeddings = OpenAIEmbeddings(openai_api_key=OPENAI_API_KEY)\n",
    "# Index documents into Elasticsearch (or any vector store)\n",
    "vector_store = ElasticsearchStore(\n",
    "    es_cloud_id=ELASTIC_CLOUD_ID,\n",
    "    es_api_key=ELASTIC_API_KEY,\n",
    "    index_name=elastic_index_name,\n",
    "    embedding=embeddings,\n",
    ")"
   ]
  },
  {
   "cell_type": "code",
   "execution_count": 207,
   "metadata": {},
   "outputs": [],
   "source": [
    "query = \"What does the article talk about J-WAFS Grand Challenge?\""
   ]
  },
  {
   "cell_type": "code",
   "execution_count": 11,
   "metadata": {},
   "outputs": [
    {
     "name": "stdout",
     "output_type": "stream",
     "text": [
      "[Document(metadata={'date': '2023-05-10T00:00:00', 'author': 'Carolyn Blais', 'source': 'Abdul Latif Jameel Water and Food Systems Lab', 'heading': 'Inaugural J-WAFS Grand Challenge aims to develop enhanced crop variants and move them from lab to land', 'description': 'Matt Shoulders will lead an interdisciplinary team to improve RuBisCO — the photosynthesis enzyme thought to be the holy grail for improving agricultural yield.'}, page_content=\"According to MIT’s charter, established in 1861, part of the Institute’s mission is to advance the “development and practical application of science in connection with arts, agriculture, manufactures, and commerce.” Today, the Abdul Latif Jameel Water and Food Systems Lab (J-WAFS) is one of the driving forces behind water and food-related research on campus, much of which relates to agriculture. In 2022, J-WAFS established the Water and Food Grand Challenge Grant to inspire MIT researchers to work toward a water-secure and food-secure future for our changing planet. Not unlike MIT’s Climate Grand Challenges, the J-WAFS Grand Challenge seeks to leverage multiple areas of expertise, programs, and Institute resources. The initial call for statements of interests returned 23 letters from MIT researchers spanning 18 departments, labs, and centers. J-WAFS hosted workshops for the proposers to present and discuss their initial ideas. These were winnowed down to a smaller set of invited concept papers, followed by the final proposal stage.', 'Today, J-WAFS is delighted to report that the inaugural J-WAFS Grand Challenge Grant has been awarded to a team of researchers led by Professor Matt Shoulders and research scientist Robert Wilson of the Department of Chemistry. A panel of expert, external reviewers highly endorsed their proposal, which tackles a longstanding problem in crop biology — how to make photosynthesis more efficient. The team will receive $1.5 million over three years to facilitate a multistage research project that combines cutting-edge innovations in synthetic and computational biology. If successful, this project could create major benefits for agriculture and food systems worldwide.', '“Food systems are a major source of global greenhouse gas emissions, and they are also increasingly vulnerable to the impacts of climate change. That’s why when we talk about climate change, we have to talk about food systems, and vice versa,” says Maria T. Zuber, MIT’s vice president for research. “J-WAFS is central to MIT’s efforts to address the interlocking challenges of climate, water, and food. This new grant program aims to catalyze innovative projects that will have real and meaningful impacts on water and food. I congratulate Professor Shoulders and the rest of the research team on being the inaugural recipients of this grant.”', 'Shoulders will work with Bryan Bryson, associate professor of biological engineering, as well as Bin Zhang, associate professor of chemistry, and Mary Gehring, a professor in the Department of Biology and the Whitehead Institute for Biomedical Research. Robert Wilson from the Shoulders lab will be coordinating the research effort. The team at MIT will work with outside collaborators Spencer Whitney, a professor from the Australian National University, and Ahmed Badran, an assistant professor at the Scripps Research Institute. A milestone-based collaboration will also take place with Stephen Long, a professor from the University of Illinois at Urbana-Champaign. The group consists of experts in continuous directed evolution, machine learning, molecular dynamics simulations, translational plant biochemistry, and field trials.', '“This project seeks to fundamentally improve the RuBisCO enzyme that plants use to convert carbon dioxide into the energy-rich molecules that constitute our food,” says J-WAFS Director John H. Lienhard V. “This difficult problem is a true grand challenge, calling for extensive resources. With J-WAFS’ support, this long-sought goal may finally be achieved through MIT’s leading-edge research,” he adds.', 'RuBisCO: No, it’s not a new breakfast cereal; it just might be the key to an agricultural revolution', 'A growing global population, the effects of climate change, and social and political conflicts like the war in Ukraine are all threatening food supplies, particularly grain crops. Current projections estimate that crop production must increase by at least 50 percent over the next 30 years to meet food demands. One key barrier to increased crop yields is a photosynthetic enzyme called Ribulose-1,5-Bisphosphate Carboxylase/Oxygenase (RuBisCO). During photosynthesis, crops use energy gathered from light to draw carbon dioxide (CO2) from the atmosphere and transform it into sugars and cellulose for growth, a process known as carbon fixation. RuBisCO is essential for capturing the CO2 from the air to initiate conversion of CO2 into energy-rich molecules like glucose. This reaction occurs during the second stage of photosynthesis, also known as the Calvin cycle. Without RuBisCO, the chemical reactions that account for virtually all carbon acquisition in life could not occur.', 'Unfortunately, RuBisCO has biochemical shortcomings. Notably, the enzyme acts slowly. Many other enzymes can process a thousand molecules per second, but RuBisCO in chloroplasts fixes less than six carbon dioxide molecules per second, often limiting the rate of plant photosynthesis. Another problem is that oxygen (O2) molecules and carbon dioxide molecules are relatively similar in shape and chemical properties, and RuBisCO is unable to fully discriminate between the two. The inadvertent fixation of oxygen by RuBisCO leads to energy and carbon loss. What’s more, at higher temperatures RuBisCO reacts even more frequently with oxygen, which will contribute to decreased photosynthetic efficiency in many staple crops as our climate warms.', 'The scientific consensus is that genetic engineering and synthetic biology approaches could revolutionize photosynthesis and offer protection against crop losses. To date, crop RuBisCO engineering has been impaired by technological obstacles that have limited any success in significantly enhancing crop production. Excitingly, genetic engineering and synthetic biology tools are now at a point where they can be applied and tested with the aim of creating crops with new or improved biological pathways for producing more food for the growing population.', 'An epic plan for fighting food insecurity', 'The 2023 J-WAFS Grand Challenge project will use state-of-the-art, transformative protein engineering techniques drawn from biomedicine to improve the biochemistry of photosynthesis, specifically focusing on RuBisCO. Shoulders and his team are planning to build what they call the Enhanced Photosynthesis in Crops (EPiC) platform. The project will evolve and design better crop RuBisCO in the laboratory, followed by validation of the improved enzymes in plants, ultimately resulting in the deployment of enhanced RuBisCO in field trials to evaluate the impact on crop yield.', 'Several recent developments make high-throughput engineering of crop RuBisCO possible. RuBisCO requires a complex chaperone network for proper assembly and function in plants. Chaperones are like helpers that guide proteins during their maturation process, shielding them from aggregation while coordinating their correct assembly. Wilson and his collaborators previously unlocked the ability to recombinantly produce plant RuBisCO outside of plant chloroplasts by reconstructing this chaperone network in Escherichia coli (E. coli). Whitney has now established that the RuBisCO enzymes from a range of agriculturally relevant crops, including potato, carrot, strawberry, and tobacco, can also be expressed using this technology. Whitney and Wilson have further developed a range of RuBisCO-dependent E. coli screens that can identify improved RuBisCO from complex gene libraries. Moreover, Shoulders and his lab have developed sophisticated in vivo mutagenesis technologies that enable efficient continuous directed evolution campaigns. Continuous directed evolution refers to a protein engineering process that can accelerate the steps of natural evolution simultaneously in an uninterrupted cycle in the lab, allowing for rapid testing of protein sequences. While Shoulders and Badran both have prior experience with cutting-edge directed evolution platforms, this will be the first time directed evolution is applied to RuBisCO from plants.', 'Artificial intelligence is changing the way enzyme engineering is undertaken by researchers. Principal investigators Zhang and Bryson will leverage modern computational methods to simulate the dynamics of RuBisCO structure and explore its evolutionary landscape. Specifically, Zhang will use molecular dynamics simulations to simulate and monitor the conformational dynamics of the atoms in a protein and its programmed environment over time. This approach will help the team evaluate the effect of mutations and new chemical functionalities on the properties of RuBisCO. Bryson will employ artificial intelligence and machine learning to search the RuBisCO activity landscape for optimal sequences. The computational and biological arms of the EPiC platform will work together to both validate and inform each other’s approaches to accelerate the overall engineering effort.', 'Shoulders and the group will deploy their designed enzymes in tobacco plants to evaluate their effects on growth and yield relative to natural RuBisCO. Gehring, a plant biologist, will assist with screening improved RuBisCO variants using the tobacco variety Nicotiana benthamianaI, where transient expression can be deployed. Transient expression is a speedy approach to test whether novel engineered RuBisCO variants can be correctly synthesized in leaf chloroplasts. Variants that pass this quality-control checkpoint at MIT will be passed to the Whitney Lab at the Australian National University for stable transformation into Nicotiana tabacum (tobacco), enabling robust measurements of photosynthetic improvement. In a final step, Professor Long at the University of Illinois at Urbana-Champaign will perform field trials of the most promising variants.', 'Even small improvements could have a big impact', 'A common criticism of efforts to improve RuBisCO is that natural evolution has not already identified a better enzyme, possibly implying that none will be found. Traditional views have speculated a catalytic trade-off between RuBisCO’s specificity factor for CO2 / O2 versus its CO2 fixation efficiency, leading to the belief that specificity factor improvements might be offset by even slower carbon fixation or vice versa. This trade-off has been suggested to explain why natural evolution has been slow to achieve a better RuBisCO. But Shoulders and the team are convinced that the EPiC platform can unlock significant overall improvements to plant RuBisCO. This view is supported by the fact that Wilson and Whitney have previously used directed evolution to improve CO2 fixation efficiency by 50 percent in RuBisCO from cyanobacteria (the ancient progenitors of plant chloroplasts) while simultaneously increasing the specificity factor.', 'The EPiC researchers anticipate that their initial variants could yield 20 percent increases in RuBisCO’s specificity factor without impairing other aspects of catalysis. More sophisticated variants could lift RuBisCO out of its evolutionary trap and display attributes not currently observed in nature. “If we achieve anywhere close to such an improvement and it translates to crops, the results could help transform agriculture,” Shoulders says. “If our accomplishments are more modest, it will still recruit massive new investments to this essential field.”', 'Successful engineering of RuBisCO would be a scientific feat of its own and ignite renewed enthusiasm for improving plant CO2 fixation. Combined with other advances in photosynthetic engineering, such as improved light usage, a new green revolution in agriculture could be achieved. Long-term impacts of the technology’s success will be measured in improvements to crop yield and grain availability, as well as resilience against yield losses under higher field temperatures. Moreover, improved land productivity together with policy initiatives would assist in reducing the environmental footprint of agriculture. With more “crop per drop,” reductions in water consumption from agriculture would be a major boost to sustainable farming practices.', '“Our collaborative team of biochemists and synthetic biologists, computational biologists, and chemists is deeply integrated with plant biologists and field trial experts, yielding a robust feedback loop for enzyme engineering,” Shoulders adds. “Together, this team will be able to make a concerted effort using the most modern, state-of-the-art techniques to engineer crop RuBisCO with an eye to helping make meaningful gains in securing a stable crop supply, hopefully with accompanying improvements in both food and water security\")]\n"
     ]
    }
   ],
   "source": [
    "query = \"What does the article talk about J-WAFS Grand Challenge?\"\n",
    "results = vector_store.similarity_search(query=query, k=1)\n",
    "print(results)"
   ]
  },
  {
   "cell_type": "code",
   "execution_count": null,
   "metadata": {},
   "outputs": [
    {
     "name": "stderr",
     "output_type": "stream",
     "text": [
      "986it [07:06,  2.31it/s]\n"
     ]
    }
   ],
   "source": [
    "# Iterate through each document\n",
    "# for i, doc in tqdm(enumerate(docs)):\n",
    "#     try:\n",
    "#         # Attempt to index the document\n",
    "#         vector_store.from_documents(\n",
    "#             documents=[doc],  \n",
    "#             index_name=elastic_index_name,\n",
    "#             es_cloud_id=ELASTIC_CLOUD_ID,\n",
    "#             es_api_key=ELASTIC_API_KEY\n",
    "#         )\n",
    "#     except Exception as e:\n",
    "#         # Log the error and skip the document\n",
    "#         print(len(doc.page_content))\n",
    "#         print(f\"Error indexing document {i}: {e}\")"
   ]
  },
  {
   "cell_type": "code",
   "execution_count": 208,
   "metadata": {},
   "outputs": [
    {
     "name": "stderr",
     "output_type": "stream",
     "text": [
      "100%|██████████| 20/20 [01:05<00:00,  3.28s/it]\n"
     ]
    }
   ],
   "source": [
    "# The way of indexing described upward doesn't work. So what to do? \n",
    "batch_size = 50\n",
    "for i in tqdm(range(0, len(docs), batch_size)):\n",
    "  batch = docs[i:i+batch_size]\n",
    "  vector_store.from_documents(batch,\n",
    "                        embeddings,\n",
    "                        index_name=elastic_index_name,\n",
    "                        es_cloud_id=ELASTIC_CLOUD_ID,\n",
    "                        es_api_key=ELASTIC_API_KEY\n",
    "  )"
   ]
  },
  {
   "cell_type": "code",
   "execution_count": 12,
   "metadata": {},
   "outputs": [],
   "source": [
    "from typing import List, Any\n",
    "from langchain.schema import BaseRetriever, Document\n",
    "from pydantic import Field\n",
    "\n",
    "class HeadingBasedRetriever(BaseRetriever):\n",
    "  vector_store: Any  # Define vector_store as a field (type can be adjusted based on your implementation)\n",
    "  top_k: int = Field(default=1)  # Define top_k with a default value\n",
    "\n",
    "  def _get_relevant_documents(self, query: str) -> List[Document]:\n",
    "    # Retrieve top-k documents based on heading similarity\n",
    "    results = self.vector_store.similarity_search(\n",
    "        query=query,\n",
    "        k=self.top_k,\n",
    "        filter=None  # Optional: Add filters if needed\n",
    "    )\n",
    "\n",
    "    # Extract and return the article body of the top result\n",
    "    if results:\n",
    "        top_result = results[0]\n",
    "        return [Document(page_content=top_result.page_content, metadata=top_result.metadata)]\n",
    "\n",
    "    return []  # Return an empty list if no results are found"
   ]
  },
  {
   "cell_type": "code",
   "execution_count": 13,
   "metadata": {},
   "outputs": [],
   "source": [
    "# Initialize retriever\n",
    "retriever = HeadingBasedRetriever(vector_store=vector_store)"
   ]
  },
  {
   "cell_type": "code",
   "execution_count": 14,
   "metadata": {},
   "outputs": [],
   "source": [
    "context = retriever._get_relevant_documents(\"What does the article talk about J-WAFS Grand Challenge?\")"
   ]
  },
  {
   "cell_type": "code",
   "execution_count": 15,
   "metadata": {},
   "outputs": [
    {
     "data": {
      "text/plain": [
       "[Document(metadata={'date': '2023-05-10T00:00:00', 'author': 'Carolyn Blais', 'source': 'Abdul Latif Jameel Water and Food Systems Lab', 'heading': 'Inaugural J-WAFS Grand Challenge aims to develop enhanced crop variants and move them from lab to land', 'description': 'Matt Shoulders will lead an interdisciplinary team to improve RuBisCO — the photosynthesis enzyme thought to be the holy grail for improving agricultural yield.'}, page_content=\"According to MIT’s charter, established in 1861, part of the Institute’s mission is to advance the “development and practical application of science in connection with arts, agriculture, manufactures, and commerce.” Today, the Abdul Latif Jameel Water and Food Systems Lab (J-WAFS) is one of the driving forces behind water and food-related research on campus, much of which relates to agriculture. In 2022, J-WAFS established the Water and Food Grand Challenge Grant to inspire MIT researchers to work toward a water-secure and food-secure future for our changing planet. Not unlike MIT’s Climate Grand Challenges, the J-WAFS Grand Challenge seeks to leverage multiple areas of expertise, programs, and Institute resources. The initial call for statements of interests returned 23 letters from MIT researchers spanning 18 departments, labs, and centers. J-WAFS hosted workshops for the proposers to present and discuss their initial ideas. These were winnowed down to a smaller set of invited concept papers, followed by the final proposal stage.', 'Today, J-WAFS is delighted to report that the inaugural J-WAFS Grand Challenge Grant has been awarded to a team of researchers led by Professor Matt Shoulders and research scientist Robert Wilson of the Department of Chemistry. A panel of expert, external reviewers highly endorsed their proposal, which tackles a longstanding problem in crop biology — how to make photosynthesis more efficient. The team will receive $1.5 million over three years to facilitate a multistage research project that combines cutting-edge innovations in synthetic and computational biology. If successful, this project could create major benefits for agriculture and food systems worldwide.', '“Food systems are a major source of global greenhouse gas emissions, and they are also increasingly vulnerable to the impacts of climate change. That’s why when we talk about climate change, we have to talk about food systems, and vice versa,” says Maria T. Zuber, MIT’s vice president for research. “J-WAFS is central to MIT’s efforts to address the interlocking challenges of climate, water, and food. This new grant program aims to catalyze innovative projects that will have real and meaningful impacts on water and food. I congratulate Professor Shoulders and the rest of the research team on being the inaugural recipients of this grant.”', 'Shoulders will work with Bryan Bryson, associate professor of biological engineering, as well as Bin Zhang, associate professor of chemistry, and Mary Gehring, a professor in the Department of Biology and the Whitehead Institute for Biomedical Research. Robert Wilson from the Shoulders lab will be coordinating the research effort. The team at MIT will work with outside collaborators Spencer Whitney, a professor from the Australian National University, and Ahmed Badran, an assistant professor at the Scripps Research Institute. A milestone-based collaboration will also take place with Stephen Long, a professor from the University of Illinois at Urbana-Champaign. The group consists of experts in continuous directed evolution, machine learning, molecular dynamics simulations, translational plant biochemistry, and field trials.', '“This project seeks to fundamentally improve the RuBisCO enzyme that plants use to convert carbon dioxide into the energy-rich molecules that constitute our food,” says J-WAFS Director John H. Lienhard V. “This difficult problem is a true grand challenge, calling for extensive resources. With J-WAFS’ support, this long-sought goal may finally be achieved through MIT’s leading-edge research,” he adds.', 'RuBisCO: No, it’s not a new breakfast cereal; it just might be the key to an agricultural revolution', 'A growing global population, the effects of climate change, and social and political conflicts like the war in Ukraine are all threatening food supplies, particularly grain crops. Current projections estimate that crop production must increase by at least 50 percent over the next 30 years to meet food demands. One key barrier to increased crop yields is a photosynthetic enzyme called Ribulose-1,5-Bisphosphate Carboxylase/Oxygenase (RuBisCO). During photosynthesis, crops use energy gathered from light to draw carbon dioxide (CO2) from the atmosphere and transform it into sugars and cellulose for growth, a process known as carbon fixation. RuBisCO is essential for capturing the CO2 from the air to initiate conversion of CO2 into energy-rich molecules like glucose. This reaction occurs during the second stage of photosynthesis, also known as the Calvin cycle. Without RuBisCO, the chemical reactions that account for virtually all carbon acquisition in life could not occur.', 'Unfortunately, RuBisCO has biochemical shortcomings. Notably, the enzyme acts slowly. Many other enzymes can process a thousand molecules per second, but RuBisCO in chloroplasts fixes less than six carbon dioxide molecules per second, often limiting the rate of plant photosynthesis. Another problem is that oxygen (O2) molecules and carbon dioxide molecules are relatively similar in shape and chemical properties, and RuBisCO is unable to fully discriminate between the two. The inadvertent fixation of oxygen by RuBisCO leads to energy and carbon loss. What’s more, at higher temperatures RuBisCO reacts even more frequently with oxygen, which will contribute to decreased photosynthetic efficiency in many staple crops as our climate warms.', 'The scientific consensus is that genetic engineering and synthetic biology approaches could revolutionize photosynthesis and offer protection against crop losses. To date, crop RuBisCO engineering has been impaired by technological obstacles that have limited any success in significantly enhancing crop production. Excitingly, genetic engineering and synthetic biology tools are now at a point where they can be applied and tested with the aim of creating crops with new or improved biological pathways for producing more food for the growing population.', 'An epic plan for fighting food insecurity', 'The 2023 J-WAFS Grand Challenge project will use state-of-the-art, transformative protein engineering techniques drawn from biomedicine to improve the biochemistry of photosynthesis, specifically focusing on RuBisCO. Shoulders and his team are planning to build what they call the Enhanced Photosynthesis in Crops (EPiC) platform. The project will evolve and design better crop RuBisCO in the laboratory, followed by validation of the improved enzymes in plants, ultimately resulting in the deployment of enhanced RuBisCO in field trials to evaluate the impact on crop yield.', 'Several recent developments make high-throughput engineering of crop RuBisCO possible. RuBisCO requires a complex chaperone network for proper assembly and function in plants. Chaperones are like helpers that guide proteins during their maturation process, shielding them from aggregation while coordinating their correct assembly. Wilson and his collaborators previously unlocked the ability to recombinantly produce plant RuBisCO outside of plant chloroplasts by reconstructing this chaperone network in Escherichia coli (E. coli). Whitney has now established that the RuBisCO enzymes from a range of agriculturally relevant crops, including potato, carrot, strawberry, and tobacco, can also be expressed using this technology. Whitney and Wilson have further developed a range of RuBisCO-dependent E. coli screens that can identify improved RuBisCO from complex gene libraries. Moreover, Shoulders and his lab have developed sophisticated in vivo mutagenesis technologies that enable efficient continuous directed evolution campaigns. Continuous directed evolution refers to a protein engineering process that can accelerate the steps of natural evolution simultaneously in an uninterrupted cycle in the lab, allowing for rapid testing of protein sequences. While Shoulders and Badran both have prior experience with cutting-edge directed evolution platforms, this will be the first time directed evolution is applied to RuBisCO from plants.', 'Artificial intelligence is changing the way enzyme engineering is undertaken by researchers. Principal investigators Zhang and Bryson will leverage modern computational methods to simulate the dynamics of RuBisCO structure and explore its evolutionary landscape. Specifically, Zhang will use molecular dynamics simulations to simulate and monitor the conformational dynamics of the atoms in a protein and its programmed environment over time. This approach will help the team evaluate the effect of mutations and new chemical functionalities on the properties of RuBisCO. Bryson will employ artificial intelligence and machine learning to search the RuBisCO activity landscape for optimal sequences. The computational and biological arms of the EPiC platform will work together to both validate and inform each other’s approaches to accelerate the overall engineering effort.', 'Shoulders and the group will deploy their designed enzymes in tobacco plants to evaluate their effects on growth and yield relative to natural RuBisCO. Gehring, a plant biologist, will assist with screening improved RuBisCO variants using the tobacco variety Nicotiana benthamianaI, where transient expression can be deployed. Transient expression is a speedy approach to test whether novel engineered RuBisCO variants can be correctly synthesized in leaf chloroplasts. Variants that pass this quality-control checkpoint at MIT will be passed to the Whitney Lab at the Australian National University for stable transformation into Nicotiana tabacum (tobacco), enabling robust measurements of photosynthetic improvement. In a final step, Professor Long at the University of Illinois at Urbana-Champaign will perform field trials of the most promising variants.', 'Even small improvements could have a big impact', 'A common criticism of efforts to improve RuBisCO is that natural evolution has not already identified a better enzyme, possibly implying that none will be found. Traditional views have speculated a catalytic trade-off between RuBisCO’s specificity factor for CO2 / O2 versus its CO2 fixation efficiency, leading to the belief that specificity factor improvements might be offset by even slower carbon fixation or vice versa. This trade-off has been suggested to explain why natural evolution has been slow to achieve a better RuBisCO. But Shoulders and the team are convinced that the EPiC platform can unlock significant overall improvements to plant RuBisCO. This view is supported by the fact that Wilson and Whitney have previously used directed evolution to improve CO2 fixation efficiency by 50 percent in RuBisCO from cyanobacteria (the ancient progenitors of plant chloroplasts) while simultaneously increasing the specificity factor.', 'The EPiC researchers anticipate that their initial variants could yield 20 percent increases in RuBisCO’s specificity factor without impairing other aspects of catalysis. More sophisticated variants could lift RuBisCO out of its evolutionary trap and display attributes not currently observed in nature. “If we achieve anywhere close to such an improvement and it translates to crops, the results could help transform agriculture,” Shoulders says. “If our accomplishments are more modest, it will still recruit massive new investments to this essential field.”', 'Successful engineering of RuBisCO would be a scientific feat of its own and ignite renewed enthusiasm for improving plant CO2 fixation. Combined with other advances in photosynthetic engineering, such as improved light usage, a new green revolution in agriculture could be achieved. Long-term impacts of the technology’s success will be measured in improvements to crop yield and grain availability, as well as resilience against yield losses under higher field temperatures. Moreover, improved land productivity together with policy initiatives would assist in reducing the environmental footprint of agriculture. With more “crop per drop,” reductions in water consumption from agriculture would be a major boost to sustainable farming practices.', '“Our collaborative team of biochemists and synthetic biologists, computational biologists, and chemists is deeply integrated with plant biologists and field trial experts, yielding a robust feedback loop for enzyme engineering,” Shoulders adds. “Together, this team will be able to make a concerted effort using the most modern, state-of-the-art techniques to engineer crop RuBisCO with an eye to helping make meaningful gains in securing a stable crop supply, hopefully with accompanying improvements in both food and water security\")]"
      ]
     },
     "execution_count": 15,
     "metadata": {},
     "output_type": "execute_result"
    }
   ],
   "source": [
    "context"
   ]
  },
  {
   "cell_type": "code",
   "execution_count": 16,
   "metadata": {},
   "outputs": [
    {
     "data": {
      "text/plain": [
       "'What does the article talk about J-WAFS Grand Challenge?'"
      ]
     },
     "execution_count": 16,
     "metadata": {},
     "output_type": "execute_result"
    }
   ],
   "source": [
    "query"
   ]
  },
  {
   "cell_type": "code",
   "execution_count": 17,
   "metadata": {},
   "outputs": [
    {
     "name": "stderr",
     "output_type": "stream",
     "text": [
      "/var/folders/m0/nhpw880n2pbdfh3k943xczbr0000gn/T/ipykernel_95223/1522377290.py:2: LangChainDeprecationWarning: The class `ChatOpenAI` was deprecated in LangChain 0.0.10 and will be removed in 1.0. An updated version of the class exists in the :class:`~langchain-openai package and should be used instead. To use it run `pip install -U :class:`~langchain-openai` and import as `from :class:`~langchain_openai import ChatOpenAI``.\n",
      "  llm_chat = ChatOpenAI(model=\"gpt-4o-mini\")\n"
     ]
    }
   ],
   "source": [
    "# Initialize the model \n",
    "llm_chat = ChatOpenAI(model=\"gpt-4o-mini\")"
   ]
  },
  {
   "cell_type": "code",
   "execution_count": 18,
   "metadata": {},
   "outputs": [
    {
     "data": {
      "text/plain": [
       "\"I'm just a program, so I don't have feelings, but I'm here and ready to help you! How can I assist you today?\""
      ]
     },
     "execution_count": 18,
     "metadata": {},
     "output_type": "execute_result"
    }
   ],
   "source": [
    "llm_chat.invoke(\"How are you doing today?\").content"
   ]
  },
  {
   "cell_type": "code",
   "execution_count": 19,
   "metadata": {},
   "outputs": [],
   "source": [
    "from langchain_core.prompts import MessagesPlaceholder"
   ]
  },
  {
   "cell_type": "code",
   "execution_count": 250,
   "metadata": {},
   "outputs": [
    {
     "data": {
      "text/plain": [
       "'What does the article talk about J-WAFS Grand Challenge?'"
      ]
     },
     "execution_count": 250,
     "metadata": {},
     "output_type": "execute_result"
    }
   ],
   "source": [
    "query"
   ]
  },
  {
   "cell_type": "code",
   "execution_count": 251,
   "metadata": {},
   "outputs": [
    {
     "name": "stdout",
     "output_type": "stream",
     "text": [
      "---- Answer ----\n",
      "The article discusses the inaugural J-WAFS Grand Challenge, which is a significant initiative launched by the Abdul Latif Jameel Water and Food Systems Lab (J-WAFS) at MIT. The primary aim of this challenge is to inspire researchers to work towards a water-secure and food-secure future, particularly in the context of a changing planet.\n",
      "\n",
      "The Grand Challenge Grant was awarded to a team of researchers led by Professor Matt Shoulders and research scientist Robert Wilson from the Department of Chemistry. They plan to tackle a long-standing issue in crop biology: improving the efficiency of photosynthesis, specifically by enhancing the performance of the enzyme RuBisCO (Ribulose-1,5-Bisphosphate Carboxylase/Oxygenase), which is essential for converting carbon dioxide into energy-rich molecules during photosynthesis.\n",
      "\n",
      "The team will receive $1.5 million over three years to conduct a multistage research project that employs cutting-edge innovations in synthetic and computational biology. The project, referred to as the Enhanced Photosynthesis in Crops (EPiC) platform, aims to develop better variants of RuBisCO through laboratory work, followed by testing in plants and ultimately field trials.\n",
      "\n",
      "The article emphasizes the importance of this research, noting that food systems contribute significantly to global greenhouse gas emissions and are increasingly vulnerable to climate change. With a projected need to increase crop production by at least 50% over the next 30 years to meet growing food demands, improving RuBisCO could be crucial in enhancing agricultural yields and resilience. The collaborative effort involves experts from various fields, including biochemistry, synthetic biology, and computational biology, to create a robust feedback loop for enzyme engineering.\n",
      "\n",
      "In summary, the J-WAFS Grand Challenge aims to address the intertwined challenges of climate, water, and food security through innovative research, with the potential for significant impacts on agriculture and global food systems.\n"
     ]
    }
   ],
   "source": [
    "# ANSWER_PROMPT = ChatPromptTemplate.from_template(\n",
    "#     \"\"\"You are an assistant for question-answering tasks. Use the following pieces of retrieved context to answer the question. If you don't know the answer, just say that you don't know. Be verbose and educational in your response as possible.\n",
    "\n",
    "#     context: {context}\n",
    "#     Question: \"{question}\"\n",
    "#     Answer:\n",
    "#     \"\"\"\n",
    "# )\n",
    "SYSTEM_PROMPT = (\n",
    "        \"\"\"You are an assistant for question-answering tasks. Use the following pieces of retrieved context to answer the question. If you don't know the answer, just say that you don't know. Be verbose and educational in your response as possible.\n",
    "            context: {context}\n",
    "            Answer:\n",
    "        \"\"\"\n",
    ")\n",
    "\n",
    "ANSWER_PROMPT = ChatPromptTemplate.from_messages(\n",
    "    [\n",
    "       (\"system\", SYSTEM_PROMPT), \n",
    "       (\"human\", \"{question}\")\n",
    "    ]\n",
    ")\n",
    "\n",
    "chain = (\n",
    "    {\"context\": retriever, \"question\": RunnablePassthrough()} # Here the \"retriever\" context refers to the entire document data being passed to the LLM query for context\n",
    "    | ANSWER_PROMPT\n",
    "    | llm_chat\n",
    "    | StrOutputParser()\n",
    ")\n",
    "\n",
    "ans = chain.invoke(query) # The \"{question}\" parameter is the user question being passed as an input\n",
    "\n",
    "print(\"---- Answer ----\")\n",
    "print(ans)"
   ]
  },
  {
   "cell_type": "code",
   "execution_count": 20,
   "metadata": {},
   "outputs": [],
   "source": [
    "from langchain.chains import create_history_aware_retriever\n",
    "\n",
    "contextualize_q_system_prompt = (\n",
    "    \"\"\"\n",
    "        Given a chat history and the latest user question which might reference context in the chat history as well as in the external retrieved context given here,\n",
    "        formulate a standalone question which can be understood without the chat history. Do NOT answer the question,\n",
    "        just reformulate it if needed and otherwise return it as is. Be verbose and yet educational in your response.  \n",
    "    \"\"\"\n",
    ")\n",
    "\n",
    "contextualize_q_prompt = ChatPromptTemplate.from_messages(\n",
    "    [\n",
    "        (\"system\", contextualize_q_system_prompt),\n",
    "        MessagesPlaceholder(\"chat_history\"),\n",
    "        (\"human\", \"{input}\"),\n",
    "    ]\n",
    ")"
   ]
  },
  {
   "cell_type": "markdown",
   "metadata": {},
   "source": [
    "- Assemble the chain\n",
    "- This chain prepends a rephrasing of the input query to our retriever, so that the retrieval incorporates the context of the conversation \n",
    "- Now I can build my complete QA chain. The chain prepends a rephrasing of the input query to the retriever, so that the retrieval incorporates the context of the conversation.\n",
    "- Now let's build the entire conversation chain\n",
    "- "
   ]
  },
  {
   "cell_type": "code",
   "execution_count": 21,
   "metadata": {},
   "outputs": [],
   "source": [
    "\n",
    "history_aware_retriever = create_history_aware_retriever(\n",
    "    llm_chat, retriever, contextualize_q_prompt\n",
    ")"
   ]
  },
  {
   "cell_type": "code",
   "execution_count": 22,
   "metadata": {},
   "outputs": [],
   "source": [
    "system_prompt = (\n",
    "    \"\"\"You are an assistant for question-answering tasks. Use the following pieces of retrieved context to answer the question. If you don't know the answer, just say that you don't know. Be verbose and educational in your response as possible.\n",
    "            context: {context}\n",
    "            Answer:\n",
    "    \"\"\"\n",
    ")\n",
    "\n",
    "qa_prompt = ChatPromptTemplate.from_messages(\n",
    "    [\n",
    "        (\"system\", system_prompt),\n",
    "        MessagesPlaceholder(\"chat_history\"),\n",
    "        (\"human\", \"{input}\"),\n",
    "    ]\n",
    ")"
   ]
  },
  {
   "cell_type": "code",
   "execution_count": 23,
   "metadata": {},
   "outputs": [],
   "source": [
    "from langchain.chains import create_retrieval_chain\n",
    "from langchain.chains.combine_documents import create_stuff_documents_chain"
   ]
  },
  {
   "cell_type": "code",
   "execution_count": 24,
   "metadata": {},
   "outputs": [],
   "source": [
    "question_answer_chain = create_stuff_documents_chain(llm_chat, qa_prompt)\n",
    "rag_chain = create_retrieval_chain(history_aware_retriever, question_answer_chain)"
   ]
  },
  {
   "cell_type": "code",
   "execution_count": 314,
   "metadata": {},
   "outputs": [
    {
     "data": {
      "text/plain": [
       "'What does the article talk about J-WAFS Grand Challenge?'"
      ]
     },
     "execution_count": 314,
     "metadata": {},
     "output_type": "execute_result"
    }
   ],
   "source": [
    "query"
   ]
  },
  {
   "cell_type": "code",
   "execution_count": 25,
   "metadata": {},
   "outputs": [],
   "source": [
    "from langchain.memory import ChatMessageHistory"
   ]
  },
  {
   "cell_type": "code",
   "execution_count": 41,
   "metadata": {},
   "outputs": [],
   "source": [
    "chat_history = []"
   ]
  },
  {
   "cell_type": "code",
   "execution_count": 42,
   "metadata": {},
   "outputs": [],
   "source": [
    "chat_history.append({\"role\": \"assistant\", \"content\": query})\n",
    "response = rag_chain.invoke({\"input\": query, \"chat_history\": chat_history})\n",
    "# chat_history.append(response[\"answer\"])\n",
    "chat_history.append({\"role\": \"assistant\", \"content\": response[\"answer\"]})"
   ]
  },
  {
   "cell_type": "code",
   "execution_count": 43,
   "metadata": {},
   "outputs": [
    {
     "data": {
      "text/plain": [
       "[{'role': 'assistant',\n",
       "  'content': 'What does the article talk about J-WAFS Grand Challenge?'},\n",
       " {'role': 'assistant',\n",
       "  'content': \"The article discusses the J-WAFS (Abdul Latif Jameel Water and Food Systems Lab) Grand Challenge, which is a research initiative aimed at addressing critical issues related to water and food security in the context of a changing global environment. Established in 2022, the Grand Challenge Grant encourages MIT researchers to collaborate across various disciplines to develop innovative solutions for these pressing challenges.\\n\\nThe program began with a call for proposals, which attracted a significant response from MIT researchers across 18 different departments, labs, and centers. After a series of workshops and reviews, a team led by Professor Matt Shoulders and research scientist Robert Wilson from the Department of Chemistry was awarded the inaugural grant of $1.5 million over three years. Their project focuses on improving the efficiency of photosynthesis by enhancing the function of the RuBisCO enzyme, which is crucial for carbon fixation in plants.\\n\\nThis research is particularly significant given the increasing global population, climate change, and the need for higher crop yields. The article highlights RuBisCO's limitations, including its slow action and inability to efficiently discriminate between carbon dioxide and oxygen, which can lead to energy loss in plants. The Shoulders-led team plans to utilize advanced protein engineering and computational biology techniques to develop improved variants of RuBisCO, which could potentially increase crop yields and enhance food security.\\n\\nThe collaboration involves experts in various fields, including molecular dynamics simulations, machine learning, and plant biology, to create a robust research effort aimed at revolutionizing agricultural practices. The anticipated outcomes of this project could significantly impact agricultural productivity and sustainability, ultimately contributing to a more secure food supply and addressing the environmental footprint of food systems. \\n\\nOverall, the J-WAFS Grand Challenge represents a concerted effort to tackle the interconnected challenges of water, food, and climate change through innovative research and collaborative expertise.\"}]"
      ]
     },
     "execution_count": 43,
     "metadata": {},
     "output_type": "execute_result"
    }
   ],
   "source": [
    "chat_history"
   ]
  },
  {
   "cell_type": "code",
   "execution_count": 44,
   "metadata": {},
   "outputs": [
    {
     "data": {
      "text/plain": [
       "{'input': 'Who were the first awardees of the challenge?',\n",
       " 'chat_history': [{'role': 'assistant',\n",
       "   'content': 'What does the article talk about J-WAFS Grand Challenge?'},\n",
       "  {'role': 'assistant',\n",
       "   'content': \"The article discusses the J-WAFS (Abdul Latif Jameel Water and Food Systems Lab) Grand Challenge, which is a research initiative aimed at addressing critical issues related to water and food security in the context of a changing global environment. Established in 2022, the Grand Challenge Grant encourages MIT researchers to collaborate across various disciplines to develop innovative solutions for these pressing challenges.\\n\\nThe program began with a call for proposals, which attracted a significant response from MIT researchers across 18 different departments, labs, and centers. After a series of workshops and reviews, a team led by Professor Matt Shoulders and research scientist Robert Wilson from the Department of Chemistry was awarded the inaugural grant of $1.5 million over three years. Their project focuses on improving the efficiency of photosynthesis by enhancing the function of the RuBisCO enzyme, which is crucial for carbon fixation in plants.\\n\\nThis research is particularly significant given the increasing global population, climate change, and the need for higher crop yields. The article highlights RuBisCO's limitations, including its slow action and inability to efficiently discriminate between carbon dioxide and oxygen, which can lead to energy loss in plants. The Shoulders-led team plans to utilize advanced protein engineering and computational biology techniques to develop improved variants of RuBisCO, which could potentially increase crop yields and enhance food security.\\n\\nThe collaboration involves experts in various fields, including molecular dynamics simulations, machine learning, and plant biology, to create a robust research effort aimed at revolutionizing agricultural practices. The anticipated outcomes of this project could significantly impact agricultural productivity and sustainability, ultimately contributing to a more secure food supply and addressing the environmental footprint of food systems. \\n\\nOverall, the J-WAFS Grand Challenge represents a concerted effort to tackle the interconnected challenges of water, food, and climate change through innovative research and collaborative expertise.\"}],\n",
       " 'context': [Document(metadata={'date': '2023-05-10T00:00:00', 'author': 'Carolyn Blais', 'source': 'Abdul Latif Jameel Water and Food Systems Lab', 'heading': 'Inaugural J-WAFS Grand Challenge aims to develop enhanced crop variants and move them from lab to land', 'description': 'Matt Shoulders will lead an interdisciplinary team to improve RuBisCO — the photosynthesis enzyme thought to be the holy grail for improving agricultural yield.'}, page_content=\"According to MIT’s charter, established in 1861, part of the Institute’s mission is to advance the “development and practical application of science in connection with arts, agriculture, manufactures, and commerce.” Today, the Abdul Latif Jameel Water and Food Systems Lab (J-WAFS) is one of the driving forces behind water and food-related research on campus, much of which relates to agriculture. In 2022, J-WAFS established the Water and Food Grand Challenge Grant to inspire MIT researchers to work toward a water-secure and food-secure future for our changing planet. Not unlike MIT’s Climate Grand Challenges, the J-WAFS Grand Challenge seeks to leverage multiple areas of expertise, programs, and Institute resources. The initial call for statements of interests returned 23 letters from MIT researchers spanning 18 departments, labs, and centers. J-WAFS hosted workshops for the proposers to present and discuss their initial ideas. These were winnowed down to a smaller set of invited concept papers, followed by the final proposal stage.', 'Today, J-WAFS is delighted to report that the inaugural J-WAFS Grand Challenge Grant has been awarded to a team of researchers led by Professor Matt Shoulders and research scientist Robert Wilson of the Department of Chemistry. A panel of expert, external reviewers highly endorsed their proposal, which tackles a longstanding problem in crop biology — how to make photosynthesis more efficient. The team will receive $1.5 million over three years to facilitate a multistage research project that combines cutting-edge innovations in synthetic and computational biology. If successful, this project could create major benefits for agriculture and food systems worldwide.', '“Food systems are a major source of global greenhouse gas emissions, and they are also increasingly vulnerable to the impacts of climate change. That’s why when we talk about climate change, we have to talk about food systems, and vice versa,” says Maria T. Zuber, MIT’s vice president for research. “J-WAFS is central to MIT’s efforts to address the interlocking challenges of climate, water, and food. This new grant program aims to catalyze innovative projects that will have real and meaningful impacts on water and food. I congratulate Professor Shoulders and the rest of the research team on being the inaugural recipients of this grant.”', 'Shoulders will work with Bryan Bryson, associate professor of biological engineering, as well as Bin Zhang, associate professor of chemistry, and Mary Gehring, a professor in the Department of Biology and the Whitehead Institute for Biomedical Research. Robert Wilson from the Shoulders lab will be coordinating the research effort. The team at MIT will work with outside collaborators Spencer Whitney, a professor from the Australian National University, and Ahmed Badran, an assistant professor at the Scripps Research Institute. A milestone-based collaboration will also take place with Stephen Long, a professor from the University of Illinois at Urbana-Champaign. The group consists of experts in continuous directed evolution, machine learning, molecular dynamics simulations, translational plant biochemistry, and field trials.', '“This project seeks to fundamentally improve the RuBisCO enzyme that plants use to convert carbon dioxide into the energy-rich molecules that constitute our food,” says J-WAFS Director John H. Lienhard V. “This difficult problem is a true grand challenge, calling for extensive resources. With J-WAFS’ support, this long-sought goal may finally be achieved through MIT’s leading-edge research,” he adds.', 'RuBisCO: No, it’s not a new breakfast cereal; it just might be the key to an agricultural revolution', 'A growing global population, the effects of climate change, and social and political conflicts like the war in Ukraine are all threatening food supplies, particularly grain crops. Current projections estimate that crop production must increase by at least 50 percent over the next 30 years to meet food demands. One key barrier to increased crop yields is a photosynthetic enzyme called Ribulose-1,5-Bisphosphate Carboxylase/Oxygenase (RuBisCO). During photosynthesis, crops use energy gathered from light to draw carbon dioxide (CO2) from the atmosphere and transform it into sugars and cellulose for growth, a process known as carbon fixation. RuBisCO is essential for capturing the CO2 from the air to initiate conversion of CO2 into energy-rich molecules like glucose. This reaction occurs during the second stage of photosynthesis, also known as the Calvin cycle. Without RuBisCO, the chemical reactions that account for virtually all carbon acquisition in life could not occur.', 'Unfortunately, RuBisCO has biochemical shortcomings. Notably, the enzyme acts slowly. Many other enzymes can process a thousand molecules per second, but RuBisCO in chloroplasts fixes less than six carbon dioxide molecules per second, often limiting the rate of plant photosynthesis. Another problem is that oxygen (O2) molecules and carbon dioxide molecules are relatively similar in shape and chemical properties, and RuBisCO is unable to fully discriminate between the two. The inadvertent fixation of oxygen by RuBisCO leads to energy and carbon loss. What’s more, at higher temperatures RuBisCO reacts even more frequently with oxygen, which will contribute to decreased photosynthetic efficiency in many staple crops as our climate warms.', 'The scientific consensus is that genetic engineering and synthetic biology approaches could revolutionize photosynthesis and offer protection against crop losses. To date, crop RuBisCO engineering has been impaired by technological obstacles that have limited any success in significantly enhancing crop production. Excitingly, genetic engineering and synthetic biology tools are now at a point where they can be applied and tested with the aim of creating crops with new or improved biological pathways for producing more food for the growing population.', 'An epic plan for fighting food insecurity', 'The 2023 J-WAFS Grand Challenge project will use state-of-the-art, transformative protein engineering techniques drawn from biomedicine to improve the biochemistry of photosynthesis, specifically focusing on RuBisCO. Shoulders and his team are planning to build what they call the Enhanced Photosynthesis in Crops (EPiC) platform. The project will evolve and design better crop RuBisCO in the laboratory, followed by validation of the improved enzymes in plants, ultimately resulting in the deployment of enhanced RuBisCO in field trials to evaluate the impact on crop yield.', 'Several recent developments make high-throughput engineering of crop RuBisCO possible. RuBisCO requires a complex chaperone network for proper assembly and function in plants. Chaperones are like helpers that guide proteins during their maturation process, shielding them from aggregation while coordinating their correct assembly. Wilson and his collaborators previously unlocked the ability to recombinantly produce plant RuBisCO outside of plant chloroplasts by reconstructing this chaperone network in Escherichia coli (E. coli). Whitney has now established that the RuBisCO enzymes from a range of agriculturally relevant crops, including potato, carrot, strawberry, and tobacco, can also be expressed using this technology. Whitney and Wilson have further developed a range of RuBisCO-dependent E. coli screens that can identify improved RuBisCO from complex gene libraries. Moreover, Shoulders and his lab have developed sophisticated in vivo mutagenesis technologies that enable efficient continuous directed evolution campaigns. Continuous directed evolution refers to a protein engineering process that can accelerate the steps of natural evolution simultaneously in an uninterrupted cycle in the lab, allowing for rapid testing of protein sequences. While Shoulders and Badran both have prior experience with cutting-edge directed evolution platforms, this will be the first time directed evolution is applied to RuBisCO from plants.', 'Artificial intelligence is changing the way enzyme engineering is undertaken by researchers. Principal investigators Zhang and Bryson will leverage modern computational methods to simulate the dynamics of RuBisCO structure and explore its evolutionary landscape. Specifically, Zhang will use molecular dynamics simulations to simulate and monitor the conformational dynamics of the atoms in a protein and its programmed environment over time. This approach will help the team evaluate the effect of mutations and new chemical functionalities on the properties of RuBisCO. Bryson will employ artificial intelligence and machine learning to search the RuBisCO activity landscape for optimal sequences. The computational and biological arms of the EPiC platform will work together to both validate and inform each other’s approaches to accelerate the overall engineering effort.', 'Shoulders and the group will deploy their designed enzymes in tobacco plants to evaluate their effects on growth and yield relative to natural RuBisCO. Gehring, a plant biologist, will assist with screening improved RuBisCO variants using the tobacco variety Nicotiana benthamianaI, where transient expression can be deployed. Transient expression is a speedy approach to test whether novel engineered RuBisCO variants can be correctly synthesized in leaf chloroplasts. Variants that pass this quality-control checkpoint at MIT will be passed to the Whitney Lab at the Australian National University for stable transformation into Nicotiana tabacum (tobacco), enabling robust measurements of photosynthetic improvement. In a final step, Professor Long at the University of Illinois at Urbana-Champaign will perform field trials of the most promising variants.', 'Even small improvements could have a big impact', 'A common criticism of efforts to improve RuBisCO is that natural evolution has not already identified a better enzyme, possibly implying that none will be found. Traditional views have speculated a catalytic trade-off between RuBisCO’s specificity factor for CO2 / O2 versus its CO2 fixation efficiency, leading to the belief that specificity factor improvements might be offset by even slower carbon fixation or vice versa. This trade-off has been suggested to explain why natural evolution has been slow to achieve a better RuBisCO. But Shoulders and the team are convinced that the EPiC platform can unlock significant overall improvements to plant RuBisCO. This view is supported by the fact that Wilson and Whitney have previously used directed evolution to improve CO2 fixation efficiency by 50 percent in RuBisCO from cyanobacteria (the ancient progenitors of plant chloroplasts) while simultaneously increasing the specificity factor.', 'The EPiC researchers anticipate that their initial variants could yield 20 percent increases in RuBisCO’s specificity factor without impairing other aspects of catalysis. More sophisticated variants could lift RuBisCO out of its evolutionary trap and display attributes not currently observed in nature. “If we achieve anywhere close to such an improvement and it translates to crops, the results could help transform agriculture,” Shoulders says. “If our accomplishments are more modest, it will still recruit massive new investments to this essential field.”', 'Successful engineering of RuBisCO would be a scientific feat of its own and ignite renewed enthusiasm for improving plant CO2 fixation. Combined with other advances in photosynthetic engineering, such as improved light usage, a new green revolution in agriculture could be achieved. Long-term impacts of the technology’s success will be measured in improvements to crop yield and grain availability, as well as resilience against yield losses under higher field temperatures. Moreover, improved land productivity together with policy initiatives would assist in reducing the environmental footprint of agriculture. With more “crop per drop,” reductions in water consumption from agriculture would be a major boost to sustainable farming practices.', '“Our collaborative team of biochemists and synthetic biologists, computational biologists, and chemists is deeply integrated with plant biologists and field trial experts, yielding a robust feedback loop for enzyme engineering,” Shoulders adds. “Together, this team will be able to make a concerted effort using the most modern, state-of-the-art techniques to engineer crop RuBisCO with an eye to helping make meaningful gains in securing a stable crop supply, hopefully with accompanying improvements in both food and water security\")],\n",
       " 'answer': 'The first awardees of the J-WAFS Grand Challenge Grant were a team of researchers led by Professor Matt Shoulders and research scientist Robert Wilson from the Department of Chemistry at MIT. Their proposal, which focuses on improving the efficiency of the RuBisCO enzyme involved in photosynthesis, was highly endorsed by a panel of expert external reviewers. They will receive $1.5 million over three years for their multistage research project aimed at enhancing crop biology and ultimately improving agricultural productivity.'}"
      ]
     },
     "execution_count": 44,
     "metadata": {},
     "output_type": "execute_result"
    }
   ],
   "source": [
    "query_1 = \"Who were the first awardees of the challenge?\"\n",
    "\n",
    "response_1 = rag_chain.invoke({\"input\": query_1, \"chat_history\": chat_history})\n",
    "response_1"
   ]
  },
  {
   "cell_type": "code",
   "execution_count": 45,
   "metadata": {},
   "outputs": [],
   "source": [
    "chat_history.append({\"role\": \"assistant\", \"content\": query_1})\n",
    "chat_history.append({\"role\": \"user\", \"content\": response_1[\"answer\"]})"
   ]
  },
  {
   "cell_type": "code",
   "execution_count": 46,
   "metadata": {},
   "outputs": [
    {
     "data": {
      "text/plain": [
       "{'input': 'What was your last reply?',\n",
       " 'chat_history': [{'role': 'assistant',\n",
       "   'content': 'What does the article talk about J-WAFS Grand Challenge?'},\n",
       "  {'role': 'assistant',\n",
       "   'content': \"The article discusses the J-WAFS (Abdul Latif Jameel Water and Food Systems Lab) Grand Challenge, which is a research initiative aimed at addressing critical issues related to water and food security in the context of a changing global environment. Established in 2022, the Grand Challenge Grant encourages MIT researchers to collaborate across various disciplines to develop innovative solutions for these pressing challenges.\\n\\nThe program began with a call for proposals, which attracted a significant response from MIT researchers across 18 different departments, labs, and centers. After a series of workshops and reviews, a team led by Professor Matt Shoulders and research scientist Robert Wilson from the Department of Chemistry was awarded the inaugural grant of $1.5 million over three years. Their project focuses on improving the efficiency of photosynthesis by enhancing the function of the RuBisCO enzyme, which is crucial for carbon fixation in plants.\\n\\nThis research is particularly significant given the increasing global population, climate change, and the need for higher crop yields. The article highlights RuBisCO's limitations, including its slow action and inability to efficiently discriminate between carbon dioxide and oxygen, which can lead to energy loss in plants. The Shoulders-led team plans to utilize advanced protein engineering and computational biology techniques to develop improved variants of RuBisCO, which could potentially increase crop yields and enhance food security.\\n\\nThe collaboration involves experts in various fields, including molecular dynamics simulations, machine learning, and plant biology, to create a robust research effort aimed at revolutionizing agricultural practices. The anticipated outcomes of this project could significantly impact agricultural productivity and sustainability, ultimately contributing to a more secure food supply and addressing the environmental footprint of food systems. \\n\\nOverall, the J-WAFS Grand Challenge represents a concerted effort to tackle the interconnected challenges of water, food, and climate change through innovative research and collaborative expertise.\"},\n",
       "  {'role': 'assistant',\n",
       "   'content': 'Who were the first awardees of the challenge?'},\n",
       "  {'role': 'user',\n",
       "   'content': 'The first awardees of the J-WAFS Grand Challenge Grant were a team of researchers led by Professor Matt Shoulders and research scientist Robert Wilson from the Department of Chemistry at MIT. Their proposal, which focuses on improving the efficiency of the RuBisCO enzyme involved in photosynthesis, was highly endorsed by a panel of expert external reviewers. They will receive $1.5 million over three years for their multistage research project aimed at enhancing crop biology and ultimately improving agricultural productivity.'},\n",
       "  {'role': 'assistant', 'content': 'What was your last reply?'}],\n",
       " 'context': [Document(metadata={'date': '2023-05-10T00:00:00', 'author': 'Carolyn Blais', 'source': 'Abdul Latif Jameel Water and Food Systems Lab', 'heading': 'Inaugural J-WAFS Grand Challenge aims to develop enhanced crop variants and move them from lab to land', 'description': 'Matt Shoulders will lead an interdisciplinary team to improve RuBisCO — the photosynthesis enzyme thought to be the holy grail for improving agricultural yield.'}, page_content=\"According to MIT’s charter, established in 1861, part of the Institute’s mission is to advance the “development and practical application of science in connection with arts, agriculture, manufactures, and commerce.” Today, the Abdul Latif Jameel Water and Food Systems Lab (J-WAFS) is one of the driving forces behind water and food-related research on campus, much of which relates to agriculture. In 2022, J-WAFS established the Water and Food Grand Challenge Grant to inspire MIT researchers to work toward a water-secure and food-secure future for our changing planet. Not unlike MIT’s Climate Grand Challenges, the J-WAFS Grand Challenge seeks to leverage multiple areas of expertise, programs, and Institute resources. The initial call for statements of interests returned 23 letters from MIT researchers spanning 18 departments, labs, and centers. J-WAFS hosted workshops for the proposers to present and discuss their initial ideas. These were winnowed down to a smaller set of invited concept papers, followed by the final proposal stage.', 'Today, J-WAFS is delighted to report that the inaugural J-WAFS Grand Challenge Grant has been awarded to a team of researchers led by Professor Matt Shoulders and research scientist Robert Wilson of the Department of Chemistry. A panel of expert, external reviewers highly endorsed their proposal, which tackles a longstanding problem in crop biology — how to make photosynthesis more efficient. The team will receive $1.5 million over three years to facilitate a multistage research project that combines cutting-edge innovations in synthetic and computational biology. If successful, this project could create major benefits for agriculture and food systems worldwide.', '“Food systems are a major source of global greenhouse gas emissions, and they are also increasingly vulnerable to the impacts of climate change. That’s why when we talk about climate change, we have to talk about food systems, and vice versa,” says Maria T. Zuber, MIT’s vice president for research. “J-WAFS is central to MIT’s efforts to address the interlocking challenges of climate, water, and food. This new grant program aims to catalyze innovative projects that will have real and meaningful impacts on water and food. I congratulate Professor Shoulders and the rest of the research team on being the inaugural recipients of this grant.”', 'Shoulders will work with Bryan Bryson, associate professor of biological engineering, as well as Bin Zhang, associate professor of chemistry, and Mary Gehring, a professor in the Department of Biology and the Whitehead Institute for Biomedical Research. Robert Wilson from the Shoulders lab will be coordinating the research effort. The team at MIT will work with outside collaborators Spencer Whitney, a professor from the Australian National University, and Ahmed Badran, an assistant professor at the Scripps Research Institute. A milestone-based collaboration will also take place with Stephen Long, a professor from the University of Illinois at Urbana-Champaign. The group consists of experts in continuous directed evolution, machine learning, molecular dynamics simulations, translational plant biochemistry, and field trials.', '“This project seeks to fundamentally improve the RuBisCO enzyme that plants use to convert carbon dioxide into the energy-rich molecules that constitute our food,” says J-WAFS Director John H. Lienhard V. “This difficult problem is a true grand challenge, calling for extensive resources. With J-WAFS’ support, this long-sought goal may finally be achieved through MIT’s leading-edge research,” he adds.', 'RuBisCO: No, it’s not a new breakfast cereal; it just might be the key to an agricultural revolution', 'A growing global population, the effects of climate change, and social and political conflicts like the war in Ukraine are all threatening food supplies, particularly grain crops. Current projections estimate that crop production must increase by at least 50 percent over the next 30 years to meet food demands. One key barrier to increased crop yields is a photosynthetic enzyme called Ribulose-1,5-Bisphosphate Carboxylase/Oxygenase (RuBisCO). During photosynthesis, crops use energy gathered from light to draw carbon dioxide (CO2) from the atmosphere and transform it into sugars and cellulose for growth, a process known as carbon fixation. RuBisCO is essential for capturing the CO2 from the air to initiate conversion of CO2 into energy-rich molecules like glucose. This reaction occurs during the second stage of photosynthesis, also known as the Calvin cycle. Without RuBisCO, the chemical reactions that account for virtually all carbon acquisition in life could not occur.', 'Unfortunately, RuBisCO has biochemical shortcomings. Notably, the enzyme acts slowly. Many other enzymes can process a thousand molecules per second, but RuBisCO in chloroplasts fixes less than six carbon dioxide molecules per second, often limiting the rate of plant photosynthesis. Another problem is that oxygen (O2) molecules and carbon dioxide molecules are relatively similar in shape and chemical properties, and RuBisCO is unable to fully discriminate between the two. The inadvertent fixation of oxygen by RuBisCO leads to energy and carbon loss. What’s more, at higher temperatures RuBisCO reacts even more frequently with oxygen, which will contribute to decreased photosynthetic efficiency in many staple crops as our climate warms.', 'The scientific consensus is that genetic engineering and synthetic biology approaches could revolutionize photosynthesis and offer protection against crop losses. To date, crop RuBisCO engineering has been impaired by technological obstacles that have limited any success in significantly enhancing crop production. Excitingly, genetic engineering and synthetic biology tools are now at a point where they can be applied and tested with the aim of creating crops with new or improved biological pathways for producing more food for the growing population.', 'An epic plan for fighting food insecurity', 'The 2023 J-WAFS Grand Challenge project will use state-of-the-art, transformative protein engineering techniques drawn from biomedicine to improve the biochemistry of photosynthesis, specifically focusing on RuBisCO. Shoulders and his team are planning to build what they call the Enhanced Photosynthesis in Crops (EPiC) platform. The project will evolve and design better crop RuBisCO in the laboratory, followed by validation of the improved enzymes in plants, ultimately resulting in the deployment of enhanced RuBisCO in field trials to evaluate the impact on crop yield.', 'Several recent developments make high-throughput engineering of crop RuBisCO possible. RuBisCO requires a complex chaperone network for proper assembly and function in plants. Chaperones are like helpers that guide proteins during their maturation process, shielding them from aggregation while coordinating their correct assembly. Wilson and his collaborators previously unlocked the ability to recombinantly produce plant RuBisCO outside of plant chloroplasts by reconstructing this chaperone network in Escherichia coli (E. coli). Whitney has now established that the RuBisCO enzymes from a range of agriculturally relevant crops, including potato, carrot, strawberry, and tobacco, can also be expressed using this technology. Whitney and Wilson have further developed a range of RuBisCO-dependent E. coli screens that can identify improved RuBisCO from complex gene libraries. Moreover, Shoulders and his lab have developed sophisticated in vivo mutagenesis technologies that enable efficient continuous directed evolution campaigns. Continuous directed evolution refers to a protein engineering process that can accelerate the steps of natural evolution simultaneously in an uninterrupted cycle in the lab, allowing for rapid testing of protein sequences. While Shoulders and Badran both have prior experience with cutting-edge directed evolution platforms, this will be the first time directed evolution is applied to RuBisCO from plants.', 'Artificial intelligence is changing the way enzyme engineering is undertaken by researchers. Principal investigators Zhang and Bryson will leverage modern computational methods to simulate the dynamics of RuBisCO structure and explore its evolutionary landscape. Specifically, Zhang will use molecular dynamics simulations to simulate and monitor the conformational dynamics of the atoms in a protein and its programmed environment over time. This approach will help the team evaluate the effect of mutations and new chemical functionalities on the properties of RuBisCO. Bryson will employ artificial intelligence and machine learning to search the RuBisCO activity landscape for optimal sequences. The computational and biological arms of the EPiC platform will work together to both validate and inform each other’s approaches to accelerate the overall engineering effort.', 'Shoulders and the group will deploy their designed enzymes in tobacco plants to evaluate their effects on growth and yield relative to natural RuBisCO. Gehring, a plant biologist, will assist with screening improved RuBisCO variants using the tobacco variety Nicotiana benthamianaI, where transient expression can be deployed. Transient expression is a speedy approach to test whether novel engineered RuBisCO variants can be correctly synthesized in leaf chloroplasts. Variants that pass this quality-control checkpoint at MIT will be passed to the Whitney Lab at the Australian National University for stable transformation into Nicotiana tabacum (tobacco), enabling robust measurements of photosynthetic improvement. In a final step, Professor Long at the University of Illinois at Urbana-Champaign will perform field trials of the most promising variants.', 'Even small improvements could have a big impact', 'A common criticism of efforts to improve RuBisCO is that natural evolution has not already identified a better enzyme, possibly implying that none will be found. Traditional views have speculated a catalytic trade-off between RuBisCO’s specificity factor for CO2 / O2 versus its CO2 fixation efficiency, leading to the belief that specificity factor improvements might be offset by even slower carbon fixation or vice versa. This trade-off has been suggested to explain why natural evolution has been slow to achieve a better RuBisCO. But Shoulders and the team are convinced that the EPiC platform can unlock significant overall improvements to plant RuBisCO. This view is supported by the fact that Wilson and Whitney have previously used directed evolution to improve CO2 fixation efficiency by 50 percent in RuBisCO from cyanobacteria (the ancient progenitors of plant chloroplasts) while simultaneously increasing the specificity factor.', 'The EPiC researchers anticipate that their initial variants could yield 20 percent increases in RuBisCO’s specificity factor without impairing other aspects of catalysis. More sophisticated variants could lift RuBisCO out of its evolutionary trap and display attributes not currently observed in nature. “If we achieve anywhere close to such an improvement and it translates to crops, the results could help transform agriculture,” Shoulders says. “If our accomplishments are more modest, it will still recruit massive new investments to this essential field.”', 'Successful engineering of RuBisCO would be a scientific feat of its own and ignite renewed enthusiasm for improving plant CO2 fixation. Combined with other advances in photosynthetic engineering, such as improved light usage, a new green revolution in agriculture could be achieved. Long-term impacts of the technology’s success will be measured in improvements to crop yield and grain availability, as well as resilience against yield losses under higher field temperatures. Moreover, improved land productivity together with policy initiatives would assist in reducing the environmental footprint of agriculture. With more “crop per drop,” reductions in water consumption from agriculture would be a major boost to sustainable farming practices.', '“Our collaborative team of biochemists and synthetic biologists, computational biologists, and chemists is deeply integrated with plant biologists and field trial experts, yielding a robust feedback loop for enzyme engineering,” Shoulders adds. “Together, this team will be able to make a concerted effort using the most modern, state-of-the-art techniques to engineer crop RuBisCO with an eye to helping make meaningful gains in securing a stable crop supply, hopefully with accompanying improvements in both food and water security\")],\n",
       " 'answer': 'My last reply was an answer to your question about the first awardees of the J-WAFS Grand Challenge Grant. I mentioned that the awardees were a team of researchers led by Professor Matt Shoulders and research scientist Robert Wilson from the Department of Chemistry at MIT. Their project focuses on improving the efficiency of the RuBisCO enzyme, which plays a crucial role in photosynthesis. The proposal received strong endorsements from a panel of expert external reviewers, and they were awarded $1.5 million over three years to support their research efforts aimed at enhancing crop biology and agricultural productivity.'}"
      ]
     },
     "execution_count": 46,
     "metadata": {},
     "output_type": "execute_result"
    }
   ],
   "source": [
    "query_2 = \"What was your last reply?\"\n",
    "chat_history.append({\"role\": \"assistant\", \"content\": query_2})\n",
    "response_2 = rag_chain.invoke({\"input\": query_2, \"chat_history\": chat_history})\n",
    "response_2"
   ]
  },
  {
   "cell_type": "code",
   "execution_count": 47,
   "metadata": {},
   "outputs": [
    {
     "data": {
      "text/plain": [
       "{'input': 'What was my most initial question about?',\n",
       " 'chat_history': [{'role': 'assistant',\n",
       "   'content': 'What does the article talk about J-WAFS Grand Challenge?'},\n",
       "  {'role': 'assistant',\n",
       "   'content': \"The article discusses the J-WAFS (Abdul Latif Jameel Water and Food Systems Lab) Grand Challenge, which is a research initiative aimed at addressing critical issues related to water and food security in the context of a changing global environment. Established in 2022, the Grand Challenge Grant encourages MIT researchers to collaborate across various disciplines to develop innovative solutions for these pressing challenges.\\n\\nThe program began with a call for proposals, which attracted a significant response from MIT researchers across 18 different departments, labs, and centers. After a series of workshops and reviews, a team led by Professor Matt Shoulders and research scientist Robert Wilson from the Department of Chemistry was awarded the inaugural grant of $1.5 million over three years. Their project focuses on improving the efficiency of photosynthesis by enhancing the function of the RuBisCO enzyme, which is crucial for carbon fixation in plants.\\n\\nThis research is particularly significant given the increasing global population, climate change, and the need for higher crop yields. The article highlights RuBisCO's limitations, including its slow action and inability to efficiently discriminate between carbon dioxide and oxygen, which can lead to energy loss in plants. The Shoulders-led team plans to utilize advanced protein engineering and computational biology techniques to develop improved variants of RuBisCO, which could potentially increase crop yields and enhance food security.\\n\\nThe collaboration involves experts in various fields, including molecular dynamics simulations, machine learning, and plant biology, to create a robust research effort aimed at revolutionizing agricultural practices. The anticipated outcomes of this project could significantly impact agricultural productivity and sustainability, ultimately contributing to a more secure food supply and addressing the environmental footprint of food systems. \\n\\nOverall, the J-WAFS Grand Challenge represents a concerted effort to tackle the interconnected challenges of water, food, and climate change through innovative research and collaborative expertise.\"},\n",
       "  {'role': 'assistant',\n",
       "   'content': 'Who were the first awardees of the challenge?'},\n",
       "  {'role': 'user',\n",
       "   'content': 'The first awardees of the J-WAFS Grand Challenge Grant were a team of researchers led by Professor Matt Shoulders and research scientist Robert Wilson from the Department of Chemistry at MIT. Their proposal, which focuses on improving the efficiency of the RuBisCO enzyme involved in photosynthesis, was highly endorsed by a panel of expert external reviewers. They will receive $1.5 million over three years for their multistage research project aimed at enhancing crop biology and ultimately improving agricultural productivity.'},\n",
       "  {'role': 'assistant', 'content': 'What was your last reply?'},\n",
       "  {'role': 'user',\n",
       "   'content': 'My last reply was an answer to your question about the first awardees of the J-WAFS Grand Challenge Grant. I mentioned that the awardees were a team of researchers led by Professor Matt Shoulders and research scientist Robert Wilson from the Department of Chemistry at MIT. Their project focuses on improving the efficiency of the RuBisCO enzyme, which plays a crucial role in photosynthesis. The proposal received strong endorsements from a panel of expert external reviewers, and they were awarded $1.5 million over three years to support their research efforts aimed at enhancing crop biology and agricultural productivity.'},\n",
       "  {'role': 'assistant',\n",
       "   'content': 'What was my most initial question about?'}],\n",
       " 'context': [Document(metadata={'date': '2023-05-10T00:00:00', 'author': 'Carolyn Blais', 'source': 'Abdul Latif Jameel Water and Food Systems Lab', 'heading': 'Inaugural J-WAFS Grand Challenge aims to develop enhanced crop variants and move them from lab to land', 'description': 'Matt Shoulders will lead an interdisciplinary team to improve RuBisCO — the photosynthesis enzyme thought to be the holy grail for improving agricultural yield.'}, page_content=\"According to MIT’s charter, established in 1861, part of the Institute’s mission is to advance the “development and practical application of science in connection with arts, agriculture, manufactures, and commerce.” Today, the Abdul Latif Jameel Water and Food Systems Lab (J-WAFS) is one of the driving forces behind water and food-related research on campus, much of which relates to agriculture. In 2022, J-WAFS established the Water and Food Grand Challenge Grant to inspire MIT researchers to work toward a water-secure and food-secure future for our changing planet. Not unlike MIT’s Climate Grand Challenges, the J-WAFS Grand Challenge seeks to leverage multiple areas of expertise, programs, and Institute resources. The initial call for statements of interests returned 23 letters from MIT researchers spanning 18 departments, labs, and centers. J-WAFS hosted workshops for the proposers to present and discuss their initial ideas. These were winnowed down to a smaller set of invited concept papers, followed by the final proposal stage.', 'Today, J-WAFS is delighted to report that the inaugural J-WAFS Grand Challenge Grant has been awarded to a team of researchers led by Professor Matt Shoulders and research scientist Robert Wilson of the Department of Chemistry. A panel of expert, external reviewers highly endorsed their proposal, which tackles a longstanding problem in crop biology — how to make photosynthesis more efficient. The team will receive $1.5 million over three years to facilitate a multistage research project that combines cutting-edge innovations in synthetic and computational biology. If successful, this project could create major benefits for agriculture and food systems worldwide.', '“Food systems are a major source of global greenhouse gas emissions, and they are also increasingly vulnerable to the impacts of climate change. That’s why when we talk about climate change, we have to talk about food systems, and vice versa,” says Maria T. Zuber, MIT’s vice president for research. “J-WAFS is central to MIT’s efforts to address the interlocking challenges of climate, water, and food. This new grant program aims to catalyze innovative projects that will have real and meaningful impacts on water and food. I congratulate Professor Shoulders and the rest of the research team on being the inaugural recipients of this grant.”', 'Shoulders will work with Bryan Bryson, associate professor of biological engineering, as well as Bin Zhang, associate professor of chemistry, and Mary Gehring, a professor in the Department of Biology and the Whitehead Institute for Biomedical Research. Robert Wilson from the Shoulders lab will be coordinating the research effort. The team at MIT will work with outside collaborators Spencer Whitney, a professor from the Australian National University, and Ahmed Badran, an assistant professor at the Scripps Research Institute. A milestone-based collaboration will also take place with Stephen Long, a professor from the University of Illinois at Urbana-Champaign. The group consists of experts in continuous directed evolution, machine learning, molecular dynamics simulations, translational plant biochemistry, and field trials.', '“This project seeks to fundamentally improve the RuBisCO enzyme that plants use to convert carbon dioxide into the energy-rich molecules that constitute our food,” says J-WAFS Director John H. Lienhard V. “This difficult problem is a true grand challenge, calling for extensive resources. With J-WAFS’ support, this long-sought goal may finally be achieved through MIT’s leading-edge research,” he adds.', 'RuBisCO: No, it’s not a new breakfast cereal; it just might be the key to an agricultural revolution', 'A growing global population, the effects of climate change, and social and political conflicts like the war in Ukraine are all threatening food supplies, particularly grain crops. Current projections estimate that crop production must increase by at least 50 percent over the next 30 years to meet food demands. One key barrier to increased crop yields is a photosynthetic enzyme called Ribulose-1,5-Bisphosphate Carboxylase/Oxygenase (RuBisCO). During photosynthesis, crops use energy gathered from light to draw carbon dioxide (CO2) from the atmosphere and transform it into sugars and cellulose for growth, a process known as carbon fixation. RuBisCO is essential for capturing the CO2 from the air to initiate conversion of CO2 into energy-rich molecules like glucose. This reaction occurs during the second stage of photosynthesis, also known as the Calvin cycle. Without RuBisCO, the chemical reactions that account for virtually all carbon acquisition in life could not occur.', 'Unfortunately, RuBisCO has biochemical shortcomings. Notably, the enzyme acts slowly. Many other enzymes can process a thousand molecules per second, but RuBisCO in chloroplasts fixes less than six carbon dioxide molecules per second, often limiting the rate of plant photosynthesis. Another problem is that oxygen (O2) molecules and carbon dioxide molecules are relatively similar in shape and chemical properties, and RuBisCO is unable to fully discriminate between the two. The inadvertent fixation of oxygen by RuBisCO leads to energy and carbon loss. What’s more, at higher temperatures RuBisCO reacts even more frequently with oxygen, which will contribute to decreased photosynthetic efficiency in many staple crops as our climate warms.', 'The scientific consensus is that genetic engineering and synthetic biology approaches could revolutionize photosynthesis and offer protection against crop losses. To date, crop RuBisCO engineering has been impaired by technological obstacles that have limited any success in significantly enhancing crop production. Excitingly, genetic engineering and synthetic biology tools are now at a point where they can be applied and tested with the aim of creating crops with new or improved biological pathways for producing more food for the growing population.', 'An epic plan for fighting food insecurity', 'The 2023 J-WAFS Grand Challenge project will use state-of-the-art, transformative protein engineering techniques drawn from biomedicine to improve the biochemistry of photosynthesis, specifically focusing on RuBisCO. Shoulders and his team are planning to build what they call the Enhanced Photosynthesis in Crops (EPiC) platform. The project will evolve and design better crop RuBisCO in the laboratory, followed by validation of the improved enzymes in plants, ultimately resulting in the deployment of enhanced RuBisCO in field trials to evaluate the impact on crop yield.', 'Several recent developments make high-throughput engineering of crop RuBisCO possible. RuBisCO requires a complex chaperone network for proper assembly and function in plants. Chaperones are like helpers that guide proteins during their maturation process, shielding them from aggregation while coordinating their correct assembly. Wilson and his collaborators previously unlocked the ability to recombinantly produce plant RuBisCO outside of plant chloroplasts by reconstructing this chaperone network in Escherichia coli (E. coli). Whitney has now established that the RuBisCO enzymes from a range of agriculturally relevant crops, including potato, carrot, strawberry, and tobacco, can also be expressed using this technology. Whitney and Wilson have further developed a range of RuBisCO-dependent E. coli screens that can identify improved RuBisCO from complex gene libraries. Moreover, Shoulders and his lab have developed sophisticated in vivo mutagenesis technologies that enable efficient continuous directed evolution campaigns. Continuous directed evolution refers to a protein engineering process that can accelerate the steps of natural evolution simultaneously in an uninterrupted cycle in the lab, allowing for rapid testing of protein sequences. While Shoulders and Badran both have prior experience with cutting-edge directed evolution platforms, this will be the first time directed evolution is applied to RuBisCO from plants.', 'Artificial intelligence is changing the way enzyme engineering is undertaken by researchers. Principal investigators Zhang and Bryson will leverage modern computational methods to simulate the dynamics of RuBisCO structure and explore its evolutionary landscape. Specifically, Zhang will use molecular dynamics simulations to simulate and monitor the conformational dynamics of the atoms in a protein and its programmed environment over time. This approach will help the team evaluate the effect of mutations and new chemical functionalities on the properties of RuBisCO. Bryson will employ artificial intelligence and machine learning to search the RuBisCO activity landscape for optimal sequences. The computational and biological arms of the EPiC platform will work together to both validate and inform each other’s approaches to accelerate the overall engineering effort.', 'Shoulders and the group will deploy their designed enzymes in tobacco plants to evaluate their effects on growth and yield relative to natural RuBisCO. Gehring, a plant biologist, will assist with screening improved RuBisCO variants using the tobacco variety Nicotiana benthamianaI, where transient expression can be deployed. Transient expression is a speedy approach to test whether novel engineered RuBisCO variants can be correctly synthesized in leaf chloroplasts. Variants that pass this quality-control checkpoint at MIT will be passed to the Whitney Lab at the Australian National University for stable transformation into Nicotiana tabacum (tobacco), enabling robust measurements of photosynthetic improvement. In a final step, Professor Long at the University of Illinois at Urbana-Champaign will perform field trials of the most promising variants.', 'Even small improvements could have a big impact', 'A common criticism of efforts to improve RuBisCO is that natural evolution has not already identified a better enzyme, possibly implying that none will be found. Traditional views have speculated a catalytic trade-off between RuBisCO’s specificity factor for CO2 / O2 versus its CO2 fixation efficiency, leading to the belief that specificity factor improvements might be offset by even slower carbon fixation or vice versa. This trade-off has been suggested to explain why natural evolution has been slow to achieve a better RuBisCO. But Shoulders and the team are convinced that the EPiC platform can unlock significant overall improvements to plant RuBisCO. This view is supported by the fact that Wilson and Whitney have previously used directed evolution to improve CO2 fixation efficiency by 50 percent in RuBisCO from cyanobacteria (the ancient progenitors of plant chloroplasts) while simultaneously increasing the specificity factor.', 'The EPiC researchers anticipate that their initial variants could yield 20 percent increases in RuBisCO’s specificity factor without impairing other aspects of catalysis. More sophisticated variants could lift RuBisCO out of its evolutionary trap and display attributes not currently observed in nature. “If we achieve anywhere close to such an improvement and it translates to crops, the results could help transform agriculture,” Shoulders says. “If our accomplishments are more modest, it will still recruit massive new investments to this essential field.”', 'Successful engineering of RuBisCO would be a scientific feat of its own and ignite renewed enthusiasm for improving plant CO2 fixation. Combined with other advances in photosynthetic engineering, such as improved light usage, a new green revolution in agriculture could be achieved. Long-term impacts of the technology’s success will be measured in improvements to crop yield and grain availability, as well as resilience against yield losses under higher field temperatures. Moreover, improved land productivity together with policy initiatives would assist in reducing the environmental footprint of agriculture. With more “crop per drop,” reductions in water consumption from agriculture would be a major boost to sustainable farming practices.', '“Our collaborative team of biochemists and synthetic biologists, computational biologists, and chemists is deeply integrated with plant biologists and field trial experts, yielding a robust feedback loop for enzyme engineering,” Shoulders adds. “Together, this team will be able to make a concerted effort using the most modern, state-of-the-art techniques to engineer crop RuBisCO with an eye to helping make meaningful gains in securing a stable crop supply, hopefully with accompanying improvements in both food and water security\")],\n",
       " 'answer': 'Your initial question was about what the article discusses regarding the J-WAFS Grand Challenge. You were seeking information about the purpose, aims, and details of the Grand Challenge initiative established by the Abdul Latif Jameel Water and Food Systems Lab (J-WAFS) at MIT, as well as its significance in addressing water and food security challenges.'}"
      ]
     },
     "execution_count": 47,
     "metadata": {},
     "output_type": "execute_result"
    }
   ],
   "source": [
    "chat_history.append({\"role\": \"user\", \"content\": response_2[\"answer\"]})\n",
    "query_3 = \"What was my most initial question about?\"\n",
    "chat_history.append({\"role\": \"assistant\", \"content\": query_3})\n",
    "response_3 = rag_chain.invoke({\"input\": query_3, \"chat_history\": chat_history})\n",
    "response_3"
   ]
  },
  {
   "cell_type": "code",
   "execution_count": 49,
   "metadata": {},
   "outputs": [
    {
     "data": {
      "text/plain": [
       "'Yes, I can reference information from our current conversation to provide context and formulate responses. However, I do not have the capability to recall previous conversations once the session ends. My responses are based solely on the context provided within the ongoing interaction. If you have specific questions or need clarification on previous points discussed in this session, feel free to ask!'"
      ]
     },
     "execution_count": 49,
     "metadata": {},
     "output_type": "execute_result"
    }
   ],
   "source": [
    "chat_history.append({\"role\": \"assistant\", \"content\": response_3[\"answer\"]})\n",
    "query_4 = \"Are you able to retrieve information from past conversations over here and frame your responses?\"\n",
    "chat_history.append({\"role\": \"user\", \"content\": query_4})\n",
    "response_4 = rag_chain.invoke({\"input\": query_4, \"chat_history\": chat_history})\n",
    "response_4[\"answer\"]"
   ]
  },
  {
   "cell_type": "code",
   "execution_count": null,
   "metadata": {},
   "outputs": [],
   "source": [
    "# qa_prompt = ChatPromptTemplate.from_messages(\n",
    "#     [\n",
    "#         (\"system\", SYSTEM_PROMPT),\n",
    "#         MessagesPlaceholder(\"chat_history\"),\n",
    "#         (\"human\", \"{input}\"),\n",
    "#     ]\n",
    "# )"
   ]
  },
  {
   "cell_type": "code",
   "execution_count": 266,
   "metadata": {},
   "outputs": [
    {
     "data": {
      "text/plain": [
       "'What does the article talk about J-WAFS Grand Challenge?'"
      ]
     },
     "execution_count": 266,
     "metadata": {},
     "output_type": "execute_result"
    }
   ],
   "source": [
    "query"
   ]
  },
  {
   "cell_type": "code",
   "execution_count": 267,
   "metadata": {},
   "outputs": [
    {
     "data": {
      "text/plain": [
       "'What does the article talk about J-WAFS Grand Challenge?'"
      ]
     },
     "execution_count": 267,
     "metadata": {},
     "output_type": "execute_result"
    }
   ],
   "source": [
    "query"
   ]
  },
  {
   "cell_type": "code",
   "execution_count": 268,
   "metadata": {},
   "outputs": [],
   "source": [
    "# chain = (\n",
    "#     {\"context\": retriever, \"question\": RunnablePassthrough()} # Here the \"retriever\" context refers to the entire document data being passed to the LLM query for context\n",
    "#     | contextualize_q_prompt\n",
    "#     | llm_chat\n",
    "#     | StrOutputParser()\n",
    "# )\n",
    "# chat_history = []\n",
    "# ans = chain.invoke({\"question\": query, \"chat_history\": chat_history}) # The \"{question}\" parameter is the user question being passed as an input\n",
    "\n",
    "# print(\"---- Answer ----\")\n",
    "# print(ans)"
   ]
  },
  {
   "cell_type": "code",
   "execution_count": null,
   "metadata": {},
   "outputs": [
    {
     "name": "stdout",
     "output_type": "stream",
     "text": [
      "---- Answer ----\n",
      "content='The initial grant for the MIT Solve challenge was awarded to all Solver teams selected during the Solve Challenge Finals, which took place in September. Each selected team received a $10,000 grant as part of the funding provided by MIT Solve. This funding was part of a larger prize pool of $1.25 million that was available for the 2019 Solver teams, aimed at supporting innovative solutions to various global challenges.\\n\\nThe announcement specified that multiple sponsors contributed to the funding, including General Motors, the Patrick J. McGovern Foundation, and others. These grants were part of a comprehensive effort to support tech innovators working towards significant social impact.\\n\\nSOURCE: MIT Solve announces $1.25 million in funding for 2019 Solver teams' additional_kwargs={} response_metadata={'token_usage': <OpenAIObject at 0x15ac28e10> JSON: {\n",
      "  \"prompt_tokens\": 1147,\n",
      "  \"completion_tokens\": 145,\n",
      "  \"total_tokens\": 1292,\n",
      "  \"prompt_tokens_details\": {\n",
      "    \"cached_tokens\": 1024,\n",
      "    \"audio_tokens\": 0\n",
      "  },\n",
      "  \"completion_tokens_details\": {\n",
      "    \"reasoning_tokens\": 0,\n",
      "    \"audio_tokens\": 0,\n",
      "    \"accepted_prediction_tokens\": 0,\n",
      "    \"rejected_prediction_tokens\": 0\n",
      "  }\n",
      "}, 'model_name': 'gpt-4o-mini', 'system_fingerprint': 'fp_0705bf87c0', 'finish_reason': 'stop', 'logprobs': None} id='run-a7e16242-0646-4800-a2ae-6ae7e36d9b9d-0'\n"
     ]
    }
   ],
   "source": [
    "# ANSWER_PROMPT = ChatPromptTemplate.from_template(\n",
    "#     \"\"\"\n",
    "# You are an assistant for question-answering tasks. Use the following pieces of retrieved context to answer the question. If you don't know the answer, just say that you don't know. Be as verbose and educational in your response as possible.\n",
    "# Each passage has a SOURCE which is the title of the document. When answering, cite source name of the passages you are answering from below the answer, on a new line, with a prefix of \"SOURCE:\".\n",
    "\n",
    "# context:\n",
    "# {context}\n",
    "\n",
    "# Question: {question}\n",
    "# Answer:\n",
    "# \"\"\"\n",
    "# )\n",
    "\n",
    "# DOCUMENT_PROMPT = PromptTemplate.from_template(\n",
    "#     \"\"\"\n",
    "# ---\n",
    "# SOURCE: {heading}\n",
    "# {page_content}\n",
    "# ---\n",
    "# \"\"\"\n",
    "# )\n",
    "\n",
    "# CONDENSE_QUESTION_PROMPT = PromptTemplate.from_template(\n",
    "#     \"\"\"Given the following conversation and a follow up question, rephrase the follow up question to be a standalone question, in its original language.\n",
    "\n",
    "# Chat History:\n",
    "# {chat_history}\n",
    "# Follow Up Input: {question}\n",
    "# \"\"\"\n",
    "# )\n",
    "\n",
    "# standalone_question = RunnableMap(\n",
    "#     standalone_question=RunnablePassthrough.assign(\n",
    "#         chat_history=lambda x: _format_chat_history(x[\"chat_history\"])\n",
    "#     )\n",
    "#     | CONDENSE_QUESTION_PROMPT\n",
    "#     | llm_chat\n",
    "#     | StrOutputParser(),\n",
    "# )\n",
    "\n",
    "\n",
    "# def _format_chat_history(chat_history) -> str:\n",
    "#     buffer = \"\"\n",
    "#     for dialogue_turn in chat_history:\n",
    "#         human = \"Human: \" + dialogue_turn[0]\n",
    "#         ai = \"Assistant: \" + dialogue_turn[1]\n",
    "#         buffer += \"\\n\" + \"\\n\".join([human, ai])\n",
    "#     return buffer\n",
    "\n",
    "\n",
    "# def _combine_documents(\n",
    "#     docs, document_prompt=DOCUMENT_PROMPT, document_separator=\"\\n\\n\"\n",
    "# ):\n",
    "#     doc_strings = [format_document(doc, document_prompt) for doc in docs]\n",
    "#     return document_separator.join(doc_strings)\n",
    "\n",
    "\n",
    "# retrieved_documents = RunnableMap(\n",
    "#     docs=itemgetter(\"standalone_question\") | retriever,\n",
    "#     question=itemgetter(\"standalone_question\"),\n",
    "# )\n",
    "\n",
    "# _context = {\n",
    "#     \"context\": lambda x: _combine_documents(x[\"docs\"]),\n",
    "#     \"question\": lambda x: x[\"question\"],\n",
    "# }\n",
    "\n",
    "# answer = {\n",
    "#     \"answer\": _context | ANSWER_PROMPT | llm_chat,\n",
    "#     \"docs\": itemgetter(\"docs\"),\n",
    "# }\n",
    "\n",
    "# chain = standalone_question | retrieved_documents | answer\n",
    "\n",
    "# ans = chain.invoke(\n",
    "#     {\n",
    "#         \"question\": \"Who were awarded the initial grant for the challenge?\",\n",
    "#         \"chat_history\": [\n",
    "#             query,\n",
    "#         ],\n",
    "#     }\n",
    "# )\n",
    "\n",
    "# print(\"---- Answer ----\")\n",
    "# print(ans[\"answer\"])"
   ]
  },
  {
   "cell_type": "code",
   "execution_count": 240,
   "metadata": {},
   "outputs": [],
   "source": [
    "## Try your tryst with Message History \n",
    "from langchain.memory import ChatMessageHistory\n",
    "from langchain_core.runnables.history import RunnableWithMessageHistory\n",
    "\n",
    "ephemeral_chat_history = ChatMessageHistory()"
   ]
  },
  {
   "cell_type": "code",
   "execution_count": 248,
   "metadata": {},
   "outputs": [
    {
     "name": "stdout",
     "output_type": "stream",
     "text": [
      "What does the article talk about J-WAFS Grand Challenge?\n"
     ]
    },
    {
     "ename": "TypeError",
     "evalue": "expected string or buffer",
     "output_type": "error",
     "traceback": [
      "\u001b[0;31m---------------------------------------------------------------------------\u001b[0m",
      "\u001b[0;31mTypeError\u001b[0m                                 Traceback (most recent call last)",
      "Cell \u001b[0;32mIn[248], line 4\u001b[0m\n\u001b[1;32m      2\u001b[0m \u001b[38;5;28mprint\u001b[39m(user_query)\n\u001b[1;32m      3\u001b[0m ephemeral_chat_history\u001b[38;5;241m.\u001b[39madd_user_message(\u001b[38;5;28mstr\u001b[39m(user_query))\n\u001b[0;32m----> 4\u001b[0m response \u001b[38;5;241m=\u001b[39m \u001b[43mchain\u001b[49m\u001b[38;5;241;43m.\u001b[39;49m\u001b[43minvoke\u001b[49m\u001b[43m(\u001b[49m\u001b[43m{\u001b[49m\n\u001b[1;32m      5\u001b[0m \u001b[43m        \u001b[49m\u001b[38;5;28;43mstr\u001b[39;49m\u001b[43m(\u001b[49m\u001b[43mephemeral_chat_history\u001b[49m\u001b[38;5;241;43m.\u001b[39;49m\u001b[43mmessages\u001b[49m\u001b[43m[\u001b[49m\u001b[38;5;241;43m-\u001b[39;49m\u001b[38;5;241;43m1\u001b[39;49m\u001b[43m]\u001b[49m\u001b[38;5;241;43m.\u001b[39;49m\u001b[43mcontent\u001b[49m\u001b[43m)\u001b[49m\u001b[43m,\u001b[49m\n\u001b[1;32m      6\u001b[0m \u001b[43m    \u001b[49m\u001b[43m}\u001b[49m\u001b[43m)\u001b[49m\n\u001b[1;32m      7\u001b[0m \u001b[38;5;28mprint\u001b[39m(response)\n\u001b[1;32m      8\u001b[0m ephemeral_chat_history\u001b[38;5;241m.\u001b[39madd_ai_message(\u001b[38;5;28mstr\u001b[39m(response))\n",
      "File \u001b[0;32m/Applications/saggydev/projects_learning/GenAI_bonus_app/.venv/lib/python3.13/site-packages/langchain_core/runnables/base.py:3022\u001b[0m, in \u001b[0;36mRunnableSequence.invoke\u001b[0;34m(self, input, config, **kwargs)\u001b[0m\n\u001b[1;32m   3020\u001b[0m context\u001b[38;5;241m.\u001b[39mrun(_set_config_context, config)\n\u001b[1;32m   3021\u001b[0m \u001b[38;5;28;01mif\u001b[39;00m i \u001b[38;5;241m==\u001b[39m \u001b[38;5;241m0\u001b[39m:\n\u001b[0;32m-> 3022\u001b[0m     \u001b[38;5;28minput\u001b[39m \u001b[38;5;241m=\u001b[39m \u001b[43mcontext\u001b[49m\u001b[38;5;241;43m.\u001b[39;49m\u001b[43mrun\u001b[49m\u001b[43m(\u001b[49m\u001b[43mstep\u001b[49m\u001b[38;5;241;43m.\u001b[39;49m\u001b[43minvoke\u001b[49m\u001b[43m,\u001b[49m\u001b[43m \u001b[49m\u001b[38;5;28;43minput\u001b[39;49m\u001b[43m,\u001b[49m\u001b[43m \u001b[49m\u001b[43mconfig\u001b[49m\u001b[43m,\u001b[49m\u001b[43m \u001b[49m\u001b[38;5;241;43m*\u001b[39;49m\u001b[38;5;241;43m*\u001b[39;49m\u001b[43mkwargs\u001b[49m\u001b[43m)\u001b[49m\n\u001b[1;32m   3023\u001b[0m \u001b[38;5;28;01melse\u001b[39;00m:\n\u001b[1;32m   3024\u001b[0m     \u001b[38;5;28minput\u001b[39m \u001b[38;5;241m=\u001b[39m context\u001b[38;5;241m.\u001b[39mrun(step\u001b[38;5;241m.\u001b[39minvoke, \u001b[38;5;28minput\u001b[39m, config)\n",
      "File \u001b[0;32m/Applications/saggydev/projects_learning/GenAI_bonus_app/.venv/lib/python3.13/site-packages/langchain_core/runnables/base.py:3727\u001b[0m, in \u001b[0;36mRunnableParallel.invoke\u001b[0;34m(self, input, config, **kwargs)\u001b[0m\n\u001b[1;32m   3722\u001b[0m     \u001b[38;5;28;01mwith\u001b[39;00m get_executor_for_config(config) \u001b[38;5;28;01mas\u001b[39;00m executor:\n\u001b[1;32m   3723\u001b[0m         futures \u001b[38;5;241m=\u001b[39m [\n\u001b[1;32m   3724\u001b[0m             executor\u001b[38;5;241m.\u001b[39msubmit(_invoke_step, step, \u001b[38;5;28minput\u001b[39m, config, key)\n\u001b[1;32m   3725\u001b[0m             \u001b[38;5;28;01mfor\u001b[39;00m key, step \u001b[38;5;129;01min\u001b[39;00m steps\u001b[38;5;241m.\u001b[39mitems()\n\u001b[1;32m   3726\u001b[0m         ]\n\u001b[0;32m-> 3727\u001b[0m         output \u001b[38;5;241m=\u001b[39m {key: \u001b[43mfuture\u001b[49m\u001b[38;5;241;43m.\u001b[39;49m\u001b[43mresult\u001b[49m\u001b[43m(\u001b[49m\u001b[43m)\u001b[49m \u001b[38;5;28;01mfor\u001b[39;00m key, future \u001b[38;5;129;01min\u001b[39;00m \u001b[38;5;28mzip\u001b[39m(steps, futures)}\n\u001b[1;32m   3728\u001b[0m \u001b[38;5;66;03m# finish the root run\u001b[39;00m\n\u001b[1;32m   3729\u001b[0m \u001b[38;5;28;01mexcept\u001b[39;00m \u001b[38;5;167;01mBaseException\u001b[39;00m \u001b[38;5;28;01mas\u001b[39;00m e:\n",
      "File \u001b[0;32m/opt/homebrew/Cellar/python@3.13/3.13.0_1/Frameworks/Python.framework/Versions/3.13/lib/python3.13/concurrent/futures/_base.py:449\u001b[0m, in \u001b[0;36mFuture.result\u001b[0;34m(self, timeout)\u001b[0m\n\u001b[1;32m    447\u001b[0m     \u001b[38;5;28;01mraise\u001b[39;00m CancelledError()\n\u001b[1;32m    448\u001b[0m \u001b[38;5;28;01melif\u001b[39;00m \u001b[38;5;28mself\u001b[39m\u001b[38;5;241m.\u001b[39m_state \u001b[38;5;241m==\u001b[39m FINISHED:\n\u001b[0;32m--> 449\u001b[0m     \u001b[38;5;28;01mreturn\u001b[39;00m \u001b[38;5;28;43mself\u001b[39;49m\u001b[38;5;241;43m.\u001b[39;49m\u001b[43m__get_result\u001b[49m\u001b[43m(\u001b[49m\u001b[43m)\u001b[49m\n\u001b[1;32m    451\u001b[0m \u001b[38;5;28mself\u001b[39m\u001b[38;5;241m.\u001b[39m_condition\u001b[38;5;241m.\u001b[39mwait(timeout)\n\u001b[1;32m    453\u001b[0m \u001b[38;5;28;01mif\u001b[39;00m \u001b[38;5;28mself\u001b[39m\u001b[38;5;241m.\u001b[39m_state \u001b[38;5;129;01min\u001b[39;00m [CANCELLED, CANCELLED_AND_NOTIFIED]:\n",
      "File \u001b[0;32m/opt/homebrew/Cellar/python@3.13/3.13.0_1/Frameworks/Python.framework/Versions/3.13/lib/python3.13/concurrent/futures/_base.py:401\u001b[0m, in \u001b[0;36mFuture.__get_result\u001b[0;34m(self)\u001b[0m\n\u001b[1;32m    399\u001b[0m \u001b[38;5;28;01mif\u001b[39;00m \u001b[38;5;28mself\u001b[39m\u001b[38;5;241m.\u001b[39m_exception:\n\u001b[1;32m    400\u001b[0m     \u001b[38;5;28;01mtry\u001b[39;00m:\n\u001b[0;32m--> 401\u001b[0m         \u001b[38;5;28;01mraise\u001b[39;00m \u001b[38;5;28mself\u001b[39m\u001b[38;5;241m.\u001b[39m_exception\n\u001b[1;32m    402\u001b[0m     \u001b[38;5;28;01mfinally\u001b[39;00m:\n\u001b[1;32m    403\u001b[0m         \u001b[38;5;66;03m# Break a reference cycle with the exception in self._exception\u001b[39;00m\n\u001b[1;32m    404\u001b[0m         \u001b[38;5;28mself\u001b[39m \u001b[38;5;241m=\u001b[39m \u001b[38;5;28;01mNone\u001b[39;00m\n",
      "File \u001b[0;32m/opt/homebrew/Cellar/python@3.13/3.13.0_1/Frameworks/Python.framework/Versions/3.13/lib/python3.13/concurrent/futures/thread.py:58\u001b[0m, in \u001b[0;36m_WorkItem.run\u001b[0;34m(self)\u001b[0m\n\u001b[1;32m     55\u001b[0m     \u001b[38;5;28;01mreturn\u001b[39;00m\n\u001b[1;32m     57\u001b[0m \u001b[38;5;28;01mtry\u001b[39;00m:\n\u001b[0;32m---> 58\u001b[0m     result \u001b[38;5;241m=\u001b[39m \u001b[38;5;28;43mself\u001b[39;49m\u001b[38;5;241;43m.\u001b[39;49m\u001b[43mfn\u001b[49m\u001b[43m(\u001b[49m\u001b[38;5;241;43m*\u001b[39;49m\u001b[38;5;28;43mself\u001b[39;49m\u001b[38;5;241;43m.\u001b[39;49m\u001b[43margs\u001b[49m\u001b[43m,\u001b[49m\u001b[43m \u001b[49m\u001b[38;5;241;43m*\u001b[39;49m\u001b[38;5;241;43m*\u001b[39;49m\u001b[38;5;28;43mself\u001b[39;49m\u001b[38;5;241;43m.\u001b[39;49m\u001b[43mkwargs\u001b[49m\u001b[43m)\u001b[49m\n\u001b[1;32m     59\u001b[0m \u001b[38;5;28;01mexcept\u001b[39;00m \u001b[38;5;167;01mBaseException\u001b[39;00m \u001b[38;5;28;01mas\u001b[39;00m exc:\n\u001b[1;32m     60\u001b[0m     \u001b[38;5;28mself\u001b[39m\u001b[38;5;241m.\u001b[39mfuture\u001b[38;5;241m.\u001b[39mset_exception(exc)\n",
      "File \u001b[0;32m/Applications/saggydev/projects_learning/GenAI_bonus_app/.venv/lib/python3.13/site-packages/langchain_core/runnables/base.py:3711\u001b[0m, in \u001b[0;36mRunnableParallel.invoke.<locals>._invoke_step\u001b[0;34m(step, input, config, key)\u001b[0m\n\u001b[1;32m   3709\u001b[0m context \u001b[38;5;241m=\u001b[39m copy_context()\n\u001b[1;32m   3710\u001b[0m context\u001b[38;5;241m.\u001b[39mrun(_set_config_context, child_config)\n\u001b[0;32m-> 3711\u001b[0m \u001b[38;5;28;01mreturn\u001b[39;00m \u001b[43mcontext\u001b[49m\u001b[38;5;241;43m.\u001b[39;49m\u001b[43mrun\u001b[49m\u001b[43m(\u001b[49m\n\u001b[1;32m   3712\u001b[0m \u001b[43m    \u001b[49m\u001b[43mstep\u001b[49m\u001b[38;5;241;43m.\u001b[39;49m\u001b[43minvoke\u001b[49m\u001b[43m,\u001b[49m\n\u001b[1;32m   3713\u001b[0m \u001b[43m    \u001b[49m\u001b[38;5;28;43minput\u001b[39;49m\u001b[43m,\u001b[49m\n\u001b[1;32m   3714\u001b[0m \u001b[43m    \u001b[49m\u001b[43mchild_config\u001b[49m\u001b[43m,\u001b[49m\n\u001b[1;32m   3715\u001b[0m \u001b[43m\u001b[49m\u001b[43m)\u001b[49m\n",
      "File \u001b[0;32m/Applications/saggydev/projects_learning/GenAI_bonus_app/.venv/lib/python3.13/site-packages/langchain_core/retrievers.py:254\u001b[0m, in \u001b[0;36mBaseRetriever.invoke\u001b[0;34m(self, input, config, **kwargs)\u001b[0m\n\u001b[1;32m    252\u001b[0m \u001b[38;5;28;01mexcept\u001b[39;00m \u001b[38;5;167;01mException\u001b[39;00m \u001b[38;5;28;01mas\u001b[39;00m e:\n\u001b[1;32m    253\u001b[0m     run_manager\u001b[38;5;241m.\u001b[39mon_retriever_error(e)\n\u001b[0;32m--> 254\u001b[0m     \u001b[38;5;28;01mraise\u001b[39;00m e\n\u001b[1;32m    255\u001b[0m \u001b[38;5;28;01melse\u001b[39;00m:\n\u001b[1;32m    256\u001b[0m     run_manager\u001b[38;5;241m.\u001b[39mon_retriever_end(\n\u001b[1;32m    257\u001b[0m         result,\n\u001b[1;32m    258\u001b[0m     )\n",
      "File \u001b[0;32m/Applications/saggydev/projects_learning/GenAI_bonus_app/.venv/lib/python3.13/site-packages/langchain_core/retrievers.py:251\u001b[0m, in \u001b[0;36mBaseRetriever.invoke\u001b[0;34m(self, input, config, **kwargs)\u001b[0m\n\u001b[1;32m    247\u001b[0m         result \u001b[38;5;241m=\u001b[39m \u001b[38;5;28mself\u001b[39m\u001b[38;5;241m.\u001b[39m_get_relevant_documents(\n\u001b[1;32m    248\u001b[0m             \u001b[38;5;28minput\u001b[39m, run_manager\u001b[38;5;241m=\u001b[39mrun_manager, \u001b[38;5;241m*\u001b[39m\u001b[38;5;241m*\u001b[39m_kwargs\n\u001b[1;32m    249\u001b[0m         )\n\u001b[1;32m    250\u001b[0m     \u001b[38;5;28;01melse\u001b[39;00m:\n\u001b[0;32m--> 251\u001b[0m         result \u001b[38;5;241m=\u001b[39m \u001b[38;5;28;43mself\u001b[39;49m\u001b[38;5;241;43m.\u001b[39;49m\u001b[43m_get_relevant_documents\u001b[49m\u001b[43m(\u001b[49m\u001b[38;5;28;43minput\u001b[39;49m\u001b[43m,\u001b[49m\u001b[43m \u001b[49m\u001b[38;5;241;43m*\u001b[39;49m\u001b[38;5;241;43m*\u001b[39;49m\u001b[43m_kwargs\u001b[49m\u001b[43m)\u001b[49m\n\u001b[1;32m    252\u001b[0m \u001b[38;5;28;01mexcept\u001b[39;00m \u001b[38;5;167;01mException\u001b[39;00m \u001b[38;5;28;01mas\u001b[39;00m e:\n\u001b[1;32m    253\u001b[0m     run_manager\u001b[38;5;241m.\u001b[39mon_retriever_error(e)\n",
      "Cell \u001b[0;32mIn[209], line 11\u001b[0m, in \u001b[0;36mHeadingBasedRetriever._get_relevant_documents\u001b[0;34m(self, query)\u001b[0m\n\u001b[1;32m      9\u001b[0m \u001b[38;5;28;01mdef\u001b[39;00m \u001b[38;5;21m_get_relevant_documents\u001b[39m(\u001b[38;5;28mself\u001b[39m, query: \u001b[38;5;28mstr\u001b[39m) \u001b[38;5;241m-\u001b[39m\u001b[38;5;241m>\u001b[39m List[Document]:\n\u001b[1;32m     10\u001b[0m   \u001b[38;5;66;03m# Retrieve top-k documents based on heading similarity\u001b[39;00m\n\u001b[0;32m---> 11\u001b[0m   results \u001b[38;5;241m=\u001b[39m \u001b[38;5;28;43mself\u001b[39;49m\u001b[38;5;241;43m.\u001b[39;49m\u001b[43mvector_store\u001b[49m\u001b[38;5;241;43m.\u001b[39;49m\u001b[43msimilarity_search\u001b[49m\u001b[43m(\u001b[49m\n\u001b[1;32m     12\u001b[0m \u001b[43m      \u001b[49m\u001b[43mquery\u001b[49m\u001b[38;5;241;43m=\u001b[39;49m\u001b[43mquery\u001b[49m\u001b[43m,\u001b[49m\n\u001b[1;32m     13\u001b[0m \u001b[43m      \u001b[49m\u001b[43mk\u001b[49m\u001b[38;5;241;43m=\u001b[39;49m\u001b[38;5;28;43mself\u001b[39;49m\u001b[38;5;241;43m.\u001b[39;49m\u001b[43mtop_k\u001b[49m\u001b[43m,\u001b[49m\n\u001b[1;32m     14\u001b[0m \u001b[43m      \u001b[49m\u001b[38;5;28;43mfilter\u001b[39;49m\u001b[38;5;241;43m=\u001b[39;49m\u001b[38;5;28;43;01mNone\u001b[39;49;00m\u001b[43m  \u001b[49m\u001b[38;5;66;43;03m# Optional: Add filters if needed\u001b[39;49;00m\n\u001b[1;32m     15\u001b[0m \u001b[43m  \u001b[49m\u001b[43m)\u001b[49m\n\u001b[1;32m     17\u001b[0m   \u001b[38;5;66;03m# Extract and return the article body of the top result\u001b[39;00m\n\u001b[1;32m     18\u001b[0m   \u001b[38;5;28;01mif\u001b[39;00m results:\n",
      "File \u001b[0;32m/Applications/saggydev/projects_learning/GenAI_bonus_app/.venv/lib/python3.13/site-packages/langchain_elasticsearch/vectorstores.py:868\u001b[0m, in \u001b[0;36mElasticsearchStore.similarity_search\u001b[0;34m(self, query, k, fetch_k, filter, custom_query, doc_builder, **kwargs)\u001b[0m\n\u001b[1;32m    843\u001b[0m \u001b[38;5;28;01mdef\u001b[39;00m \u001b[38;5;21msimilarity_search\u001b[39m(\n\u001b[1;32m    844\u001b[0m     \u001b[38;5;28mself\u001b[39m,\n\u001b[1;32m    845\u001b[0m     query: \u001b[38;5;28mstr\u001b[39m,\n\u001b[0;32m   (...)\u001b[0m\n\u001b[1;32m    854\u001b[0m     \u001b[38;5;241m*\u001b[39m\u001b[38;5;241m*\u001b[39mkwargs: Any,\n\u001b[1;32m    855\u001b[0m ) \u001b[38;5;241m-\u001b[39m\u001b[38;5;241m>\u001b[39m List[Document]:\n\u001b[1;32m    856\u001b[0m \u001b[38;5;250m    \u001b[39m\u001b[38;5;124;03m\"\"\"Return Elasticsearch documents most similar to query.\u001b[39;00m\n\u001b[1;32m    857\u001b[0m \n\u001b[1;32m    858\u001b[0m \u001b[38;5;124;03m    Args:\u001b[39;00m\n\u001b[0;32m   (...)\u001b[0m\n\u001b[1;32m    866\u001b[0m \u001b[38;5;124;03m        in descending order of similarity.\u001b[39;00m\n\u001b[1;32m    867\u001b[0m \u001b[38;5;124;03m    \"\"\"\u001b[39;00m\n\u001b[0;32m--> 868\u001b[0m     hits \u001b[38;5;241m=\u001b[39m \u001b[38;5;28;43mself\u001b[39;49m\u001b[38;5;241;43m.\u001b[39;49m\u001b[43m_store\u001b[49m\u001b[38;5;241;43m.\u001b[39;49m\u001b[43msearch\u001b[49m\u001b[43m(\u001b[49m\n\u001b[1;32m    869\u001b[0m \u001b[43m        \u001b[49m\u001b[43mquery\u001b[49m\u001b[38;5;241;43m=\u001b[39;49m\u001b[43mquery\u001b[49m\u001b[43m,\u001b[49m\n\u001b[1;32m    870\u001b[0m \u001b[43m        \u001b[49m\u001b[43mk\u001b[49m\u001b[38;5;241;43m=\u001b[39;49m\u001b[43mk\u001b[49m\u001b[43m,\u001b[49m\n\u001b[1;32m    871\u001b[0m \u001b[43m        \u001b[49m\u001b[43mnum_candidates\u001b[49m\u001b[38;5;241;43m=\u001b[39;49m\u001b[43mfetch_k\u001b[49m\u001b[43m,\u001b[49m\n\u001b[1;32m    872\u001b[0m \u001b[43m        \u001b[49m\u001b[38;5;28;43mfilter\u001b[39;49m\u001b[38;5;241;43m=\u001b[39;49m\u001b[38;5;28;43mfilter\u001b[39;49m\u001b[43m,\u001b[49m\n\u001b[1;32m    873\u001b[0m \u001b[43m        \u001b[49m\u001b[43mcustom_query\u001b[49m\u001b[38;5;241;43m=\u001b[39;49m\u001b[43mcustom_query\u001b[49m\u001b[43m,\u001b[49m\n\u001b[1;32m    874\u001b[0m \u001b[43m    \u001b[49m\u001b[43m)\u001b[49m\n\u001b[1;32m    875\u001b[0m     docs \u001b[38;5;241m=\u001b[39m _hits_to_docs_scores(\n\u001b[1;32m    876\u001b[0m         hits\u001b[38;5;241m=\u001b[39mhits,\n\u001b[1;32m    877\u001b[0m         content_field\u001b[38;5;241m=\u001b[39m\u001b[38;5;28mself\u001b[39m\u001b[38;5;241m.\u001b[39mquery_field,\n\u001b[1;32m    878\u001b[0m         doc_builder\u001b[38;5;241m=\u001b[39mdoc_builder,\n\u001b[1;32m    879\u001b[0m     )\n\u001b[1;32m    880\u001b[0m     \u001b[38;5;28;01mreturn\u001b[39;00m [doc \u001b[38;5;28;01mfor\u001b[39;00m doc, _score \u001b[38;5;129;01min\u001b[39;00m docs]\n",
      "File \u001b[0;32m/Applications/saggydev/projects_learning/GenAI_bonus_app/.venv/lib/python3.13/site-packages/elasticsearch/helpers/vectorstore/_sync/vectorstore.py:265\u001b[0m, in \u001b[0;36mVectorStore.search\u001b[0;34m(self, query, query_vector, k, num_candidates, fields, filter, custom_query)\u001b[0m\n\u001b[1;32m    263\u001b[0m     \u001b[38;5;28;01mif\u001b[39;00m \u001b[38;5;129;01mnot\u001b[39;00m query:\n\u001b[1;32m    264\u001b[0m         \u001b[38;5;28;01mraise\u001b[39;00m \u001b[38;5;167;01mValueError\u001b[39;00m(\u001b[38;5;124m\"\u001b[39m\u001b[38;5;124mspecify a query or a query_vector to search\u001b[39m\u001b[38;5;124m\"\u001b[39m)\n\u001b[0;32m--> 265\u001b[0m     query_vector \u001b[38;5;241m=\u001b[39m \u001b[38;5;28;43mself\u001b[39;49m\u001b[38;5;241;43m.\u001b[39;49m\u001b[43membedding_service\u001b[49m\u001b[38;5;241;43m.\u001b[39;49m\u001b[43membed_query\u001b[49m\u001b[43m(\u001b[49m\u001b[43mquery\u001b[49m\u001b[43m)\u001b[49m\n\u001b[1;32m    267\u001b[0m query_body \u001b[38;5;241m=\u001b[39m \u001b[38;5;28mself\u001b[39m\u001b[38;5;241m.\u001b[39mretrieval_strategy\u001b[38;5;241m.\u001b[39mes_query(\n\u001b[1;32m    268\u001b[0m     query\u001b[38;5;241m=\u001b[39mquery,\n\u001b[1;32m    269\u001b[0m     query_vector\u001b[38;5;241m=\u001b[39mquery_vector,\n\u001b[0;32m   (...)\u001b[0m\n\u001b[1;32m    274\u001b[0m     \u001b[38;5;28mfilter\u001b[39m\u001b[38;5;241m=\u001b[39m\u001b[38;5;28mfilter\u001b[39m \u001b[38;5;129;01mor\u001b[39;00m [],\n\u001b[1;32m    275\u001b[0m )\n\u001b[1;32m    277\u001b[0m \u001b[38;5;28;01mif\u001b[39;00m custom_query \u001b[38;5;129;01mis\u001b[39;00m \u001b[38;5;129;01mnot\u001b[39;00m \u001b[38;5;28;01mNone\u001b[39;00m:\n",
      "File \u001b[0;32m/Applications/saggydev/projects_learning/GenAI_bonus_app/.venv/lib/python3.13/site-packages/langchain_elasticsearch/embeddings.py:251\u001b[0m, in \u001b[0;36mEmbeddingServiceAdapter.embed_query\u001b[0;34m(self, text)\u001b[0m\n\u001b[1;32m    241\u001b[0m \u001b[38;5;28;01mdef\u001b[39;00m \u001b[38;5;21membed_query\u001b[39m(\u001b[38;5;28mself\u001b[39m, text: \u001b[38;5;28mstr\u001b[39m) \u001b[38;5;241m-\u001b[39m\u001b[38;5;241m>\u001b[39m List[\u001b[38;5;28mfloat\u001b[39m]:\n\u001b[1;32m    242\u001b[0m \u001b[38;5;250m    \u001b[39m\u001b[38;5;124;03m\"\"\"\u001b[39;00m\n\u001b[1;32m    243\u001b[0m \u001b[38;5;124;03m    Generate an embedding for a single query text.\u001b[39;00m\n\u001b[1;32m    244\u001b[0m \n\u001b[0;32m   (...)\u001b[0m\n\u001b[1;32m    249\u001b[0m \u001b[38;5;124;03m        List[float]: The embedding for the input query text.\u001b[39;00m\n\u001b[1;32m    250\u001b[0m \u001b[38;5;124;03m    \"\"\"\u001b[39;00m\n\u001b[0;32m--> 251\u001b[0m     \u001b[38;5;28;01mreturn\u001b[39;00m \u001b[38;5;28;43mself\u001b[39;49m\u001b[38;5;241;43m.\u001b[39;49m\u001b[43m_langchain_embeddings\u001b[49m\u001b[38;5;241;43m.\u001b[39;49m\u001b[43membed_query\u001b[49m\u001b[43m(\u001b[49m\u001b[43mtext\u001b[49m\u001b[43m)\u001b[49m\n",
      "File \u001b[0;32m/Applications/saggydev/projects_learning/GenAI_bonus_app/.venv/lib/python3.13/site-packages/langchain_community/embeddings/openai.py:700\u001b[0m, in \u001b[0;36mOpenAIEmbeddings.embed_query\u001b[0;34m(self, text)\u001b[0m\n\u001b[1;32m    691\u001b[0m \u001b[38;5;28;01mdef\u001b[39;00m \u001b[38;5;21membed_query\u001b[39m(\u001b[38;5;28mself\u001b[39m, text: \u001b[38;5;28mstr\u001b[39m) \u001b[38;5;241m-\u001b[39m\u001b[38;5;241m>\u001b[39m List[\u001b[38;5;28mfloat\u001b[39m]:\n\u001b[1;32m    692\u001b[0m \u001b[38;5;250m    \u001b[39m\u001b[38;5;124;03m\"\"\"Call out to OpenAI's embedding endpoint for embedding query text.\u001b[39;00m\n\u001b[1;32m    693\u001b[0m \n\u001b[1;32m    694\u001b[0m \u001b[38;5;124;03m    Args:\u001b[39;00m\n\u001b[0;32m   (...)\u001b[0m\n\u001b[1;32m    698\u001b[0m \u001b[38;5;124;03m        Embedding for the text.\u001b[39;00m\n\u001b[1;32m    699\u001b[0m \u001b[38;5;124;03m    \"\"\"\u001b[39;00m\n\u001b[0;32m--> 700\u001b[0m     \u001b[38;5;28;01mreturn\u001b[39;00m \u001b[38;5;28;43mself\u001b[39;49m\u001b[38;5;241;43m.\u001b[39;49m\u001b[43membed_documents\u001b[49m\u001b[43m(\u001b[49m\u001b[43m[\u001b[49m\u001b[43mtext\u001b[49m\u001b[43m]\u001b[49m\u001b[43m)\u001b[49m[\u001b[38;5;241m0\u001b[39m]\n",
      "File \u001b[0;32m/Applications/saggydev/projects_learning/GenAI_bonus_app/.venv/lib/python3.13/site-packages/langchain_community/embeddings/openai.py:671\u001b[0m, in \u001b[0;36mOpenAIEmbeddings.embed_documents\u001b[0;34m(self, texts, chunk_size)\u001b[0m\n\u001b[1;32m    668\u001b[0m \u001b[38;5;66;03m# NOTE: to keep things simple, we assume the list may contain texts longer\u001b[39;00m\n\u001b[1;32m    669\u001b[0m \u001b[38;5;66;03m#       than the maximum context and use length-safe embedding function.\u001b[39;00m\n\u001b[1;32m    670\u001b[0m engine \u001b[38;5;241m=\u001b[39m cast(\u001b[38;5;28mstr\u001b[39m, \u001b[38;5;28mself\u001b[39m\u001b[38;5;241m.\u001b[39mdeployment)\n\u001b[0;32m--> 671\u001b[0m \u001b[38;5;28;01mreturn\u001b[39;00m \u001b[38;5;28;43mself\u001b[39;49m\u001b[38;5;241;43m.\u001b[39;49m\u001b[43m_get_len_safe_embeddings\u001b[49m\u001b[43m(\u001b[49m\u001b[43mtexts\u001b[49m\u001b[43m,\u001b[49m\u001b[43m \u001b[49m\u001b[43mengine\u001b[49m\u001b[38;5;241;43m=\u001b[39;49m\u001b[43mengine\u001b[49m\u001b[43m)\u001b[49m\n",
      "File \u001b[0;32m/Applications/saggydev/projects_learning/GenAI_bonus_app/.venv/lib/python3.13/site-packages/langchain_community/embeddings/openai.py:474\u001b[0m, in \u001b[0;36mOpenAIEmbeddings._get_len_safe_embeddings\u001b[0;34m(self, texts, engine, chunk_size)\u001b[0m\n\u001b[1;32m    468\u001b[0m \u001b[38;5;28;01mif\u001b[39;00m \u001b[38;5;28mself\u001b[39m\u001b[38;5;241m.\u001b[39mmodel\u001b[38;5;241m.\u001b[39mendswith(\u001b[38;5;124m\"\u001b[39m\u001b[38;5;124m001\u001b[39m\u001b[38;5;124m\"\u001b[39m):\n\u001b[1;32m    469\u001b[0m     \u001b[38;5;66;03m# See: https://github.com/openai/openai-python/\u001b[39;00m\n\u001b[1;32m    470\u001b[0m     \u001b[38;5;66;03m#      issues/418#issuecomment-1525939500\u001b[39;00m\n\u001b[1;32m    471\u001b[0m     \u001b[38;5;66;03m# replace newlines, which can negatively affect performance.\u001b[39;00m\n\u001b[1;32m    472\u001b[0m     text \u001b[38;5;241m=\u001b[39m text\u001b[38;5;241m.\u001b[39mreplace(\u001b[38;5;124m\"\u001b[39m\u001b[38;5;130;01m\\n\u001b[39;00m\u001b[38;5;124m\"\u001b[39m, \u001b[38;5;124m\"\u001b[39m\u001b[38;5;124m \u001b[39m\u001b[38;5;124m\"\u001b[39m)\n\u001b[0;32m--> 474\u001b[0m token \u001b[38;5;241m=\u001b[39m \u001b[43mencoding\u001b[49m\u001b[38;5;241;43m.\u001b[39;49m\u001b[43mencode\u001b[49m\u001b[43m(\u001b[49m\n\u001b[1;32m    475\u001b[0m \u001b[43m    \u001b[49m\u001b[43mtext\u001b[49m\u001b[38;5;241;43m=\u001b[39;49m\u001b[43mtext\u001b[49m\u001b[43m,\u001b[49m\n\u001b[1;32m    476\u001b[0m \u001b[43m    \u001b[49m\u001b[43mallowed_special\u001b[49m\u001b[38;5;241;43m=\u001b[39;49m\u001b[38;5;28;43mself\u001b[39;49m\u001b[38;5;241;43m.\u001b[39;49m\u001b[43mallowed_special\u001b[49m\u001b[43m,\u001b[49m\n\u001b[1;32m    477\u001b[0m \u001b[43m    \u001b[49m\u001b[43mdisallowed_special\u001b[49m\u001b[38;5;241;43m=\u001b[39;49m\u001b[38;5;28;43mself\u001b[39;49m\u001b[38;5;241;43m.\u001b[39;49m\u001b[43mdisallowed_special\u001b[49m\u001b[43m,\u001b[49m\n\u001b[1;32m    478\u001b[0m \u001b[43m\u001b[49m\u001b[43m)\u001b[49m\n\u001b[1;32m    480\u001b[0m \u001b[38;5;66;03m# Split tokens into chunks respecting the embedding_ctx_length\u001b[39;00m\n\u001b[1;32m    481\u001b[0m \u001b[38;5;28;01mfor\u001b[39;00m j \u001b[38;5;129;01min\u001b[39;00m \u001b[38;5;28mrange\u001b[39m(\u001b[38;5;241m0\u001b[39m, \u001b[38;5;28mlen\u001b[39m(token), \u001b[38;5;28mself\u001b[39m\u001b[38;5;241m.\u001b[39membedding_ctx_length):\n",
      "File \u001b[0;32m/Applications/saggydev/projects_learning/GenAI_bonus_app/.venv/lib/python3.13/site-packages/tiktoken/core.py:116\u001b[0m, in \u001b[0;36mEncoding.encode\u001b[0;34m(self, text, allowed_special, disallowed_special)\u001b[0m\n\u001b[1;32m    114\u001b[0m     \u001b[38;5;28;01mif\u001b[39;00m \u001b[38;5;129;01mnot\u001b[39;00m \u001b[38;5;28misinstance\u001b[39m(disallowed_special, \u001b[38;5;28mfrozenset\u001b[39m):\n\u001b[1;32m    115\u001b[0m         disallowed_special \u001b[38;5;241m=\u001b[39m \u001b[38;5;28mfrozenset\u001b[39m(disallowed_special)\n\u001b[0;32m--> 116\u001b[0m     \u001b[38;5;28;01mif\u001b[39;00m match \u001b[38;5;241m:=\u001b[39m \u001b[43m_special_token_regex\u001b[49m\u001b[43m(\u001b[49m\u001b[43mdisallowed_special\u001b[49m\u001b[43m)\u001b[49m\u001b[38;5;241;43m.\u001b[39;49m\u001b[43msearch\u001b[49m\u001b[43m(\u001b[49m\u001b[43mtext\u001b[49m\u001b[43m)\u001b[49m:\n\u001b[1;32m    117\u001b[0m         raise_disallowed_special_token(match\u001b[38;5;241m.\u001b[39mgroup())\n\u001b[1;32m    119\u001b[0m \u001b[38;5;28;01mtry\u001b[39;00m:\n",
      "\u001b[0;31mTypeError\u001b[0m: expected string or buffer"
     ]
    }
   ],
   "source": [
    "user_query = \"What does the article talk about J-WAFS Grand Challenge?\"\n",
    "print(user_query)\n",
    "ephemeral_chat_history.add_user_message(str(user_query))\n",
    "response = chain.invoke({\n",
    "        str(ephemeral_chat_history.messages[-1].content),\n",
    "    })\n",
    "print(response)\n",
    "ephemeral_chat_history.add_ai_message(str(response))\n",
    "print(ephemeral_chat_history.messages)\n",
    "user_query_1 = input(\"Enter what you want to ask further\")\n",
    "ephemeral_chat_history.add_user_message(str(user_query_1))\n",
    "response_1 = chain.invoke({\n",
    "        \"messages\": ephemeral_chat_history.messages,\n",
    "    })\n",
    "print(response_1)"
   ]
  },
  {
   "cell_type": "code",
   "execution_count": 323,
   "metadata": {},
   "outputs": [
    {
     "data": {
      "text/plain": [
       "HeadingBasedRetriever(vector_store=<langchain_elasticsearch.vectorstores.ElasticsearchStore object at 0x14bb1afd0>)"
      ]
     },
     "execution_count": 323,
     "metadata": {},
     "output_type": "execute_result"
    }
   ],
   "source": [
    "retriever"
   ]
  },
  {
   "cell_type": "code",
   "execution_count": 324,
   "metadata": {},
   "outputs": [
    {
     "ename": "TypeError",
     "evalue": "cannot pickle '_thread._local' object",
     "output_type": "error",
     "traceback": [
      "\u001b[0;31m---------------------------------------------------------------------------\u001b[0m",
      "\u001b[0;31mTypeError\u001b[0m                                 Traceback (most recent call last)",
      "Cell \u001b[0;32mIn[324], line 4\u001b[0m\n\u001b[1;32m      2\u001b[0m \u001b[38;5;28;01mimport\u001b[39;00m \u001b[38;5;21;01mpickle\u001b[39;00m\n\u001b[1;32m      3\u001b[0m \u001b[38;5;28;01mwith\u001b[39;00m \u001b[38;5;28mopen\u001b[39m(\u001b[38;5;124m\"\u001b[39m\u001b[38;5;124mretriever_config.pkl\u001b[39m\u001b[38;5;124m\"\u001b[39m, \u001b[38;5;124m\"\u001b[39m\u001b[38;5;124mwb\u001b[39m\u001b[38;5;124m\"\u001b[39m) \u001b[38;5;28;01mas\u001b[39;00m f:\n\u001b[0;32m----> 4\u001b[0m     \u001b[43mpickle\u001b[49m\u001b[38;5;241;43m.\u001b[39;49m\u001b[43mdump\u001b[49m\u001b[43m(\u001b[49m\u001b[43mretriever\u001b[49m\u001b[43m,\u001b[49m\u001b[43m \u001b[49m\u001b[43mf\u001b[49m\u001b[43m)\u001b[49m\n",
      "\u001b[0;31mTypeError\u001b[0m: cannot pickle '_thread._local' object"
     ]
    }
   ],
   "source": [
    "# Save the configuration to a file\n",
    "import pickle\n",
    "with open(\"retriever_config.pkl\", \"wb\") as f:\n",
    "    pickle.dump(retriever, f)"
   ]
  },
  {
   "cell_type": "code",
   "execution_count": 325,
   "metadata": {},
   "outputs": [
    {
     "ename": "AttributeError",
     "evalue": "module 'openai' has no attribute 'OpenAI'",
     "output_type": "error",
     "traceback": [
      "\u001b[0;31m---------------------------------------------------------------------------\u001b[0m",
      "\u001b[0;31mAttributeError\u001b[0m                            Traceback (most recent call last)",
      "Cell \u001b[0;32mIn[325], line 5\u001b[0m\n\u001b[1;32m      1\u001b[0m retriever_config \u001b[38;5;241m=\u001b[39m {\n\u001b[1;32m      2\u001b[0m     \u001b[38;5;124m\"\u001b[39m\u001b[38;5;124mcloud_id\u001b[39m\u001b[38;5;124m\"\u001b[39m: ELASTIC_CLOUD_ID,\n\u001b[1;32m      3\u001b[0m     \u001b[38;5;124m\"\u001b[39m\u001b[38;5;124mapi_key\u001b[39m\u001b[38;5;124m\"\u001b[39m: ELASTIC_API_KEY,\n\u001b[1;32m      4\u001b[0m     \u001b[38;5;124m\"\u001b[39m\u001b[38;5;124mindex_name\u001b[39m\u001b[38;5;124m\"\u001b[39m: elastic_index_name,\n\u001b[0;32m----> 5\u001b[0m     \u001b[38;5;124m\"\u001b[39m\u001b[38;5;124membedding_function\u001b[39m\u001b[38;5;124m\"\u001b[39m: \u001b[43mOpenAIEmbeddings\u001b[49m\u001b[43m(\u001b[49m\u001b[43m)\u001b[49m  \u001b[38;5;66;03m# Or the function you're using\u001b[39;00m\n\u001b[1;32m      6\u001b[0m }\n\u001b[1;32m      8\u001b[0m \u001b[38;5;28;01mwith\u001b[39;00m \u001b[38;5;28mopen\u001b[39m(\u001b[38;5;124m\"\u001b[39m\u001b[38;5;124mretriever_config.pkl\u001b[39m\u001b[38;5;124m\"\u001b[39m, \u001b[38;5;124m\"\u001b[39m\u001b[38;5;124mwb\u001b[39m\u001b[38;5;124m\"\u001b[39m) \u001b[38;5;28;01mas\u001b[39;00m f:\n\u001b[1;32m      9\u001b[0m     pickle\u001b[38;5;241m.\u001b[39mdump(retriever_config, f)\n",
      "File \u001b[0;32m/Applications/saggydev/projects_learning/GenAI_bonus_app/.venv/lib/python3.13/site-packages/langchain_core/_api/deprecation.py:216\u001b[0m, in \u001b[0;36mdeprecated.<locals>.deprecate.<locals>.finalize.<locals>.warn_if_direct_instance\u001b[0;34m(self, *args, **kwargs)\u001b[0m\n\u001b[1;32m    214\u001b[0m     warned \u001b[38;5;241m=\u001b[39m \u001b[38;5;28;01mTrue\u001b[39;00m\n\u001b[1;32m    215\u001b[0m     emit_warning()\n\u001b[0;32m--> 216\u001b[0m \u001b[38;5;28;01mreturn\u001b[39;00m \u001b[43mwrapped\u001b[49m\u001b[43m(\u001b[49m\u001b[38;5;28;43mself\u001b[39;49m\u001b[43m,\u001b[49m\u001b[43m \u001b[49m\u001b[38;5;241;43m*\u001b[39;49m\u001b[43margs\u001b[49m\u001b[43m,\u001b[49m\u001b[43m \u001b[49m\u001b[38;5;241;43m*\u001b[39;49m\u001b[38;5;241;43m*\u001b[39;49m\u001b[43mkwargs\u001b[49m\u001b[43m)\u001b[49m\n",
      "    \u001b[0;31m[... skipping hidden 1 frame]\u001b[0m\n",
      "File \u001b[0;32m/Applications/saggydev/projects_learning/GenAI_bonus_app/.venv/lib/python3.13/site-packages/pydantic/_internal/_decorators_v1.py:148\u001b[0m, in \u001b[0;36mmake_v1_generic_root_validator.<locals>._wrapper1\u001b[0;34m(values, _)\u001b[0m\n\u001b[1;32m    147\u001b[0m \u001b[38;5;28;01mdef\u001b[39;00m \u001b[38;5;21m_wrapper1\u001b[39m(values: RootValidatorValues, _: core_schema\u001b[38;5;241m.\u001b[39mValidationInfo) \u001b[38;5;241m-\u001b[39m\u001b[38;5;241m>\u001b[39m RootValidatorValues:\n\u001b[0;32m--> 148\u001b[0m     \u001b[38;5;28;01mreturn\u001b[39;00m \u001b[43mvalidator\u001b[49m\u001b[43m(\u001b[49m\u001b[43mvalues\u001b[49m\u001b[43m)\u001b[49m\n",
      "File \u001b[0;32m/Applications/saggydev/projects_learning/GenAI_bonus_app/.venv/lib/python3.13/site-packages/langchain_core/utils/pydantic.py:208\u001b[0m, in \u001b[0;36mpre_init.<locals>.wrapper\u001b[0;34m(cls, values)\u001b[0m\n\u001b[1;32m    205\u001b[0m             values[name] \u001b[38;5;241m=\u001b[39m field_info\u001b[38;5;241m.\u001b[39mdefault\n\u001b[1;32m    207\u001b[0m \u001b[38;5;66;03m# Call the decorated function\u001b[39;00m\n\u001b[0;32m--> 208\u001b[0m \u001b[38;5;28;01mreturn\u001b[39;00m \u001b[43mfunc\u001b[49m\u001b[43m(\u001b[49m\u001b[38;5;28;43mcls\u001b[39;49m\u001b[43m,\u001b[49m\u001b[43m \u001b[49m\u001b[43mvalues\u001b[49m\u001b[43m)\u001b[49m\n",
      "File \u001b[0;32m/Applications/saggydev/projects_learning/GenAI_bonus_app/.venv/lib/python3.13/site-packages/langchain_community/embeddings/openai.py:354\u001b[0m, in \u001b[0;36mOpenAIEmbeddings.validate_environment\u001b[0;34m(cls, values)\u001b[0m\n\u001b[1;32m    343\u001b[0m client_params \u001b[38;5;241m=\u001b[39m {\n\u001b[1;32m    344\u001b[0m     \u001b[38;5;124m\"\u001b[39m\u001b[38;5;124mapi_key\u001b[39m\u001b[38;5;124m\"\u001b[39m: values[\u001b[38;5;124m\"\u001b[39m\u001b[38;5;124mopenai_api_key\u001b[39m\u001b[38;5;124m\"\u001b[39m],\n\u001b[1;32m    345\u001b[0m     \u001b[38;5;124m\"\u001b[39m\u001b[38;5;124morganization\u001b[39m\u001b[38;5;124m\"\u001b[39m: values[\u001b[38;5;124m\"\u001b[39m\u001b[38;5;124mopenai_organization\u001b[39m\u001b[38;5;124m\"\u001b[39m],\n\u001b[0;32m   (...)\u001b[0m\n\u001b[1;32m    351\u001b[0m     \u001b[38;5;124m\"\u001b[39m\u001b[38;5;124mhttp_client\u001b[39m\u001b[38;5;124m\"\u001b[39m: values[\u001b[38;5;124m\"\u001b[39m\u001b[38;5;124mhttp_client\u001b[39m\u001b[38;5;124m\"\u001b[39m],\n\u001b[1;32m    352\u001b[0m }\n\u001b[1;32m    353\u001b[0m \u001b[38;5;28;01mif\u001b[39;00m \u001b[38;5;129;01mnot\u001b[39;00m values\u001b[38;5;241m.\u001b[39mget(\u001b[38;5;124m\"\u001b[39m\u001b[38;5;124mclient\u001b[39m\u001b[38;5;124m\"\u001b[39m):\n\u001b[0;32m--> 354\u001b[0m     values[\u001b[38;5;124m\"\u001b[39m\u001b[38;5;124mclient\u001b[39m\u001b[38;5;124m\"\u001b[39m] \u001b[38;5;241m=\u001b[39m \u001b[43mopenai\u001b[49m\u001b[38;5;241;43m.\u001b[39;49m\u001b[43mOpenAI\u001b[49m(\u001b[38;5;241m*\u001b[39m\u001b[38;5;241m*\u001b[39mclient_params)\u001b[38;5;241m.\u001b[39membeddings\n\u001b[1;32m    355\u001b[0m \u001b[38;5;28;01mif\u001b[39;00m \u001b[38;5;129;01mnot\u001b[39;00m values\u001b[38;5;241m.\u001b[39mget(\u001b[38;5;124m\"\u001b[39m\u001b[38;5;124masync_client\u001b[39m\u001b[38;5;124m\"\u001b[39m):\n\u001b[1;32m    356\u001b[0m     values[\u001b[38;5;124m\"\u001b[39m\u001b[38;5;124masync_client\u001b[39m\u001b[38;5;124m\"\u001b[39m] \u001b[38;5;241m=\u001b[39m openai\u001b[38;5;241m.\u001b[39mAsyncOpenAI(\n\u001b[1;32m    357\u001b[0m         \u001b[38;5;241m*\u001b[39m\u001b[38;5;241m*\u001b[39mclient_params\n\u001b[1;32m    358\u001b[0m     )\u001b[38;5;241m.\u001b[39membeddings\n",
      "\u001b[0;31mAttributeError\u001b[0m: module 'openai' has no attribute 'OpenAI'"
     ]
    }
   ],
   "source": [
    "retriever_config = {\n",
    "    \"cloud_id\": ELASTIC_CLOUD_ID,\n",
    "    \"api_key\": ELASTIC_API_KEY,\n",
    "    \"index_name\": elastic_index_name,\n",
    "    \"embedding_function\": OpenAIEmbeddings()  # Or the function you're using\n",
    "}\n",
    "\n",
    "with open(\"retriever_config.pkl\", \"wb\") as f:\n",
    "    pickle.dump(retriever_config, f)"
   ]
  },
  {
   "cell_type": "code",
   "execution_count": 326,
   "metadata": {},
   "outputs": [
    {
     "data": {
      "text/plain": [
       "<langchain_elasticsearch.vectorstores.ElasticsearchStore at 0x14bb1afd0>"
      ]
     },
     "execution_count": 326,
     "metadata": {},
     "output_type": "execute_result"
    }
   ],
   "source": [
    "vector_store"
   ]
  },
  {
   "cell_type": "code",
   "execution_count": 327,
   "metadata": {},
   "outputs": [],
   "source": [
    "vector_store_1 = ElasticsearchStore(\n",
    "    es_cloud_id=ELASTIC_CLOUD_ID,\n",
    "    es_api_key=ELASTIC_API_KEY,\n",
    "    index_name=elastic_index_name,\n",
    "    embedding=embeddings,\n",
    ")"
   ]
  },
  {
   "cell_type": "code",
   "execution_count": 328,
   "metadata": {},
   "outputs": [
    {
     "data": {
      "text/plain": [
       "<langchain_elasticsearch.vectorstores.ElasticsearchStore at 0x10cfc12d0>"
      ]
     },
     "execution_count": 328,
     "metadata": {},
     "output_type": "execute_result"
    }
   ],
   "source": [
    "vector_store_1"
   ]
  },
  {
   "cell_type": "code",
   "execution_count": 329,
   "metadata": {},
   "outputs": [],
   "source": [
    "query = \"Common, some way of development must be there!!!\"\n",
    "results = vector_store_1.similarity_search(query=query, k=5)"
   ]
  },
  {
   "cell_type": "code",
   "execution_count": 330,
   "metadata": {},
   "outputs": [
    {
     "data": {
      "text/plain": [
       "[Document(metadata={'date': '2021-11-02T00:00:00', 'author': 'Terri Park', 'source': 'MIT Schwarzman College of Computing', 'heading': '3 Questions: Blending computing with other disciplines at MIT', 'description': 'The Common Ground for Computing Education is facilitating collaborations to develop new classes for students to pursue computational knowledge within the context of their fields of interest.'}, page_content=\"The demand for computing-related training is at an all-time high. At MIT, there has been a remarkable tide of interest in computer science programs, with heavy enrollment from students studying everything from economics to life sciences eager to learn how computational techniques and methodologies can be used and applied within their primary field.', 'Launched in 2020, the Common Ground for Computing Education was created through the MIT Stephen A. Schwarzman College of Computing to meet the growing need for enhanced curricula that connect computer science and artificial intelligence with different domains. In order to advance this mission, the Common Ground is bringing experts across MIT together and facilitating collaborations among multiple departments to develop new classes and approaches that blend computing topics with other disciplines.', 'Dan Huttenlocher, dean of the MIT Schwarzman College of Computing, and the chairs of the Common Ground Standing Committee — Jeff Grossman, head of the Department of Materials Science and Engineering and the Morton and Claire Goulder and Family Professor of Environmental Systems; and Asu Ozdaglar, deputy dean of academics for the MIT Schwarzman College of Computing, head of the Department of Electrical Engineering and Computer Science, and the MathWorks Professor of Electrical Engineering and Computer Science — discuss here the objectives of the Common Ground, pilot subjects that are underway, and ways they’re engaging faculty to create new curricula for MIT’s class of “computing bilinguals.”', 'Q: What are the objectives of the Common Ground and how does it fit into the mission of the MIT Schwarzman College of Computing?', 'Huttenlocher: One of the core components of the college mission is to educate students who are fluent in both the “language” of computing and that of other disciplines. Machine learning classes, for example, attract a lot of students outside of electrical engineering and computer science (EECS) majors. These students are interested in machine learning for modeling within the context of their fields of interest, rather than inner workings of machine learning itself as taught in Course 6. So, we need new approaches to how we develop computing curricula in order to provide students with a thorough grounding in computing that is relevant to their interests, to not just enable them to use computational tools, but understand conceptually how they can be developed and applied in their primary field, whether it be science, engineering, humanities, business, or design.', 'The core goals of the Common Ground are to infuse computing education throughout MIT in a coordinated manner, as well as to serve as a platform for multi-departmental collaborations. All classes and curricula developed through the Common Ground are intended to be created and offered jointly by multiple academic departments to meet ‘common’ needs. We’re bringing the forefront of rapidly-changing computer science and artificial intelligence fields together with the problems and methods of other disciplines, so the process has to be collaborative. As much as computing is changing thinking in the disciplines, the disciplines are changing the way people develop new computing approaches. It can’t be a stand-alone effort — otherwise it won’t work.', 'Q: How is the Common Ground facilitating collaborations and engaging faculty across MIT to develop new curricula?', 'Grossman: The Common Ground Standing Committee was formed to oversee the activities of the Common Ground and is charged with evaluating how best to support and advance program objectives. There are 29 members on the committee — all are faculty experts in various computing areas, and they represent 18 academic departments across all five MIT schools and the college. The structure of the committee very much aligns with the mission of the Common Ground in that it draws from all parts of the Institute. Members are organized into subcommittees currently centered on three primary focus areas: fundamentals of computational science and engineering; fundamentals of programming/computational thinking; and machine learning, data science, and algorithms. The subcommittees, with extensive input from departments, framed prototypes for what Common Ground subjects would look like in each area, and a number of classes have already been piloted to date.', 'It has been wonderful working with colleagues from different departments. The level of commitment that everyone on the committee has put into this effort has truly been amazing to see, and I share their enthusiasm for pursuing opportunities in computing education.', 'Q: Can you tell us more about the subjects that are already underway?', 'Ozdaglar: So far, we have four offerings for students to choose from: in the fall, there’s Linear Algebra and Optimization with the Department of Mathematics and EECS, and Programming Skills and Computational Thinking in-Context with the Experimental Study Group and EECS; Modeling with Machine Learning: From Algorithms to Applications in the spring, with disciplinary modules developed by multiple engineering departments and MIT Supply Chain Management; and Introduction to Computational Science and Engineering during both semesters, which is a collaboration between the Department of Aeronautics and Astronautics and the Department of Mathematics.', 'We have had students from a range of majors take these classes, including mechanical engineering, physics, chemical engineering, economics, and management, among others. The response has been very positive. It is very exciting to see MIT students having access to these unique offerings. Our goal is to enable them to frame disciplinary problems using a rich computational framework, which is one of the objectives of the Common Ground.', 'We are planning to expand Common Ground offerings in the years to come and welcome ideas for new subjects. Some ideas that we currently have in the works include classes on causal inference, creative programming, and data visualization with communication. In addition, this fall, we put out a call for proposals to develop new subjects. We invited instructors from all across the campus to submit ideas for pilot computing classes that are useful across a range of areas and support the educational mission of individual departments. The selected proposals will receive seed funding from the Common Ground to assist in the design, development, and staffing of new, broadly-applicable computing subjects and revision of existing subjects in alignment with the Common Ground’s objectives. We are looking explicitly to facilitate opportunities in which multiple departments would benefit from coordinated teaching\"),\n",
       " Document(metadata={'date': '2019-03-07T00:00:00', 'author': 'Kim Martineau', 'source': 'MIT Quest for Intelligence', 'heading': 'Combining artificial intelligence with their passions', 'description': 'Research projects show creative ways MIT students are connecting computing to other fields.'}, page_content='Computational thinking will be the mark of an MIT education when the MIT Stephen A. Schwarzman College of Computing opens this fall, and\\\\xa0glimpses of what\\'s to\\\\xa0come were on display during the final reception of a three-day celebration of the college Feb. 26-28.\", \\'In a tent filled with electronic screens, students and postdocs took turns explaining how they had created\\\\xa0something new by combining computing with\\\\xa0topics they felt passionate about, including predicting panic selling on Wall Street,\\\\xa0analyzing\\\\xa0the filler ingredients in common drugs, and developing more energy-efficient software and hardware.\\\\xa0The poster session featured undergraduates, graduate students, and postdocs from each of MIT’s five schools.\\\\xa0Eight projects are highlighted here.\\', \\'Low-cost screening tool for genetic mutations linked to autism\\', \\'Autism is thought to have a strong genetic basis, but few of the genetic mutations responsible have been found. In collaboration with Boston Children’s Hospital and Harvard Medical School, MIT researchers are using AI to explore autism’s hidden origins.\\', \\'Working with his advisors,\\\\xa0Bonnie Berger\\\\xa0and\\\\xa0Po-Ru Loh, professors of math and medicine at MIT and Harvard respectively, graduate student\\\\xa0Maxwell Sherman\\\\xa0has helped develop an algorithm to detect previously unidentified mutations in people with autism which cause some cells to carry too much or too little DNA.\\', \\'The team has found that up to 1 percent of people with autism carry the mutations, and that inexpensive consumer genetic tests can detect them with a mere saliva sample. Hundreds of U.S. children who carry the mutations and are at risk for autism could be identified this way each year, researchers say.\\', \\'“Early detection of autism gives kids earlier access to supportive services,” says Sherman, “and that can have lasting benefits.”\\', \\'Can deep learning models be trusted?\\', \\'As AI systems automate more tasks, the need to evaluate their decisions and alert the public to possible failures has taken on new urgency. In a project with the\\\\xa0MIT-IBM Watson AI Lab, graduate student\\\\xa0Lily Weng\\\\xa0is helping to build an efficient, general framework for\\\\xa0quantifying\\\\xa0how easily deep neural networks can be\\\\xa0tricked or misled into making mistakes.\\', \\'Working with a team led by\\\\xa0Pin-Yu Chen, a researcher at IBM, and\\\\xa0Luca Daniel, a professor in MIT’s\\\\xa0Department of Electrical Engineering and Computer Science\\\\xa0(EECS), Weng developed a method that reports how much each individual input can be altered before the neural network makes a mistake. The team is now expanding the framework to larger, and more general neural networks, and developing tools to quantify their level of vulnerability based on different ways of measuring input-alteration. The work has spawned a series of papers, summarized in a recent MIT-IBM blog post.\\', \\'Mapping the spread of Ebola virus\\', \\'By the time the Ebola virus spread from Guinea and Liberia to Sierra Leone in 2014, the government was prepared. It quickly closed its schools and shut its borders with the two countries. Still, relative to its population, Sierra Leone fared worse than its neighbors, with 14,000 suspected infections and 4,000\\\\xa0deaths.\\', \\'Marie Charpignon, a graduate student in the MIT\\\\xa0Institute for Data, Systems, and Society (IDSS), wanted to know why. Her search became a final project for\\\\xa0Network Science and Models, a class taught by\\\\xa0Patrick Jaillet, the Dugald C. Jackson Professor in EECS.\\', \\'In a network analysis of trade, migration, and World Health Organization data, Charpignon discovered that a severe shortage of medical resources seemed to explain why Ebola had caused relatively more devastation in Sierra Leone, despite the country’s precautions.\\', \\'“Sierra Leone had one doctor for every 30,000 residents, and the doctors were the first to be infected,” she says. “That further reduced the availability of medical help.”\\', \\'If Sierra Leone had not acted as decisively, she says, the outbreak could have been far worse. Her results suggest that epidemiology models should factor in where hospitals and medical staff are clustered to better predict how an epidemic will unfold.\\', \\'An AI for sustainable, economical buildings\\', \\'When labor is cheap, buildings are designed to use fewer materials, but as labor costs rise, design choices shift to inefficient but easily constructed buildings. That’s why much of the world today favors buildings made of standardized steel-reinforced concrete, says graduate student\\\\xa0Mohamed Ismail.\\', \\'AI is now changing the design equation. In collaboration with TARA, a New Delhi-based nonprofit, Ismail and his advisor,\\\\xa0Caitlin Mueller, an associate professor in the\\\\xa0Department of Architecture\\\\xa0and the\\\\xa0Department of Civil and Environmental Engineering, are using computational tools to reduce the amount of reinforced concrete in India’s buildings.\\', \\'“We can, once again, make structural performance part of the architectural design process, and build exciting, elegant buildings that are also efficient and economical,” says Ismail.\\', \\'The work involves calculating how much load a building can bear as the shape of its design shifts. Ismael and Mueller developed an optimization algorithm to compute a shape that would maximize efficiency and provide a sculptural element. The hybrid nature of reinforced concrete, which is both liquid and solid, brittle and ductile, was one challenge they had to overcome. Making sure the models would translate on the ground, by staying in close contact with the client, was another.\\', \\'“If something didn’t work, I could remotely connect to my computer at MIT, adjust the code, and have a new design ready for TARA within an hour,” says Ismail.\\', \\'Robots that understand language\\', \\'The more that robots can engage with humans, the more useful they become. That means asking for feedback when they get confused and seamlessly absorbing new information as they interact with us and their environment. Ideally, this means moving to a world in which we talk to robots instead of programming them.\\', \\'In a project led by\\\\xa0Boris Katz, a researcher at the\\\\xa0Computer\\\\xa0Science and Artificial Intelligence Laboratory and\\\\xa0Nicholas Roy, a professor in MIT’s\\\\xa0Department of Aeronautics and Astronautics, graduate student\\\\xa0Yen-Ling Kuo\\\\xa0has designed\\\\xa0a set of experiments to understand how humans and robots can cooperate and what robots must learn to follow commands.\\', \\'In one video game experiment, volunteers are asked to drive a car full of bunnies through an obstacle course of walls and pits of flames. It sounds like “absurdist comedy,” Kuo admits, but the goal is straightforward: to understand how humans plot a course through hazardous conditions while interpreting the actions of others around them. Data from the experiments will be used to design algorithms that help robots to plan and explain\\\\xa0their understanding of what others are doing.\\', \\'A deep learning tool to unlock your inner artist\\', \\'Creativity is thought to play an important role in healthy aging, with research showing that creative people are better at adapting to the challenges of old age. The trouble is, not everyone is in touch with their inner artist.\\', \\'“Maybe they were accountants, or worked in business and don’t see themselves as creative types,” says\\\\xa0Guillermo Bernal, a graduate student at the\\\\xa0MIT Media Lab. “I started to think, what if we could leverage deep learning models to help people explore their creative side?”\\', \\'With Media Lab professor\\\\xa0Pattie Maes, Bernal developed\\\\xa0Paper Dreams, an interactive storytelling tool that uses generative models to give the user a shot of inspiration. As a sketch unfolds, Paper Dreams imagines how the scene could develop further and suggests colors, textures, and new objects for the artist to add. A “serendipity dial” lets the artist decide how off-beat they want the suggestions to be.\\', \\'“Seeing the drawing and colors evolve in real-time as you manipulate them is a magical experience,” says Bernal, who is exploring ways to make the platform more accessible.\\', \\'Preventing maternal deaths in Rwanda\\', \\'The top cause of death for new mothers in Rwanda are infections following a caesarean section. To identify at-risk mothers sooner, researchers at MIT, Harvard Medical School, Brigham Women’s Hospital, and Partners in Health, Rwanda, are developing a computational tool to predict whether a mother’s post-surgical wound is likely to be infected.\\', \\'Researchers gathered C-section wound photos from 527 women, using health workers who captured the pictures with their smartphones 10 to 12 days after surgery. Working with his advisor,\\\\xa0Richard Fletcher, a researcher in MIT’s\\\\xa0D-Lab, graduate student Subby Olubeko helped train a pair of models to pick out the wounds that developed into infections.\\\\xa0\\\\xa0When they tested the logistic regression model on the full dataset, it gave almost perfect predictions.\\', \\'The color of the wound’s drainage, and how bright the wound appears at its center, are two of the features the model picks up on, says Olubeko. The team plans to run a field experiment this spring to collect wound photos from a more diverse group of women and to shoot infrared images to see if they reveal additional information.\\', \\'Do native ads shape our perception of the news?\\', \\'The migration of news to the web has given advertisers the ability to place ever more personalized, engaging ads amid high-quality news stories. Often masquerading as legitimate news, so-called “native” ads, pushed by content recommendation networks, have brought badly needed revenue to the struggling U.S. news industry. But at what cost?\\', \\'“Native ads were supposed to help the news industry cope with the financial crisis, but what if they’re reinforcing the public’s mistrust of the media and driving readers away from quality news?” says graduate student\\\\xa0Manon Revel.\\', \\'Claims of fake news dominated the 2016 U.S. presidential elections, but politicized native ads were also common. Curious to measure their reach, Revel joined a project led by\\\\xa0Adam Berinsky, a professor in MIT’s\\\\xa0Department of Political Science,\\\\xa0Munther Dahleh, a professor in EECS and director of IDSS,\\\\xa0Dean Eckles, a professor at MIT’s\\\\xa0Sloan School of Management, and\\\\xa0Ali Jadbabaie, a CEE professor who is associate director of IDSS.\\', \\'Analyzing a sample of native ads that popped up on readers’ screens before the election, they\\\\xa0found that 25 percent could be considered highly political, and that 75 percent fit the description of clickbait. A similar trend emerged when they looked at coverage of the 2018 midterm elections. The team is now running experiments to see how exposure to native ads influences how readers rate the credibility of real news'),\n",
       " Document(metadata={'date': '2023-05-17T00:00:00', 'author': 'Peter Dizikes', 'source': 'MIT News Office', 'heading': 'An AI challenge only humans can solve', 'description': 'In their new book, “Power and Progress,” Daron Acemoglu and Simon Johnson ask whether the benefits of AI will be shared widely or feed inequality.'}, page_content=\"The Dark Ages were not entirely dark. Advances in agriculture and building technology increased Medieval wealth and led to a wave of cathedral construction in Europe. However, it was a time of profound inequality. Elites captured virtually all economic gains. In Britain, as Canterbury Cathedral soared upward, peasants had no net increase in wealth between 1100 and 1300. Life expectancy hovered around 25 years. Chronic malnutrition was rampant.', '', '“We’ve been struggling to share prosperity for a long time,” says MIT Professor Simon Johnson. “Every cathedral that your parents dragged you to see in Europe is a symbol of despair and expropriation, made possible by higher productivity.”', '', 'At a glance, this might not seem relevant to life in 2023. But Johnson and his MIT colleague Daron Acemoglu, both economists, think it is. Technology drives economic progress. As innovations take hold, one perpetual question is: Who benefits?', '', 'This applies, the scholars believe, to automation and artificial intelligence, which is the focus of a new book by Acemoglu and Johnson, “Power and Progress: Our 1000-Year Struggle Over Technology and Prosperity,” published this week by PublicAffairs. In it, they examine who reaped the rewards from past innovations and who may gain from AI today, economically and politically.', '', '“The book is about the choices we make with technology,” Johnson says. “That’s a very MIT type of theme. But a lot of people feel technology just descends on you, and you have to live with it.”', '', 'AI could develop as a beneficial force, Johnson says. However, he adds, “Many algorithms are being designed to try to replace humans as much as possible. We think that’s entirely wrong. The way we make progress with technology is by making machines useful to people, not displacing them. In the past we have had automation, but with new tasks for people to do and sufficient countervailing power in society.”', '', 'Today, AI is a tool of social control for some governments that also creates riches for a small number of people, according to Acemoglu and Johnson. “The current path of AI is neither good for the economy nor for democracy, and these two problems, unfortunately, reinforce each other,” they write.', '', 'A return to shared prosperity?', '', 'Acemoglu and Johnson have collaborated before; in the early 2000s, with political scientist James Robinson, they produced influential papers about politics and economic progress. Acemoglu, an Institute Professor at MIT, also co-authored with Robinson the books “Why Nations Fail” (2012), about political institutions and growth, and “The Narrow Corridor” (2019), which casts liberty as the never-assured outcome of social struggle.', '', 'Johnson, the Ronald A. Kurtz Professor of Entrepreneurship at the MIT Sloan School of Management, wrote “13 Bankers” (2010), about finance reform, and, with MIT economist Jonathan Gruber, “Jump-Starting America” (2019), a call for more investment in scientific research.', '', 'In “Power and Progress,” the authors emphasize that technology has created remarkable long-term benefits. As they write, “we are greatly better off than our ancestors,” and “scientific and technological progress is a vital part of that story.”', '', 'Still, a lot of suffering and oppression has occurred while the long term is unfolding, and not just during Medieval times.', '', '“It was a 100-year struggle during the Industrial Revolution for workers to get any cut of these massive productivity gains in textiles and railways,” Johnson observes. Broader progress has come through increased labor power and electoral government; when the U.S. economy grew spectacularly for three decades after World War II, gains were widely distributed, though that has not been the case recently.', '', '“We’re suggesting we can get back onto that path of shared prosperity, reharness technology for everybody, and get productivity gains,” Johnson says. “We had all that in the postwar period. We can get it back, but not with the current form of our machine intelligence obsession. That, we think, is undermining prosperity in the U.S. and around the world.”', '', 'A call for “machine usefulness,” not “so-so automation”', '', 'What do Acemoglu and Johnson think is deficient about AI? For one thing, they believe the development of AI is too focused on mimicking human intelligence. The scholars are skeptical of the notion that AI mirrors human thinking all told — even things like the chess program AlphaZero, which they regard more as a specialized set of instructions.', '', 'Or, for instance, image recognition programs — Is that a husky or a wolf? — use large data sets of past human decisions to build predictive models. But these are often correlation-dependent (a husky is more likely to be in front of your house), and can’t replicate the same cues humans rely on. Researchers know this, of course, and keep refining their tools. But Acemoglu and Robinson contend that many AI programs are less agile than the human mind, and suboptimal replacements for it, even as AI is designed to replace human work.', '', 'Acemoglu, who has published many papers on automation and robots, calls these replacement tools “so-so technologies.” A supermarket self-checkout machine does not add meaningful economic productivity; it just transfers work to customers and wealth to shareholders. Or, among more sophisticated AI tools, for instance, a customer service line using AI that doesn’t address a given problem can frustrate people, leading them to vent once they do reach a human and making the whole process less efficient.', '', 'All told, Acemoglu and Johnson write, “neither traditional digital technologies nor AI can perform essential tasks that involve social interaction, adaptation, flexibility, and communication.”', '', 'Instead, growth-minded economists prefer technologies creating “marginal productivity” gains, which compel firms to hire more workers. Instead of aiming to eliminate medical specialists like radiologists, a much-forecast AI development that has not occurred, Acemoglu and Johnson suggest AI tools might expand what home health care workers can do, and make their services more valuable, without reducing workers in the sector.', '', '“We think there is a fork in the road, and it’s not too late — AI is a very good opportunity to reassert machine usefulness as a philosophy of design,” Johnson says. “And to look for ways to put tools in the hands of workers, including lower-wage workers.”', '', 'Defining the discussion', '', 'Another set of AI issues Acemoglu and Johnson are concerned about extend directly into politics: Surveillance technologies, facial-recognition tools, intensive data collection, and AI-spread misinformation.', '', 'China deploys AI to create “social credit” scores for citizens, along with heavy surveillance, while tightly restricting freedom of expression. Elsewhere, social media platforms use algorithms to influence what users see; by emphasizing “engagement” above other priorities, they can spread harmful misinformation.', '', 'Indeed, throughout “Power and Progress,” Acemoglu and Johnson emphasize that the use of AI can set up self-reinforcing dynamics in which those who benefit economically can gain political influence and power at the expense of wider democratic participation.', '', 'To alter this trajectory, Acemoglu and Johnson advocate for an extensive menu of policy responses, including data ownership for internet users (an idea of technologist Jaron Lanier); tax reform that rewards employment more than automation; government support for a diversity of high-tech research directions; repealing Section 230 of the 1996 Communications Decency Act, which protects online platforms from regulation or legal action based on the content they host; and a digital advertising tax (aimed to limit the profitability of algorithm-driven misinformation).', '', 'Johnson believes people of all ideologies have incentives to support such measures: “The point we’re making is not a partisan point,” he says.', '', 'Other scholars have praised “Power and Progress.” Michael Sandel, the Anne T. and Robert M. Bass Professor of Government at Harvard University, has called it a “humane and hopeful book” that “shows how we can steer technology to promote the public good,” and is “required reading for everyone who cares about the fate of democracy in a digital age.”', '', 'For their part, Acemoglu and Johnson want to broaden the public discussion of AI beyond industry leaders, discard notions about the AI inevitability, and think again about human agency, social priorities, and economic possibilities.', '', '“Debates on new technology ought to center not just on the brilliance of new products and algorithms but on whether they are working for the people or against the people,” they write.', '', '“We need these discussions,” Johnson says. “There’s nothing inherent in technology. It’s within our control. Even if you think we can’t say no to new technology, you can channel it, and get better outcomes from it, if you talk about it\"),\n",
       " Document(metadata={'date': '2022-09-01T00:00:00', 'author': 'Bendta Schroeder', 'source': 'Koch Institute', 'heading': 'Using machine learning to identify undiagnosable cancers', 'description': 'A new model that maps developmental pathways to tumor cells may unlock the identity of cancers of unknown primary.'}, page_content='The first step in choosing the appropriate treatment for a cancer patient is to identify their specific type of cancer, including determining the primary site — the organ or part of the body where the cancer begins.\\', \\'In rare cases, the origin of a cancer cannot be determined, even with extensive testing. Although these cancers of unknown primary tend to be aggressive, oncologists must treat them with non-targeted therapies, which frequently have harsh toxicities and result in low rates of survival.\\', \\'A new deep-learning approach developed by researchers at the Koch Institute for Integrative Cancer Research at MIT and Massachusetts General Hospital (MGH) may help classify cancers of unknown primary by taking a closer look the gene expression programs related to early cell development and differentiation.\\', \\'“Sometimes you can apply all the tools that pathologists have to offer, and you are still left without an answer,” says Salil Garg, a Charles W. (1955) and Jennifer C. Johnson Clinical Investigator at the Koch Institute and a pathologist at MGH. “Machine learning tools like this one could empower oncologists to choose more effective treatments and give more guidance to their patients.”\\', \\'Garg is the senior author of a new study, published Aug. 30 in Cancer Discovery, and MIT postdoc Enrico Moiso is the lead author. The artificial intelligence tool is capable of identifying cancer types with a high degree of sensitivity and accuracy.\\', \\'Machine learning in development\\', \\'Parsing the differences in the gene expression among different kinds of tumors of unknown primary is an ideal problem for machine learning to solve. Cancer cells look and behave quite differently from normal cells, in part because of extensive alterations to how their genes are expressed. Thanks to advances in single cell profiling and efforts to catalog different cell expression patterns in cell atlases, there are copious — if, to human eyes, overwhelming — data that contain clues to how and from where different cancers originated.\\', \\'However, building a machine learning model that leverages differences between healthy and normal cells, and among different kinds of cancer, into a diagnostic tool is a balancing act. If a model is too complex and accounts for too many features of cancer gene expression, the model may appear to learn the training data perfectly, but falter when it encounters new data. However, by simplifying the model by narrowing the number of features, the model may miss the kinds of information that would lead to accurate classifications of cancer types.\\', \\'In order to strike a balance between reducing the number of features while still extracting the most relevant information, the team focused the model on signs of altered developmental pathways in cancer cells. As an embryo develops and undifferentiated cells specialize into various organs, a multitude of pathways directs how cells divide, grow, change shape, and migrate. As the tumor develops, cancer cells lose many of the specialized traits of a mature cell. At the same time, they begin to resemble embryonic cells in some ways, as they gain the ability to proliferate, transform, and metastasize to new tissues. Many of the gene expression programs that drive embryogenesis are known to be reactivated or dysregulated in cancer cells.\\', \\'The researchers compared two large cell atlases, identifying correlations between tumor and embryonic cells: the Cancer Genome Atlas (TCGA), which contains gene expression data for 33 tumor types, and the Mouse Organogenesis Cell Atlas (MOCA), which profiles 56 separate trajectories of embryonic cells as they develop and differentiate.\\', \\'“Single-cell resolution tools have dramatically changed how we study the biology of cancer, but how we make this revolution impactful for patients is another question,” explains Moiso. “With the emergence of developmental cell atlases, especially ones that focus on early phases of organogenesis such as MOCA, we can expand our tools beyond histological and genomic information and open doors to new ways of profiling and identifying tumors and developing new treatments.”\\', \\'The resulting map of correlations between developmental gene expression patterns in tumor and embryonic cells was then transformed into a machine learning model. The researchers broke down the gene expression of tumor samples from the TCGA into individual components that correspond to a specific point of time in a developmental trajectory, and assigned each of these components a mathematical value. The researchers then built a machine-learning model, called the Developmental Multilayer Perceptron (D-MLP), that scores a tumor for its developmental components and then predicts its origin.\\', \\'Classifying tumors\\', \\'After training, the D-MLP was applied to 52 new samples of particularly challenging cancers of unknown primary that could not be diagnosed using available tools. These cases represented the most challenging seen at MGH over a four-year period beginning in 2017. Excitingly, the model classed the tumors to four categories, and yielded predictions and other information that could guide diagnosis and treatment of these patients.\\', \\'For example, one sample came from a patient with a history of breast cancer who showed signs of an aggressive cancer in the fluid spaces around the abdomen. Oncologists initially could not find a tumor mass, and could not classify cancer cells using the tools they had at the time. However, the D-MLP strongly predicted ovarian cancer. Six months after the patient first presented, a mass was finally found in the ovary that proved to be the origin of tumor.\\', \\'Moreover, the study’s systematic comparisons between tumor and embryonic cells revealed promising, and sometimes surprising, insights into the gene expression profiles of specific tumor types. For instance, in early stages of embryonic development, a rudimentary gut tube forms, with the lungs and other nearby organs arising from the foregut, and much of the digestive tract forming from the mid- and hindgut. The study showed that lung-derived tumor cells showed strong similarities not just to the foregut as might be expected, but to the to mid- and hindgut-derived developmental trajectories. Findings like these suggest that differences in developmental programs could one day be exploited in the same way that genetic mutations are commonly used to design personalized or targeted cancer treatments.\\', \\'While the study presents a powerful approach to classifying tumors, it has some limitations. In future work, researchers plan to increase the predictive power of their model by incorporating other types of data, notably information gleaned from radiology, microscopy, and other types of tumor imaging.\\', \\'“Developmental gene expression represents only one small slice of all the factors that could be used to diagnose and treat cancers,” says Garg. \"Integrating radiology, pathology, and gene expression information together is the true next step in personalized medicine for cancer patients.”\\', \\'This study was funded, in part, by the Koch Institute Support (core) Grant from the National Cancer Institute and by the National Cancer Institute'),\n",
       " Document(metadata={'date': '2020-09-23T00:00:00', 'author': 'Kim Martineau', 'source': 'MIT Quest for Intelligence', 'heading': 'MIT undergraduates pursue research opportunities through the pandemic', 'description': 'Working remotely this summer, students worked to better understand human intelligence and to advance machine learning applications.'}, page_content='Even in ordinary times, scientific process is stressful, with its demand for open-ended exploration and persistence in the face of failure. But the pandemic has added to the strain. In this new world of physical isolation, there are fewer opportunities for spontaneity and connection, and fewer distractions and events to mark the passage of time. Days pass in a numbing blur of sameness.\\', \\'Working from home this summer, students participating in MIT’s Undergraduate Research Opportunities Program (UROP) did their best to overcome these challenges. Checking in with their advisors over Zoom and Slack, from as far west as Los Angeles, California and as far east as Skopje, North Macedonia, they completed two dozen projects sponsored by the MIT Quest for Intelligence. Four student projects are highlighted here.\\', \\'Defending code-processing AI models against adversarial attacks\\', \\'Computer vision models have famously been fooled into classifying turtles as rifles, and planes as pigs, simply by making subtle changes to the objects and images the models are asked to interpret. But models that analyze computer code, which are a part of recent efforts to build automated tools to design programs efficiently,\\\\xa0are also susceptible to so-called adversarial examples.\\', \\'The lab of Una-May O’Reilly, a principal research scientist at MIT, is focused on finding and fixing the weaknesses in code-processing models that can cause them to misbehave. As automated programming methods become more common, researchers are looking for ways to make this class of deep learning model more secure.\\', \\'“Even small changes like giving a different name to a variable in a computer program can completely change how the model interprets the program,” says Tamara Mitrovska, a third-year student who worked on a UROP project this summer with Shashank Srikant, a graduate student in O’Reilly’s lab.\\', \\'The lab is investigating two types of models used to summarize bits of a program as part of a broader effort to use machine learning to write new programs. One such model is Google’s seq2seq, originally developed for machine translation. A second is code2seq, which creates abstract representations of programs. Both are vulnerable to attacks due to a simple programming quirk: captions that let humans know what the code is doing, like assigning names to variables, give attackers an opening to exploit the model. By simply changing a variable name in a program or adding a print statement, the program may function normally, yet force the model processing it to give an incorrect answer.\\', \"This summer, from her home near Skopje, in North Macedonia, Mitrovska learned how to sift through a database of more than 100,000 programs in Java and Python and modify them algorithmically to try to fool seq2seq and code2seq. “These systems are challenging to implement,” she says. “Finding even the smallest bug can take a significant amount of time. But overall, I\\'ve been having fun and the project has been a very good learning experience for me.”\", \\'One exploit that she uncovered: Both models could be tricked by inserting “print” commands in the programs they process. That exploit, and others discovered by the lab, will be used to update the models to make them more robust.\\', \\'What everyday adjectives can tell us about human reasoning\\', \\'Embedded in the simplest of words are assumptions about the world that vary even among closely related languages. Take the word “biggest.” Like other superlatives in English, this adjective has no equivalent in French or Spanish. Speakers simply\\\\xa0use the comparative form, “bigger”\\\\xa0—\\\\xa0plus grand\\\\xa0in French or\\\\xa0más\\\\xa0grande\\\\xa0in Spanish — to differentiate among objects of various sizes.\\', \\'To understand what these words mean and how they are actually used, Helena Aparicio, formerly a postdoc at MIT and now a professor at Cornell University, devised a set of psychology experiments with MIT Associate Professor Roger Levy and Boston University Professor Elizabeth Coppock.\\\\xa0Curtis Chen, a second-year student at MIT interested in the four topics that converge in Levy’s lab — computer science, psychology, linguistics, and cognitive science — joined on as a UROP student.\\', \\'From his home in Hillsborough, New Jersey, Chen\\\\xa0orchestrated experiments to identify why English speakers prefer superlatives in some cases\\\\xa0and comparatives in others. He found that in scenes with more similarly sized objects, the more likely his human subjects were to prefer the word “biggest” to describe the largest object in the set. When objects appeared to fall within two clearly defined\\\\xa0groups, subjects preferred the less-precise “bigger.” Chen also built an AI model to simulate the inferences made by his human subjects\\\\xa0and found that it showed a similar preference for the superlative in ambiguous situations.\\', \\'Designing a successful experiment can take several tries. To ensure consistency among the shapes that subjects were asked to describe, Chen generated them on the computer using HTML Canvas and JavaScript. “This way, the size\\\\xa0differentials\\\\xa0were exact, and we could simply\\\\xa0report the formula used to make them,” he says.\\', \\'After discovering that some subjects seemed confused by rectangle and line shapes, he replaced them with circles. He also removed the default option on his reporting scale after realizing that some subjects were using it to breeze through the tasks. Finally, he switched to the crowdsourcing platform Prolific after a number of participants on Amazon’s Mechanical Turk failed at tasks designed to ensure they were taking the experiments seriously.\\', \\'“It was discouraging, but Curtis went through the process of exploring the data and figuring out what was going wrong,” says his mentor, Aparicio.\\', \\'In the end,\\\\xa0he wound up with strong results and promising ideas for follow-up experiments this fall. “There’s still a lot to be done,” he says.\\\\xa0“I had a lot of fun cooking up and tweaking the model, designing the experiment, and learning about this deceptively simple puzzle.”\\', \\'Levy says he looks forward to the results. “Ultimately, this line of inquiry helps us understand how\\\\xa0different vocabularies and grammatical resources of English and thousands of other languages support flexible communication by their native speakers,” he says.\\', \\'Reconstructing real-world scenes from sensor data\\', \\'AI systems that have become expert at sizing up scenes in photos and video may soon be able to do the same for real-world scenes. It’s a process that involves stitching together snapshots of a scene from varying viewpoints into a coherent picture. The brain performs these calculations effortlessly as we move through the world, but computers require sophisticated algorithms and extensive training.\\', \\'MIT Associate Professor Justin Solomon focuses on developing methods to help computers understand 3D environments. He and his lab look for new ways to take point cloud data gathered by sensors — essentially, reflections of infrared light bounced off the surfaces of objects — to create a holistic representation of a real-world scene. Three-dimensional scene analysis has many applications in computer graphics, but the one that drove second-year student Kevin Shao to join Solomon’s lab was its potential as a navigation tool for self-driving cars.\\', \\'“Working on autonomous cars has been a childhood dream for me,” says Shao.\\', \\'In the first phase of his UROP project, Shao downloaded the most important papers on 3D scene reconstruction and tried to reproduce their results. This improved his knowledge of PyTorch, the Python library that provides tools for training, testing, and evaluating models. It also gave him a deep understanding of the literature. In the second phase of the project, Shao worked with his mentor, PhD student Yue Wang, to improve on existing methods.\\', \\'“Kevin implemented most of the ideas, and explained in detail why they would or wouldn’t work,” says Wang. “He didn’t give up on an idea until we had a comprehensive analysis of the problem.”\\', \\'One idea they explored was the use of computer-drawn scenes to train a multi-view registration model. So far, the method works in simulation, but not on real-world scenes. Shao is now trying to incorporate real-world data to bridge the gap, and will continue the work this fall.\\', \\'Wang is excited to see the results. “It sometimes takes PhD students a year to have a reasonable result,” he says. “Although we are still in the exploration phase, I think Kevin has made a successful transition from a smart student to a well-qualified researcher.”\\', \\'When do infants become attuned to speech and music?\\', \\'The ability to perceive speech and music has been traced to specialized parts of the brain, with infants as young as four months old showing sensitivity to speech-like sounds. MIT Professor Nancy Kanwisher and her lab are investigating how this special ear for speech and music arises in the infant brain.\\', \\'Somaia Saba, a second-year student at MIT, was introduced to Kanwisher’s research last year in an intro to neuroscience class and immediately wanted to learn more. “The more I read up about cortical development, the more I realized how little we know about the development of the visual and auditory pathways,” she says. “I became very excited and met with [PhD student]\\\\xa0Heather\\\\xa0Kosakowski, who explained the details of her projects.”\\', \\'Signing on for a project, Saba plunged into the “deep end” of cortical development research. Initially overwhelmed, she says she gained confidence through regular Zoom meetings with Kosakowski, who helped her to navigate MATLAB and other software for analyzing brain-imaging data. “Heather\\\\xa0really helped motivate me to learn these programs quickly, which has also primed me to learn more easily in the future,” she says.\\', \\'Before the pandemic shut down campus, Kanwisher’s lab collected functional magnetic resonance imaging (fMRI) data from two- to eight-week-old sleeping infants exposed to different sounds. This summer, from her home on Long Island, New York, Saba helped to analyze the data. She is now learning how to process fMRI data for awake infants, looking toward the study’s next phase. “This is a crucial and very challenging task that’s harder than processing child and adult fMRI data,” says Kosakowski. “Discovering how these specialized regions emerge in infants may be the key to unlocking mysteries about the origin of the mind.”\\', \\'MIT Quest for Intelligence summer UROP projects were funded, in part, by the MIT-IBM Watson AI Lab and by Eric Schmidt,\\\\xa0technical advisor to Alphabet Inc., and his wife, Wendy')]"
      ]
     },
     "execution_count": 330,
     "metadata": {},
     "output_type": "execute_result"
    }
   ],
   "source": [
    "results"
   ]
  }
 ],
 "metadata": {
  "kernelspec": {
   "display_name": ".venv",
   "language": "python",
   "name": "python3"
  },
  "language_info": {
   "codemirror_mode": {
    "name": "ipython",
    "version": 3
   },
   "file_extension": ".py",
   "mimetype": "text/x-python",
   "name": "python",
   "nbconvert_exporter": "python",
   "pygments_lexer": "ipython3",
   "version": "3.13.0"
  }
 },
 "nbformat": 4,
 "nbformat_minor": 2
}
